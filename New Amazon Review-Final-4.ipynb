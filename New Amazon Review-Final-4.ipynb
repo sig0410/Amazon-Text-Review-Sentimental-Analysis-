{
 "cells": [
  {
   "cell_type": "code",
   "execution_count": 1,
   "metadata": {
    "scrolled": true
   },
   "outputs": [
    {
     "name": "stderr",
     "output_type": "stream",
     "text": [
      "/Users/Moon/opt/anaconda3/lib/python3.7/site-packages/sklearn/utils/deprecation.py:143: FutureWarning: The sklearn.feature_selection.univariate_selection module is  deprecated in version 0.22 and will be removed in version 0.24. The corresponding classes / functions should instead be imported from sklearn.feature_selection. Anything that cannot be imported from sklearn.feature_selection is now part of the private API.\n",
      "  warnings.warn(message, FutureWarning)\n"
     ]
    }
   ],
   "source": [
    "import re\n",
    "import nltk\n",
    "\n",
    "import pandas as pd\n",
    "import numpy as np\n",
    "\n",
    "from bs4 import BeautifulSoup\n",
    "from nltk.corpus import stopwords\n",
    "from nltk.stem.porter import PorterStemmer\n",
    "english_stemmer=nltk.stem.SnowballStemmer('english')\n",
    "\n",
    "from sklearn.feature_selection.univariate_selection import SelectKBest, chi2, f_classif\n",
    "from sklearn.model_selection import train_test_split\n",
    "from sklearn.feature_extraction.text import TfidfVectorizer\n",
    "from sklearn.linear_model import SGDClassifier, SGDRegressor\n",
    "from sklearn.ensemble import RandomForestClassifier, GradientBoostingClassifier\n",
    "from sklearn.naive_bayes import MultinomialNB\n",
    "from sklearn.metrics import accuracy_score, classification_report, confusion_matrix\n",
    "import random\n",
    "import itertools\n",
    "\n",
    "import sys\n",
    "import os\n",
    "import argparse\n",
    "from sklearn.pipeline import Pipeline\n",
    "from scipy.sparse import csr_matrix\n",
    "from sklearn.feature_extraction.text import CountVectorizer\n",
    "import six\n",
    "from abc import ABCMeta\n",
    "from scipy import sparse\n",
    "from scipy.sparse import issparse\n",
    "from sklearn.base import BaseEstimator, ClassifierMixin\n",
    "from sklearn.utils import check_X_y, check_array\n",
    "from sklearn.utils.extmath import safe_sparse_dot\n",
    "from sklearn.preprocessing import normalize, binarize, LabelBinarizer\n",
    "from sklearn.svm import LinearSVC\n",
    "\n",
    "from keras.preprocessing import sequence\n",
    "from keras.utils import np_utils\n",
    "from keras.models import Sequential\n",
    "from keras.layers.core import Dense, Dropout, Activation, Lambda\n",
    "from keras.layers.embeddings import Embedding\n",
    "from keras.layers.recurrent import LSTM, SimpleRNN, GRU\n",
    "from keras.preprocessing.text import Tokenizer\n",
    "from collections import defaultdict\n",
    "from keras.layers.convolutional import Convolution1D\n",
    "from keras import backend as K\n",
    "\n",
    "import seaborn as sns\n",
    "import matplotlib.pyplot as plt\n",
    "from matplotlib import cm\n",
    "%matplotlib inline\n",
    "plt.style.use('ggplot')"
   ]
  },
  {
   "cell_type": "code",
   "execution_count": 2,
   "metadata": {},
   "outputs": [],
   "source": [
    "import pandas as pd"
   ]
  },
  {
   "cell_type": "code",
   "execution_count": 3,
   "metadata": {},
   "outputs": [],
   "source": [
    "df1 = pd.read_csv('./Amazon_Unlocked_Mobile.csv')"
   ]
  },
  {
   "cell_type": "code",
   "execution_count": 4,
   "metadata": {},
   "outputs": [
    {
     "data": {
      "text/html": [
       "<div>\n",
       "<style scoped>\n",
       "    .dataframe tbody tr th:only-of-type {\n",
       "        vertical-align: middle;\n",
       "    }\n",
       "\n",
       "    .dataframe tbody tr th {\n",
       "        vertical-align: top;\n",
       "    }\n",
       "\n",
       "    .dataframe thead th {\n",
       "        text-align: right;\n",
       "    }\n",
       "</style>\n",
       "<table border=\"1\" class=\"dataframe\">\n",
       "  <thead>\n",
       "    <tr style=\"text-align: right;\">\n",
       "      <th></th>\n",
       "      <th>Product Name</th>\n",
       "      <th>Brand Name</th>\n",
       "      <th>Price</th>\n",
       "      <th>Rating</th>\n",
       "      <th>Reviews</th>\n",
       "      <th>Review Votes</th>\n",
       "    </tr>\n",
       "  </thead>\n",
       "  <tbody>\n",
       "    <tr>\n",
       "      <td>0</td>\n",
       "      <td>\"CLEAR CLEAN ESN\" Sprint EPIC 4G Galaxy SPH-D7...</td>\n",
       "      <td>Samsung</td>\n",
       "      <td>199.99</td>\n",
       "      <td>5</td>\n",
       "      <td>I feel so LUCKY to have found this used (phone...</td>\n",
       "      <td>1.0</td>\n",
       "    </tr>\n",
       "    <tr>\n",
       "      <td>1</td>\n",
       "      <td>\"CLEAR CLEAN ESN\" Sprint EPIC 4G Galaxy SPH-D7...</td>\n",
       "      <td>Samsung</td>\n",
       "      <td>199.99</td>\n",
       "      <td>4</td>\n",
       "      <td>nice phone, nice up grade from my pantach revu...</td>\n",
       "      <td>0.0</td>\n",
       "    </tr>\n",
       "    <tr>\n",
       "      <td>2</td>\n",
       "      <td>\"CLEAR CLEAN ESN\" Sprint EPIC 4G Galaxy SPH-D7...</td>\n",
       "      <td>Samsung</td>\n",
       "      <td>199.99</td>\n",
       "      <td>5</td>\n",
       "      <td>Very pleased</td>\n",
       "      <td>0.0</td>\n",
       "    </tr>\n",
       "    <tr>\n",
       "      <td>3</td>\n",
       "      <td>\"CLEAR CLEAN ESN\" Sprint EPIC 4G Galaxy SPH-D7...</td>\n",
       "      <td>Samsung</td>\n",
       "      <td>199.99</td>\n",
       "      <td>4</td>\n",
       "      <td>It works good but it goes slow sometimes but i...</td>\n",
       "      <td>0.0</td>\n",
       "    </tr>\n",
       "    <tr>\n",
       "      <td>4</td>\n",
       "      <td>\"CLEAR CLEAN ESN\" Sprint EPIC 4G Galaxy SPH-D7...</td>\n",
       "      <td>Samsung</td>\n",
       "      <td>199.99</td>\n",
       "      <td>4</td>\n",
       "      <td>Great phone to replace my lost phone. The only...</td>\n",
       "      <td>0.0</td>\n",
       "    </tr>\n",
       "    <tr>\n",
       "      <td>...</td>\n",
       "      <td>...</td>\n",
       "      <td>...</td>\n",
       "      <td>...</td>\n",
       "      <td>...</td>\n",
       "      <td>...</td>\n",
       "      <td>...</td>\n",
       "    </tr>\n",
       "    <tr>\n",
       "      <td>413835</td>\n",
       "      <td>Samsung Convoy U640 Phone for Verizon Wireless...</td>\n",
       "      <td>Samsung</td>\n",
       "      <td>79.95</td>\n",
       "      <td>5</td>\n",
       "      <td>another great deal great price</td>\n",
       "      <td>0.0</td>\n",
       "    </tr>\n",
       "    <tr>\n",
       "      <td>413836</td>\n",
       "      <td>Samsung Convoy U640 Phone for Verizon Wireless...</td>\n",
       "      <td>Samsung</td>\n",
       "      <td>79.95</td>\n",
       "      <td>3</td>\n",
       "      <td>Ok</td>\n",
       "      <td>0.0</td>\n",
       "    </tr>\n",
       "    <tr>\n",
       "      <td>413837</td>\n",
       "      <td>Samsung Convoy U640 Phone for Verizon Wireless...</td>\n",
       "      <td>Samsung</td>\n",
       "      <td>79.95</td>\n",
       "      <td>5</td>\n",
       "      <td>Passes every drop test onto porcelain tile!</td>\n",
       "      <td>0.0</td>\n",
       "    </tr>\n",
       "    <tr>\n",
       "      <td>413838</td>\n",
       "      <td>Samsung Convoy U640 Phone for Verizon Wireless...</td>\n",
       "      <td>Samsung</td>\n",
       "      <td>79.95</td>\n",
       "      <td>3</td>\n",
       "      <td>I returned it because it did not meet my needs...</td>\n",
       "      <td>0.0</td>\n",
       "    </tr>\n",
       "    <tr>\n",
       "      <td>413839</td>\n",
       "      <td>Samsung Convoy U640 Phone for Verizon Wireless...</td>\n",
       "      <td>Samsung</td>\n",
       "      <td>79.95</td>\n",
       "      <td>4</td>\n",
       "      <td>Only downside is that apparently Verizon no lo...</td>\n",
       "      <td>0.0</td>\n",
       "    </tr>\n",
       "  </tbody>\n",
       "</table>\n",
       "<p>413840 rows × 6 columns</p>\n",
       "</div>"
      ],
      "text/plain": [
       "                                             Product Name Brand Name   Price  \\\n",
       "0       \"CLEAR CLEAN ESN\" Sprint EPIC 4G Galaxy SPH-D7...    Samsung  199.99   \n",
       "1       \"CLEAR CLEAN ESN\" Sprint EPIC 4G Galaxy SPH-D7...    Samsung  199.99   \n",
       "2       \"CLEAR CLEAN ESN\" Sprint EPIC 4G Galaxy SPH-D7...    Samsung  199.99   \n",
       "3       \"CLEAR CLEAN ESN\" Sprint EPIC 4G Galaxy SPH-D7...    Samsung  199.99   \n",
       "4       \"CLEAR CLEAN ESN\" Sprint EPIC 4G Galaxy SPH-D7...    Samsung  199.99   \n",
       "...                                                   ...        ...     ...   \n",
       "413835  Samsung Convoy U640 Phone for Verizon Wireless...    Samsung   79.95   \n",
       "413836  Samsung Convoy U640 Phone for Verizon Wireless...    Samsung   79.95   \n",
       "413837  Samsung Convoy U640 Phone for Verizon Wireless...    Samsung   79.95   \n",
       "413838  Samsung Convoy U640 Phone for Verizon Wireless...    Samsung   79.95   \n",
       "413839  Samsung Convoy U640 Phone for Verizon Wireless...    Samsung   79.95   \n",
       "\n",
       "        Rating                                            Reviews  \\\n",
       "0            5  I feel so LUCKY to have found this used (phone...   \n",
       "1            4  nice phone, nice up grade from my pantach revu...   \n",
       "2            5                                       Very pleased   \n",
       "3            4  It works good but it goes slow sometimes but i...   \n",
       "4            4  Great phone to replace my lost phone. The only...   \n",
       "...        ...                                                ...   \n",
       "413835       5                     another great deal great price   \n",
       "413836       3                                                 Ok   \n",
       "413837       5        Passes every drop test onto porcelain tile!   \n",
       "413838       3  I returned it because it did not meet my needs...   \n",
       "413839       4  Only downside is that apparently Verizon no lo...   \n",
       "\n",
       "        Review Votes  \n",
       "0                1.0  \n",
       "1                0.0  \n",
       "2                0.0  \n",
       "3                0.0  \n",
       "4                0.0  \n",
       "...              ...  \n",
       "413835           0.0  \n",
       "413836           0.0  \n",
       "413837           0.0  \n",
       "413838           0.0  \n",
       "413839           0.0  \n",
       "\n",
       "[413840 rows x 6 columns]"
      ]
     },
     "execution_count": 4,
     "metadata": {},
     "output_type": "execute_result"
    }
   ],
   "source": [
    "df1"
   ]
  },
  {
   "cell_type": "code",
   "execution_count": 5,
   "metadata": {},
   "outputs": [],
   "source": [
    "data_file = './/Amazon_Unlocked_Mobile.csv'\n",
    "n = 413000  \n",
    "s = 3000\n",
    "skip = sorted(random.sample(range(1,n),n-s))\n",
    "\n",
    "\n",
    "df = pd.read_csv( data_file, delimiter = \",\", skiprows = skip)\n",
    "#41만개의 데이터 중 3000개의 데이터만 뽑아서 분석을 진행 "
   ]
  },
  {
   "cell_type": "code",
   "execution_count": 6,
   "metadata": {},
   "outputs": [
    {
     "data": {
      "text/html": [
       "<div>\n",
       "<style scoped>\n",
       "    .dataframe tbody tr th:only-of-type {\n",
       "        vertical-align: middle;\n",
       "    }\n",
       "\n",
       "    .dataframe tbody tr th {\n",
       "        vertical-align: top;\n",
       "    }\n",
       "\n",
       "    .dataframe thead th {\n",
       "        text-align: right;\n",
       "    }\n",
       "</style>\n",
       "<table border=\"1\" class=\"dataframe\">\n",
       "  <thead>\n",
       "    <tr style=\"text-align: right;\">\n",
       "      <th></th>\n",
       "      <th>Product Name</th>\n",
       "      <th>Brand Name</th>\n",
       "      <th>Price</th>\n",
       "      <th>Rating</th>\n",
       "      <th>Reviews</th>\n",
       "      <th>Review Votes</th>\n",
       "    </tr>\n",
       "  </thead>\n",
       "  <tbody>\n",
       "    <tr>\n",
       "      <td>0</td>\n",
       "      <td>\"Nokia Asha 302 Unlocked GSM Phone with 3.2MP ...</td>\n",
       "      <td>Nokia</td>\n",
       "      <td>299.00</td>\n",
       "      <td>3</td>\n",
       "      <td>a pretty capable, durable texting phone, unloc...</td>\n",
       "      <td>2.0</td>\n",
       "    </tr>\n",
       "    <tr>\n",
       "      <td>1</td>\n",
       "      <td>(LANDVO) 5.0\" Capacitive Touch MTK6582 Quad Co...</td>\n",
       "      <td>HTM</td>\n",
       "      <td>69.99</td>\n",
       "      <td>5</td>\n",
       "      <td>Keeping in mind that this is a sub $100 phone ...</td>\n",
       "      <td>16.0</td>\n",
       "    </tr>\n",
       "    <tr>\n",
       "      <td>2</td>\n",
       "      <td>4 Inch Touch Screen Cell Phone Unlocked, Andro...</td>\n",
       "      <td>NaN</td>\n",
       "      <td>23.90</td>\n",
       "      <td>2</td>\n",
       "      <td>This phone worked well for phone calls. Very s...</td>\n",
       "      <td>2.0</td>\n",
       "    </tr>\n",
       "    <tr>\n",
       "      <td>3</td>\n",
       "      <td>4 Inch Touch Screen Cell Phone Unlocked, Andro...</td>\n",
       "      <td>NaN</td>\n",
       "      <td>23.90</td>\n",
       "      <td>5</td>\n",
       "      <td>Excellent..!!!! Thanks.</td>\n",
       "      <td>0.0</td>\n",
       "    </tr>\n",
       "    <tr>\n",
       "      <td>4</td>\n",
       "      <td>5.5\" Cellphone Unlocked Android 5.1 Quad Core ...</td>\n",
       "      <td>JUNING</td>\n",
       "      <td>99.99</td>\n",
       "      <td>1</td>\n",
       "      <td>Does not work at all. Let the seller checked a...</td>\n",
       "      <td>0.0</td>\n",
       "    </tr>\n",
       "    <tr>\n",
       "      <td>...</td>\n",
       "      <td>...</td>\n",
       "      <td>...</td>\n",
       "      <td>...</td>\n",
       "      <td>...</td>\n",
       "      <td>...</td>\n",
       "      <td>...</td>\n",
       "    </tr>\n",
       "    <tr>\n",
       "      <td>3835</td>\n",
       "      <td>Samsung Convoy U640 Phone for Verizon Wireless...</td>\n",
       "      <td>Samsung</td>\n",
       "      <td>79.95</td>\n",
       "      <td>5</td>\n",
       "      <td>another great deal great price</td>\n",
       "      <td>0.0</td>\n",
       "    </tr>\n",
       "    <tr>\n",
       "      <td>3836</td>\n",
       "      <td>Samsung Convoy U640 Phone for Verizon Wireless...</td>\n",
       "      <td>Samsung</td>\n",
       "      <td>79.95</td>\n",
       "      <td>3</td>\n",
       "      <td>Ok</td>\n",
       "      <td>0.0</td>\n",
       "    </tr>\n",
       "    <tr>\n",
       "      <td>3837</td>\n",
       "      <td>Samsung Convoy U640 Phone for Verizon Wireless...</td>\n",
       "      <td>Samsung</td>\n",
       "      <td>79.95</td>\n",
       "      <td>5</td>\n",
       "      <td>Passes every drop test onto porcelain tile!</td>\n",
       "      <td>0.0</td>\n",
       "    </tr>\n",
       "    <tr>\n",
       "      <td>3838</td>\n",
       "      <td>Samsung Convoy U640 Phone for Verizon Wireless...</td>\n",
       "      <td>Samsung</td>\n",
       "      <td>79.95</td>\n",
       "      <td>3</td>\n",
       "      <td>I returned it because it did not meet my needs...</td>\n",
       "      <td>0.0</td>\n",
       "    </tr>\n",
       "    <tr>\n",
       "      <td>3839</td>\n",
       "      <td>Samsung Convoy U640 Phone for Verizon Wireless...</td>\n",
       "      <td>Samsung</td>\n",
       "      <td>79.95</td>\n",
       "      <td>4</td>\n",
       "      <td>Only downside is that apparently Verizon no lo...</td>\n",
       "      <td>0.0</td>\n",
       "    </tr>\n",
       "  </tbody>\n",
       "</table>\n",
       "<p>3840 rows × 6 columns</p>\n",
       "</div>"
      ],
      "text/plain": [
       "                                           Product Name Brand Name   Price  \\\n",
       "0     \"Nokia Asha 302 Unlocked GSM Phone with 3.2MP ...      Nokia  299.00   \n",
       "1     (LANDVO) 5.0\" Capacitive Touch MTK6582 Quad Co...        HTM   69.99   \n",
       "2     4 Inch Touch Screen Cell Phone Unlocked, Andro...        NaN   23.90   \n",
       "3     4 Inch Touch Screen Cell Phone Unlocked, Andro...        NaN   23.90   \n",
       "4     5.5\" Cellphone Unlocked Android 5.1 Quad Core ...     JUNING   99.99   \n",
       "...                                                 ...        ...     ...   \n",
       "3835  Samsung Convoy U640 Phone for Verizon Wireless...    Samsung   79.95   \n",
       "3836  Samsung Convoy U640 Phone for Verizon Wireless...    Samsung   79.95   \n",
       "3837  Samsung Convoy U640 Phone for Verizon Wireless...    Samsung   79.95   \n",
       "3838  Samsung Convoy U640 Phone for Verizon Wireless...    Samsung   79.95   \n",
       "3839  Samsung Convoy U640 Phone for Verizon Wireless...    Samsung   79.95   \n",
       "\n",
       "      Rating                                            Reviews  Review Votes  \n",
       "0          3  a pretty capable, durable texting phone, unloc...           2.0  \n",
       "1          5  Keeping in mind that this is a sub $100 phone ...          16.0  \n",
       "2          2  This phone worked well for phone calls. Very s...           2.0  \n",
       "3          5                            Excellent..!!!! Thanks.           0.0  \n",
       "4          1  Does not work at all. Let the seller checked a...           0.0  \n",
       "...      ...                                                ...           ...  \n",
       "3835       5                     another great deal great price           0.0  \n",
       "3836       3                                                 Ok           0.0  \n",
       "3837       5        Passes every drop test onto porcelain tile!           0.0  \n",
       "3838       3  I returned it because it did not meet my needs...           0.0  \n",
       "3839       4  Only downside is that apparently Verizon no lo...           0.0  \n",
       "\n",
       "[3840 rows x 6 columns]"
      ]
     },
     "execution_count": 6,
     "metadata": {},
     "output_type": "execute_result"
    }
   ],
   "source": [
    "df"
   ]
  },
  {
   "cell_type": "code",
   "execution_count": 7,
   "metadata": {
    "scrolled": true
   },
   "outputs": [
    {
     "data": {
      "text/plain": [
       "Product Name      0\n",
       "Brand Name      492\n",
       "Price            33\n",
       "Rating            0\n",
       "Reviews           1\n",
       "Review Votes    116\n",
       "dtype: int64"
      ]
     },
     "execution_count": 7,
     "metadata": {},
     "output_type": "execute_result"
    }
   ],
   "source": [
    "df.isnull().sum()"
   ]
  },
  {
   "cell_type": "code",
   "execution_count": 8,
   "metadata": {},
   "outputs": [],
   "source": [
    "df = df.dropna()"
   ]
  },
  {
   "cell_type": "code",
   "execution_count": 9,
   "metadata": {
    "scrolled": true
   },
   "outputs": [
    {
     "data": {
      "text/plain": [
       "Product Name    0\n",
       "Brand Name      0\n",
       "Price           0\n",
       "Rating          0\n",
       "Reviews         0\n",
       "Review Votes    0\n",
       "dtype: int64"
      ]
     },
     "execution_count": 9,
     "metadata": {},
     "output_type": "execute_result"
    }
   ],
   "source": [
    "df.isnull().sum()"
   ]
  },
  {
   "cell_type": "code",
   "execution_count": 10,
   "metadata": {
    "scrolled": true
   },
   "outputs": [
    {
     "data": {
      "text/html": [
       "<div>\n",
       "<style scoped>\n",
       "    .dataframe tbody tr th:only-of-type {\n",
       "        vertical-align: middle;\n",
       "    }\n",
       "\n",
       "    .dataframe tbody tr th {\n",
       "        vertical-align: top;\n",
       "    }\n",
       "\n",
       "    .dataframe thead th {\n",
       "        text-align: right;\n",
       "    }\n",
       "</style>\n",
       "<table border=\"1\" class=\"dataframe\">\n",
       "  <thead>\n",
       "    <tr style=\"text-align: right;\">\n",
       "      <th></th>\n",
       "      <th>Product Name</th>\n",
       "      <th>Brand Name</th>\n",
       "      <th>Price</th>\n",
       "      <th>Rating</th>\n",
       "      <th>Reviews</th>\n",
       "      <th>Review Votes</th>\n",
       "    </tr>\n",
       "  </thead>\n",
       "  <tbody>\n",
       "    <tr>\n",
       "      <td>0</td>\n",
       "      <td>\"Nokia Asha 302 Unlocked GSM Phone with 3.2MP ...</td>\n",
       "      <td>Nokia</td>\n",
       "      <td>299.00</td>\n",
       "      <td>3</td>\n",
       "      <td>a pretty capable, durable texting phone, unloc...</td>\n",
       "      <td>2.0</td>\n",
       "    </tr>\n",
       "    <tr>\n",
       "      <td>1</td>\n",
       "      <td>(LANDVO) 5.0\" Capacitive Touch MTK6582 Quad Co...</td>\n",
       "      <td>HTM</td>\n",
       "      <td>69.99</td>\n",
       "      <td>5</td>\n",
       "      <td>Keeping in mind that this is a sub $100 phone ...</td>\n",
       "      <td>16.0</td>\n",
       "    </tr>\n",
       "    <tr>\n",
       "      <td>4</td>\n",
       "      <td>5.5\" Cellphone Unlocked Android 5.1 Quad Core ...</td>\n",
       "      <td>JUNING</td>\n",
       "      <td>99.99</td>\n",
       "      <td>1</td>\n",
       "      <td>Does not work at all. Let the seller checked a...</td>\n",
       "      <td>0.0</td>\n",
       "    </tr>\n",
       "    <tr>\n",
       "      <td>5</td>\n",
       "      <td>5.5\" Unlocked GSM Phones Android 5.1 MTK6580 Q...</td>\n",
       "      <td>JUNING</td>\n",
       "      <td>72.99</td>\n",
       "      <td>5</td>\n",
       "      <td>Wow!!!😱It the best phone ever. I got a case an...</td>\n",
       "      <td>0.0</td>\n",
       "    </tr>\n",
       "    <tr>\n",
       "      <td>6</td>\n",
       "      <td>5.5\" Unlocked Smartphone Dual Sim Quad Core-JU...</td>\n",
       "      <td>JUNING</td>\n",
       "      <td>99.99</td>\n",
       "      <td>2</td>\n",
       "      <td>I ordered two of these based on the reviews..h...</td>\n",
       "      <td>2.0</td>\n",
       "    </tr>\n",
       "    <tr>\n",
       "      <td>...</td>\n",
       "      <td>...</td>\n",
       "      <td>...</td>\n",
       "      <td>...</td>\n",
       "      <td>...</td>\n",
       "      <td>...</td>\n",
       "      <td>...</td>\n",
       "    </tr>\n",
       "    <tr>\n",
       "      <td>3835</td>\n",
       "      <td>Samsung Convoy U640 Phone for Verizon Wireless...</td>\n",
       "      <td>Samsung</td>\n",
       "      <td>79.95</td>\n",
       "      <td>5</td>\n",
       "      <td>another great deal great price</td>\n",
       "      <td>0.0</td>\n",
       "    </tr>\n",
       "    <tr>\n",
       "      <td>3836</td>\n",
       "      <td>Samsung Convoy U640 Phone for Verizon Wireless...</td>\n",
       "      <td>Samsung</td>\n",
       "      <td>79.95</td>\n",
       "      <td>3</td>\n",
       "      <td>Ok</td>\n",
       "      <td>0.0</td>\n",
       "    </tr>\n",
       "    <tr>\n",
       "      <td>3837</td>\n",
       "      <td>Samsung Convoy U640 Phone for Verizon Wireless...</td>\n",
       "      <td>Samsung</td>\n",
       "      <td>79.95</td>\n",
       "      <td>5</td>\n",
       "      <td>Passes every drop test onto porcelain tile!</td>\n",
       "      <td>0.0</td>\n",
       "    </tr>\n",
       "    <tr>\n",
       "      <td>3838</td>\n",
       "      <td>Samsung Convoy U640 Phone for Verizon Wireless...</td>\n",
       "      <td>Samsung</td>\n",
       "      <td>79.95</td>\n",
       "      <td>3</td>\n",
       "      <td>I returned it because it did not meet my needs...</td>\n",
       "      <td>0.0</td>\n",
       "    </tr>\n",
       "    <tr>\n",
       "      <td>3839</td>\n",
       "      <td>Samsung Convoy U640 Phone for Verizon Wireless...</td>\n",
       "      <td>Samsung</td>\n",
       "      <td>79.95</td>\n",
       "      <td>4</td>\n",
       "      <td>Only downside is that apparently Verizon no lo...</td>\n",
       "      <td>0.0</td>\n",
       "    </tr>\n",
       "  </tbody>\n",
       "</table>\n",
       "<p>3227 rows × 6 columns</p>\n",
       "</div>"
      ],
      "text/plain": [
       "                                           Product Name Brand Name   Price  \\\n",
       "0     \"Nokia Asha 302 Unlocked GSM Phone with 3.2MP ...      Nokia  299.00   \n",
       "1     (LANDVO) 5.0\" Capacitive Touch MTK6582 Quad Co...        HTM   69.99   \n",
       "4     5.5\" Cellphone Unlocked Android 5.1 Quad Core ...     JUNING   99.99   \n",
       "5     5.5\" Unlocked GSM Phones Android 5.1 MTK6580 Q...     JUNING   72.99   \n",
       "6     5.5\" Unlocked Smartphone Dual Sim Quad Core-JU...     JUNING   99.99   \n",
       "...                                                 ...        ...     ...   \n",
       "3835  Samsung Convoy U640 Phone for Verizon Wireless...    Samsung   79.95   \n",
       "3836  Samsung Convoy U640 Phone for Verizon Wireless...    Samsung   79.95   \n",
       "3837  Samsung Convoy U640 Phone for Verizon Wireless...    Samsung   79.95   \n",
       "3838  Samsung Convoy U640 Phone for Verizon Wireless...    Samsung   79.95   \n",
       "3839  Samsung Convoy U640 Phone for Verizon Wireless...    Samsung   79.95   \n",
       "\n",
       "      Rating                                            Reviews  Review Votes  \n",
       "0          3  a pretty capable, durable texting phone, unloc...           2.0  \n",
       "1          5  Keeping in mind that this is a sub $100 phone ...          16.0  \n",
       "4          1  Does not work at all. Let the seller checked a...           0.0  \n",
       "5          5  Wow!!!😱It the best phone ever. I got a case an...           0.0  \n",
       "6          2  I ordered two of these based on the reviews..h...           2.0  \n",
       "...      ...                                                ...           ...  \n",
       "3835       5                     another great deal great price           0.0  \n",
       "3836       3                                                 Ok           0.0  \n",
       "3837       5        Passes every drop test onto porcelain tile!           0.0  \n",
       "3838       3  I returned it because it did not meet my needs...           0.0  \n",
       "3839       4  Only downside is that apparently Verizon no lo...           0.0  \n",
       "\n",
       "[3227 rows x 6 columns]"
      ]
     },
     "execution_count": 10,
     "metadata": {},
     "output_type": "execute_result"
    }
   ],
   "source": [
    "df\n",
    "#결측치들을 제거하니 41만개의 데이터에서 33만개의 데이터로 축소되었음\n",
    "#아마 하나의 row에 결측치가 한개라도 존재하면 해당 row를 제거하는 방법을 수행했을것으로 예상 "
   ]
  },
  {
   "cell_type": "markdown",
   "metadata": {},
   "source": [
    "### Rating Mapping"
   ]
  },
  {
   "cell_type": "code",
   "execution_count": 11,
   "metadata": {
    "scrolled": true
   },
   "outputs": [
    {
     "data": {
      "text/plain": [
       "{0: '0', 1: '0', 2: '0', 3: '0', 4: '1', 5: '1'}"
      ]
     },
     "execution_count": 11,
     "metadata": {},
     "output_type": "execute_result"
    }
   ],
   "source": [
    "Review_mapping =  {0: '0',1 : '0', 2 :'0',3 : '0', 4 : '1', 5 : '1'}\n",
    "Review_mapping\n",
    "#0~3점까지는 0으로 4~5점까지는 1로 맵핑 "
   ]
  },
  {
   "cell_type": "code",
   "execution_count": 12,
   "metadata": {},
   "outputs": [
    {
     "data": {
      "text/plain": [
       "<function __main__.<lambda>(x)>"
      ]
     },
     "execution_count": 12,
     "metadata": {},
     "output_type": "execute_result"
    }
   ],
   "source": [
    "Rating = lambda x: Review_mapping.get(x,x)\n",
    "Rating"
   ]
  },
  {
   "cell_type": "code",
   "execution_count": 13,
   "metadata": {},
   "outputs": [
    {
     "data": {
      "text/plain": [
       "<bound method Series.map of 0       3\n",
       "1       5\n",
       "4       1\n",
       "5       5\n",
       "6       2\n",
       "       ..\n",
       "3835    5\n",
       "3836    3\n",
       "3837    5\n",
       "3838    3\n",
       "3839    4\n",
       "Name: Rating, Length: 3227, dtype: int64>"
      ]
     },
     "execution_count": 13,
     "metadata": {},
     "output_type": "execute_result"
    }
   ],
   "source": [
    "df.Rating.map"
   ]
  },
  {
   "cell_type": "code",
   "execution_count": 14,
   "metadata": {},
   "outputs": [
    {
     "name": "stderr",
     "output_type": "stream",
     "text": [
      "/Users/Moon/opt/anaconda3/lib/python3.7/site-packages/ipykernel_launcher.py:2: SettingWithCopyWarning: \n",
      "A value is trying to be set on a copy of a slice from a DataFrame.\n",
      "Try using .loc[row_indexer,col_indexer] = value instead\n",
      "\n",
      "See the caveats in the documentation: http://pandas.pydata.org/pandas-docs/stable/user_guide/indexing.html#returning-a-view-versus-a-copy\n",
      "  \n"
     ]
    }
   ],
   "source": [
    "Rating = lambda x: Review_mapping.get(x,x)\n",
    "df['Rating']=df.Rating.map(Rating)"
   ]
  },
  {
   "cell_type": "code",
   "execution_count": 15,
   "metadata": {
    "scrolled": true
   },
   "outputs": [
    {
     "data": {
      "text/plain": [
       "array(['0', '1'], dtype=object)"
      ]
     },
     "execution_count": 15,
     "metadata": {},
     "output_type": "execute_result"
    }
   ],
   "source": [
    "df['Rating'].unique()"
   ]
  },
  {
   "cell_type": "code",
   "execution_count": 16,
   "metadata": {
    "scrolled": true
   },
   "outputs": [
    {
     "data": {
      "text/html": [
       "<div>\n",
       "<style scoped>\n",
       "    .dataframe tbody tr th:only-of-type {\n",
       "        vertical-align: middle;\n",
       "    }\n",
       "\n",
       "    .dataframe tbody tr th {\n",
       "        vertical-align: top;\n",
       "    }\n",
       "\n",
       "    .dataframe thead th {\n",
       "        text-align: right;\n",
       "    }\n",
       "</style>\n",
       "<table border=\"1\" class=\"dataframe\">\n",
       "  <thead>\n",
       "    <tr style=\"text-align: right;\">\n",
       "      <th></th>\n",
       "      <th>Product Name</th>\n",
       "      <th>Brand Name</th>\n",
       "      <th>Price</th>\n",
       "      <th>Rating</th>\n",
       "      <th>Reviews</th>\n",
       "      <th>Review Votes</th>\n",
       "    </tr>\n",
       "  </thead>\n",
       "  <tbody>\n",
       "    <tr>\n",
       "      <td>0</td>\n",
       "      <td>\"Nokia Asha 302 Unlocked GSM Phone with 3.2MP ...</td>\n",
       "      <td>Nokia</td>\n",
       "      <td>299.00</td>\n",
       "      <td>0</td>\n",
       "      <td>a pretty capable, durable texting phone, unloc...</td>\n",
       "      <td>2.0</td>\n",
       "    </tr>\n",
       "    <tr>\n",
       "      <td>1</td>\n",
       "      <td>(LANDVO) 5.0\" Capacitive Touch MTK6582 Quad Co...</td>\n",
       "      <td>HTM</td>\n",
       "      <td>69.99</td>\n",
       "      <td>1</td>\n",
       "      <td>Keeping in mind that this is a sub $100 phone ...</td>\n",
       "      <td>16.0</td>\n",
       "    </tr>\n",
       "    <tr>\n",
       "      <td>4</td>\n",
       "      <td>5.5\" Cellphone Unlocked Android 5.1 Quad Core ...</td>\n",
       "      <td>JUNING</td>\n",
       "      <td>99.99</td>\n",
       "      <td>0</td>\n",
       "      <td>Does not work at all. Let the seller checked a...</td>\n",
       "      <td>0.0</td>\n",
       "    </tr>\n",
       "    <tr>\n",
       "      <td>5</td>\n",
       "      <td>5.5\" Unlocked GSM Phones Android 5.1 MTK6580 Q...</td>\n",
       "      <td>JUNING</td>\n",
       "      <td>72.99</td>\n",
       "      <td>1</td>\n",
       "      <td>Wow!!!😱It the best phone ever. I got a case an...</td>\n",
       "      <td>0.0</td>\n",
       "    </tr>\n",
       "    <tr>\n",
       "      <td>6</td>\n",
       "      <td>5.5\" Unlocked Smartphone Dual Sim Quad Core-JU...</td>\n",
       "      <td>JUNING</td>\n",
       "      <td>99.99</td>\n",
       "      <td>0</td>\n",
       "      <td>I ordered two of these based on the reviews..h...</td>\n",
       "      <td>2.0</td>\n",
       "    </tr>\n",
       "    <tr>\n",
       "      <td>...</td>\n",
       "      <td>...</td>\n",
       "      <td>...</td>\n",
       "      <td>...</td>\n",
       "      <td>...</td>\n",
       "      <td>...</td>\n",
       "      <td>...</td>\n",
       "    </tr>\n",
       "    <tr>\n",
       "      <td>3835</td>\n",
       "      <td>Samsung Convoy U640 Phone for Verizon Wireless...</td>\n",
       "      <td>Samsung</td>\n",
       "      <td>79.95</td>\n",
       "      <td>1</td>\n",
       "      <td>another great deal great price</td>\n",
       "      <td>0.0</td>\n",
       "    </tr>\n",
       "    <tr>\n",
       "      <td>3836</td>\n",
       "      <td>Samsung Convoy U640 Phone for Verizon Wireless...</td>\n",
       "      <td>Samsung</td>\n",
       "      <td>79.95</td>\n",
       "      <td>0</td>\n",
       "      <td>Ok</td>\n",
       "      <td>0.0</td>\n",
       "    </tr>\n",
       "    <tr>\n",
       "      <td>3837</td>\n",
       "      <td>Samsung Convoy U640 Phone for Verizon Wireless...</td>\n",
       "      <td>Samsung</td>\n",
       "      <td>79.95</td>\n",
       "      <td>1</td>\n",
       "      <td>Passes every drop test onto porcelain tile!</td>\n",
       "      <td>0.0</td>\n",
       "    </tr>\n",
       "    <tr>\n",
       "      <td>3838</td>\n",
       "      <td>Samsung Convoy U640 Phone for Verizon Wireless...</td>\n",
       "      <td>Samsung</td>\n",
       "      <td>79.95</td>\n",
       "      <td>0</td>\n",
       "      <td>I returned it because it did not meet my needs...</td>\n",
       "      <td>0.0</td>\n",
       "    </tr>\n",
       "    <tr>\n",
       "      <td>3839</td>\n",
       "      <td>Samsung Convoy U640 Phone for Verizon Wireless...</td>\n",
       "      <td>Samsung</td>\n",
       "      <td>79.95</td>\n",
       "      <td>1</td>\n",
       "      <td>Only downside is that apparently Verizon no lo...</td>\n",
       "      <td>0.0</td>\n",
       "    </tr>\n",
       "  </tbody>\n",
       "</table>\n",
       "<p>3227 rows × 6 columns</p>\n",
       "</div>"
      ],
      "text/plain": [
       "                                           Product Name Brand Name   Price  \\\n",
       "0     \"Nokia Asha 302 Unlocked GSM Phone with 3.2MP ...      Nokia  299.00   \n",
       "1     (LANDVO) 5.0\" Capacitive Touch MTK6582 Quad Co...        HTM   69.99   \n",
       "4     5.5\" Cellphone Unlocked Android 5.1 Quad Core ...     JUNING   99.99   \n",
       "5     5.5\" Unlocked GSM Phones Android 5.1 MTK6580 Q...     JUNING   72.99   \n",
       "6     5.5\" Unlocked Smartphone Dual Sim Quad Core-JU...     JUNING   99.99   \n",
       "...                                                 ...        ...     ...   \n",
       "3835  Samsung Convoy U640 Phone for Verizon Wireless...    Samsung   79.95   \n",
       "3836  Samsung Convoy U640 Phone for Verizon Wireless...    Samsung   79.95   \n",
       "3837  Samsung Convoy U640 Phone for Verizon Wireless...    Samsung   79.95   \n",
       "3838  Samsung Convoy U640 Phone for Verizon Wireless...    Samsung   79.95   \n",
       "3839  Samsung Convoy U640 Phone for Verizon Wireless...    Samsung   79.95   \n",
       "\n",
       "     Rating                                            Reviews  Review Votes  \n",
       "0         0  a pretty capable, durable texting phone, unloc...           2.0  \n",
       "1         1  Keeping in mind that this is a sub $100 phone ...          16.0  \n",
       "4         0  Does not work at all. Let the seller checked a...           0.0  \n",
       "5         1  Wow!!!😱It the best phone ever. I got a case an...           0.0  \n",
       "6         0  I ordered two of these based on the reviews..h...           2.0  \n",
       "...     ...                                                ...           ...  \n",
       "3835      1                     another great deal great price           0.0  \n",
       "3836      0                                                 Ok           0.0  \n",
       "3837      1        Passes every drop test onto porcelain tile!           0.0  \n",
       "3838      0  I returned it because it did not meet my needs...           0.0  \n",
       "3839      1  Only downside is that apparently Verizon no lo...           0.0  \n",
       "\n",
       "[3227 rows x 6 columns]"
      ]
     },
     "execution_count": 16,
     "metadata": {},
     "output_type": "execute_result"
    }
   ],
   "source": [
    "df\n",
    "#rating이 잘변환된것을 확인할 수 있다."
   ]
  },
  {
   "cell_type": "code",
   "execution_count": 17,
   "metadata": {},
   "outputs": [],
   "source": [
    "df.to_csv(\"Sentiment Analysis Final .csv\")"
   ]
  },
  {
   "cell_type": "markdown",
   "metadata": {},
   "source": [
    "### 텍스트 데이터 분리"
   ]
  },
  {
   "cell_type": "code",
   "execution_count": 18,
   "metadata": {
    "scrolled": true
   },
   "outputs": [
    {
     "data": {
      "text/plain": [
       "Index(['Product Name', 'Brand Name', 'Price', 'Rating', 'Reviews',\n",
       "       'Review Votes'],\n",
       "      dtype='object')"
      ]
     },
     "execution_count": 18,
     "metadata": {},
     "output_type": "execute_result"
    }
   ],
   "source": [
    "df.columns"
   ]
  },
  {
   "cell_type": "code",
   "execution_count": 19,
   "metadata": {},
   "outputs": [
    {
     "name": "stdout",
     "output_type": "stream",
     "text": [
      "0       0\n",
      "1       1\n",
      "4       0\n",
      "5       1\n",
      "6       0\n",
      "       ..\n",
      "3835    1\n",
      "3836    0\n",
      "3837    1\n",
      "3838    0\n",
      "3839    1\n",
      "Name: Rating, Length: 3227, dtype: object\n"
     ]
    },
    {
     "data": {
      "text/plain": [
       "0       0\n",
       "1       1\n",
       "4       0\n",
       "5       1\n",
       "6       0\n",
       "       ..\n",
       "3835    1\n",
       "3836    0\n",
       "3837    1\n",
       "3838    0\n",
       "3839    1\n",
       "Name: Rating, Length: 3227, dtype: int64"
      ]
     },
     "execution_count": 19,
     "metadata": {},
     "output_type": "execute_result"
    }
   ],
   "source": [
    "a = df.iloc[:,3]\n",
    "print(a)\n",
    "# a는 평점\n",
    "a.astype('int64')\n",
    "#맵핑을 한 rating이 object로 되어있어 int로 변환을 하였음 "
   ]
  },
  {
   "cell_type": "code",
   "execution_count": 20,
   "metadata": {},
   "outputs": [],
   "source": [
    "b = df.iloc[:,4]\n",
    "# b는 리뷰데이터(텍스트)"
   ]
  },
  {
   "cell_type": "code",
   "execution_count": 21,
   "metadata": {},
   "outputs": [],
   "source": [
    "doc = pd.concat([a,b], axis = 1)\n",
    "#기존의 데이터에서 rating과 review로 구성된 새로운 데이터셋을 구성 "
   ]
  },
  {
   "cell_type": "markdown",
   "metadata": {},
   "source": [
    "### Text Cleaning"
   ]
  },
  {
   "cell_type": "code",
   "execution_count": 22,
   "metadata": {},
   "outputs": [],
   "source": [
    "def review_to_wordlist(review, remove_stopwords = True):\n",
    "\n",
    "    \n",
    "    review_text = re.sub('[^a-zA-Z]',\" \", review)\n",
    "    #review_text에 영어만 넣기 \n",
    "    \n",
    "    words = review_text.lower().split()\n",
    "    #소문자로 바꿔주고 그것들을 분리해준다 \n",
    "    \n",
    "    if remove_stopwords:\n",
    "        stops = set(stopwords.words('english'))\n",
    "        words = [w for w in words if not w in stops]\n",
    "        #stops에 영어의 불용어를 넣어줌 \n",
    "        #words는 소문자로 변환되고 띄어져있는 것이며 \n",
    "        #stops에 있는 불용어를 제외하고 넣어줌 \n",
    "        \n",
    "    b = []\n",
    "    stemmer = english_stemmer\n",
    "    for word in words:\n",
    "        b.append(stemmer.stem(word))\n",
    "        #words에 전처리된것들의 어간들만 추출 \n",
    "        \n",
    "    return(b)\n"
   ]
  },
  {
   "cell_type": "code",
   "execution_count": 23,
   "metadata": {},
   "outputs": [],
   "source": [
    "import nltk"
   ]
  },
  {
   "cell_type": "code",
   "execution_count": 24,
   "metadata": {},
   "outputs": [
    {
     "name": "stdout",
     "output_type": "stream",
     "text": [
      "/bin/sh: -c: line 0: syntax error near unexpected token `('\r\n",
      "/bin/sh: -c: line 0: `pip install nltk.download('stopwords')'\r\n"
     ]
    }
   ],
   "source": [
    "!pip install nltk.download('stopwords')"
   ]
  },
  {
   "cell_type": "code",
   "execution_count": 25,
   "metadata": {},
   "outputs": [],
   "source": [
    "clean_reviews = []\n",
    "for review in doc['Reviews']:\n",
    "    clean_reviews.append( \" \".join(review_to_wordlist(review)))"
   ]
  },
  {
   "cell_type": "code",
   "execution_count": 26,
   "metadata": {},
   "outputs": [
    {
     "data": {
      "text/plain": [
       "3227"
      ]
     },
     "execution_count": 26,
     "metadata": {},
     "output_type": "execute_result"
    }
   ],
   "source": [
    "len(clean_reviews)\n",
    "#각 row마다 텍스트 전처리가 잘된것을 확인 "
   ]
  },
  {
   "cell_type": "code",
   "execution_count": 27,
   "metadata": {},
   "outputs": [],
   "source": [
    "clean_reviews = pd.DataFrame(clean_reviews)"
   ]
  },
  {
   "cell_type": "code",
   "execution_count": 28,
   "metadata": {
    "scrolled": true
   },
   "outputs": [
    {
     "data": {
      "text/html": [
       "<div>\n",
       "<style scoped>\n",
       "    .dataframe tbody tr th:only-of-type {\n",
       "        vertical-align: middle;\n",
       "    }\n",
       "\n",
       "    .dataframe tbody tr th {\n",
       "        vertical-align: top;\n",
       "    }\n",
       "\n",
       "    .dataframe thead th {\n",
       "        text-align: right;\n",
       "    }\n",
       "</style>\n",
       "<table border=\"1\" class=\"dataframe\">\n",
       "  <thead>\n",
       "    <tr style=\"text-align: right;\">\n",
       "      <th></th>\n",
       "      <th>Reviews</th>\n",
       "    </tr>\n",
       "  </thead>\n",
       "  <tbody>\n",
       "    <tr>\n",
       "      <td>0</td>\n",
       "      <td>pretti capabl durabl text phone unlock adverti...</td>\n",
       "    </tr>\n",
       "    <tr>\n",
       "      <td>1</td>\n",
       "      <td>keep mind sub phone general advertis cheapest ...</td>\n",
       "    </tr>\n",
       "    <tr>\n",
       "      <td>2</td>\n",
       "      <td>work let seller check avert phone shop</td>\n",
       "    </tr>\n",
       "    <tr>\n",
       "      <td>3</td>\n",
       "      <td>wow best phone ever got case screen protector ...</td>\n",
       "    </tr>\n",
       "    <tr>\n",
       "      <td>4</td>\n",
       "      <td>order two base review howev disappoint work ad...</td>\n",
       "    </tr>\n",
       "    <tr>\n",
       "      <td>...</td>\n",
       "      <td>...</td>\n",
       "    </tr>\n",
       "    <tr>\n",
       "      <td>3222</td>\n",
       "      <td>anoth great deal great price</td>\n",
       "    </tr>\n",
       "    <tr>\n",
       "      <td>3223</td>\n",
       "      <td>ok</td>\n",
       "    </tr>\n",
       "    <tr>\n",
       "      <td>3224</td>\n",
       "      <td>pass everi drop test onto porcelain tile</td>\n",
       "    </tr>\n",
       "    <tr>\n",
       "      <td>3225</td>\n",
       "      <td>return meet need seem good select other</td>\n",
       "    </tr>\n",
       "    <tr>\n",
       "      <td>3226</td>\n",
       "      <td>downsid appar verizon longer use v cast music ...</td>\n",
       "    </tr>\n",
       "  </tbody>\n",
       "</table>\n",
       "<p>3227 rows × 1 columns</p>\n",
       "</div>"
      ],
      "text/plain": [
       "                                                Reviews\n",
       "0     pretti capabl durabl text phone unlock adverti...\n",
       "1     keep mind sub phone general advertis cheapest ...\n",
       "2                work let seller check avert phone shop\n",
       "3     wow best phone ever got case screen protector ...\n",
       "4     order two base review howev disappoint work ad...\n",
       "...                                                 ...\n",
       "3222                       anoth great deal great price\n",
       "3223                                                 ok\n",
       "3224           pass everi drop test onto porcelain tile\n",
       "3225            return meet need seem good select other\n",
       "3226  downsid appar verizon longer use v cast music ...\n",
       "\n",
       "[3227 rows x 1 columns]"
      ]
     },
     "execution_count": 28,
     "metadata": {},
     "output_type": "execute_result"
    }
   ],
   "source": [
    "clean_reviews.columns = ['Reviews']\n",
    "clean_reviews\n",
    "#컬럼명을 Reviews로 설정 "
   ]
  },
  {
   "cell_type": "code",
   "execution_count": 29,
   "metadata": {
    "scrolled": true
   },
   "outputs": [
    {
     "data": {
      "text/plain": [
       "Reviews    599\n",
       "Rating     599\n",
       "dtype: int64"
      ]
     },
     "execution_count": 29,
     "metadata": {},
     "output_type": "execute_result"
    }
   ],
   "source": [
    "df = pd.concat([clean_reviews, doc['Rating']], axis = 1)\n",
    "df.isnull().sum()\n",
    "#무작정 concat을 사용했기때문에 결측값이 발생 \n",
    "#index를 맞춰주지않아 문제가 발생한 것으로 보인다."
   ]
  },
  {
   "cell_type": "code",
   "execution_count": 30,
   "metadata": {
    "scrolled": true
   },
   "outputs": [
    {
     "data": {
      "text/html": [
       "<div>\n",
       "<style scoped>\n",
       "    .dataframe tbody tr th:only-of-type {\n",
       "        vertical-align: middle;\n",
       "    }\n",
       "\n",
       "    .dataframe tbody tr th {\n",
       "        vertical-align: top;\n",
       "    }\n",
       "\n",
       "    .dataframe thead th {\n",
       "        text-align: right;\n",
       "    }\n",
       "</style>\n",
       "<table border=\"1\" class=\"dataframe\">\n",
       "  <thead>\n",
       "    <tr style=\"text-align: right;\">\n",
       "      <th></th>\n",
       "      <th>Reviews</th>\n",
       "    </tr>\n",
       "  </thead>\n",
       "  <tbody>\n",
       "    <tr>\n",
       "      <td>0</td>\n",
       "      <td>pretti capabl durabl text phone unlock adverti...</td>\n",
       "    </tr>\n",
       "    <tr>\n",
       "      <td>1</td>\n",
       "      <td>keep mind sub phone general advertis cheapest ...</td>\n",
       "    </tr>\n",
       "    <tr>\n",
       "      <td>2</td>\n",
       "      <td>work let seller check avert phone shop</td>\n",
       "    </tr>\n",
       "    <tr>\n",
       "      <td>3</td>\n",
       "      <td>wow best phone ever got case screen protector ...</td>\n",
       "    </tr>\n",
       "    <tr>\n",
       "      <td>4</td>\n",
       "      <td>order two base review howev disappoint work ad...</td>\n",
       "    </tr>\n",
       "    <tr>\n",
       "      <td>...</td>\n",
       "      <td>...</td>\n",
       "    </tr>\n",
       "    <tr>\n",
       "      <td>3222</td>\n",
       "      <td>anoth great deal great price</td>\n",
       "    </tr>\n",
       "    <tr>\n",
       "      <td>3223</td>\n",
       "      <td>ok</td>\n",
       "    </tr>\n",
       "    <tr>\n",
       "      <td>3224</td>\n",
       "      <td>pass everi drop test onto porcelain tile</td>\n",
       "    </tr>\n",
       "    <tr>\n",
       "      <td>3225</td>\n",
       "      <td>return meet need seem good select other</td>\n",
       "    </tr>\n",
       "    <tr>\n",
       "      <td>3226</td>\n",
       "      <td>downsid appar verizon longer use v cast music ...</td>\n",
       "    </tr>\n",
       "  </tbody>\n",
       "</table>\n",
       "<p>3227 rows × 1 columns</p>\n",
       "</div>"
      ],
      "text/plain": [
       "                                                Reviews\n",
       "0     pretti capabl durabl text phone unlock adverti...\n",
       "1     keep mind sub phone general advertis cheapest ...\n",
       "2                work let seller check avert phone shop\n",
       "3     wow best phone ever got case screen protector ...\n",
       "4     order two base review howev disappoint work ad...\n",
       "...                                                 ...\n",
       "3222                       anoth great deal great price\n",
       "3223                                                 ok\n",
       "3224           pass everi drop test onto porcelain tile\n",
       "3225            return meet need seem good select other\n",
       "3226  downsid appar verizon longer use v cast music ...\n",
       "\n",
       "[3227 rows x 1 columns]"
      ]
     },
     "execution_count": 30,
     "metadata": {},
     "output_type": "execute_result"
    }
   ],
   "source": [
    "clean_reviews.reset_index(drop=True , inplace=True)\n",
    "clean_reviews\n",
    "#인덱스를 초기화해줌 "
   ]
  },
  {
   "cell_type": "code",
   "execution_count": 31,
   "metadata": {},
   "outputs": [],
   "source": [
    "b = doc['Rating']"
   ]
  },
  {
   "cell_type": "code",
   "execution_count": 32,
   "metadata": {},
   "outputs": [
    {
     "data": {
      "text/plain": [
       "0       0\n",
       "1       1\n",
       "2       0\n",
       "3       1\n",
       "4       0\n",
       "       ..\n",
       "3222    1\n",
       "3223    0\n",
       "3224    1\n",
       "3225    0\n",
       "3226    1\n",
       "Name: Rating, Length: 3227, dtype: object"
      ]
     },
     "execution_count": 32,
     "metadata": {},
     "output_type": "execute_result"
    }
   ],
   "source": [
    "b.reset_index(drop = True, inplace = True)\n",
    "b\n",
    "#rating의 인덱스를 초기화해줌 "
   ]
  },
  {
   "cell_type": "code",
   "execution_count": 33,
   "metadata": {},
   "outputs": [
    {
     "data": {
      "text/plain": [
       "Reviews    0\n",
       "Rating     0\n",
       "dtype: int64"
      ]
     },
     "execution_count": 33,
     "metadata": {},
     "output_type": "execute_result"
    }
   ],
   "source": [
    "Data = pd.concat([clean_reviews, doc['Rating']], axis = 1)\n",
    "Data.isnull().sum()\n",
    "#인덱스를 초기화하여 각각의 데이터프레임을 결합을 하였으며 결측값이 발생하지 않음 \n",
    "#인덱스를 초기화해주지않아서 문제가 발생을 하였다"
   ]
  },
  {
   "cell_type": "code",
   "execution_count": 34,
   "metadata": {
    "scrolled": true
   },
   "outputs": [
    {
     "data": {
      "text/html": [
       "<div>\n",
       "<style scoped>\n",
       "    .dataframe tbody tr th:only-of-type {\n",
       "        vertical-align: middle;\n",
       "    }\n",
       "\n",
       "    .dataframe tbody tr th {\n",
       "        vertical-align: top;\n",
       "    }\n",
       "\n",
       "    .dataframe thead th {\n",
       "        text-align: right;\n",
       "    }\n",
       "</style>\n",
       "<table border=\"1\" class=\"dataframe\">\n",
       "  <thead>\n",
       "    <tr style=\"text-align: right;\">\n",
       "      <th></th>\n",
       "      <th>Reviews</th>\n",
       "      <th>Rating</th>\n",
       "    </tr>\n",
       "  </thead>\n",
       "  <tbody>\n",
       "    <tr>\n",
       "      <td>0</td>\n",
       "      <td>pretti capabl durabl text phone unlock adverti...</td>\n",
       "      <td>0</td>\n",
       "    </tr>\n",
       "    <tr>\n",
       "      <td>1</td>\n",
       "      <td>keep mind sub phone general advertis cheapest ...</td>\n",
       "      <td>1</td>\n",
       "    </tr>\n",
       "    <tr>\n",
       "      <td>2</td>\n",
       "      <td>work let seller check avert phone shop</td>\n",
       "      <td>0</td>\n",
       "    </tr>\n",
       "    <tr>\n",
       "      <td>3</td>\n",
       "      <td>wow best phone ever got case screen protector ...</td>\n",
       "      <td>1</td>\n",
       "    </tr>\n",
       "    <tr>\n",
       "      <td>4</td>\n",
       "      <td>order two base review howev disappoint work ad...</td>\n",
       "      <td>0</td>\n",
       "    </tr>\n",
       "    <tr>\n",
       "      <td>...</td>\n",
       "      <td>...</td>\n",
       "      <td>...</td>\n",
       "    </tr>\n",
       "    <tr>\n",
       "      <td>3222</td>\n",
       "      <td>anoth great deal great price</td>\n",
       "      <td>1</td>\n",
       "    </tr>\n",
       "    <tr>\n",
       "      <td>3223</td>\n",
       "      <td>ok</td>\n",
       "      <td>0</td>\n",
       "    </tr>\n",
       "    <tr>\n",
       "      <td>3224</td>\n",
       "      <td>pass everi drop test onto porcelain tile</td>\n",
       "      <td>1</td>\n",
       "    </tr>\n",
       "    <tr>\n",
       "      <td>3225</td>\n",
       "      <td>return meet need seem good select other</td>\n",
       "      <td>0</td>\n",
       "    </tr>\n",
       "    <tr>\n",
       "      <td>3226</td>\n",
       "      <td>downsid appar verizon longer use v cast music ...</td>\n",
       "      <td>1</td>\n",
       "    </tr>\n",
       "  </tbody>\n",
       "</table>\n",
       "<p>3227 rows × 2 columns</p>\n",
       "</div>"
      ],
      "text/plain": [
       "                                                Reviews Rating\n",
       "0     pretti capabl durabl text phone unlock adverti...      0\n",
       "1     keep mind sub phone general advertis cheapest ...      1\n",
       "2                work let seller check avert phone shop      0\n",
       "3     wow best phone ever got case screen protector ...      1\n",
       "4     order two base review howev disappoint work ad...      0\n",
       "...                                                 ...    ...\n",
       "3222                       anoth great deal great price      1\n",
       "3223                                                 ok      0\n",
       "3224           pass everi drop test onto porcelain tile      1\n",
       "3225            return meet need seem good select other      0\n",
       "3226  downsid appar verizon longer use v cast music ...      1\n",
       "\n",
       "[3227 rows x 2 columns]"
      ]
     },
     "execution_count": 34,
     "metadata": {},
     "output_type": "execute_result"
    }
   ],
   "source": [
    "Data"
   ]
  },
  {
   "cell_type": "code",
   "execution_count": 35,
   "metadata": {},
   "outputs": [],
   "source": [
    "train_docs, test_docs = train_test_split(Data, test_size = 0.3)\n",
    "#학습과 테스트를 위해 원본 데이터를 7:3비율로 분할 "
   ]
  },
  {
   "cell_type": "code",
   "execution_count": 73,
   "metadata": {},
   "outputs": [],
   "source": [
    "from tensorflow.keras.preprocessing.text import Tokenizer\n",
    "from tensorflow.keras.preprocessing.sequence import pad_sequences\n",
    "import numpy as np\n",
    "import math"
   ]
  },
  {
   "cell_type": "code",
   "execution_count": 84,
   "metadata": {},
   "outputs": [],
   "source": [
    "validation_ratio = math.floor(len(Data['Reviews']) * 0.3)\n",
    "#validation비율을 나타냄 \n",
    "max_words = 1500\n",
    "#최대 단어를 만개\n",
    "maxlen = 200"
   ]
  },
  {
   "cell_type": "code",
   "execution_count": 86,
   "metadata": {},
   "outputs": [],
   "source": [
    "tokenizer = Tokenizer(num_words = max_words)\n",
    "#max_words로 지정한만큼 토큰화 \n",
    "tokenizer.fit_on_texts(Data['Reviews'])\n",
    "#texts를 토큰화해줌 \n",
    "word_index = tokenizer.word_index"
   ]
  },
  {
   "cell_type": "code",
   "execution_count": 87,
   "metadata": {
    "collapsed": true
   },
   "outputs": [
    {
     "name": "stdout",
     "output_type": "stream",
     "text": [
      "[[122, 547, 400, 50, 1, 35, 207, 172, 45, 271, 548, 1477, 137, 188, 1062, 321, 7], [113, 643, 1, 745, 207, 983, 821, 1, 549, 111, 3, 1, 984, 46, 619, 93, 14, 265, 549, 56, 164, 822, 166, 1063, 296, 285, 499, 1063, 23, 1346, 90, 322, 509, 51, 22, 194, 869, 1, 16, 372, 10, 60, 39, 870, 1232, 27, 1, 1, 16, 591, 13, 1478, 421, 39, 1064, 10, 10, 16, 372, 322, 164, 87, 51, 746, 7, 1, 823, 225, 468, 434, 1479, 9, 122, 985, 824, 1144, 341, 10, 60, 39, 3, 780, 98, 32, 780, 4, 297, 30, 6, 32, 510, 4, 12, 550, 138, 298, 591, 53, 103, 39, 226, 1347, 551, 43, 1, 511, 104, 118, 1480, 345, 126, 360, 1233, 235, 194, 119, 74, 184, 781, 184, 1234, 410, 1348, 666, 9, 469, 644, 97, 782, 490, 469, 9, 217, 97, 361, 106, 691, 470, 9, 142, 1, 1, 70, 9, 381, 1, 548, 6, 147, 266, 1235, 71, 747, 252, 39, 29, 165, 394, 491, 511, 104, 1, 986, 871, 825, 208, 71, 97, 12, 52, 1, 245, 13, 229, 1478, 236, 1349, 97, 115, 1065, 382, 1236, 61, 27, 1, 285, 112, 382, 826, 372, 12, 492, 1350, 33, 1066, 50, 138, 1481, 86, 1237, 352, 48, 667, 113, 139, 422, 491, 154, 382, 194, 61, 568, 620, 1238, 1, 182, 14, 237, 272, 97, 692, 52, 1, 323, 208, 822, 827, 828, 1, 569, 827, 135, 256, 82, 1065, 382, 139, 568, 195, 372, 401, 204, 592, 209, 1, 471, 1482, 58, 373, 827, 173, 693, 174, 229, 748, 593, 32, 189, 748, 40, 1145, 512, 923, 1, 236, 49, 12, 383, 1239, 645, 139, 75, 421, 37, 435, 133, 110, 1350, 422, 74, 829, 4, 1, 22, 924, 212, 49, 61, 1, 3, 10, 60, 3, 551, 43, 6, 22, 155, 38, 1, 46, 8, 42, 694, 1, 226, 1067, 411, 16, 253, 830, 412, 549, 61, 254, 289, 22, 7, 14, 500, 1, 189, 569, 568, 373, 1, 41, 143, 27, 6, 254, 289, 11], [2, 218, 76, 324, 1, 528], [987, 86, 1, 144, 40, 71, 9, 381, 308, 290, 196, 988, 29, 26, 86, 59, 96, 570, 255, 116, 57], [85, 98, 925, 90, 97, 148, 2, 207, 394, 26, 197, 120, 52, 73], [5, 1], [92], [3], [11, 1, 5, 26, 5, 317, 5, 9, 5, 131, 51, 449, 8, 68, 87, 668, 1240, 1, 68, 246, 550, 493], [148, 27, 4, 1, 285, 105, 450, 436, 32, 4, 253, 107, 492, 190, 210, 10, 926, 749, 175, 211, 144, 219, 6, 37, 927, 783, 32, 4, 1, 253, 402, 247, 529, 13, 83, 67, 220, 113, 111, 1146, 167, 39, 91, 156, 39, 111, 403, 67, 32, 331, 1, 829, 669, 571, 1, 33, 783, 150, 106, 27, 1, 144, 28, 33, 318, 6, 39, 831, 594, 99, 27, 1, 45, 221, 16, 143, 695, 696, 591, 67, 1, 332, 27, 437, 1, 309, 13, 299, 928, 7, 395, 513, 6, 51, 1068, 1, 106, 929, 300, 158, 831, 395, 1351, 100, 13, 353, 8, 57, 1, 6, 262, 451, 265, 286, 514, 106, 27, 1, 65, 384, 930, 27, 39, 106, 45, 9, 381, 162, 273, 162, 65, 1069, 185, 73, 74, 106, 144, 333, 438, 27, 144], [15, 5, 5, 530, 100, 531, 9, 1241, 1, 323, 186, 8, 71, 41, 195, 510, 126, 182, 155, 468, 1070, 44, 227, 784, 134, 595, 1, 552, 62, 750, 501, 401, 274, 1, 1, 472, 989, 515, 1, 151, 134, 323, 500, 258, 144, 785, 131, 134, 266, 990, 410, 1348, 16, 372, 450], [31, 1], [29, 44], [22, 27, 99, 44, 374, 362, 872, 1, 70, 110, 572, 275, 67, 301, 7, 14, 16, 138, 362, 334, 670, 1, 66, 81, 385, 81, 212, 65, 117, 1, 178, 931, 331, 4, 991, 40, 112, 156, 1147, 363, 50, 751, 1071, 198, 117, 3, 154, 573, 21, 19, 620, 38], [11], [22, 27, 99, 44, 374, 362, 872, 1, 70, 110, 572, 275, 67, 301, 7, 14, 16, 138, 362, 334, 670, 1, 66, 81, 385, 81, 212, 65, 117, 1, 178, 931, 331, 4, 991, 40, 112, 156, 1147, 363, 50, 751, 1071, 198, 117, 3, 154, 573, 21, 19, 620, 38], [3, 1, 31, 88], [176, 167, 37, 219, 621, 694], [7, 14, 1, 40, 532, 32, 159, 32, 92], [11, 44, 296, 1072, 164, 230, 302, 75, 697, 1, 1, 7, 38, 32, 593, 108, 108, 174, 287, 159, 516, 198, 78, 27, 992, 1148, 1073, 1, 35, 24, 54, 158, 23, 75, 164, 44, 35, 1, 310, 23, 14, 596, 164, 4, 533, 7, 65, 23, 325, 375, 35, 30, 35, 27, 310, 534, 360, 44, 346, 84, 75, 404, 1352, 932, 1352, 404, 259, 933, 71, 23, 4, 35, 310], [15, 248, 46, 175, 1, 70, 259, 231, 386], [73], [2, 5], [1, 70, 133, 786, 46, 47, 2, 787, 517, 74, 20, 3, 76, 3, 15], [143, 23, 4, 1, 788, 99, 55, 1483, 87, 67, 40, 1, 2, 7, 1353, 67], [2, 9, 148], [1, 109, 13, 42, 88, 104, 14, 452, 231, 671, 1, 199, 11, 44, 168, 202, 202, 452, 35], [1, 199, 83, 183, 515, 553, 21, 19, 571], [15, 109, 147, 789, 2, 299, 48, 1, 535, 473, 474, 9, 63, 101, 240, 24, 622], [27, 15, 14, 698, 646, 230, 208, 273, 1, 27, 452, 262, 265, 80, 32, 993, 1, 241, 4, 1, 17, 27, 158, 326, 15, 14], [25, 65, 1354, 185, 1, 70, 133, 323, 5, 88, 45, 934, 413, 372, 22, 7, 14, 1, 33, 124, 88, 387, 3, 190, 275, 253, 1149, 24, 300, 119, 140, 36, 38, 63, 873, 174, 44], [74, 34, 3, 374, 10, 60, 79, 127, 44, 6, 10, 60, 31, 6, 388], [25, 1484, 672, 28, 44, 13, 238, 185, 790, 8, 5, 258, 65, 1354, 25, 1074, 308, 471, 178, 5, 258, 25, 1, 114, 1, 672, 32, 300, 119, 2, 1, 127, 574, 13, 9, 111, 1355, 438, 286, 203, 1485, 65, 157, 68, 203, 517, 94, 13, 137, 273, 59, 230, 191, 299, 1, 299, 2, 120, 1, 226, 7, 14, 65, 623, 87, 788, 1356, 68, 213, 623, 83, 157, 28, 1, 80, 2, 1, 1484, 4, 48, 423, 252, 80, 245, 145, 22, 23, 1, 158, 353, 100, 23, 12, 11, 65, 162, 41, 3, 185, 203, 1486, 1485, 265, 106, 144, 198, 65, 1075, 45, 1357, 65, 92, 1242, 1484, 672], [34, 3, 88, 22, 14, 7, 52, 214, 3, 6], [51, 103, 1, 300, 119, 326, 27, 314, 148], [78, 1, 135, 70, 32, 752, 1150, 31, 2, 88, 145, 994, 90, 85, 691, 23, 4, 1076, 182, 106, 699, 353, 832, 100, 203, 227], [3], [70, 3, 88], [475, 1, 5, 88, 2, 34, 18, 123, 65, 5, 291, 27, 15, 203, 94, 12, 52, 65, 1077, 995, 7], [11, 1, 24, 36, 26, 2, 78, 221, 16, 45, 179, 133], [3, 1, 326, 389], [34, 7, 14, 1151, 935, 78, 1, 3, 185], [20, 80, 1, 342, 6, 173, 78, 45, 207, 88, 453, 120, 253, 217, 9, 259, 469, 36, 753, 2, 5], [148, 1, 32, 6, 343, 189, 47, 12, 52, 23, 267, 1, 245], [2, 18, 217, 6, 360, 131, 2, 16, 5, 333, 159, 476, 34, 24, 529, 1, 102, 169, 5, 15, 5, 16, 12, 52], [575, 5, 11, 65], [5], [1, 22, 5, 109, 10, 597, 32, 300, 119, 303, 2, 9, 1487, 700, 354, 571, 268, 111, 298, 833, 834, 325, 375, 13, 1358, 411], [27, 80, 281, 932, 44, 1, 109, 133, 104, 14, 259, 231, 2, 18, 117, 183, 18, 175], [5, 44, 5, 88, 2, 18, 11, 92], [341, 791, 835, 364, 782, 413, 70, 147, 754, 81, 344, 490, 1488, 4, 117, 1, 241, 1078, 319, 128, 576, 21, 19, 355, 405, 70, 1, 19, 7, 554, 202, 169, 3, 1, 7, 454, 85, 76, 1, 179, 49, 569, 1489, 874, 554, 439, 4, 936, 207, 33, 1148, 90, 1490, 319, 128, 255, 28, 128, 23, 440, 28, 44, 38, 129, 477, 1491], [267, 1, 58, 1, 5, 138, 232, 257, 494, 28, 8, 99, 1, 937, 130, 937, 44, 72, 24, 46, 4, 513, 37, 673, 10], [5, 15, 11, 1, 2, 319, 128], [1152, 441, 34, 99, 58, 58, 76, 15, 31, 136, 12, 49, 327, 701, 934, 938, 495, 1, 12, 22, 34, 180, 101, 56, 996, 23, 4, 1, 123, 12, 12, 85, 76, 692, 577, 14, 44, 34, 99, 48, 45, 1, 146, 1359, 275, 746, 12, 52, 502, 214, 158, 424, 92, 65, 239, 157], [3], [46, 44, 112, 76, 207, 97, 45, 44, 112, 28, 73, 38, 13, 73, 12, 499, 836, 97, 82, 45, 2, 42, 296, 46, 442, 214, 40, 100, 36, 578, 258, 99, 207, 182, 577], [5, 518, 42, 11, 44], [106, 528, 65, 443, 53, 241, 4, 1, 27, 242, 511, 833, 718, 35, 82, 41, 51, 438, 755, 246, 35, 1, 146], [31, 104, 14, 106, 161], [1, 35, 442, 671, 455, 1243, 696, 23, 73, 282, 478, 13, 77, 1360, 444, 756, 993], [1, 3, 88, 202, 76, 24, 923, 598, 579, 1244, 161, 1], [42, 88, 92], [52], [35, 11, 91, 44, 166, 79, 105, 40, 80, 670, 136, 599, 199, 117, 425, 100, 479, 404, 792, 33, 2, 108, 837, 456, 595, 73, 335, 14, 1], [235, 3, 212], [5], [31], [72, 3], [5], [29, 92], [1, 132, 220, 99, 1079, 288], [148, 230, 15, 204, 67, 147, 1080, 76, 997, 1153, 15, 20, 998, 95, 95, 1361, 939, 106, 41, 875, 624, 99, 61, 15], [134, 88, 248, 202], [536, 42, 600, 78, 204, 519, 23, 757, 110, 24], [74, 2, 42, 14, 44, 254, 38, 78, 537, 14, 86, 265, 63, 291], [3, 2, 3], [248, 46, 480, 83, 6, 481, 3, 51, 58, 6, 70, 452, 35, 554, 2, 42, 200, 52], [25, 1, 3, 88, 40, 195, 365, 67], [2, 42, 207, 1492, 88, 231, 29], [34, 103, 44, 9, 647, 1355, 10, 538, 15, 136, 14, 14, 648, 15, 25, 144, 1, 87, 580, 719, 14, 793, 157, 28, 100, 36], [2, 42, 18, 46], [199, 119, 621, 2, 235, 119, 2], [5], [73, 343, 119, 2], [538], [1, 347, 22, 104, 14], [42], [1, 503, 336, 44, 1245, 475, 437, 142, 17, 876, 76, 1493, 179, 67, 13, 45, 1, 5, 1362, 85, 109, 625, 18, 601, 475, 44], [1, 202, 16, 185, 55, 940], [318, 263, 581, 117, 70, 413, 310, 179, 133, 12, 23, 263, 78, 1, 937, 177, 12, 23], [440, 267, 9, 477, 107, 66, 47], [72, 602, 331, 44], [46, 45, 396, 647, 97, 157, 198, 59, 36], [8, 198, 119, 539, 9, 592, 341, 1, 16, 40], [5, 104, 14], [3], [3, 15], [5], [49, 179, 5, 7, 14, 88, 175, 78, 36, 44], [1, 2, 5, 105, 10, 93, 274, 30, 59, 230, 191, 116, 24, 477], [46, 1, 204, 375, 1, 217, 501, 364, 27, 81, 315], [1, 43, 388, 492, 247, 323, 46, 364], [8, 1, 2, 30, 22, 7, 8, 1363, 13, 30, 1154, 1494, 100], [1, 199], [15, 179, 314, 49, 445, 15, 934, 787, 33, 877, 217, 97, 10, 626, 139, 1, 111, 123, 233, 1495, 10, 162, 76, 1496, 73, 15, 97, 173, 1497, 77, 316, 113, 1, 520, 185, 1364, 73, 169, 76, 649, 162, 758], [], [25, 281, 11], [5, 44, 470, 25, 79, 84], [3, 76, 52, 49, 327, 13, 3, 202, 74, 31, 314], [40, 521, 92, 48, 65, 78, 1365], [88, 3, 35], [44, 70, 199, 63, 162, 76, 269, 38, 603, 941, 504, 148], [243, 36, 674, 942, 215, 2, 1498, 91, 68], [122, 3, 130, 702, 42, 88], [1, 5, 281, 78], [40, 1, 13, 2, 42], [11], [9, 303, 2, 47, 254, 23, 14, 1, 106, 23, 83, 1, 65], [1, 70, 1155, 540, 119, 4, 703, 33, 999, 518, 412, 548, 81, 385, 246, 212, 81, 212, 59, 144, 30, 1], [23, 14, 1, 80, 75, 6, 69, 99, 23, 1, 58, 1], [35], [25, 1, 342, 38, 496, 191, 8, 21, 19, 501, 439, 170, 1, 446, 443, 13, 12, 77, 619, 230, 794, 76, 1246, 59, 36, 1, 55, 140, 1, 36, 342, 136, 1, 1156, 1157, 470, 9, 22, 7, 873, 103, 1, 470, 9, 123, 1247, 1158, 38, 222], [1, 102, 10, 79, 232, 56, 32, 40, 1, 81, 70, 2, 148, 25, 14, 1, 210, 627, 10, 254, 217, 36, 55, 25, 4, 44, 191, 285, 12, 48, 239, 23, 15, 457, 28, 16, 627, 79, 232, 15, 406, 14, 943], [11, 57, 44], [1, 341, 878, 604, 10, 388, 178, 80, 325, 10, 1244, 321, 1159, 1, 492, 529, 476], [1, 109, 165, 9, 838, 2, 446, 247, 13, 165, 182, 145, 7, 165, 83, 286, 9, 182, 375, 161, 444, 571], [1000, 15, 1000, 179, 337, 92], [323, 3], [628, 11], [996, 23, 4, 1, 11, 48, 217, 2, 42, 23, 245, 375, 353, 48, 100, 239], [134], [5, 1, 2, 102, 353, 302, 191], [1], [9, 1081, 1001, 25, 1002, 366, 414, 276, 207, 759, 3, 43], [31, 88], [33, 47, 331, 1, 303, 2, 18, 9, 8, 50, 17, 1248, 175], [342], [5, 1, 5, 88, 281, 78], [31], [29, 22, 1, 550, 23, 230, 1244, 257, 1, 149, 136, 112, 111, 113, 205, 1003, 37, 6, 144, 4], [44, 303, 2, 47, 576, 4, 106, 142, 482, 413, 504, 148], [532], [27, 112, 520, 112], [54, 170, 78, 92], [49, 179, 1, 5, 35], [1, 70, 5, 88, 237, 239], [25, 1, 58, 254, 170, 83, 451, 25, 1, 33, 4], [231, 259, 338, 469, 644, 321, 81, 385, 259, 14, 15, 469, 147, 754, 225, 43, 1366, 555, 1160, 1, 720, 795, 745, 629, 20, 4, 241, 52, 23, 1499], [92, 48, 216, 13, 80, 1, 142, 482, 133, 54, 339, 15, 760, 1367, 164, 241, 111, 26, 121, 69, 619, 54, 116, 11, 362, 106, 48, 317, 1, 11, 200, 52, 76, 437, 80, 1, 8, 1082, 249, 16, 299, 383, 179, 1, 109, 13, 407, 928, 879, 721], [15, 2, 117, 265, 35, 1], [1, 47, 178, 396, 2], [5, 76, 5, 704], [31, 88, 202, 109, 13], [1, 274, 30, 235, 119, 2, 213, 43, 1], [5, 88, 342, 11], [11, 24, 170], [1, 45, 276, 220, 120, 1, 2, 92, 297, 1368, 605, 44, 1152, 80, 117, 328, 309, 1, 246, 14, 6, 106, 27, 267, 1, 65], [1, 109, 675, 672, 702, 97, 9, 98, 32, 672, 1, 944, 73, 168, 335, 73], [1, 106, 8, 453, 30, 59, 32, 81], [14, 88, 2, 117, 281, 11], [], [11], [45, 44, 74, 3, 20, 112, 444, 112, 1161, 1, 249, 273, 1083, 273, 1004, 140, 80, 24, 243, 1162, 491, 24, 273, 28, 100, 36, 80, 55, 4, 1, 53, 273, 650, 100, 1, 28, 80, 55, 4], [415, 11, 1, 97, 207, 117, 1, 45, 63, 4, 117, 451, 273, 157, 1084, 1, 25, 117, 33, 124, 127, 13, 117, 157, 84, 316, 113, 1, 63, 68, 69, 625, 108, 875, 41, 127, 695, 1163, 696, 210, 23, 117, 44, 7, 6, 676, 746, 166, 68, 36, 117, 30, 47, 110, 404, 471, 796, 70, 105, 14, 68, 28, 226, 348, 12, 1359, 1085, 1003, 1086, 793, 272, 36, 117, 260, 1, 117, 1], [133, 327, 15, 45, 202, 29, 258], [12, 46, 44], [356, 436, 98, 105, 111, 36, 39, 13, 1240, 1087], [220, 82, 376, 436, 346, 47, 27], [1, 7, 14, 74, 2, 5], [5, 1, 213], [25, 1088, 189, 2, 7, 14, 1369, 309], [597, 88, 57, 202, 2, 5], [25, 342, 11, 42, 88], [109, 31, 88, 416, 211, 1, 367, 1089, 21, 19, 576, 6, 108], [2, 237, 102, 217, 304], [299, 14, 16, 1, 6, 109, 4, 178, 170, 496, 273, 1005, 933, 455, 198, 85, 170, 1, 63, 73, 1], [115, 945, 606, 1, 2, 102], [1, 3, 14, 2, 5], [2, 46, 13, 327], [1, 70, 13, 790, 70, 202, 81, 35, 112, 186, 217, 36, 3, 71, 59, 440, 9, 42, 196, 1, 2, 14, 92], [3, 185, 329, 44, 207, 830, 44, 5, 88, 70, 259, 147, 315, 385, 81, 344, 115, 519, 1, 70, 3, 21, 19, 246, 496, 191, 5, 16, 168, 830, 54, 162, 8, 1090, 52, 830], [349, 43], [1, 70, 13, 202], [29, 1], [1, 5, 97, 66, 81, 326], [3], [5], [342], [5, 258], [1, 35, 138, 945, 1, 515, 945, 140, 117, 406], [3], [74, 42], [94], [1, 342, 305, 72], [1, 152, 88, 374, 66, 33, 81, 150], [1, 207], [15, 874, 554, 13], [58, 348, 154, 15, 1, 5, 88, 45, 2, 556, 166, 541, 291, 161, 880, 10, 230, 10, 1006, 1, 12, 30, 274, 30, 148], [1164, 290, 239, 43, 81, 344, 230, 259, 1, 1007, 3, 22, 237, 14], [202, 343, 875, 140, 36, 85, 44, 86, 530, 55, 101, 5, 157, 208, 347, 2], [27, 1, 21, 19, 321, 121, 43, 1091, 269, 412, 87, 1, 366, 93, 7], [11, 1], [1, 70, 747, 133, 2, 5, 72, 47, 97, 651, 70, 2, 292, 20, 38, 23, 6, 39, 106, 70, 522, 548, 447, 342, 11, 1, 123, 28, 6], [7, 14, 2, 18], [390, 55, 238, 57, 16, 39, 10, 673, 49, 105, 25, 402, 221], [131, 34, 128, 325, 50, 2], [3, 1], [91, 1, 301, 368, 53, 426, 217, 515, 238, 10, 30, 4, 13, 239], [46, 4, 267, 627, 323, 104, 14, 305, 797, 150], [70, 7, 12, 8, 191, 444, 66, 261, 1092, 11, 44], [200, 43, 1249, 1, 24], [42, 88], [18, 107, 15, 301, 4, 301, 9, 80, 103, 9, 43, 111, 161, 26, 56, 51, 333, 199, 9, 677, 944, 1008, 37, 324, 161, 228, 228, 944, 1008, 798, 136, 4, 267, 24, 211, 302, 570, 1, 628, 44, 300, 119, 570, 264, 1], [15, 248, 207, 109, 752, 55, 940], [25, 1, 14, 101, 10, 38, 872, 166, 230, 191, 101, 4, 79, 84, 397, 10, 646, 39, 234, 833, 230, 366, 166, 28, 646, 1, 103, 234, 94, 291], [92, 74, 102], [91, 2, 146, 720, 219, 1005, 881, 91, 132, 230, 32, 63, 95, 607, 165, 9, 2, 324, 6, 91, 722, 191, 450, 501, 91, 267, 14, 91, 91, 65, 56, 258, 12, 106, 23, 76, 83, 230, 91, 722, 191, 1093, 91, 240, 33, 198, 1009, 272, 9, 1010, 24, 705], [31], [5, 1, 2, 18, 109, 879, 675], [3], [152, 78, 15, 68], [1, 2, 102, 178, 139, 298, 8, 21, 19, 1, 66, 6, 1011, 146, 8, 6, 230, 496, 114, 157], [1, 2, 34, 3, 88, 221, 703, 114, 150, 85, 44, 799, 542, 44], [403, 347], [5, 24], [442, 646, 35, 1, 292, 599, 496, 82, 109, 1012], [11, 11, 11], [1, 518, 621, 290, 761, 630, 31, 88], [123, 40, 14, 6], [5, 88, 74, 136, 92, 48], [42], [496, 1086, 170, 1, 602, 299, 209, 210, 73, 1, 301, 939, 259, 147, 97, 230, 452, 754, 147, 800, 14], [3, 557, 31, 88], [600, 11, 72, 2, 3, 24, 413, 217, 250, 70, 13, 109, 783, 334, 32, 277, 202, 44, 58, 600, 699, 25], [40, 32, 248, 28, 217, 470, 204, 1013, 104, 14], [3, 1, 3, 88, 723, 880, 44, 39, 66, 500, 1014, 447, 936, 207], [339], [6, 150, 114, 882, 1, 1367, 164, 102, 1367, 935, 1367, 414, 94, 411, 253, 278, 62, 762, 111, 164, 1, 930, 27], [78, 27], [189, 270, 801, 166, 117, 191, 883, 620, 38, 232, 540, 75, 9, 115, 44, 649, 116, 25, 267, 22, 1352, 78, 1], [25, 1, 1370, 8, 1165, 425, 924, 574, 100, 884, 826, 44, 2, 5, 353, 1250, 516, 16, 884, 44], [5, 1, 314, 54, 77, 134, 43, 40, 104, 14, 94, 147, 42, 88, 377, 1], [72, 3, 305], [1, 202, 3, 76], [27, 1, 14, 342, 1088, 107, 449, 436, 334, 47, 369, 12, 59, 30, 166, 230, 722, 528, 166, 724, 253, 413, 582, 1, 619, 253, 9, 1, 14, 98, 174, 286, 725, 652, 1244, 582, 33, 1, 719, 173, 262, 1371, 55, 292, 2, 1, 12, 52, 1499, 245, 412, 15, 936], [104, 14, 754, 147, 554, 701, 305, 377, 1166, 417, 81, 1015, 147, 205, 283, 76, 266, 205, 283, 65, 147, 1372, 30, 385, 1015, 230, 391, 78, 15], [11, 65, 15, 68, 5], [134, 1, 478, 946, 4, 1, 511, 173, 66, 300, 2, 1373, 138, 411, 29, 134, 1, 24, 59, 781, 182, 482, 7, 11], [790, 45, 1, 696, 574, 13, 116, 137, 104, 14, 30, 55, 170, 94, 411, 39, 78, 70, 81], [3, 1, 426, 1094, 10, 186, 698, 2], [5, 1, 70, 57, 88, 202, 305], [152, 46], [1, 170, 258], [46, 8, 1, 217, 1, 7, 14, 24, 8, 77, 2, 42, 27, 1, 281, 78], [5, 1, 4], [1, 248, 202], [390, 55, 238, 57, 16, 39, 10, 673, 49, 105, 25, 402, 221], [67, 653, 885, 654, 157, 68, 1000, 243, 83, 1, 49, 49, 49, 42, 1, 11, 886, 62, 44], [134, 1], [186, 217, 2, 18], [5, 15, 5, 16], [31, 88, 14, 342, 11], [92], [25, 214, 15, 109, 133, 59, 574, 13, 65, 136, 12, 203, 227, 1251, 413, 1, 2, 7, 1353, 53, 2, 839, 214, 578, 1, 257, 655, 113, 6], [56, 316, 59, 726, 1, 109, 104, 14, 88, 789, 74, 754, 469, 381, 458, 16, 134, 185, 390, 8, 6, 1374, 550, 266, 789, 1, 14, 88, 947, 361, 170, 166, 232, 91, 191, 1, 66, 91, 1252, 124, 143, 135, 173, 249, 33, 840, 72, 3, 95, 47, 727, 141, 226, 47, 74, 53, 3, 342, 11, 308, 270, 239, 10, 60, 324, 230, 755, 699, 238, 262, 478, 1375, 332, 40, 3, 873], [1, 66, 202, 199, 146, 59, 124, 230, 1376, 199, 255, 948], [15, 104, 14, 2, 104, 14], [145, 103, 90, 4, 1, 195, 949, 364, 501, 233, 572, 217, 887, 9, 67, 217, 18, 30, 453, 7, 14, 2, 5, 130, 45], [152, 92], [1, 5, 9, 928, 7, 55, 523, 5, 23], [44, 496, 25, 70, 199, 496, 1253, 24, 98, 105, 128, 496, 146, 8, 67, 749, 170, 1, 436, 32, 4, 1, 1016, 1069, 9, 244, 950, 1011, 1, 262, 230, 230, 243, 237, 14, 496, 1, 70, 199, 39, 32, 146, 8, 35, 170, 23, 6, 268, 4], [1, 199, 496, 414, 24, 35], [2, 24, 204, 92, 569], [31], [74, 207, 577, 11, 14, 44, 92, 255, 270, 40, 28], [1, 45, 599, 1], [2, 42, 24, 85, 115, 81], [40, 248, 423, 72, 24], [5, 7, 48, 2, 34, 18, 126, 16, 221], [384, 15, 217, 608, 9, 501, 15, 364, 28, 702, 318, 1484, 148, 116, 15, 623, 100, 27, 15, 623, 1254, 794, 936, 364, 15], [34, 268, 12, 873, 8, 3, 1, 823, 695, 90, 1, 98, 32, 56, 32, 93, 102, 116, 1, 1167, 79, 190, 33, 110, 4, 39, 725, 402, 148], [332, 6, 1367, 6, 4, 220, 110, 21, 19, 116, 2, 159, 151, 595, 21, 19, 94, 272, 90, 8, 21, 324, 33, 99, 40, 1255, 656], [1, 70, 88, 93, 492, 87, 1168, 320, 74, 375, 2, 102], [1, 2], [11, 74, 44, 841, 492, 111], [5, 157, 68, 208, 1, 22, 2, 5, 170, 14, 1, 888, 166, 232, 445, 169, 27], [11, 1], [29, 1, 109, 207, 25, 281, 236, 175], [1, 121, 48, 336, 44, 391, 74, 375, 5], [85, 1, 104, 14, 301, 248, 40, 2, 110, 67, 70, 248, 202, 81, 104, 14, 344, 147, 237, 74, 8, 23, 135, 191], [55, 46, 7, 104, 14, 1, 2, 42, 265], [7], [], [], [3], [85, 1, 104, 14, 301, 248, 40, 2, 110, 67, 70, 248, 202, 81, 104, 14, 344, 147, 237, 74, 8, 23, 135, 191], [11, 1, 99, 58, 267, 1, 70, 104, 14, 1256, 470, 24, 942, 518, 85, 185, 97, 58, 99, 116, 511, 52], [84, 75, 11, 1, 28, 44, 127, 13, 790, 45], [70, 5, 88, 46, 24, 889, 159, 390, 17, 116, 250, 58, 535, 333, 7, 13, 79, 47, 397, 79, 127, 5], [69, 1377, 85, 1, 826, 22, 2, 42, 5, 16], [403, 1, 137, 14, 1377, 145, 90, 11, 33, 57, 79, 6], [27, 44, 594, 237, 239], [369, 40, 1, 3, 88], [306], [76], [44, 227, 109, 13, 42, 88, 326, 7, 27, 480, 230, 27, 12, 28, 168, 175, 76, 12, 27, 76], [29, 1], [406, 35, 1, 35, 33, 76, 558], [1, 6, 84, 230, 262], [559, 649, 260, 1017, 122, 362, 25, 288, 21, 19, 130, 991, 951, 657, 801, 4, 20, 21, 19, 1, 117, 404, 178, 952, 77, 1, 539, 607, 427, 156, 61, 6, 726, 38, 36, 427, 156, 459, 457, 196, 159, 107, 217, 890, 386, 188, 162, 44, 20, 218, 756, 99], [790, 45, 1, 107, 4, 74, 178, 455, 326, 74, 629, 2, 14, 793, 45, 17, 158, 33, 201, 33, 300, 119, 652, 106, 103, 258, 65, 203, 27, 51, 145, 90, 74, 13, 40, 1169, 33, 124, 34, 7, 203, 148, 175, 440], [141], [109, 373, 2, 18, 11, 559, 118, 296, 56, 145, 560, 888, 561, 1170, 335, 1378, 251, 1247], [428, 4, 217], [31], [1, 199, 136, 123, 412, 202], [5, 1, 180, 4, 6, 155, 457, 311, 155, 4, 41, 4, 1170, 583, 285], [524], [3, 3, 557, 92, 48], [45, 1, 1149, 217, 943, 4, 1, 1095, 2, 42, 97, 45, 658, 231], [29, 1], [265, 178, 63, 59, 100, 139], [175, 1, 97, 21, 19, 307, 321], [72, 3, 4, 226, 47, 67, 11], [1, 5, 88, 199, 496, 891, 35, 249, 148], [152], [5, 1], [1, 45, 13, 496, 1, 114, 6, 150, 21, 19, 240, 1, 166, 496, 138, 19, 170, 1, 166, 1, 300, 173, 6, 1, 17, 580, 334, 190, 1, 230, 55, 222, 483, 1, 1, 988, 274, 1171, 19, 230, 569, 208, 316, 722, 328, 68, 14, 336, 170], [40, 34, 5, 88], [31], [1, 496, 479], [3], [157, 68, 8, 1, 45, 2, 17, 273, 140, 36, 80, 552, 243, 36, 45, 80, 2, 5, 239, 15, 76], [202, 35, 518, 620, 4], [327, 102, 24], [14, 6, 147, 272, 324, 215, 230, 678, 238, 170, 47, 277, 2, 18, 126, 793, 446], [49, 327, 168, 57, 202, 152, 1, 92, 415, 23, 76], [3, 1], [141], [31], [125, 109, 161], [], [40, 1, 147, 110, 344, 217, 71], [3], [56, 147, 161, 231, 39, 45, 44, 45, 147, 514, 44, 28, 525, 46, 44, 20, 1, 38, 494, 45, 44, 892, 525], [15, 109, 209, 92], [1, 2, 347, 658], [70, 1, 44, 112, 147, 259, 81, 66, 155, 310], [72, 3], [263, 11, 14, 1, 130, 6, 135, 763, 724, 839], [44, 316, 189, 227, 600, 78, 27, 456, 116, 38, 36, 609, 44, 706, 609, 9, 42, 20, 166, 247, 8, 4, 378, 118, 522, 133], [267, 35, 44, 227, 112, 98, 105, 175, 1, 109, 133, 70, 1096, 647, 147, 81, 344, 46, 226, 73, 1018, 117, 44, 523, 21, 19, 2, 7, 1353, 357, 2, 36, 1, 787, 253, 701, 217, 9, 253, 9, 999, 227, 679, 8, 267, 1, 104, 14, 6, 217, 323, 48, 10, 60, 1, 72, 524, 146, 38, 98, 32, 110, 30, 1, 691, 10, 349, 604, 2, 5, 23, 6, 267, 1, 58, 38, 16, 5, 46, 1, 245, 22, 44, 253, 217, 123, 104, 14, 8, 34, 450, 9, 253, 701, 217], [45, 85, 86, 88, 92], [40, 932, 1, 2, 246, 324, 91, 20, 610], [44, 316, 189, 227, 600, 78, 27, 456, 116, 38, 36, 609, 44, 706, 609, 9, 42, 20, 166, 247, 8, 4, 378, 118, 522, 133], [456, 666, 1, 703, 66, 81, 73, 1018, 179, 147], [1, 2, 18, 46, 67, 43, 327, 892, 514, 143, 44, 227, 164, 93, 953, 26, 241], [11, 44, 314, 49, 179], [5, 44, 31, 604, 74, 42], [105, 327, 1, 178, 107, 59, 230, 191, 268, 3], [5, 15], [44, 496, 199, 39, 199], [45, 3, 88], [58, 44, 11, 11, 11, 1, 92, 230, 226, 106, 138, 44, 577, 11, 839, 839], [45, 168, 13, 518], [42], [29], [3, 954, 68], [42], [11], [152], [], [85, 44, 40, 470, 217, 63, 138, 21, 19, 111, 1, 1097, 932, 484, 144, 23, 1], [1, 70, 752, 179, 443, 15, 202, 76, 2, 524, 35, 42, 6, 51, 124, 304, 66, 259, 147, 446], [299, 40, 1, 389], [1, 3, 22, 14, 2, 5, 3], [1, 47, 949, 38, 108, 11, 135, 116, 53, 184, 36, 312, 24, 39, 265, 49], [671, 24, 1, 35, 172, 1, 109, 135, 199, 296, 103, 258, 595, 1076, 173, 74, 54, 73, 1, 222, 659, 13, 483, 927, 414, 205, 72, 1257, 313, 57, 258, 82, 258, 76, 1258], [5, 1, 3, 16, 304, 69, 67, 559, 227, 126, 3, 559, 9], [23, 140, 1259, 44, 175, 116, 197], [42], [3, 43, 3, 16], [204, 93, 288, 494, 8, 14, 21, 19, 5, 239], [27, 230, 44, 227, 112, 1098, 178, 788, 890, 942, 215, 290, 112, 44, 227, 542, 178, 230, 755, 101, 44, 227, 66, 354, 112, 112, 112, 164, 1, 947, 230, 15, 73, 525], [20, 128, 325, 1, 25, 20, 99, 262], [29], [1, 365, 104, 14, 204, 1379, 367, 802, 76, 33, 246, 1162, 27, 44], [31], [57], [42], [64, 1099, 130, 369, 40, 10, 60, 53, 447, 1, 440, 9, 381, 71, 38, 13, 1, 66, 147, 173, 1146, 230, 502, 537, 1257, 48, 41, 649, 758, 436, 1172, 4, 927, 84, 304, 427, 206, 881, 12, 54, 151, 151, 198, 871, 825, 234, 8, 75, 206, 427, 1260, 108, 185, 83, 1, 763, 1261, 1157, 299, 1380, 13, 459, 32, 116, 9, 470, 791, 105, 142, 188, 64, 1, 84, 1100, 291, 1144, 438, 272, 9, 381, 1262, 254, 333, 644, 3, 575, 25, 1259, 1, 551, 43, 34, 349, 46, 1154, 205, 1101, 943, 826, 27, 95, 1154, 1163, 8, 648, 470, 111, 482, 413, 33, 1368, 83, 80, 1, 482, 803, 361, 482, 1162, 18, 99, 406, 803, 1173, 312, 94, 18, 800, 804, 129, 197, 158, 624, 1, 482, 232, 33, 999, 1018, 482, 803, 113, 1, 7, 6, 32, 893, 1, 625, 403, 254, 669, 230], [3, 92], [3], [31], [29, 43, 26], [3, 43, 29, 229], [29], [11, 44, 57], [441, 14, 44, 680, 24, 231, 754, 92], [180, 681, 46, 15, 109, 49, 879, 72, 3], [56, 230, 44, 4, 61, 1, 44, 680, 18, 607, 54, 526, 4, 1381, 680, 2, 787, 7, 1, 37, 8, 2, 8, 61, 28, 1, 37, 2, 13, 8, 230], [1, 31, 2, 94, 147, 246], [342, 44, 1099, 2, 46], [91, 1, 383, 115, 172], [230, 44, 728, 172, 1085, 795, 894, 37, 191, 77, 728, 795, 226, 891, 272, 39, 658, 955, 115, 184, 259, 44, 658, 658, 485, 955], [230, 188, 120, 59, 720, 44, 895, 486, 949, 97, 5, 115, 118, 177, 194, 421, 9, 468, 26, 38, 36, 61, 124, 313, 230, 12, 214, 1263, 358, 1081, 85, 427, 603, 408, 61, 282, 1264, 358, 340, 607, 82, 707, 4, 284, 72, 146, 282, 805, 33, 75, 1264, 358, 340], [410], [141], [681, 46, 143], [152], [3, 1, 25, 3, 16], [44, 680], [11, 437, 184, 155, 42, 54, 4], [42, 1, 7, 104, 14, 519], [134], [3, 15], [398, 509, 9, 631, 611, 307, 37, 386, 558, 10, 60, 27, 318, 270, 73, 346, 32, 397, 575, 64, 184, 729, 257], [239, 168], [4, 257, 672, 702], [129, 42, 239, 27], [42, 88, 31, 23], [3, 68, 16], [764, 207, 896, 300, 584, 34, 896, 679, 16, 3, 577, 143, 154, 202, 893, 803, 993], [3, 88, 24], [79, 13, 25, 1, 65, 211, 276, 25, 65, 6, 1019, 1102, 53, 276, 165, 9, 94, 360, 9, 726, 1167, 269, 165, 653, 260, 504, 103, 276, 4, 6, 155, 429, 41, 143, 9, 455, 360, 571, 509, 1, 3, 124, 112, 382, 112, 187, 439, 112, 842, 39, 956, 512, 302, 211], [415, 134, 1, 11], [1, 70, 2, 1174, 231, 5, 940, 15], [1, 2, 5, 49], [11, 1, 695, 67, 1, 562, 632, 119, 186, 69, 4, 1020, 452, 275, 352, 176, 92, 1019, 246, 35, 289, 1], [152, 1, 57, 46, 74, 49, 26, 134, 330, 21, 1382, 414, 418, 6, 21], [31], [5], [1, 34, 5, 48, 559, 46, 124, 949, 45, 352, 95, 130, 646, 143, 11, 124], [266, 682, 254, 326, 15, 670, 584, 494, 138, 21, 2, 94, 411, 11, 37, 1265, 10, 60, 341, 18, 287, 16], [62, 86, 229, 144, 8, 16, 591, 218, 107, 58, 1102, 112, 382, 112, 187, 405, 10, 11, 40, 1173, 7, 383, 421, 314, 49, 30, 989, 172, 112, 382, 112, 187, 172, 226, 49, 80, 10, 60, 31, 57, 112, 164, 1021, 405, 10, 296, 30, 49, 112, 172, 405, 10, 51, 7, 1103, 220, 189, 172, 48, 383, 219, 581, 34, 519, 37, 161, 13, 1, 53, 136, 11, 1, 708, 48, 28, 425, 106, 425, 1, 163, 8, 226, 3, 1, 16, 3, 424, 1019], [95, 6, 105, 459, 10, 60, 4, 1, 2, 17, 8, 190, 253, 190, 4, 157, 396, 429, 40, 32, 190, 10, 60, 691, 272, 391, 190, 4, 429, 112, 164, 49, 272, 113, 643, 391, 591, 86, 1, 144, 40, 3, 17, 43, 12, 40, 55, 8, 112, 57, 49, 272, 682, 121, 656, 57, 194, 1102, 112, 57, 751, 258, 282, 1, 34, 28, 73, 61, 434, 37, 208, 363, 759, 38, 404, 89, 28, 430, 178, 876, 591, 238, 335, 1, 66, 837, 730, 112, 16, 591, 160, 1, 357, 457, 765, 6, 727, 8, 531, 9, 766, 709, 108, 9, 446, 108, 155, 357, 843, 418, 21, 19, 843, 888, 3, 22, 1, 120, 72, 844, 957, 1175, 199, 35, 9, 130, 199, 119, 86, 751, 876, 591, 1, 211, 95, 90, 425, 6, 2], [11, 86, 1, 266, 44, 64], [53, 223, 72, 2, 42], [5, 1, 16, 1253, 541, 249, 358, 95, 576, 93, 203, 2, 18, 374, 8, 21, 1176, 2, 33, 1104, 21, 514, 122, 48, 159, 249, 198, 38, 200, 337, 156, 731, 4, 359, 56, 683, 343, 426, 57, 156, 337, 657, 302, 117, 12, 7, 806, 1, 110, 806, 16, 1], [1, 236, 3, 33, 124, 10, 60, 1382, 563, 652, 21, 355, 21, 19, 1022, 592, 125, 132, 370, 190, 63, 1366, 408, 222, 126, 520, 610, 38, 722, 784, 807, 98, 150, 130, 1, 1266, 1015, 221, 529, 732, 95, 8, 564, 192, 328, 37, 63, 452, 629, 483, 103, 1267, 1383, 120, 2, 254, 48, 13, 958, 1268, 391, 2, 550, 51, 1019, 3, 682, 43, 654, 208, 1019, 1360, 1177, 897, 82, 27, 358, 95, 7, 956, 57, 624, 279, 607, 82, 151, 99, 8, 352, 95, 43, 654, 57, 784, 722, 1, 70, 36, 13, 1178, 1175, 476, 646, 948, 890, 35, 1023, 6, 1175, 959, 391, 288, 460, 807, 52, 114, 418, 697, 444], [831, 1, 599, 357, 183, 8, 1269, 183, 573, 21, 19, 33, 23, 83, 1102, 41, 143, 24, 1019, 1093, 24, 1019, 678, 205, 208, 895, 38, 191, 8, 222, 348, 250, 24, 53, 241, 132, 357, 183, 395, 87, 13, 505, 185, 204, 272, 73, 1102, 65, 612, 256, 271, 718, 1102, 357, 116, 188, 158, 519], [42], [25, 1, 1158, 205, 2, 89, 202, 364, 960, 359, 124, 8, 357, 1024, 17, 733, 3, 512, 202, 461, 49, 1, 26, 3, 225, 186, 77, 152, 87, 1019, 633, 289, 7, 4, 146, 845, 633, 28, 95, 38, 37, 77, 416, 101, 204, 48, 290, 219, 95, 237, 235, 3, 56, 1, 201, 4, 398, 585, 24, 169, 239, 1, 12, 23, 83, 6, 1158, 179, 1, 436, 232, 85], [46, 266, 344], [102], [1, 242, 11, 1, 54, 429, 11, 297, 228, 5, 1, 34, 222], [135, 281, 216, 888, 623, 56, 38, 83, 888, 54, 5, 1, 54, 4, 87, 62, 225, 16, 3, 293, 22, 182, 69, 137, 153, 1, 252, 33, 1025, 84, 75, 401, 4], [1, 20, 462, 128, 50, 91, 67, 10, 2, 102], [3, 1, 789, 2, 102], [1026, 1179, 1180, 1270, 710, 392, 463, 490, 1384, 1027, 1179], [306], [45, 10, 1, 148, 27, 6, 4, 431], [3], [15, 40, 6, 46, 74, 1, 575, 237, 14, 2, 42, 109, 463, 31, 88, 1028, 1181, 92], [42, 1, 898, 4, 568, 252, 10, 79, 127, 13], [3, 1, 4, 596, 172, 1105, 178, 44, 36, 961, 44, 68, 887, 538, 961, 5, 156, 209, 730, 53, 220, 44, 2, 110, 156, 209, 63, 44, 35, 55, 4, 91, 62, 961, 3, 124, 321, 44, 6, 51, 85, 961, 480, 1182, 734, 54, 219, 480, 1, 961, 755, 169, 28, 54, 4, 437, 1, 200, 52, 6], [34, 1, 94, 118, 54, 4, 66, 633, 1385, 183, 186, 42], [31], [3], [3], [11], [634, 846, 660, 846, 1271, 281, 586, 281, 392, 358, 846, 490, 1183, 21, 19, 392, 117, 680, 634, 281, 1386, 1272, 710, 586, 660, 846, 65, 392, 1387, 962, 660, 846, 1273, 704, 1026], [3, 15], [613, 1179, 1270, 1106, 392, 1270, 490, 1272, 1179], [15, 109, 48], [22, 1, 4, 598, 579, 927, 944, 159, 963, 1, 1072, 250, 59, 17, 41, 103, 894, 899, 103, 379, 220, 1184], [723, 27, 431, 130, 173, 27, 65, 74, 1016, 18, 15, 109, 13, 42, 88, 2, 42, 463, 52], [3, 239], [94, 239, 15, 52, 692, 23, 15, 86, 25], [269], [5], [45, 1, 1185, 202, 35, 9, 136, 117, 111, 9, 614, 283, 21, 19, 2, 272, 9, 614, 28, 33, 59, 614, 4, 303, 964, 90, 63, 21, 19, 35, 104, 14, 22, 70, 754, 431, 147, 1, 8, 4, 431, 693, 526, 1160, 62, 58, 994], [103, 604, 2, 63, 73, 13], [3, 1186, 34, 7, 1, 34, 78, 27, 268, 203, 52, 1356, 314, 1029, 92, 65], [1, 703, 33, 79, 47, 12, 418, 334, 47, 237, 376], [85, 431, 1388, 65, 175, 45, 15, 478, 32, 97, 15, 684, 1002, 225, 472, 235, 33, 124, 63, 635, 472, 1030, 77, 320, 170, 166, 1371, 131, 1, 1495, 12, 80, 131, 309, 205, 516, 195, 798, 205, 12, 1031, 73, 1002, 236, 755, 55, 173, 305, 70, 423, 41, 90, 195, 1274, 65, 175, 324, 15, 667, 442, 157, 12, 239], [438, 1, 144, 767, 470, 605, 323, 576, 157, 65, 56, 13, 464, 1107, 6, 135, 231, 1, 763, 724, 12, 692, 114, 310, 1187, 123, 954, 3, 428, 4, 16, 1009, 396, 1105, 1108, 87, 464, 1389, 75, 22, 14, 302, 6, 25, 65, 106, 1188, 90, 550, 145, 41, 27, 1154, 703, 145, 90, 41, 309, 847, 892, 525, 897, 123, 8, 6, 3, 833, 766, 58, 798, 148, 441, 461, 526, 875, 333, 525, 33, 286, 100, 12, 95], [1, 70, 149, 878, 125, 1, 14, 272, 887, 184, 18, 125, 290, 761, 1155, 4, 110, 338, 14, 103, 23, 65], [228, 1, 476, 12, 635, 998, 119, 587, 350, 10, 402, 33, 453, 30, 25, 14, 10, 333, 1274, 24, 1006, 276, 1, 27], [260, 82, 293, 8, 499, 323, 34, 735, 458, 414, 565, 456, 73, 125, 309, 630, 630], [99, 73, 15, 414, 463, 73, 15, 309, 447, 46, 729, 2, 465, 463, 431, 1388, 35, 125, 1, 297, 1032, 228, 294, 26, 598, 579, 89, 224, 197, 284, 848, 398, 396], [929, 289, 344, 10, 103, 147, 431, 259, 1109, 646, 1275, 1110, 234, 875, 1, 276, 458, 23, 82, 14, 702, 896], [31], [23, 1, 1023, 431, 73, 463, 1158, 73, 246, 1033, 28, 83, 565, 55, 4, 198, 548, 309, 1, 1276, 103, 384, 52, 191], [15, 70, 1495, 344, 1, 504, 176, 275, 38, 37, 191, 8, 335, 894, 176, 477, 24, 1189, 3, 51, 515, 73, 335, 566], [29, 1], [518, 134, 5, 15, 5, 15, 5, 15, 5, 15, 5, 15, 5, 15, 5, 15, 5, 15, 5, 15, 5, 15, 5, 15, 5, 15, 5, 15, 5, 15, 5, 15, 5, 15, 5, 15, 5, 15, 7, 15, 15, 782, 490, 491, 62, 670, 1390, 709, 15], [3, 15, 31, 3, 43, 70, 3, 88, 203, 63, 895, 27, 88], [56, 177, 53, 8, 4, 445, 62], [161, 961, 125, 1, 36, 582, 286, 278, 291, 4, 93, 2, 141, 582, 123, 14, 85, 14, 125, 1], [31, 15], [45, 1, 1078, 266, 611, 255, 1034, 124, 96, 15, 612, 750, 416, 354, 788, 15, 93, 151, 41, 1, 17, 218, 756, 993, 23, 4, 1257, 8, 1078], [543, 685], [306], [25, 98, 14, 35, 431, 45, 98, 196, 4, 217, 431, 26, 131, 1012, 1020, 943, 4], [490, 962, 613, 961, 660, 846], [1, 248, 207, 519, 1035, 81, 70, 965, 636, 283, 94, 4, 319, 147, 368, 463, 24], [15, 202, 207, 109, 13, 436, 554, 109, 13, 384, 239, 27, 16, 3], [31], [5], [1, 45, 14, 1, 396, 392, 328, 647, 9, 70, 276, 22, 7, 1, 78, 45, 15, 174, 85], [5, 15, 431, 356, 8, 14, 6, 321, 373, 6, 20, 533, 38], [109, 748, 478, 32, 85, 2, 102, 20, 34, 54, 4, 14, 13, 431, 242, 101, 180, 522], [203, 23, 51, 65, 480, 269, 74, 203, 109, 49, 7, 85, 31, 125, 1, 26, 3, 468, 373, 1160, 141], [102], [103, 1, 2, 47], [25, 1, 187, 262, 109, 13, 2, 42, 32, 459, 228, 768, 1164, 399, 1391, 255, 1167, 2, 600, 414, 238, 179, 36, 15, 335, 105, 8, 80, 4, 262, 178, 1371, 24, 228, 654, 945, 272, 621, 4, 40, 413, 309, 751, 240, 12, 198, 335, 105, 182, 2, 42, 370, 84], [25, 1489, 401, 431, 1262, 1392, 104, 849, 575, 82, 104, 234, 143, 416, 173, 501, 143, 390, 82, 8, 1145, 104, 209, 104, 14, 82], [11, 57, 46, 175, 25, 42, 159], [850, 704], [29, 264, 383, 358, 16, 3, 185, 51, 321, 262, 268, 4], [2, 5, 11], [29], [1027, 1179, 392, 463, 613, 1277, 1278, 1273, 1272, 1190, 1023, 586, 1191, 1278, 1272, 1179, 1278, 586, 846, 65], [114, 150, 9], [3], [31], [27, 1, 214, 210, 7, 313, 70, 386], [18], [306, 704], [613, 1271, 1183, 710, 613, 392, 660, 463, 1278, 586, 1191, 660, 543, 1002, 997, 435, 14, 23, 463, 900, 52, 23], [31, 15, 52, 27, 168], [5, 125, 2, 18], [141], [152, 1], [431, 7, 351, 458, 1, 448, 1393, 325, 116, 1, 4, 1393, 204, 7, 38], [56, 25, 1, 80, 432, 371, 330, 203, 61, 242, 316, 615, 731, 686, 1, 447, 28, 198, 22, 876, 1, 596, 686, 1, 40, 966, 442, 65, 1111, 825, 76, 1146, 401, 2, 55, 73, 1171, 23, 1279, 1, 35, 782, 40, 1280, 95, 428, 133, 389, 54, 594, 146, 311, 10, 8, 32, 108, 9, 1105, 360, 222, 274, 1, 851, 500, 61, 1497, 41, 60, 195, 649, 967, 228, 748, 1281, 51, 9, 228, 86, 718, 610, 144, 69, 260, 228, 253, 121, 261, 495, 1, 477, 674, 1282, 539, 36, 552, 126, 1184, 469, 823, 686, 228, 5, 878, 228, 39, 195, 115, 311, 155, 653, 238, 622, 260, 4, 228, 39, 769, 410, 180, 343, 1282, 313, 315, 329, 723, 119, 332, 3, 169, 5, 1, 16, 852, 35, 16, 48], [1, 4, 14, 353, 100, 23, 9, 40, 217, 7, 1079, 321, 112, 19, 3, 123, 179, 351], [31, 15, 68, 52, 214, 502, 478, 27, 246, 191], [31, 78, 31, 76, 133, 269, 52, 15, 92, 48, 431, 152, 4, 168, 11], [9, 165, 103, 622, 170, 1, 4, 1, 808, 491, 1, 631, 853], [35, 554, 36, 217, 157, 68, 222, 35, 27], [102, 2, 221, 487, 346, 68, 5, 15, 1283, 757], [543, 685], [1180, 543, 1027, 613, 704, 543, 543, 613, 634, 463, 1180], [3], [3], [15, 104, 14, 4, 442, 16, 104, 14], [8, 704, 1191, 110, 7, 15, 92, 248, 202, 850, 27], [141], [2, 42, 102, 29, 614, 8, 481, 10, 315, 651, 143, 406, 231, 623, 327, 171], [55, 34, 92, 48, 15, 42, 88, 806, 268, 535, 661, 27], [3, 1, 13, 176, 292, 200, 52, 293], [31], [532], [12, 11, 74, 1, 220, 17, 148, 650, 190, 497, 1, 63, 101, 610, 79, 901, 431, 58, 220, 17, 322, 35, 1], [2, 3, 443, 130, 25, 51, 358, 443, 624, 961, 1, 656, 172, 260], [3, 16, 13, 327, 15, 207, 423], [27, 1, 214, 414, 1257, 107, 35, 207, 198, 35, 216, 50, 58, 1, 113, 492, 466, 498, 1, 492, 333, 14, 1, 798, 448, 83, 431, 1, 27, 65, 47, 752, 39, 114, 24, 273, 214, 25, 1359, 347, 1, 14], [31, 15], [11, 1002, 54, 4, 49, 167, 219, 156, 162, 77, 75, 431, 1, 109, 13, 5, 68], [37, 218, 219, 343, 431, 69, 180, 8, 4], [46, 225, 516, 3, 7, 66, 71, 9, 381, 238, 182, 108, 304, 616], [31, 15, 3, 68], [102], [25, 346, 736, 342, 356, 436, 47, 544, 32, 73, 897, 466, 73, 28, 168, 276, 756, 993, 968, 157, 68], [7, 115, 96], [103, 349, 10, 60, 476, 452, 77], [160, 1112, 56, 47, 659, 1, 944, 303, 2], [152, 1, 16, 160, 1, 5, 737, 52, 736, 270, 11, 86, 530, 417, 43, 18, 1069, 104], [306], [102], [11, 1, 54, 883, 4, 62, 20, 86, 16, 115, 154, 312, 108, 145, 244, 568, 92], [31, 76, 52], [], [3, 177], [578, 228, 356, 47], [3], [3, 76, 15, 70, 52], [11, 11, 1], [11, 362, 180, 562, 7, 1156], [29, 1, 4], [134, 1, 225, 16], [42, 248, 46], [287, 100, 46, 165, 7, 64], [1276, 3], [494, 176, 826, 27, 89, 106, 501], [4, 257, 214, 166, 332, 2, 18, 1148, 171, 1284, 12, 692, 348, 82], [627], [1281, 67, 1, 176, 566, 93, 59, 13, 123, 273, 83, 67, 149, 578, 34, 166, 219, 37, 58, 149, 25, 181, 19, 55, 145, 40, 1145, 40, 409, 1113, 314, 5, 1, 16, 11], [], [31], [3], [176, 515, 225, 309], [11, 676, 1394, 29, 1], [5], [78, 82, 8, 89, 33, 450, 176, 161, 33, 4, 598, 579, 73, 168], [3, 318], [3, 113, 111, 159, 232], [16, 3, 91], [3], [306], [3, 593, 12, 23, 98, 1, 160, 1394, 329, 224, 488, 35, 125, 1, 647, 160, 770, 340, 396, 23, 902, 796, 24, 711, 179, 265, 903, 463], [3], [7, 173, 22, 55, 140, 36, 12, 140, 36, 36], [69, 148, 149, 20, 425, 481, 100, 189, 354, 181, 19, 189, 1, 69, 123, 1285, 1], [3, 1, 14, 2, 5], [7, 173, 22, 55, 140, 36, 12, 140, 36, 36], [252, 869, 195, 1153, 1177, 358, 752, 827, 53, 16, 287, 881, 1], [685], [160], [25, 82, 84, 75, 72, 519, 74, 2, 202, 179, 13, 656, 231, 721], [5, 52], [1, 2, 419, 103, 873, 1, 2, 3], [23, 364, 58, 23, 660, 160, 1394, 1114], [11, 1395, 28, 378, 172, 28, 182, 206, 7, 927], [459, 9, 356, 48, 149, 33, 552, 37, 289], [850, 704], [52], [445], [1286, 78], [1190], [2, 18, 25, 98, 736, 11], [25, 318, 171, 11], [850], [31], [306], [306], [3, 16, 695, 71, 26], [29, 1, 2, 18, 106, 8, 176, 247, 20, 87, 149, 123, 149, 361, 3, 86], [31, 15], [306, 704], [29], [365], [31], [31, 49, 879, 43], [3], [11], [306, 704], [29, 2, 141], [11], [3, 1002, 747, 252, 16, 23, 98, 137, 120, 681, 46], [3], [141], [289, 181, 19, 1, 149, 1, 203, 1287, 1, 845, 219, 37], [3], [187, 149, 289, 1072, 137, 37, 7, 927, 137, 14, 1115, 61, 1483, 241, 4, 343, 149, 67, 39, 10, 225, 400, 302, 61, 143, 4, 55, 114, 458, 617], [23, 1167, 33, 73, 1354, 185, 12, 412, 325, 694, 187, 317, 94, 147, 534, 58, 189, 322, 18, 3, 873, 8, 33, 12, 415, 219, 38, 330, 21, 1396, 12, 712, 21, 19], [27, 1, 630, 771, 6, 46, 62, 1, 53, 323, 239, 1397, 62, 133, 269, 165, 229, 3, 154, 617, 13, 4], [1, 578, 2, 32, 107, 38, 969, 969, 228, 703, 2, 465, 354, 1, 105, 313, 55, 8, 525], [804, 1, 939, 25, 4, 537, 1257, 55, 8, 1166, 21, 19, 748, 51, 28, 4, 156, 22, 51, 220, 956, 2, 176, 30, 849, 1036, 376, 7, 190, 237, 1288], [50, 69, 195, 203, 210, 288, 768], [7, 1, 339, 69], [31], [56, 28, 107, 58, 87, 619, 316, 1, 145, 90, 65, 136, 466, 695, 90, 1, 146, 448, 37, 28, 138, 181, 19, 139, 542, 1, 6, 59, 48, 542, 471, 141, 11, 362, 733, 9, 118, 491, 186, 854, 26, 29, 101, 250, 288, 733, 354, 10, 60, 103, 354, 29, 1, 16, 42, 22, 1, 57, 46, 713, 225, 16], [18, 287, 16, 62, 43, 12, 52, 245, 28, 8, 5, 1, 595, 16], [40, 214, 153, 1, 136, 8, 212, 160, 1, 5, 90, 516, 108, 769, 4, 17, 37, 114, 297, 90, 849, 58, 539, 747, 365, 11], [438, 1, 144, 1398, 420, 50, 1, 17, 286, 13, 149, 3, 354, 445], [1, 152, 1013, 51, 200, 210, 447, 1, 12, 225, 309, 1, 852, 489, 96, 43, 5, 55, 195, 1092, 186, 854, 36, 1, 29, 126, 131, 320, 154, 224, 1, 17, 66, 658, 148, 1, 10, 81, 30, 10, 159, 593, 124, 10, 473, 133, 87, 575, 37, 139, 453, 30, 436, 1399, 428, 49, 184, 337, 1029, 1498, 1, 196, 382, 20, 548, 149, 224, 614, 181, 149, 19, 12, 3], [134, 229, 837, 214, 1, 244, 108, 489, 261, 26, 2, 57, 225, 186, 88, 302, 876, 591, 1, 417], [3, 1, 11], [95, 37, 112, 1013, 391, 29, 1289, 72], [70, 110, 10, 239], [26, 3, 304], [5, 1, 182, 203, 28, 1290, 20, 12, 52, 245, 727], [5, 1, 198, 211, 211, 430, 255, 464, 1, 16], [103, 258, 1, 111, 56, 13, 396, 9, 1116], [134, 1, 48, 57, 118, 1377, 7, 559, 1, 601, 339], [1, 22, 3, 16, 372, 552, 809, 103, 51, 1, 758, 142, 363, 159, 216, 368, 363, 901, 1291, 66, 36, 1292, 20, 618, 970], [30, 10, 173, 77, 173, 17, 42, 971, 289, 216, 21, 19], [3], [3, 575, 92], [3, 1], [1, 141, 69], [10, 60, 524, 176, 1, 1248, 9, 39, 800, 316, 74, 194, 119, 235, 36, 119, 94, 1022, 1037, 608, 444, 410], [319, 221, 316, 145, 21], [23, 1, 40, 1, 111, 102, 963, 1, 402, 63, 53, 12, 66, 135, 66, 938, 290, 9, 58, 835, 111, 36, 66, 396, 9, 703, 33, 22, 714, 200, 798], [53, 8, 99, 74, 1, 972, 58], [148, 1, 160, 98, 105, 130, 27, 4, 1, 234, 624, 950, 144, 476, 43, 261, 26, 136, 294, 349], [66, 280, 89, 213, 14, 177, 1099, 280, 130, 279, 123, 1, 233, 57, 343, 225, 16, 257, 134, 682, 255, 101, 581, 3, 43, 1, 1107, 160, 173, 200, 210, 177, 69, 33, 57, 682], [], [3, 1, 127, 10, 60, 360, 224, 43, 388, 1, 391, 5, 1], [25, 1, 105, 277, 521, 82, 845, 162, 1192, 402, 107, 36], [141], [1, 1112], [347, 15, 11, 1, 29, 108, 9, 341, 10, 60, 4, 618, 41, 32, 345, 216, 676, 1, 1400, 511, 104, 1, 8, 424, 517, 6, 844, 1, 331, 115, 526, 1105, 97, 174, 275, 119, 1293, 271, 35, 21, 295, 181, 355, 14, 391, 347, 1, 27, 160, 1, 661], [2, 18], [3, 1, 16], [1, 786, 46, 239, 229, 100], [5, 1, 3, 127, 79, 10, 60, 311, 9, 118, 227, 760, 283, 651, 1, 585, 223, 131, 1, 131, 585, 276, 283, 63, 651, 53, 333, 80, 285, 47], [1, 47, 24, 7, 311, 9, 196, 43, 53, 526, 1, 475, 72], [465, 168, 49, 179, 12, 23], [9, 356, 312, 33, 142], [11, 26, 5, 10, 57, 1], [3, 16, 43], [1, 276, 121, 225, 656, 621, 201], [403, 5, 1, 494, 25, 40, 181, 19, 112, 8, 219, 87, 37, 7, 1255, 113, 58, 317, 855, 34, 456, 219, 308, 37, 28, 34, 11, 1, 516, 108, 662, 44, 227, 167, 2, 122, 3, 12, 520, 8, 357, 183, 1, 26, 122, 3, 856, 1117, 670, 578, 296, 261, 26, 3, 1401, 26, 59, 122, 3, 738, 6, 134, 62, 1, 10, 38, 32, 225, 4, 600, 66, 300, 365, 87, 4, 12, 361, 5, 1, 484, 28, 425, 7, 12, 8, 57, 6, 370, 298, 57, 62], [331, 1, 226, 84, 959, 376, 50, 829, 28, 41, 143, 140, 45, 206, 10, 60, 53, 3, 88, 59, 127, 13, 30, 10, 274, 30, 930, 32, 9, 924, 54, 9, 381, 510, 1193, 1402, 71, 53, 146, 663, 644, 36, 510, 1193, 71, 469, 810, 1, 350, 644, 122, 349, 43, 803, 1403, 452, 1383, 13, 79, 13, 159, 13, 629, 1, 1, 629, 221, 333, 476, 1, 12, 8, 1087, 637, 151, 629, 1, 237, 59, 295, 181, 836, 71, 398, 772, 107, 67, 8, 493, 1, 79, 83, 84, 1025, 47, 209, 1294, 62, 1, 221, 1, 767, 428, 574, 4, 1, 52, 28, 551, 43, 437], [8, 1, 13, 56, 10, 243, 36, 40, 83, 1, 35, 395, 100], [306], [3], [1283, 58, 706, 932, 565, 463, 45, 249, 586, 1106, 846, 710, 962, 392, 1278, 286], [86, 16], [645, 202, 1395, 750, 327, 32, 554], [], [147, 290, 336, 331, 643, 65, 3, 4, 15, 453, 30, 1, 24, 219, 5, 317, 152, 285, 84, 459, 10, 274, 30, 101, 6, 15, 924, 73, 897, 517, 489, 1194, 1288, 993, 23, 15], [852, 1, 5, 330, 21, 5, 62, 130, 537, 832, 97, 1, 105, 9, 605, 244, 1293, 728, 950, 34, 28, 7, 1, 23, 1, 457, 241, 595, 182, 57, 213, 40, 299], [2, 18, 55, 1107, 145, 62, 105, 4, 244, 505, 356, 748, 142, 769, 250, 13, 38, 638, 17, 166, 312, 244, 605, 536, 1005, 146, 33, 312, 204, 333, 122, 143, 250, 55, 333, 443, 226, 98, 84, 459, 101, 80, 9, 1, 103, 1, 882, 667, 722], [209, 4, 284, 23, 82], [1, 134, 662, 194, 269, 9, 489, 196, 261, 495, 26, 59, 347, 251, 331, 74, 431, 44, 61, 1, 229, 2, 787, 18, 287, 98, 1250, 299, 160, 157], [628, 11, 335, 904, 8, 107, 4], [86, 1, 144, 331], [286, 94, 360, 9, 2, 3, 1], [538, 349, 810, 1, 36, 1091, 68, 98, 47, 27, 9, 107, 1404, 402, 30, 540, 1038, 206, 157, 68, 395, 13, 1274, 1287, 1161, 12, 687, 948, 305, 892, 722, 1086, 525, 892, 33, 124, 941, 1, 262, 349, 213, 287, 516, 353, 23, 104], [11, 1, 221, 487, 150, 10, 60, 30, 1405, 302, 581, 160, 1, 160, 1195, 55, 223, 308, 190, 30, 98, 32, 1, 2, 5, 33, 26, 323], [31], [29, 1, 384, 1196], [3, 72], [65, 243, 80, 87, 57, 259, 150, 552, 1104, 57, 33, 66, 77, 56, 1, 45, 141, 100, 1262, 36, 150, 113, 580, 388, 353, 100], [86, 1, 185, 417, 204, 103, 58, 1, 666, 69, 299], [5, 1, 33, 57, 16], [1, 70, 13, 8, 36, 2, 94, 411, 588, 497, 1007, 1295, 1, 37, 570, 110, 592, 74, 1296, 1, 446], [341, 15, 86, 29, 9, 118, 320, 485, 97, 82, 474, 278, 13, 32, 39, 80, 21, 19, 246, 278, 13, 82, 535, 244, 21, 1037, 6, 98, 79, 208, 1189, 160, 265, 502, 144, 4, 343, 258, 82, 262, 68], [86, 185, 839, 25, 1, 688, 42, 1478, 382, 9, 361, 204, 51, 656, 422, 694, 10, 60, 171, 366, 98, 105, 41, 143, 141, 155, 688, 1197, 1, 422, 130, 139, 827, 225, 210, 82, 200, 158, 95, 1, 1197, 139, 42, 534, 1039, 422, 983, 821, 421, 308, 7, 973, 461, 139, 422, 279, 97, 1350, 253, 302, 279, 10, 1064, 10, 10, 60, 531, 9, 969, 421, 108, 10, 60, 178, 946, 1480, 1, 4, 1, 50, 308, 534, 369, 10, 197, 535, 1399, 531, 97, 688, 766, 241, 348, 174, 531, 279, 471, 378, 9, 160, 135, 57, 39, 489, 9, 33, 77, 551, 16, 591, 551, 43, 213, 166, 769, 360, 119, 126, 195, 71, 66, 1, 213, 13, 391, 365, 572, 1406, 119, 49, 103, 51, 238, 82, 72, 165, 9, 1109, 279, 247, 367, 1175, 302, 279, 39, 514, 165, 9, 473, 429, 165, 283, 666, 67, 747, 581, 9, 630, 30, 165, 258], [458, 335, 98, 105, 346, 32, 135, 8, 1, 85, 287, 1, 602, 954, 33, 659, 16, 3, 1, 490, 8, 295, 21, 1, 428, 831, 1, 20, 295, 21, 39, 1246, 114, 695, 1090, 5, 9, 489, 296, 294, 26, 55, 426, 1071, 1297, 26, 294, 1081, 968, 33, 114, 222, 386, 948, 82, 39, 388, 335, 664, 189, 287, 100], [], [27, 1, 672, 105, 459, 544, 95, 1, 292, 637, 110, 1, 130, 103, 95, 53, 992, 157, 68, 240, 22, 7, 594, 1, 63, 95, 24, 106, 1188, 103, 90, 92, 160, 56], [31, 153, 1, 11, 104, 28, 160, 958, 565, 463, 222, 205, 1298, 424, 974, 503, 565, 222, 205], [34, 475, 1, 244, 499, 1299, 196, 3, 468, 120, 18, 69, 24, 194, 242, 138, 1, 952, 1168, 1407, 304, 12, 8, 4, 330, 21, 547, 1, 2, 332, 205, 417, 23, 771, 526, 180, 151, 143, 12, 5, 20, 138, 112, 19, 435, 773, 129, 108, 9, 347, 129, 4, 398, 120, 988, 256, 739, 152, 390, 166, 96, 738, 87, 197, 219, 174, 26, 37, 225, 186, 251, 1236, 195, 1, 26, 11, 70, 71, 9, 381, 1, 662, 184, 312, 28, 3, 61, 256, 925, 1, 663, 1198, 160], [1, 390, 287, 1016, 541, 569, 491, 160, 254, 822, 278, 189, 709, 16, 372, 74, 2, 46, 500, 61, 258, 122, 518, 1251, 785, 26, 341, 5, 229, 341, 5, 304, 9, 122, 345, 33, 531, 468], [27, 177, 214, 11, 125, 1, 2, 5], [5, 1, 216, 6, 142, 56, 6, 6, 236, 3, 10, 79, 659, 32, 56, 6], [148, 5, 1, 1040, 356, 63, 80, 9, 1167, 33, 66, 39, 220, 1300, 103, 200, 337, 156, 1, 220, 41, 143, 615, 450, 391, 652, 493, 23, 457, 8, 71, 338, 1408, 644], [141], [126, 269, 1100, 210, 1, 7, 64, 280], [549, 78, 1, 56, 258, 153, 1, 54, 275, 96, 3, 43], [40, 523, 960, 21, 5, 9, 362, 5, 22, 126, 16, 12, 52, 1, 245, 723, 63, 279, 11, 235, 540, 173, 4, 132, 585, 1409, 891, 60, 223, 97, 2, 5, 1, 70, 71, 9, 381, 29, 811, 344, 1, 80, 44, 63, 174, 1, 101, 94, 6, 60, 223, 56, 6, 41, 126, 568, 154, 218, 38, 44, 334, 960, 464, 22, 1, 34, 323, 44, 9, 378, 53, 1, 986, 163, 430, 54, 4, 6, 155, 1041, 93, 422, 253, 512, 759, 1, 350, 1070, 279, 57, 58, 426, 589, 44, 58, 486, 607, 61, 1, 601], [176, 10, 1410, 30, 504, 959, 26, 580, 87, 167, 418, 93, 156, 1411, 203, 3, 1], [7], [11, 1, 2, 42, 20, 22, 5, 20, 556, 1, 71, 71, 25, 3], [107, 5, 163, 748, 763, 351, 672, 702, 27, 60, 1118, 229, 18, 296, 26, 555, 48, 1412, 671, 285, 47, 23, 1, 303, 2, 241, 101, 569, 208, 48, 617, 262, 361, 455, 122, 631, 469, 1, 1236, 370, 30, 689, 186, 53, 111, 676, 283, 241, 8, 1, 1248, 250, 375, 268, 24, 465, 10, 376, 237, 130, 456, 307, 10, 148], [11, 1, 4, 564, 1025, 47, 7, 74, 250, 66, 54, 4, 214, 123, 650, 23, 332, 71], [1, 47, 11, 123, 569, 272, 51, 96, 43, 134, 1301, 29, 317, 382, 289, 4, 256, 905, 12, 52, 4, 174, 6, 6, 254, 905, 486, 4, 64, 163, 279, 791, 6, 134, 57, 240, 4, 319, 128, 68, 23, 1, 18, 99, 198, 1153, 164, 84, 14, 164, 213, 837, 39, 28, 341, 177, 160, 60, 1118, 42, 610, 539, 14, 1083, 341, 154, 1, 739, 151, 298, 623, 1, 12, 487, 63, 8, 298, 1042, 116, 90, 6, 131, 2, 123, 71, 505, 18, 804, 241, 33, 348, 53, 320, 24, 17, 43, 250, 7], [3, 1], [11, 1, 7, 44, 61, 103, 51, 10, 376, 49, 48, 287, 100], [152, 1, 59, 5, 96, 61, 358, 2, 5, 22, 126, 5, 152, 160, 15, 24, 72, 47, 149, 112, 187, 53, 112, 149, 3, 10, 561, 930, 32, 1043, 52, 245, 48, 57, 75, 64], [524, 1, 1199, 346, 1, 564, 47, 932, 605, 650, 13, 467, 1, 65, 90, 101, 86, 1, 751, 1096, 160, 1118, 1, 27, 6, 79, 1, 3, 5, 1, 349, 10, 60, 780, 26, 1, 932, 316, 481, 699, 154, 218, 8, 782, 1, 115, 645, 1285, 311, 118, 41, 54, 260, 145, 250, 24, 564, 63, 260, 764, 115, 1119, 1200, 9, 1, 24, 504, 662, 186, 41, 561, 298, 312, 54, 791, 419, 1413, 26, 791, 26, 509, 221, 25, 1, 294, 36, 294, 261, 1, 294, 36, 1, 677, 186, 77, 41, 159, 251, 93, 1302, 618, 1044, 1490, 251, 1, 514, 3, 43, 1, 148, 33, 906, 290, 670, 421, 41, 159, 37, 219, 139, 133, 72, 400, 142, 13, 105, 6, 13, 33, 523, 71, 834, 217, 67, 490, 124, 12, 200, 52, 1, 203, 51, 503, 26, 6, 67, 1, 226, 372, 458, 150, 26, 118, 36, 1, 426, 41, 286, 1, 165, 1120, 291, 1006, 8, 1012, 133, 39, 8, 217, 434, 71, 160, 104, 1, 46, 226, 71, 160, 1011, 6, 66, 71, 1, 124, 115, 469, 6, 71, 687, 72, 204, 338, 26, 1010, 24, 1303, 527, 457, 71, 67, 240, 24, 157, 71, 115, 155, 1, 422, 311, 247, 1121, 94, 75, 275, 352, 53, 139, 999, 158, 7, 52, 219, 37, 223, 191, 139, 886, 352, 1, 2, 102, 804, 1414, 683, 1, 86, 160, 1, 25, 57, 26, 5, 118, 408, 12, 52, 64, 432, 44, 394, 16, 55, 198, 511, 104, 1, 198, 16, 1, 2, 18, 57], [25, 647, 6, 396, 6, 263, 109, 620, 38, 70, 188, 293, 62, 415, 11, 1, 39, 4, 1, 319, 128, 599, 21, 19, 4, 991, 39, 3, 265, 38, 72, 80, 892, 40, 263, 1, 261, 26, 276, 107, 224, 120, 223, 32, 179, 104, 14, 1, 479, 1018, 140, 36, 808, 87, 265, 175, 211, 1, 134, 66, 181, 19, 355, 947, 1415, 27, 354, 112, 112, 542, 8, 24, 233, 24, 461, 1416, 975], [86, 1, 144, 414, 374, 101, 71, 376], [1287, 46, 78, 666, 99, 1, 1122, 12, 455, 44, 988, 13, 277], [5, 1, 394, 100], [31], [34, 3, 530], [114, 214], [5, 1, 3, 9, 118, 29, 64, 279, 104], [134, 837, 330, 21, 1, 9, 1241, 196, 1479, 244, 33, 124, 421, 512, 52, 67, 202, 90], [72, 11, 2, 5, 847, 149, 37, 213, 5, 23, 5, 16], [26, 377, 3, 614, 33, 96, 116, 139, 176, 998, 37, 161, 372, 103, 8, 198], [141, 1304, 89, 357], [3, 1, 79, 3, 87, 317, 98, 51, 218, 1, 376, 453, 30, 24, 30, 56, 334, 32, 218, 376, 30, 107, 1201, 365, 216, 8, 57, 81, 1, 81, 66, 1, 385, 102, 1, 857, 1351, 522, 1015, 138, 353, 1364], [826, 1146, 64, 163, 1197, 59, 157, 7, 169, 5, 1, 163, 44, 227, 1028, 229, 28, 353, 100, 53, 28, 120, 410, 686, 82, 1], [996, 63, 160, 1305, 22, 595, 35, 1, 316, 38, 1305, 203, 1, 650, 100, 686, 218, 58, 690, 200, 925, 1417, 607, 61, 1, 136, 1, 415, 287, 314, 995, 8, 478, 32, 179, 3, 530, 194, 1, 298, 16, 7, 6, 227, 6, 227, 340, 345, 1102, 368, 298, 3, 16, 1, 86, 686, 16, 686, 1, 782, 339, 499, 1045, 9, 49, 229, 996, 1070, 3, 639, 698, 5, 551, 43, 126, 5, 149, 187, 1123, 22, 34, 29, 66, 71, 344, 500, 61, 171, 486, 104, 511, 656, 158, 12, 46, 447, 471, 855, 804, 504, 323, 113, 791, 766, 160], [11, 1, 5, 43, 24, 842, 26, 119, 54, 858, 20, 174, 291], [152, 1, 362, 481, 311, 9, 435, 37, 314, 49, 223, 36, 197, 1306, 18, 45, 318, 80, 1115, 64, 216, 160, 1], [1, 229, 1349, 435, 13, 308, 133, 435, 13, 89, 1269, 357, 1070, 44, 357, 308, 229, 3, 51, 687, 57, 606, 155, 10, 60, 86, 114, 160, 200, 244, 468, 108, 357, 208, 359, 26, 1418, 151, 780, 16, 591, 1, 421, 208, 1114, 197, 711, 245, 551, 1, 36, 328, 29, 400, 126, 469, 1234, 261, 1408, 644, 211, 639, 698, 49, 8, 653, 709, 151, 145, 56, 77, 8, 145, 94, 39, 1, 236, 311, 311, 155, 2, 233, 28, 38, 616, 1, 123, 609, 48], [5, 1, 16, 54, 4, 38, 125, 249], [91, 57, 10, 275, 190, 18, 89, 2, 89, 94, 322, 387, 6, 150, 726, 116, 311], [1, 107, 3, 11, 62, 47, 640, 111, 216, 160, 1, 27, 79, 395, 100], [204, 3, 51, 1, 116, 158, 58, 108, 24, 348, 48, 1, 77, 1195, 62, 33, 64, 99, 39, 158, 58, 108, 448, 338, 71, 7, 44, 227, 72, 378, 145, 223, 308, 129, 197, 74, 57, 116, 9, 6, 13, 57, 26, 39, 134, 294, 29, 1117, 34, 1117, 1, 26, 1195, 62, 1302, 169, 5, 1, 947, 20, 254, 1, 223, 298, 1195, 62, 1, 18, 287, 625, 10, 60, 1000, 18, 7, 1, 10, 353, 111, 1307, 37, 161, 13, 403, 673, 49, 211, 1308, 56, 8, 14, 1, 28, 218, 673, 151, 30, 36, 114, 72, 57, 10, 60, 39, 898, 218, 673, 33, 372, 402, 114, 10, 87, 292, 60, 188, 158, 30, 397, 297, 478, 51, 99, 10, 738, 39, 23, 1, 41, 143, 14, 4, 267, 6, 69, 18, 116, 3, 73, 897, 39, 324, 1090, 387], [272, 812, 6, 321, 118, 766, 120, 1, 5, 387, 907, 150, 29, 22, 1, 40, 87, 1036, 1073], [4, 160, 1118, 226, 47, 153, 1, 4, 153, 1, 618, 166, 726, 1, 504, 445, 956, 13, 139, 959, 512, 10, 60, 341, 33, 200, 574, 4, 1, 66, 1046, 300, 9, 133, 80, 905, 58, 300, 9, 103, 844, 26, 31, 1, 639, 813, 524, 390, 6, 844, 61, 1, 331, 370, 130, 27, 1, 52, 160, 1, 998, 158, 159, 160, 1, 27, 3, 213, 265, 129], [1398, 45, 463, 208, 497, 70, 42, 88, 754, 147, 81, 10, 292, 13, 4, 2, 110, 24, 252, 1, 493, 45, 42, 733, 708, 6, 101], [1190], [306], [], [226, 631, 10, 415, 60], [31], [11, 1, 16, 236, 195, 46, 294, 26, 2, 428, 18, 33, 225, 186, 5, 16, 357, 197, 43, 236, 3, 116, 1144, 421, 49, 2, 101, 1, 176, 513, 566, 335, 216, 247, 228, 523, 28, 441, 50, 467, 256, 139, 59, 194, 33, 123, 4, 256, 739, 13, 476, 37, 580, 221, 37, 6, 98, 174, 6, 256, 739, 1047, 580, 9, 422, 498, 269, 124, 1, 692, 101, 165, 1119, 13, 210, 1, 1419, 674, 580, 187, 317, 122, 225, 289, 1482, 37, 1420, 355, 548, 315, 420, 4, 373, 641, 842, 180, 641, 152, 10, 60, 780, 101, 272, 1041, 983, 330, 740, 353, 10, 161, 147, 138, 21, 19, 107, 94, 132, 256, 451, 425, 190, 545, 845, 785, 4, 363, 467, 59, 127, 435, 101, 467, 1003, 1, 288, 480, 557, 5, 82, 82, 82, 784, 238, 295, 181, 19, 674, 87, 973, 8, 3, 49, 200, 43, 181, 19, 41, 285, 973, 503, 10, 60], [3], [1, 30, 226, 190, 53, 111, 56, 13, 63, 104, 1154, 86, 43, 654, 304, 204, 55, 648, 101, 1202, 208, 463], [543, 685, 306], [850], [318, 214, 11, 160, 1], [31], [70, 163, 72, 1, 213, 302, 9, 499, 5, 85, 1, 1194, 489, 22, 12, 34, 52, 160, 770], [31], [42], [5, 16], [31], [306], [112, 105, 58, 34, 11, 74, 1, 139, 1048, 707, 540, 427, 215, 801, 540, 166, 190, 330, 21, 1, 20, 690, 108, 21, 19, 715, 23, 48, 581, 38, 1048, 1421, 238, 732, 10, 60, 696, 1491, 41, 32, 715, 23, 216, 871, 10, 94, 411, 212, 8, 98, 216, 93, 418, 220, 908, 18, 93, 1049, 859, 38, 291, 291, 499, 185, 59, 748, 216, 701, 1031, 175, 1, 16, 456, 423, 48, 12, 213, 23, 233, 189, 447, 160, 1, 661], [25, 1, 11, 48, 46], [1, 2, 428, 56, 176, 12, 2, 107, 199, 199, 13, 75, 506, 212, 516, 1, 6, 140, 36, 8, 516, 33, 84, 75], [11, 1, 671, 505, 359, 991, 8, 3, 68, 1, 5, 12, 52], [27, 6, 86, 541, 82, 27, 1, 2, 5, 435, 133, 22, 1, 5, 118, 11, 1], [3], [5], [11, 1, 10, 538, 946, 33, 190, 459, 110, 33, 165, 10, 376, 1251, 630, 1, 5], [11], [26, 43, 134, 11], [31, 3], [52], [11, 1], [160, 1, 12, 46, 1, 907, 47, 1, 3, 677, 43, 320, 131, 29, 197, 223, 36, 665, 224, 59, 741, 43, 251, 709, 104, 1, 3, 1029, 1, 595, 16, 11, 72], [86, 1, 257], [145, 90, 316, 59, 27, 160, 1, 826, 257, 32, 6, 760, 72, 924, 696, 10, 60, 150, 343, 10, 60, 95, 90, 47, 169, 1, 62], [3], [72, 34, 7, 1, 305, 257], [152], [86, 1, 1305, 331, 2, 5], [4, 1, 47, 2, 5], [5], [86, 1, 257], [306], [42], [7, 87, 4, 47, 107, 126, 176, 61, 358, 332, 365, 4, 114, 797, 150, 67, 9, 860, 1020, 301, 79, 47, 1291, 860, 70, 36, 32, 277, 414, 205, 892, 262, 80, 2, 102, 368, 68], [1, 3, 234, 24], [341, 1, 4, 56, 45, 1, 790, 116, 254, 9, 381, 289, 988, 196, 71, 29, 344, 344, 377, 41, 968, 131, 43, 1, 36, 131, 180, 201, 457, 121, 111, 151, 53, 103, 43, 121, 261, 131, 1, 17, 39, 538, 55, 621, 201, 245, 1, 235, 151, 92, 485, 1498, 119, 1, 17, 26, 389, 305, 96, 43, 3, 1, 10, 659, 1163, 144, 130, 40, 1, 10, 139, 49, 103, 648, 44, 10, 30, 946, 226, 668, 814, 1186, 33, 4, 1, 476, 190, 1031, 38, 32, 110, 1, 81, 20, 1, 210, 32, 143, 365, 10, 376, 133, 4, 1, 476, 302, 1, 1149, 648, 218, 128, 183, 67, 56, 45, 1, 63, 4, 12, 66, 38, 476, 156, 232, 183, 232, 473, 541, 68, 87, 142, 17, 50, 206, 956, 178, 1, 12, 476, 58, 909, 17, 33, 124, 21, 19, 1176, 273, 74, 102, 1422, 369, 178, 1195, 183, 77, 238, 77, 183, 33, 124, 35, 1, 77, 849, 6, 97, 633, 183, 541, 68, 156, 2, 102, 1, 47, 397, 254, 20, 174, 1, 564, 32, 165, 9, 725, 107, 838, 165, 6, 37, 161, 237, 174, 6, 33, 648, 63, 140, 50, 206, 6, 165, 768, 12, 1124, 994, 725, 768, 33, 50, 706, 110, 4, 50, 39, 30, 521, 128, 1, 397, 190, 128, 1, 190, 110, 1, 81, 58, 30, 1100, 1, 1236, 601, 70, 169, 148, 1, 10, 121, 43, 165, 9, 67, 12, 457, 186, 1, 242, 7, 108, 9], [12, 435, 37, 12, 615, 132, 598, 579, 10, 12, 79, 659, 32, 12, 52], [42], [351, 627, 23, 1125, 204, 375, 58], [1, 47, 67, 323, 116, 103, 90, 27, 87, 1390, 1, 86, 90, 666, 135, 36, 23, 83, 6, 342, 741, 9, 5, 129], [16, 5, 1, 29, 108, 244, 87, 258, 89, 357, 1, 99, 1390, 1403, 10, 93, 696, 414, 26, 233, 1309, 552, 394, 1117, 182, 197, 113, 38, 1297, 7, 467, 1297, 197, 39, 53, 738, 26, 332, 55, 38, 971, 15, 738, 1020, 829, 389, 24, 1310, 582, 225, 186, 593, 253, 439, 37, 564, 105, 69, 512, 450, 37, 38, 36, 300, 9, 419, 365, 1, 419, 20, 182, 7, 136, 258, 34, 695, 51, 55, 58, 169, 175, 1, 394, 16, 66, 9, 381, 861, 1304, 338, 71, 36, 1035, 283, 30, 3, 51, 35, 4, 359, 742, 4, 153, 128, 742, 2, 3], [601, 7, 676, 770, 74, 20, 221, 16, 302, 511, 104, 1], [72, 1, 5, 294, 26, 59, 31, 251, 741, 244, 196, 269, 9, 3, 39, 512, 37, 74, 139, 1423, 422, 10, 60, 3, 12, 52, 1, 258, 774, 5, 1], [1, 640, 24, 30, 392, 36, 392, 1, 8, 527, 39, 77, 661, 34], [98, 47, 130, 1, 254, 923, 24, 201, 171, 128, 17, 638, 201, 838, 1, 235, 197, 66, 41, 197, 223, 36, 121, 325, 175, 222, 40, 1, 254, 449], [4, 1, 47, 7, 1, 9, 118, 5, 74, 93, 2, 18, 79, 218, 9, 381, 338, 147, 2, 5, 183], [72, 3, 68, 195, 910, 107, 78, 1097, 890, 1050, 77, 242, 101, 534, 794, 222, 467, 1050, 160, 38, 237, 170, 160, 770, 82, 93, 18, 24, 125, 68, 1033, 618, 493, 1311, 296, 493, 300, 775, 737, 7, 391, 58, 1, 62, 750, 530, 1, 9, 54, 145, 82, 54, 274, 654, 655, 26, 93, 3, 233, 195, 461, 136, 63, 1097, 36, 8, 258, 1, 6, 47, 108, 125, 1, 242, 17, 173, 45, 102, 398, 93, 2, 40, 199, 4, 398, 1393, 37, 256, 739, 775, 53, 28, 398, 776, 433, 141, 296, 238, 171, 1082, 294, 603, 4, 65, 776, 433, 39, 238, 429, 220, 111, 902, 4, 220, 1424, 7, 891, 1203, 477, 38, 411, 664, 189, 144, 829, 322], [1, 1112], [40, 676, 1, 7, 6, 57, 426, 616, 383, 62, 40, 21, 1312, 170, 21, 359, 138, 1, 7, 24, 132, 220, 178, 256, 223, 219, 319, 128, 156, 132, 37, 487, 556, 1050, 77, 474, 1, 314, 49, 89, 814, 1358, 1425], [225, 187, 149], [42], [850], [12, 106, 4, 1, 8, 167, 648, 144], [5, 15, 530, 26, 225, 468], [25, 14, 6], [11, 1, 691, 8, 1], [11], [34, 3, 1], [245, 347, 3, 577, 212, 4, 47, 204, 536, 415, 1241, 2, 42, 97, 126, 581, 51, 792, 1045, 9, 1408, 644, 421, 1029, 64, 94, 97, 309, 16, 64, 471, 498, 426, 1109, 53, 54, 4, 79, 6, 86, 51, 536, 74, 903, 147, 381, 344, 9, 381, 81, 197, 43, 121, 43, 498, 421, 264, 118], [86, 160, 1, 417], [438, 1, 144, 25, 123, 8, 3, 185, 3, 1, 130, 254, 23, 98, 160, 770, 1, 288, 403, 108, 1, 38, 474, 159, 963, 8, 50, 407, 38, 834, 220, 33, 648, 4, 1, 2, 389, 1031, 356, 75, 1, 4, 6, 6, 123, 23, 1, 160, 770, 1, 5, 313, 767, 6], [34, 7, 160, 770, 357, 54, 4, 64, 1, 419, 33, 7, 294, 26, 72, 159, 51, 28, 33, 502, 1204, 160, 1], [5, 1], [107, 763, 724, 369, 376, 521, 285, 346, 47], [86, 1, 549, 27, 549, 11], [5, 1, 899, 108], [388, 373], [12, 23, 29, 15, 134, 244], [1, 499, 7, 72], [305], [31, 13, 150], [141, 38, 59, 96, 1, 3, 468, 25, 160, 1, 666, 96, 66], [1043, 175, 1205, 70, 1206, 1426, 1, 645, 11, 118, 108, 115, 74, 38, 687, 305, 90, 108, 128, 66, 610, 24, 266, 1014, 743, 638, 210, 17, 129, 197, 665, 224, 33, 166, 589, 132, 811, 707, 344, 483, 284, 120, 106, 940, 15, 129, 773, 134, 39, 9, 468, 339, 39, 11, 115, 481, 66, 988, 298, 5, 15], [8, 68, 1], [11, 1], [974, 72, 1, 786, 159, 1412, 46, 367], [79, 10, 26, 5, 49, 1], [1, 368, 687, 788, 11], [3, 46], [99, 235, 131, 1119, 396, 63, 165, 735, 154, 349, 235, 654, 77, 63, 84, 240, 67, 159, 13, 63, 165, 1119, 131, 1362, 320, 131, 498, 473, 396, 93, 101, 250, 77, 240, 67, 123, 233, 38, 36, 193, 412, 6], [31], [2, 5, 404, 101, 269, 139, 37], [31], [5, 1, 5, 16], [31], [5, 1], [1, 2, 5, 95, 2], [5, 1, 49, 179], [134, 1, 394, 16, 11, 4, 209], [1, 5, 16, 10, 69, 1094, 20, 1051, 370, 802, 911, 32, 731, 2, 5, 39, 4, 256, 398, 120, 535, 477, 10, 67, 25, 1, 330, 21, 187, 164, 72, 148], [11, 1, 5, 16, 25, 6, 27, 83, 281, 3, 1, 532, 362, 45, 133], [85, 1, 553, 2, 89], [273, 319, 128, 599, 178, 427, 215, 6, 273, 319, 128, 140, 6, 36], [438, 1, 144, 454, 438], [3, 853, 1], [27, 214, 7, 832, 92], [345, 1, 207, 165, 9, 195, 13, 20, 912, 77, 324, 116, 169, 122, 690, 160, 61, 1], [42], [31, 1, 225, 16, 62], [1376, 7, 140, 36], [42], [3, 23, 73, 65, 63, 23, 742, 359, 21, 19, 368, 890, 942, 215, 45, 206, 942, 82, 939, 23, 83, 82], [18, 287, 100, 11, 1, 5, 379, 681, 20], [78, 15, 16, 179], [1, 597, 84, 53, 2, 7, 147, 86, 286, 296, 442, 89, 620, 1, 189, 310], [3, 43], [90, 160, 770, 329, 583, 329, 741, 98, 82, 97, 709, 74, 90, 329, 741, 374, 329, 741, 382, 57, 9, 297, 118, 21, 19, 355, 97, 126, 609, 9, 69, 195, 108, 4, 6, 155, 52, 329, 583, 337, 1, 49, 382, 308, 139, 61, 1197, 308, 7, 33, 426, 1410, 308, 139, 1423, 1103, 983, 821, 421, 354, 10, 60, 10, 3, 33, 302, 280, 1064, 10, 69, 1427, 4, 79, 127, 13, 510, 308, 10, 190, 220, 398, 625, 501, 1, 30, 1428, 232, 358, 1197, 1, 122, 48, 500, 61, 827, 334, 29, 481, 62, 1150, 194, 10, 30, 13, 1033, 37, 181, 120, 859, 500, 61, 130, 33, 405, 358, 976, 160, 173, 61, 226, 42, 1, 66, 452, 545, 55, 41, 57, 9, 9, 29, 985, 489, 122, 3, 824, 1144, 233, 93, 1401, 33, 225, 9, 18, 912, 913, 17, 43, 17, 43, 742, 183, 3, 1, 33, 208, 197, 17, 124, 21, 131, 131, 236, 320, 121, 2, 18, 914, 572, 344, 4, 842, 284, 131, 224, 366, 1207, 842, 131, 344, 34, 3, 121, 43, 33, 208, 352, 110, 45, 26, 59, 251, 1, 366, 677, 43, 236, 36, 26, 122, 103, 1309, 1301, 145, 460, 124, 20, 261, 26, 370, 906, 551, 43, 82, 405, 236, 18, 126, 212, 71, 423, 214, 48, 304, 309, 332, 987, 89, 1269, 236, 49, 767, 1269, 89, 742, 89, 280, 40, 775, 372, 39, 4, 285, 10, 210, 698, 912, 308, 912, 119, 7, 139, 223, 426, 95, 90, 240, 101, 6, 1, 66, 811, 538, 344, 1208, 9, 381, 71, 448, 806, 126, 338, 36, 360, 217, 1035, 81, 315, 385, 1, 208, 1, 420, 908, 1, 249, 33, 249, 420, 908, 37, 286, 61, 1, 977, 689, 39, 373, 1209, 144, 687, 1, 692, 23, 1, 35, 241, 38, 288, 457, 28, 506, 399, 39, 90, 494, 509, 65, 584, 329, 583, 290, 58, 396, 647, 1, 1018, 362, 1355, 198, 1380, 96, 362, 135, 82, 1018, 500, 58, 123, 240, 245, 772, 82, 423, 1073, 90, 638, 39, 1073, 49, 667, 95, 880, 500, 905, 113, 307, 37, 181, 19, 300, 584, 637, 252, 240, 219, 905, 398, 915, 10, 910, 190, 397, 13, 59, 30, 10, 1110, 774, 1, 283, 398, 4, 637, 216, 111, 49, 637, 77, 238, 77, 507, 95, 1, 53, 139, 737, 124, 20, 27, 14, 9, 381, 862, 37, 256, 624, 247, 343, 434, 208, 862, 37, 10, 60, 53, 3, 119, 93, 512, 216, 240, 119, 223, 191, 977, 36, 957, 1, 1209, 144, 687, 124, 8, 527, 127, 1125, 4, 138, 14, 21, 19, 916, 206, 2, 252, 610, 38, 77, 707, 183, 91, 183, 183, 275, 1175, 635, 386, 141, 91, 89, 89, 1269, 1202, 172, 89, 233, 335, 232, 467, 322, 183, 529, 1, 274, 194, 119, 474, 141, 7, 39, 2, 19, 18, 39, 684, 21, 355, 1269, 355, 365, 488, 95, 1, 36, 26, 115, 470, 7, 26, 135, 624, 564, 266, 71, 56, 372, 763, 36, 26, 53, 120, 470, 1, 26, 301, 251, 39, 61, 549, 664, 66, 106, 8, 358, 95, 767, 6, 346, 47, 218, 268, 140, 95, 1210, 279, 18, 61, 106, 57, 39, 247, 637, 1, 35, 13, 77, 123, 307, 21, 19, 216, 19, 702, 199, 1, 637, 531, 760, 815, 953, 711, 415, 1081, 369, 95, 1082, 160, 770, 329, 583, 655, 1, 545, 245, 28, 223, 545, 993, 1, 545, 310, 37, 728, 236, 545, 1063, 545, 674, 352, 580, 725, 474, 157, 828, 1, 500, 828, 677, 322, 219, 788, 39, 95, 829, 199, 545, 33, 1, 696, 545, 95, 655, 353, 1, 373, 61, 549, 828, 834, 1073, 755, 2, 135, 1298, 1313, 47, 277, 122, 134, 106, 540, 828, 471, 828, 4, 545, 1, 28, 189, 61, 549, 978, 460, 18, 154, 240, 1281, 67, 292, 515, 21, 19, 762, 240, 974, 72, 296, 554, 2, 1314, 136, 1, 415, 292, 287, 136, 12, 971, 401, 18, 401, 637, 1, 452, 429, 274, 194, 235, 637, 546, 301, 4, 235, 271, 168, 366, 587, 546, 119, 608, 455, 9, 4, 235, 119, 89, 698, 912, 587, 546, 119, 635, 587, 546, 119, 912, 698, 41, 143, 1, 1120, 912, 474, 1, 365, 61, 587, 36, 119, 970, 36, 509, 452, 429, 546, 4, 235, 119, 474, 587, 546, 119, 635, 1, 637, 365, 691, 59, 69, 292, 550, 13, 348, 61, 189, 95, 116, 333, 770, 323, 1372, 104, 1, 28, 1067, 334, 14, 304, 1, 292, 274, 297, 30, 80, 10, 891, 101, 1, 425, 1, 38, 23, 506, 399, 48, 57, 770, 329, 583, 709, 16, 95, 90, 34, 127, 203, 161, 638, 772, 233], [226, 25, 1, 880, 160, 188, 13, 90, 104, 316, 3, 104, 27, 671, 160, 41, 87, 1, 25, 1, 270, 22, 983, 821, 1, 158, 693, 101, 1292, 189, 84, 75, 64, 163, 1, 454, 176, 33, 124, 189, 151, 664, 726, 3, 48, 158, 326, 643, 12, 58, 807, 210, 160, 1, 122, 29, 189, 8, 104, 14, 1, 516, 285, 4, 163, 8, 57, 1, 100, 342, 4, 828, 189, 18, 124, 574, 382, 93, 72, 57, 976, 75, 1, 139, 157, 828, 421, 499, 9, 373, 26, 143, 165, 1109, 426, 123, 307, 9, 381, 477, 222, 701, 67, 307, 10, 29, 62, 629, 1, 80, 10, 390, 84, 60, 127, 113, 30, 139, 151, 476, 32, 20, 629, 1, 33, 194, 48, 57, 75, 1, 39, 66, 338, 71, 861, 283, 81, 9, 381, 671, 538, 289, 9, 381, 14, 1, 381, 270, 258, 37, 2, 56, 95, 74, 301, 2, 122, 422, 39, 29, 116, 1424, 95, 1, 41, 1429, 265, 774, 208, 113, 1, 2, 210, 233, 664, 95, 322, 363, 43, 1299, 196, 66, 125, 1, 847, 320, 196, 154, 110, 24, 169, 175, 770, 329, 583, 9, 468, 314, 200, 253, 9, 489, 196, 58, 7, 270, 1, 6, 1194, 899, 138, 71, 370, 54, 101, 270, 69, 449, 1052, 4, 26, 915, 260, 95, 1052, 747, 434, 305, 143, 1033, 11, 1, 22, 36, 684, 237, 288, 130, 535, 519, 33, 47, 1, 95, 278, 105, 4, 270, 55, 66, 1028, 718, 165, 228, 111, 718, 307, 9, 381, 269, 260, 48, 57, 83, 105, 139, 187, 1, 149, 439, 842, 19, 1, 1306, 462, 481, 149, 26, 191, 187, 149, 115, 149, 1, 601, 617, 1232, 59, 411, 150, 652, 284, 811, 585, 159, 32, 307, 10, 353, 62, 273, 218, 10, 139, 225, 284, 426, 57, 519, 1, 465, 5, 784, 142, 150, 1, 5, 1483, 535, 4, 101, 978, 7, 220, 12, 615, 132, 284, 367, 1211, 811, 160, 55, 240, 95, 664, 72, 115, 863, 200, 52, 8, 1, 370, 1255, 382, 727, 4, 1, 105, 253, 220, 615, 132, 33, 124, 22, 7, 132, 167, 4, 284, 122, 143, 20, 811, 159, 32, 67, 253, 9, 468, 225, 146, 260, 1053, 915, 150, 1, 141, 137, 153, 1, 8, 314, 26, 164, 48, 57, 69, 369, 784, 369, 316, 1, 47, 82, 2, 18, 32, 6, 374, 1211, 220, 142, 1430, 228, 1, 55, 5, 23, 671, 160, 95, 1392, 664, 477, 240, 74, 539, 506, 89, 195, 798, 395, 100, 1, 27, 57, 506, 89, 8, 38, 160, 1, 111, 205, 411, 15, 823, 314, 26, 122, 341, 1, 270, 1086, 515, 250, 173, 160], [31], [1, 678, 403, 5, 195, 836, 170, 319, 128, 367, 21, 19, 287, 100, 26, 26], [31, 15, 92, 48], [57, 46, 78, 31, 1], [2, 5, 91, 54, 883, 8, 616, 21, 19, 576, 118, 2, 1, 59, 29, 196, 251, 5, 1, 394, 16, 984, 46], [11, 1, 906, 134, 26, 42], [3, 530, 29, 1], [3, 43, 16], [11], [5, 1], [5, 1, 16], [29, 61], [3, 153, 1, 62, 410, 368], [230, 64, 430, 777, 726, 265, 686, 1, 1107, 39, 650, 82, 6, 32, 1040, 834, 128, 14, 265, 17, 160, 177, 304, 419, 6, 212, 177, 47, 459, 23, 6, 502, 1431, 20, 3, 177, 28, 44, 772, 316, 38, 82, 445, 1101, 166, 147, 551, 43, 29, 264, 1070, 177, 62, 16, 1, 1432, 230, 64, 482, 62, 1, 330, 21, 51, 104, 62, 41, 1, 134, 16, 34, 8, 299, 1, 126, 139, 7, 516, 1, 213, 42, 881, 113, 592, 663, 1], [5, 1, 5, 1075, 4, 105, 444, 163, 211, 321, 11], [342, 7, 1], [27, 1, 318, 1126, 7, 595, 3, 22, 1, 39, 160, 1, 519, 104, 477, 108, 185, 64, 279, 44, 2, 709, 849, 236, 3, 16], [3, 676, 741, 356, 178, 581, 1, 227, 11, 906, 3, 120, 1403, 160, 59, 57, 96, 149], [281, 34, 699, 1], [43], [917, 1, 49, 437, 169, 43, 454, 42, 358, 705, 2, 110, 512, 835, 737, 52], [1, 152, 4, 105, 397, 40, 1087, 637, 9, 63, 74, 307, 10, 452, 629, 204, 333, 53, 32, 160, 770, 906, 2, 20, 80], [160, 770, 906, 42, 47, 580, 251, 313, 650, 69, 100, 27, 437, 15], [1, 46], [1, 388, 388], [261, 26, 2, 33, 712], [5, 1, 9, 792, 274], [42], [], [78, 15, 5, 15, 207], [1013, 84, 75, 342, 730, 8, 1, 972, 1088, 100, 414, 624, 870, 657, 354, 205, 117, 34, 249, 2, 713, 84, 75, 342, 75, 64, 170, 117, 77, 483, 801, 1, 215, 82, 851, 294, 433, 51, 56, 801, 77, 75, 117, 82, 2, 5, 160, 1, 166, 69, 13, 77, 217, 1, 104, 14, 253, 612, 890, 196, 4, 991, 361, 8, 48, 151, 493, 1258, 1245, 4, 1, 41, 17, 269, 9, 22, 5, 69, 1, 94, 118, 28, 4, 439, 149, 40, 308, 224, 28, 97, 98, 760, 6, 71, 66, 662, 196, 71, 1347, 1162, 406, 57, 204, 40, 9, 902, 8, 28, 864, 1, 71, 1004, 333, 760, 98, 303, 2, 30, 482, 413, 470, 301, 413, 257, 2, 419, 778, 6, 1, 2, 98, 105, 332, 494, 101, 3, 157, 68], [160, 732, 130, 84, 277, 13, 58, 1054, 25, 125, 1, 105, 277, 702, 24, 30, 1023, 43, 25, 1257, 414, 463, 250, 140, 36, 1054], [114, 150, 595, 1, 5, 9, 118, 719, 1127, 774, 1, 241, 302, 200, 210, 1, 424, 61, 1, 137, 61, 1, 92], [3], [72, 98, 72, 1, 79, 47, 47, 397, 165, 9, 303, 2, 1305, 85, 80, 8, 288, 1, 102, 24, 46, 33], [3], [7, 1, 203, 492, 66, 140, 50, 235, 225, 121, 33, 131, 1, 123, 140, 36, 8, 525, 23, 83, 6, 174], [31], [2, 7, 1353, 852, 1071, 635, 174, 183, 21, 6, 349, 379, 272, 386, 2, 42], [49, 179, 3], [191, 1, 215, 121, 225, 774, 916, 441, 546, 168, 215, 271, 85, 41, 2, 46, 48, 705, 656, 234], [31], [5, 10, 60], [3, 628], [485, 121, 137, 1, 124, 2, 909, 1315, 28, 1, 484, 440, 592, 1406], [31, 2, 18, 463], [823, 225, 16, 3, 125, 1], [2, 42, 225, 16, 200, 4], [3], [5, 1, 16, 2, 46, 434, 878, 235, 119, 735, 185], [2, 5, 22, 3, 16, 464, 11], [11, 628, 1422, 1433, 20, 1, 2, 965, 21, 19, 758, 158, 36, 300, 101, 205, 191, 34, 5, 23], [29, 212, 1], [15, 364, 136, 1, 161, 1434, 1, 161, 2, 395, 100, 73, 36, 1407, 526, 292, 73, 332, 41, 100], [21, 1037, 69, 4, 145, 50, 901, 218, 38, 94, 59, 907, 119, 587, 562], [25, 1, 1128, 979, 935, 10, 60, 93, 520, 134, 1, 93, 54, 154, 4, 97, 1055, 567, 66, 151, 54, 7, 159, 13, 4, 1001, 159, 13, 520, 979, 935, 66, 1212, 13, 32, 111, 567, 1067, 4, 144, 1], [5, 69, 1], [5, 683, 3, 16], [22, 126, 1241, 622, 5, 10, 60, 87, 5, 69, 51, 235, 107, 599, 408, 601, 686, 83, 737, 52], [5, 1, 57, 44, 227, 2], [24, 160, 138, 115, 421, 924, 176, 40, 1, 12, 524, 160, 12, 1362, 421, 360, 4, 181, 19, 307, 21, 215, 83, 1003, 924, 51, 160, 200, 1, 98, 24, 517, 465, 1, 12, 57, 64, 44, 151, 865, 676, 69, 195, 1003, 466, 12, 1258], [3, 1, 77, 319, 128, 21, 122, 49, 8, 424, 517, 308, 223, 48, 512, 51, 160, 1, 66, 785, 307, 289, 905, 500, 905, 388, 37, 1037, 250, 54, 240, 289, 905, 169, 3, 1, 27, 71, 65, 678, 853, 89, 69, 184, 18, 142, 334, 13, 93, 446, 123, 71, 695, 90, 663, 133, 180, 1, 865, 122, 18, 17, 43, 3, 131, 320, 169, 103, 1, 16, 8, 71, 449, 1], [7, 1, 7, 16, 4, 105, 73, 188, 889, 247, 176, 517, 8, 1435, 529, 10, 5, 9, 29, 1316, 866, 18, 39, 131, 435, 450, 1436, 519, 454, 55, 201, 131, 1, 284, 1437, 1, 94, 429], [29, 816, 3, 185, 16, 242, 716, 55, 102, 91, 368], [5, 1, 118, 854, 339, 9, 244, 41, 143, 324, 249, 729, 56, 40, 357, 68, 39, 89, 12, 142, 87, 419, 40, 276, 1, 20, 182, 174], [22, 126, 5, 346, 47, 23, 1, 289, 95, 243, 160, 108, 875, 1, 107, 402, 529, 905, 303, 2, 206, 301, 1210, 694, 73, 293, 205, 198, 25, 64], [22, 1317, 1438, 135, 148, 73, 56, 1098, 135, 1098, 1098, 1045, 9, 518, 5, 90, 151, 918, 301, 1194, 41, 1213, 1030, 197, 22, 1214, 967, 55, 116, 531, 9, 1401, 96, 131, 320, 196, 7, 26, 160, 60, 6, 401, 1438, 3, 57, 135, 1294, 112, 382, 3, 173, 1, 169, 29, 1349, 512, 210, 73, 8, 1439, 340, 1349, 285, 382, 188, 62, 639, 813, 531, 9, 57, 1214, 362, 57, 26, 12, 58, 22, 837, 1, 1438, 1439, 340, 3, 23, 66, 486], [1002, 347, 699, 1196, 65, 92, 48], [92], [7, 1, 832, 40, 4, 133, 376, 221, 1167, 111, 73, 65, 487, 24, 73, 53, 555, 20, 1, 7, 63, 6, 143, 276, 160, 1, 1, 2, 102, 904, 1185, 32, 233, 114, 83, 63, 832, 3, 90, 1, 188, 78, 242, 256, 1, 49, 22, 5, 485, 121, 195, 807, 7, 131, 1, 408, 40, 7, 122, 49, 118, 94, 499, 154, 116, 9, 268, 40, 103, 6, 233, 85, 65, 8, 36], [31, 15, 16, 4, 717, 693], [987, 1244, 230, 285, 6, 309, 360, 71, 381, 180, 66, 149, 369, 377, 1129, 1198, 19, 249, 1, 152, 186, 49, 269, 400, 10, 123, 6, 411, 30, 190], [161, 231, 1395, 323, 116, 551, 43, 1, 34, 662, 358, 120, 110, 112, 382, 5, 189, 89, 357, 132, 183, 49, 314, 1045, 9, 203, 5, 62, 169, 5, 1, 173, 85, 41, 662, 7, 617, 89, 357, 617, 317, 112, 8, 564, 1, 5, 683], [1, 2, 42, 249], [40, 1, 318, 4, 24, 1097], [72, 3, 95, 282, 24, 166, 190, 1, 53, 847, 30, 1295, 219, 289], [40, 1, 270, 136, 5, 1, 179, 49, 3, 16], [], [86, 1, 144, 331, 54, 77, 54, 4, 11, 282, 61, 1, 43, 5, 464, 1, 16], [229, 46, 225, 43, 244, 12, 624, 843, 15, 6, 20, 48, 503, 33, 66, 450, 501, 8, 6, 226, 212, 399], [29, 185, 8, 4, 282, 352, 330, 21, 3, 537], [5, 1, 29, 1, 226, 248, 7, 282, 1], [696, 339, 7], [3], [1, 165, 269, 552, 512, 302, 1, 1, 105, 9, 237, 944, 218, 10, 674, 398, 547, 17, 50, 245, 1215, 105, 244, 889, 399, 1393, 632, 608, 9, 18, 410, 1, 9, 492, 334, 232, 1, 29, 1], [1, 2, 446, 37, 4, 2, 18, 12, 44, 7, 1, 24, 1298, 37, 38, 32, 20, 4, 81, 283, 593, 143, 223, 308, 12, 38, 4, 1318, 165, 308, 4, 1, 167, 1, 11, 559, 9, 41, 116, 51, 659, 87, 649], [31], [1013, 252, 137], [6, 2, 29], [82, 111, 153, 1, 1, 1028, 4, 38, 368, 2, 619, 425, 57, 15], [184, 58, 1, 184, 21, 19], [268, 485, 522, 385, 12, 230, 91, 607, 82, 4, 842, 743, 283, 264, 22, 727, 362, 1119, 115, 385, 109, 1130, 366, 148, 2, 230, 1170, 1424, 842, 743, 83, 90, 136, 2, 230, 44, 329, 2, 44, 329, 354, 143, 1007, 6, 45, 276, 135, 434, 577, 472, 472, 162], [5, 68, 5, 1, 12, 200, 52, 245, 87, 1, 6, 7, 86, 92], [281, 7, 1], [121, 158, 17, 201, 391, 1, 28], [5, 1, 74, 108, 104], [520, 311, 568, 22, 29, 62, 2, 894, 891, 260, 809, 9, 507, 224, 132, 220, 169, 114, 689, 638, 17, 121, 171, 201, 3, 87, 663, 990, 109, 129, 212, 891, 184, 180, 469, 861, 136, 3, 16, 109, 972, 3, 16, 268, 222], [388], [45, 129, 97, 148, 2, 99, 28, 73, 83, 233, 8, 83, 103, 129, 138, 21, 19, 204, 206, 9, 535, 373, 562, 395], [3], [148, 129, 116, 129, 13, 443, 9, 107, 1440, 1234, 77, 13, 443, 9, 1110, 762, 145, 535, 473], [9, 108, 154, 621, 201], [141], [1080], [3], [281, 28, 129, 619, 65, 683, 129, 93, 31, 70, 33, 161, 487, 281, 790, 569, 166, 6, 22, 108, 757, 1347, 201, 58, 129, 136, 129, 495, 48, 499, 1130, 108, 572, 7, 48, 569, 547, 727, 455, 1157, 1095, 114, 216, 22, 33, 124, 1274, 55, 1262, 33, 1441, 727, 108, 63, 1208, 251, 290, 1130, 67, 53, 4, 168, 27, 127, 13, 277, 113, 124, 268, 6, 32, 4, 123, 233, 4, 771, 34, 808, 4, 6, 28, 572, 1130, 495, 129, 1202, 62, 257, 923, 59, 13, 101, 325, 4, 143, 95, 346, 150, 6, 28, 572], [148, 129, 116, 129, 13, 443, 9, 107, 1440, 1234, 77, 13, 443, 9, 1110, 762, 145, 535, 473], [15, 261, 495, 470, 6, 32, 630], [304, 70, 26, 2, 141], [685], [45, 129, 47, 292, 73, 2, 18, 30, 990, 2, 13, 631], [3, 2, 42], [3], [129, 12, 102, 219, 973, 580, 1, 802, 332, 8, 198, 20, 95, 172], [46], [3, 15], [141, 129], [55, 8, 43, 16, 287, 23, 826, 1, 350, 1, 17, 43, 5], [45, 168, 13, 30], [1, 47, 1300, 178, 292, 41, 536, 17], [7, 2, 18, 155, 310, 154], [43, 135, 15, 29, 590, 24, 15, 284, 626, 159, 232, 589, 12, 629, 159, 476, 110, 675], [11], [25, 263, 11, 97, 673, 1, 48, 49], [2, 98, 105, 98, 105, 668, 294, 2, 676, 1316, 34, 1196, 395, 100], [1, 17, 155, 310, 152], [2, 5], [122, 3, 129], [48], [129, 406, 396, 396, 78], [464, 100, 453, 120, 514, 106, 59, 1, 312, 324, 50, 817, 41, 287, 100], [9, 108, 154, 621, 201], [263, 572, 2, 898, 665, 224, 2, 18, 10, 79, 127, 1399, 121, 3], [3], [141, 72, 97, 20, 57, 558, 4, 129, 77, 62, 4, 62, 845, 51, 138, 875, 292, 10, 60], [236, 13, 129, 58, 8, 198, 103, 719, 48, 57, 153, 129, 458, 6, 513, 837, 617, 588, 102, 10, 60, 103, 165, 38, 1423, 438, 354, 919, 22, 1302], [25, 1389, 75, 2, 42, 91, 479, 21, 24, 108, 59, 87, 223, 81, 385, 980, 623, 1, 1288, 101, 151, 23, 83, 385, 690, 315, 131, 1, 320, 154, 20, 344, 39, 980, 522], [100, 864, 129, 87, 62, 2, 18, 461, 16, 864, 223, 298, 27, 129, 564, 129, 309, 166, 488, 21, 19, 24, 173, 17, 50, 206, 123, 894, 34, 2, 53, 2, 864, 100, 163], [22, 29, 93, 252, 4, 767, 48, 533, 22, 212], [103], [7, 73], [628, 11], [5, 129, 5, 43], [453, 599, 44], [685], [2, 129], [108], [5, 129, 58, 691, 99, 2, 1442, 729, 8, 83, 260, 729, 80, 6, 572, 129, 1405, 11, 129, 28, 592], [1259, 172, 208, 129, 495, 677, 588, 234, 322, 1104, 387, 86, 129, 8, 527, 4], [2, 249, 21, 19], [], [31, 297, 338, 9, 903], [34, 29, 129, 2, 18, 811, 163, 97, 40, 1185, 9, 470, 262], [11, 82, 878, 229, 87, 1421, 456, 466, 128, 1, 349, 121, 43, 4, 32, 254, 87, 24, 66, 52], [123, 5, 15, 2, 5, 1013, 101, 120, 1443, 567, 1, 6], [22, 141], [213, 6, 132, 453, 44, 329, 284, 120, 420, 638, 17, 129, 41, 17, 39, 420, 863, 689, 407, 37, 1444, 39, 588, 1, 53, 2], [22, 3, 287, 100], [1251, 4, 62, 397, 37, 129, 611, 120, 567, 62, 2, 110, 212, 184, 1014, 498, 354, 4, 9, 228, 408, 323, 138, 21, 19, 1319, 368, 93, 2, 1365, 222, 63, 642, 215, 9, 744, 51, 2, 437, 689, 1, 129, 130, 137, 159, 689, 159, 260, 1046, 38, 349, 810, 37, 1, 859, 625, 501, 139, 1112, 460, 22, 37, 68, 1008, 1, 1043, 284, 132, 2, 26, 43, 349, 1441, 654, 51, 899, 1395, 2, 420, 4, 129, 26, 1, 1441, 226, 157, 129, 495, 1320, 1008, 408, 353, 212, 87, 611, 153, 129, 93, 113, 13], [1], [212, 919, 22, 1418, 141, 569, 171, 28, 899, 532], [34, 3, 129, 1, 114, 6, 150, 285, 24, 15, 364, 196, 1028, 1007, 4, 488, 21, 19, 56, 178, 117, 23, 170, 19, 1397, 574, 70, 99, 1, 208, 117, 21, 19, 459, 23, 981, 21, 19, 313, 558, 55, 246, 55, 1319, 449], [23], [13, 629, 592, 588, 33, 1, 94, 478, 129, 62, 2], [78, 15, 34, 4, 241, 562, 298, 264, 34, 4, 12, 52, 353, 100, 23, 389, 51], [5, 729, 32, 214, 30, 666, 505, 2, 18, 4, 729, 37, 715, 44, 227, 2, 5, 588, 1216, 284, 113, 915, 366, 13, 214, 30, 39, 966, 17, 1217, 689, 213, 227, 561, 1, 13, 12, 7, 85, 362], [22, 3], [592, 836, 20, 386, 284, 8, 886, 581, 6, 6], [7], [4, 42, 980, 12, 86, 168, 27, 73, 525, 343, 611, 120, 165, 9, 52, 214], [3, 424, 3, 68, 3, 15], [11, 1202, 158, 136, 486, 55, 157, 219, 37], [216, 6, 129, 929, 7, 56, 6, 729, 6, 605, 39, 98, 6, 129, 929, 729, 356, 243, 56, 6, 36, 332, 8, 216, 6, 240, 24, 129, 729, 175, 465, 24], [20, 95, 8, 1145, 51, 728, 460, 250, 113, 273, 1490, 37, 204, 374, 2, 401, 60, 8, 50, 206, 290, 1, 1320, 115, 180, 145, 572, 145, 644, 63, 116, 558, 180, 466], [446, 37, 714, 401, 8, 916, 2, 17, 2, 102, 53, 63, 401, 62, 8, 198], [34, 3, 185, 394, 94], [3], [1190], [129, 111], [31, 15], [5, 61, 44], [23, 168], [25, 129, 270, 7, 72, 8, 198, 46, 230, 129, 309, 3, 16], [85, 105, 281, 1088, 243, 75, 920, 978, 270, 38, 866, 552, 154, 8, 281, 2, 6, 410, 265, 1235, 55, 8, 38, 369, 6, 253, 418, 605, 130, 318, 8, 465, 38], [7, 1206, 125, 1, 203, 129, 975, 257, 154, 1195, 129, 125, 1, 108, 550, 129, 22, 995, 638, 17, 1445, 665, 83, 1436, 128, 954, 129, 125, 1, 310, 658, 233, 503, 954, 471, 610, 233, 93, 524, 1206, 480, 363, 374, 665, 83, 1436, 222, 1206, 129, 125, 1], [7], [2, 202, 296, 885, 809, 50, 597, 891, 110, 644, 457, 159, 13, 28, 441, 50, 206, 377, 967, 952, 7, 1124, 429, 8, 734, 113, 77, 1124, 744, 429, 377, 441, 768, 466, 465, 956, 377, 890, 215, 50, 38, 386, 457, 1056, 206, 723, 546, 99, 215, 441, 107, 50, 41, 59, 17, 54, 284, 86, 343, 131, 235, 1036, 129, 63, 138, 861, 363, 642, 8, 171, 63, 642, 465, 419, 13, 233, 449, 466, 1446, 657, 377, 289, 21, 19, 159, 13, 4, 13, 465, 443, 106, 94, 13, 77, 13, 836, 41, 211, 72, 1181, 13, 2, 102, 40, 291, 45, 17, 50, 110, 274, 1, 528, 122, 134, 34, 458, 84, 277, 667, 773], [114, 157, 150, 168, 153, 129], [129, 578, 234, 443, 180, 101, 45, 41, 17, 855, 86, 51, 544, 57, 23, 284, 861, 351, 116, 206, 145, 33, 37, 659, 221, 25], [45, 168, 13, 30], [45, 1, 521, 324, 1041, 1103, 1103, 43, 26, 57, 961, 371, 731, 1, 136, 18, 1, 46, 1, 576, 26, 349, 856, 373, 1209, 62, 349, 689, 977, 1043, 3, 1, 16, 617, 61, 70, 961, 11, 689, 977, 1, 841, 35, 9, 116, 14, 689, 23, 1, 977, 261, 55, 720, 689], [340, 1218, 3, 15, 105, 4, 1, 131, 24, 472, 1030, 8, 1447], [11, 33, 684, 70, 27, 5, 530], [5, 1, 2, 34, 18, 48, 581, 293], [85, 1, 40, 24, 74, 375, 70, 1], [40, 1, 342, 11], [25, 1, 647, 65, 47, 277, 107, 4, 21, 19, 98, 355, 35, 1, 537, 23, 212, 198, 38, 21, 19, 565, 921, 38, 1, 74, 44, 110, 499, 309, 91, 200, 337, 1147, 128, 50, 112, 156, 38, 513, 372, 156, 630, 337, 176, 195, 33, 253, 66, 562, 128, 50, 567, 363, 467, 815, 1443, 250, 233, 20, 808, 473, 20, 535, 23, 1448, 125, 1, 22, 14, 6, 114, 628, 1448, 4, 451, 1448, 6, 15, 595, 443, 120, 38, 249, 353, 108, 751, 8, 35, 1448, 1, 114, 200, 309, 246, 90, 293, 516, 516, 1448, 114, 832], [804, 257, 366, 275, 352, 25, 318, 22, 186, 153, 11, 394, 186, 854, 313, 120, 42, 92], [45, 25, 941, 179], [3, 15], [31, 68, 45, 1, 1122, 46, 147, 195, 217, 1, 789, 31, 88, 1, 413, 146, 170, 67, 12, 27, 20, 92], [304, 86, 1, 144, 48, 11, 661, 70, 67, 1321, 16, 123, 532], [72, 3, 692, 114, 797, 150, 454, 1, 105, 949, 552, 27, 90, 15, 1007, 336, 177, 601, 14, 1417, 177, 172, 769, 417, 1110, 14, 500, 336, 172, 1053, 49, 778, 336, 172, 57, 1417, 245, 22, 164, 87, 293, 267, 161, 147, 35, 514, 941, 14, 34, 67, 1007, 164, 187, 488, 182, 375, 477, 756, 28, 78, 238, 221, 16, 76, 146, 619, 1016, 1429, 39, 146, 1416, 65, 73, 897, 71, 51, 2, 76, 71, 236, 78, 1006, 666, 1, 14, 1203, 33, 452, 35, 76, 389, 185, 690, 259, 789, 266, 1, 2, 236, 18, 302, 163, 91, 35, 1, 361, 89, 164, 146, 454, 59, 21, 75, 1, 573, 14, 1, 386, 77, 89, 55, 866, 91, 183, 91, 183, 1050, 77, 91, 74, 2, 102, 229, 503, 10, 292, 79, 1051, 48, 383, 163, 254, 95, 61, 664, 545, 82, 239, 275], [58, 1, 35, 135, 1, 45, 359, 199, 1, 12, 2, 742, 368, 370, 441, 364, 465, 158, 395, 13, 1351], [2, 248, 207, 56, 310, 1065, 93, 857, 314, 49, 48, 807, 387, 48, 46, 82, 95, 1392, 182, 56, 1049, 1284, 200, 387, 857, 4, 14, 72, 2, 5, 29, 15], [70, 36, 657, 4, 615, 165, 2, 214, 308, 4, 346, 190, 32, 1057, 178, 1065, 156, 12, 4, 1219, 309, 5, 493, 49, 132, 106, 142, 33, 641, 36, 203, 620, 253, 455, 282, 497, 156, 626, 1057, 959, 1322, 282, 5, 563, 72, 1220, 473, 757, 34, 563, 390, 769, 329, 438, 71, 10, 1220, 1449, 194, 563, 935, 878, 1220, 106, 527, 138, 346, 352, 594, 867, 563, 28, 6, 42, 537, 67, 1321, 553, 1051, 68, 59, 1171, 19, 143, 245, 67, 68, 2], [41, 143, 548, 171, 1, 761, 1128, 747, 188, 788, 305, 303, 68, 1128, 171, 272, 979, 291, 17, 781, 77, 1, 275, 5, 17, 20, 128, 18, 114, 272, 68, 20, 661, 1, 252, 5, 180, 201, 1187, 585, 81, 322, 730, 6, 489, 676, 30, 116, 350, 697, 194, 522, 295, 315, 387, 81, 39, 611, 1121, 469, 71, 322, 1450], [628, 11, 14, 1], [7, 90, 1258, 1163, 502, 40, 781, 615, 887, 237, 125, 1, 249, 1126, 688, 30, 1, 946, 876, 1186, 125, 1, 376, 1126, 136, 13, 8, 14, 1, 245, 166, 269, 85, 633, 1, 508, 56, 803, 58, 204, 288, 75, 1, 63, 1246, 7, 1, 50, 547, 18, 53, 8, 4, 14, 62, 169, 5, 1], [5, 33, 4], [85, 6], [732, 1, 852, 138, 27, 80, 279, 340, 302, 126, 345, 279, 340, 129, 77, 4, 71, 49, 48, 639, 813, 48, 915, 279, 340, 383, 745, 275, 37, 161, 133, 33, 210, 278, 1008, 1236, 308, 229, 72, 31, 223, 817, 38, 693, 1233, 461, 462, 10, 60, 504, 503, 279, 135, 122, 3, 824, 233, 174, 504, 175, 1439, 116, 661], [5, 1, 13, 8, 1145, 44], [103], [27, 1, 36, 418, 163, 92, 1365, 13, 74, 257, 111, 1, 967, 253, 96, 1215, 261, 495, 26, 1155, 1215, 106, 40, 4, 63, 59, 1164, 106, 55, 518, 273, 1084, 12, 198, 47, 1147, 74, 266, 156, 111, 33, 8, 167, 220, 52, 1, 245, 64, 163, 151, 38, 11, 48], [1, 84, 277, 34, 7, 628, 20, 1, 27, 6, 97, 6, 40, 276, 640, 527, 1221, 155], [172, 196, 359, 1252, 361, 1, 821, 112, 43, 139, 141], [31, 15, 49, 78, 15], [5, 347, 33, 330, 821, 2, 42, 10, 2, 32, 5], [5, 1, 51, 321, 21, 181, 19, 307], [11, 1, 275, 352, 135, 122, 29, 116, 70, 44, 97, 130, 32, 40, 1, 725, 474, 24, 13, 32, 4, 860, 111, 36, 22, 610, 63, 95, 48, 667, 33, 802, 322, 93, 1222, 24, 73, 1, 418, 61, 28, 204, 282, 1, 706], [70, 383, 46, 2, 5, 145, 558], [1107], [331, 44, 61, 377, 58, 520, 175, 430, 282, 464, 485, 524, 275, 352, 269, 708], [11, 282, 1, 70, 61, 2, 607, 13, 282, 1, 1311, 53, 321, 174, 37, 1323, 69, 282, 282, 1, 29, 1426, 126, 3, 155, 11, 9, 118, 133, 422, 54, 248, 46, 1146, 94, 319, 128, 255, 1, 1243, 219, 795, 750, 14, 228, 166, 285, 232, 12, 58, 42, 374, 81, 173, 255, 1114, 194, 1034, 99, 46, 66, 1078, 124, 295, 315, 180, 66, 471], [92], [415, 11, 1, 49, 106, 8, 656, 188, 51, 550, 196, 901, 61, 12, 435, 959, 1, 901, 38, 36, 47, 53, 49, 56, 40, 1, 10, 60, 365, 111, 383, 1, 144, 687, 59, 216, 107, 5, 1], [31, 1, 25, 6, 1126, 594, 748, 6, 28, 4, 1, 900, 423, 6, 18, 1449, 36, 354, 58, 8, 6, 92, 65, 138, 258, 839], [5, 1, 254, 47, 519, 49, 5, 9, 103, 158, 58, 9, 388], [123, 169, 31, 1, 592, 30, 520, 133, 169, 5, 61], [3, 2, 18], [152, 49, 9, 108], [1], [45, 675, 78, 683, 92], [1, 400, 1, 616, 9, 44, 7, 7, 10, 60, 10, 79, 190, 283, 1, 159, 593, 247, 13, 32, 169, 780, 1, 86], [11, 1, 67, 1, 247, 17, 325, 17, 456, 201, 250, 201, 456, 201], [1, 304, 39, 99, 4, 104, 14, 22, 479, 1, 342, 798, 63, 77, 162, 1, 17, 101, 73, 1083, 198, 179, 78], [1, 939, 374, 41, 45, 17, 117, 191, 324, 136, 300, 119, 950, 9, 272, 618, 762, 50, 8], [1, 5, 604, 24, 1, 20, 10, 690, 10, 79], [5, 1], [7, 1, 29, 118, 54, 4, 39, 238, 71, 184, 42], [25, 80, 932, 1, 940, 70, 133, 18, 287, 100, 650], [1, 235, 374, 17, 120, 3, 154, 189, 914, 2, 1131, 235, 46, 69, 148], [1126, 44, 123, 250, 1, 57, 96, 9, 48, 378, 514, 59, 1000, 96, 294, 26, 917, 54, 526, 562, 298, 113, 323, 383, 226, 250, 1, 4, 618, 22, 189, 14, 1, 72, 238, 6, 57, 405, 18, 20, 430, 903, 6, 499, 9, 405, 18, 5, 26, 408], [1, 87, 532, 12, 23], [1, 1495, 30, 540, 605, 181, 19, 1451, 391, 332, 1, 12, 2, 406, 67], [79, 47], [148, 1, 2, 32, 45, 798, 265, 430, 34, 7, 1, 712, 21, 19, 17, 430, 713, 139, 298, 32, 28, 1452, 65, 140, 612, 892, 273, 612, 3, 154, 20, 612, 248, 892, 65, 243, 548, 612, 892, 941, 487, 65, 288, 399, 508, 920, 45, 65, 1452, 399, 508, 4, 257, 83, 399, 508, 920, 273, 612, 3, 612, 23, 65, 23, 416, 1374, 12, 262, 240, 1, 273, 1, 1189, 563, 326, 1, 84, 75, 1074, 1, 17, 174, 430, 56, 273, 1222, 24, 20, 21, 19, 1037, 273, 465, 21, 19, 1037, 1, 12, 250, 262, 67, 749, 1074, 17, 369, 273, 1, 1488, 2, 563, 326, 65, 4, 1132, 15, 302, 65, 416, 1374, 1482, 58, 106, 23, 83, 430, 15, 52, 245], [34, 475, 1, 7, 47, 70, 508, 13, 74, 42, 20, 14, 71], [76, 243, 276, 1, 1, 111, 45, 2, 466, 76, 1, 14, 243, 110, 366, 7, 65, 678, 652, 65, 678, 216, 13, 85, 1, 1038, 276, 92, 268, 303, 140, 157, 276, 168, 661, 140, 1, 36], [335, 105, 53, 45, 181, 19, 273, 105, 277, 508, 1, 73, 254, 67, 81, 17, 142, 14, 1, 243, 53, 110, 181, 19, 17, 802, 254, 494, 549, 423, 525, 41, 6, 17], [40, 270, 418, 319, 128, 28, 8, 3, 153, 1, 3, 153, 2, 319, 128, 128, 50, 156, 2, 124, 241, 272, 1050, 77, 313, 871, 825, 76, 207, 73, 1, 22, 1219, 143, 41, 778, 552, 27, 65, 18], [56, 34, 7, 1, 78, 25, 1346, 1375, 354, 1, 125, 68, 48, 449, 79, 1, 68, 1, 402, 221, 33, 901, 22, 9, 1, 111, 529, 39, 142, 87, 17, 210, 8, 571, 128, 325, 113, 652, 17, 99, 571, 245, 715, 233, 288, 240, 24, 12, 5], [1, 74, 20, 177, 434, 62, 1324, 309, 255, 84, 397, 75, 164, 1375, 28, 194, 57, 89, 62, 261, 26, 23, 83, 177, 255, 498, 2, 42, 321, 17, 321, 603, 882, 24, 52, 90, 1, 358, 98, 51, 58, 358, 732, 449, 189, 61, 29, 54, 6, 165, 59, 13, 562, 61, 417, 83, 779, 417, 61, 544, 299, 310, 779, 372, 61, 1356], [5, 27, 144, 11, 1], [5, 1, 816, 49, 109, 13, 46, 88, 259, 147, 452, 35, 5, 149, 112, 777, 9, 175], [791, 1007, 8, 1, 369, 237, 637, 1, 1, 199, 35, 715, 148], [484, 23, 456, 145, 21, 19], [1, 199, 4, 76, 638, 508, 35, 293, 80, 1], [5, 1, 2, 42, 49, 327, 52, 25, 6, 979, 45, 85, 6], [1, 24], [26, 646, 1020, 251], [816, 18, 1418, 786, 46], [2, 600, 73], [31], [134, 1, 86, 9, 229, 10, 60], [1, 2, 42], [141], [5, 1, 31, 76], [152, 1, 406], [40, 103, 1, 99, 201, 171, 210, 457, 138, 1, 131, 39, 261, 26, 2, 395, 313, 55, 140, 36, 565, 56, 103, 23, 65], [452, 600, 45, 1], [389, 430, 135, 66, 1016, 35, 172, 249, 35, 172, 361, 146, 189, 61, 234, 76, 717, 364], [25, 536, 179, 49, 521, 47, 1, 30, 547, 1201, 1184, 1, 1220, 673, 10, 237, 30, 159, 247, 12, 290, 1100, 30, 232, 277, 107, 123, 76, 487, 1372, 30, 385, 114, 206, 7, 30, 176, 4, 430, 81, 385, 248, 718, 182, 7, 130, 80, 385, 241, 1129, 206, 39, 207, 14, 419, 267, 76, 804, 577, 530, 25, 536, 57, 53, 2, 296, 30, 640, 67, 1362, 571, 336, 536, 79, 84, 67, 100, 353, 3, 185, 18, 150, 430, 533, 933, 442, 1372, 276, 286, 10, 385, 12, 53, 23, 430, 12, 23, 437, 830, 326], [31, 15], [339, 42, 177, 121, 224, 1160, 144, 430, 43], [1, 152, 51, 1, 21, 35, 66, 361, 95, 66, 430, 822, 726, 123, 8, 1280, 210, 123, 39, 68, 37, 7, 430, 194, 114, 1058], [410, 131, 41, 121, 1168, 1006, 321, 17, 485, 41, 45, 17, 367, 170, 131, 1, 120, 33, 397, 235, 321, 131, 120, 120, 82, 2, 46], [3, 536, 79, 127, 13, 66], [5, 1, 3, 10, 3, 3, 43, 810], [1, 5, 16, 477, 69, 200, 130, 164, 233, 16, 142], [1, 66, 789, 96, 900, 423, 286, 309, 1], [42, 134, 536], [43, 120, 1, 5, 499, 949, 10, 60, 1, 10, 107, 494, 165, 10, 79, 32, 20, 81, 1186, 365], [47, 1156, 303, 2, 706], [125, 1, 1189, 38, 41, 1, 836, 1081, 818, 224, 1385, 776, 390, 33, 5, 28, 1, 223, 12, 23, 223, 235, 119, 291, 1133, 1052, 274, 4, 735, 674, 321, 17, 430, 1, 968, 1160], [1082, 1, 70, 103, 9, 516, 204, 205, 48, 103, 171], [85, 430, 6, 340, 464, 485, 35, 488, 61, 177, 783, 1375, 335, 32, 45, 783, 1375, 18, 45, 288, 1, 85, 205, 172, 569, 670, 290, 205, 682, 788, 290, 248, 85, 430, 6, 340, 464, 485, 35, 488, 61, 177, 323, 161, 147, 187, 172, 147, 83, 323, 286, 885, 582, 147, 237, 174, 364, 788, 364, 187, 172, 484, 99, 997, 65, 76, 484, 440, 997, 38, 36], [15, 303, 2, 384, 631, 20, 1134, 525, 65, 20, 114, 43, 15, 530], [1, 681, 46, 146, 462, 74, 1067], [4, 1, 130, 6, 84, 244, 43, 3, 244, 301, 302, 153, 1, 137, 777, 723, 1355, 1024, 397, 609, 107, 301, 94, 1200, 244, 39, 261, 26, 292, 2, 860, 40, 206, 26, 67, 324, 856, 26, 2, 102, 261, 26, 376, 61, 95, 822, 1, 12, 52, 279, 444, 1, 313, 55, 73, 241, 262], [136, 7, 14, 135, 22, 104, 14, 106, 4, 2, 42, 102, 10, 79, 48, 292, 125, 1, 96, 43, 86, 33, 124, 1309, 59, 216, 98, 135, 1453, 235, 320, 169, 3, 1], [741, 430, 913, 1005, 723, 14, 27, 78, 596, 913, 28, 83, 6, 7, 130, 14, 913, 105, 34, 148, 56, 101, 256, 308, 348, 308, 219, 223, 256, 39, 420, 384, 507, 171, 612, 237, 416, 162, 420, 223, 308, 39, 420, 219, 755, 1, 354, 114, 237, 507, 171, 1192, 377, 27, 297, 308, 85, 223, 110, 439, 502, 214, 146, 223, 308, 913, 388, 316, 113, 913, 4, 471, 81, 303, 2, 805, 712, 913, 241, 30, 427, 251, 805, 301, 652, 132, 315, 540, 73, 913, 27, 174, 104], [306], [108, 9, 49, 194, 3, 308, 28, 212, 1, 2, 7, 447, 6, 94, 291], [1027, 704], [1277, 1, 5, 281, 11, 87], [1, 1216, 189, 884, 172, 664, 386, 566, 1015, 1, 53, 22, 558, 189, 372, 1059, 1356, 584, 292, 322, 39, 241, 720, 1050, 77, 241, 720], [107, 18, 107, 950, 521, 655, 237, 1242, 181, 19, 1296, 74, 119, 33, 2, 18, 37, 492, 45, 1, 17, 260, 206, 51, 1, 2, 18, 6, 47, 22, 3, 56, 47, 126, 7, 395, 100, 13, 456, 33, 73, 706, 278, 13, 313, 55, 1035, 550, 1, 4, 758, 514, 395, 958, 25, 287, 94, 395], [248, 46, 296, 46, 383], [68, 300, 169, 390, 12, 3, 1], [1, 31, 130, 1059, 417, 85, 952, 65, 179, 483, 1111, 825, 265, 175, 4, 105, 339, 561, 81, 13, 453, 30, 995, 8, 18, 190, 186, 4, 287, 159, 650, 4, 30, 336, 61, 1, 802, 32, 708, 630, 1059, 706, 778, 7, 987, 62, 6, 155, 120, 532, 4, 82, 194, 82, 987, 314], [95, 4, 1, 47, 67, 491, 47, 277, 25, 83, 1, 7, 6, 270, 12, 555, 505, 817, 24, 1, 354, 233, 95, 150, 387, 459, 1396, 205, 67, 478, 334, 47, 56, 28, 41, 196, 34, 7, 1, 114, 65, 150, 73, 897, 1, 863, 7, 136, 34, 7, 1, 24, 107, 1, 215, 109, 814, 650, 33, 539, 74, 163, 14, 1059, 1223, 63, 138, 21, 19, 12, 712, 401, 377, 20, 886, 443, 21, 19, 130, 505, 84, 75, 4, 300, 598, 579, 37, 40, 74, 539, 275, 14, 1059, 1223, 1, 1186, 178, 921, 91, 191, 116, 8, 14, 21, 19, 612, 19, 2, 1, 712, 6, 138, 21, 19, 116, 21, 19, 1074, 1152, 8, 1, 2, 273, 103, 1224, 276, 1, 539, 74, 36, 75, 1, 48, 683, 162, 65, 157, 68, 80, 1, 56, 51, 63, 21, 19, 70, 94, 539, 74, 605, 1059, 80, 1, 74, 38, 5, 253, 45, 407, 32, 37, 570, 272, 337, 366, 880, 156, 132, 125, 1, 68, 304, 18, 419, 20, 474, 130, 173, 188, 272, 1, 225, 156, 74, 5, 478, 32, 253, 1, 68, 156, 474, 1, 5, 190, 253, 37, 95, 316, 140, 407, 887, 125, 1, 39, 91, 597, 232, 407, 324, 125, 1, 290, 243, 324, 156, 337, 139, 3, 337, 163, 300, 1, 156, 337, 324, 1059, 1223, 204, 474, 156, 36, 190, 459, 508, 272, 324, 156, 337, 882, 474, 1, 372, 679, 185, 1, 38, 474, 13, 32, 28, 8, 156, 162, 65, 157, 68, 80, 1, 372, 829, 427, 37, 156, 6, 1, 83, 38, 732, 75, 58, 1111, 13, 1353, 32, 14, 1059, 1223, 1, 1063, 72, 24, 1, 95, 90, 272, 494, 53, 52, 1, 2, 499, 9, 41, 54, 145, 1224, 129, 773, 114, 65, 157, 68, 150, 12, 713, 1, 150, 1493, 103, 1, 326, 113, 6, 268, 229, 18, 521, 84, 163, 226, 53, 2, 102, 22, 182, 378, 9, 766, 597, 3, 403, 12, 52, 171, 23, 65, 71, 449, 107, 86, 157, 68, 144, 687], [7, 108, 9, 419, 872, 757], [195, 510, 195, 447, 169, 43, 3], [11, 1, 64, 163, 1165, 153, 1, 10, 30, 1428, 311, 963, 256, 101, 127, 79, 10, 369, 40, 1223, 339, 30, 1, 1428, 79, 32, 665, 224, 223, 773, 128, 656, 2, 32], [339, 1, 765, 186, 54, 274, 6, 155, 33, 124, 311, 244, 57, 116, 339, 362, 1299, 196], [7, 1, 53, 4, 211, 898, 1059, 1223, 532, 776, 82, 39, 799, 5, 185, 16, 83, 221, 23, 65, 528, 265, 534, 794], [25, 1, 702, 263, 11, 166, 249, 40, 21, 19, 289, 310, 54, 4], [49, 3, 43, 96, 197, 108, 609, 9, 4, 284, 155, 310, 456, 1325, 485, 37, 480, 161, 485, 775, 1325, 197, 485, 223, 456, 111, 1053, 509, 9, 7, 64, 163, 59, 9, 738, 1053, 9, 38, 9, 738, 1119, 135, 59, 9, 738, 687, 96, 584], [152, 82, 139, 500, 61, 245, 1165, 335, 64, 1, 59, 144, 95, 82, 33, 303, 95, 354, 147, 47, 255, 23, 447, 351, 714, 15, 171, 40, 1165, 316, 1326, 1, 645, 130, 39, 279, 139, 61, 256, 95, 279, 531, 524, 1, 144, 66, 36, 64, 255, 388], [141, 11, 38, 114, 69, 1126, 24, 50, 140, 96, 38, 249, 8, 77, 94], [5, 1, 34, 34, 11], [5, 1], [3, 15, 49, 498, 269, 133, 11, 653, 885, 36, 3, 251, 43, 94, 118, 33, 3, 6, 155, 462], [1254, 82, 58, 89, 357, 89, 582, 205], [11, 49, 3, 10, 60, 29, 264], [648, 1, 144, 331, 1, 79, 419, 47, 9, 22, 34, 399, 75, 255, 108, 1, 9, 839, 17, 471, 12, 165, 204, 12, 333, 1, 12, 203, 492], [321, 207, 168, 166, 567, 1288, 20, 21, 19, 849, 439], [384, 1, 23, 1259, 129, 22, 5, 2, 349, 1, 235, 989, 132, 1, 249, 341, 598, 579, 120, 37, 65, 303, 412, 218, 756, 993, 384, 1082], [304, 56, 78, 27, 108, 339, 904, 107, 1201, 373, 9, 1109, 165, 369, 241, 116, 9, 41, 8, 17, 494, 101, 162, 863, 17, 9, 111, 348, 675, 863, 215, 252, 17], [25, 1, 63, 1454, 309, 27, 1, 34, 28, 211, 94, 1, 22, 29, 122, 49, 9, 118, 34, 29, 26, 59, 96, 708, 26, 254, 253, 62, 322, 855, 256, 467, 632, 256, 128, 24, 1, 139, 89, 34, 201, 158, 18, 641, 363, 158, 200, 1, 642, 792, 38, 411, 33, 128, 1, 186, 1110, 10, 60, 297, 30, 792, 79, 564, 1025, 190, 398, 106, 238, 12, 58, 467, 398, 7, 1116, 167, 12, 132, 28, 256, 128, 256, 467, 632, 203, 219, 241, 219, 256, 467, 632, 256, 128, 99, 63, 50, 203, 116, 354, 21, 21, 330, 21, 19, 429, 1, 635, 21, 635, 1, 24, 34, 69, 210, 17, 69, 622, 111, 1, 210, 17, 1455, 162, 416, 792, 669, 782, 1, 120, 49, 724, 167, 50, 3, 220, 2, 18, 468, 196, 16, 87, 57, 23, 211, 855, 520, 8, 100, 36, 1, 22, 268, 231, 8, 726, 4, 34, 304, 12], [2, 42], [2, 5], [5, 16, 80], [274, 1, 3, 15], [175, 44, 329, 31, 88, 2, 5], [5, 1, 114, 150, 242], [321, 328, 10, 9, 109], [4, 285, 47, 1, 376, 9, 1404, 334, 232, 178, 384, 396, 201, 1, 107, 111, 34, 351, 627, 615, 411], [31, 15, 175], [937, 32, 368, 860, 301, 1215, 9, 109, 452, 754, 88, 243, 36, 94, 29, 1, 8, 728, 291, 33, 77, 734, 118, 29, 145, 1135, 274, 250, 375, 188, 683, 71, 863, 184, 717, 3, 498, 608, 542, 632, 1125, 203, 587, 57, 37, 4, 66, 435, 20, 8, 533, 219, 157, 39, 67, 17, 12, 38, 668, 860, 201, 171, 55, 201], [1286], [624, 195, 89, 1384], [10, 79, 190, 89, 183], [], [6, 86, 91, 1, 13, 1115], [1203, 40, 1491, 48, 449, 1, 62, 1, 732, 314, 49, 343, 330, 1041, 196, 489, 913, 294, 26, 59, 3, 43, 96, 302, 1, 531, 197, 711, 10, 60, 1427, 4, 350, 79, 297, 32, 221, 114, 150, 387, 449, 220, 132, 56, 77, 2, 102, 13, 823, 220, 132, 223, 298, 195, 238, 610, 859, 91, 156, 132, 143, 601, 720, 220, 77, 4, 1479, 386, 77, 1046, 93, 4, 220, 89, 340, 4, 900, 241, 132, 457, 260, 135, 1479, 920, 99, 234, 978, 212, 997, 182, 113, 643, 778, 67, 72, 24, 145, 923, 186, 9, 725, 474, 145, 135, 240, 474, 24, 1, 477, 182, 63, 67, 169, 78, 89, 340, 29, 1, 824, 154, 24, 461], [40, 28, 137, 1, 305, 72], [1, 633, 1182, 558, 246, 734, 272, 633, 275, 1, 1288, 457, 808, 145, 1182], [456, 8, 515, 21, 19, 9, 58, 19, 149, 297, 8, 2], [951, 771], [306], [11, 73, 674, 146, 4], [1, 3, 934, 722, 169, 16, 5, 501, 131, 2, 168, 12, 27], [280, 1, 25, 80, 75, 280, 1, 730, 1, 65, 309, 86, 387, 43, 364, 78, 45, 1, 221, 574, 13, 32, 15, 364, 3, 88, 184, 684, 1063, 23, 4, 1, 65, 1324, 106, 99, 126, 20, 114, 1090, 661, 756, 126, 721, 23, 65, 136, 148, 15, 50, 271, 1058, 744, 247, 260, 247, 1086, 260, 130, 4, 1, 50, 17, 195, 571, 12, 7, 364, 1, 1326, 135, 43, 92], [142, 17, 725, 247, 5, 590, 1], [448, 136, 14, 799, 72, 14, 9, 217, 36, 1, 831, 70, 158, 1, 215, 96, 1, 12, 27, 1, 273, 12, 22, 151, 412, 4, 1, 452, 629, 1, 196, 158, 171, 612], [280, 58, 31, 43, 34, 49, 777, 244, 313, 10, 79, 7, 75, 280, 89, 103, 354, 16, 57, 87, 14, 1], [134, 1], [134, 1, 2, 42, 565], [1286, 1, 546], [7, 1, 6, 45, 1314, 249, 25, 83, 475, 503, 75, 163, 110, 663, 1198, 53, 14, 475, 14, 62, 22, 1317, 4, 26], [47, 130, 45, 508, 166, 195, 292, 109, 46, 1095, 11, 24, 257], [40, 1, 521, 34, 475, 1, 72, 52, 1, 158, 7, 108, 1, 39, 1, 18, 405, 766], [1, 187, 89, 5, 1], [17, 2, 96, 43, 5, 594, 375, 58, 176, 176, 33, 219, 37, 621, 68, 156, 24, 336, 1], [296, 207, 357, 322, 89, 89], [36, 328, 22, 7, 212, 7], [357, 2, 553, 91, 18], [3], [5, 1, 49, 179, 235, 473, 247, 12, 402, 33, 30], [31], [5, 82, 5, 530, 100], [141], [25, 84, 75, 342, 198, 153, 1, 156, 93, 7, 3, 1, 50, 128, 140, 50, 47, 67, 1, 50, 888], [222, 447], [7, 1, 144, 85, 14, 147, 81, 703, 1326, 1, 10, 376, 350, 97, 49, 179], [1, 134, 2, 42, 265, 25, 1, 114, 207, 145, 670, 56, 28, 372, 25, 1, 4, 655, 1489, 207, 1, 515, 81, 259, 10, 1, 76, 1, 3, 88, 882, 217, 9, 217, 36, 1, 6, 1200, 66, 1251, 934, 670, 1, 453, 120, 518, 336, 933, 612, 54, 170, 1, 90, 135, 82, 153, 1, 156, 209, 272, 446, 10, 60, 50, 87, 20, 30, 32, 165, 9, 2, 18, 108, 115, 653, 1032, 228, 54, 4, 39, 475, 260, 271, 542, 151, 210, 587, 271, 13, 157, 68, 1, 109, 13, 32, 413, 81, 2, 18, 45, 265, 1, 215, 305, 12, 63, 749, 24, 32, 100, 36, 12, 34, 52, 265, 8, 1076, 130, 114, 248, 207, 1283, 127, 90, 63, 222, 667], [26, 9, 365], [25, 281, 672, 113, 111, 50, 571], [78, 80, 1, 141, 119, 261, 1, 203, 2, 151, 298, 78], [799, 1, 3, 88, 39, 243, 481, 10, 5, 1, 93, 274, 5, 30, 33, 40, 1122, 335, 13, 20, 1, 103, 757, 5, 168, 179, 92], [5, 1, 196, 9], [5, 1, 8, 41, 143, 8, 789, 184, 172, 280, 89, 1, 789, 184, 115, 149, 458, 439, 181, 19], [440, 23, 15, 85, 647, 362, 46, 647, 990, 647, 81, 40, 396, 6, 444, 39, 362, 261, 9, 22, 22, 7, 647, 46, 116, 104, 14, 1, 73, 32, 45, 79, 370, 1, 637, 918, 977, 373, 626, 30], [4, 69, 32, 123, 42, 26, 468, 3, 149, 154, 182, 7, 112, 310, 250, 28, 16, 35, 177, 3, 52, 168], [679, 25, 1, 107, 829, 443, 97, 705, 53, 3, 49, 387, 1, 150, 48, 440, 194, 235, 119, 36, 486, 360, 500, 828, 578, 203, 289, 82, 746, 27, 97, 99, 12, 73, 1, 442, 279, 709, 705, 559, 10, 31, 10, 302, 279, 53, 321, 279, 48, 12, 58, 7, 559, 9, 135, 184, 279, 155, 42], [270, 78, 1, 109, 13, 15, 2, 18], [29, 1, 3, 26, 197, 711, 51, 116, 20, 503, 131], [24, 10, 148, 27], [262, 280, 742, 942, 326, 76, 3, 374, 398, 349, 493, 1300, 241, 8, 3, 493, 582, 665, 224, 80, 280, 279, 340, 2, 5, 140, 36, 280, 116, 749, 1300, 398, 24, 262, 52, 23, 1, 391, 49, 5, 38, 91, 220, 17, 420, 514, 668, 1240, 249, 220, 41, 5, 300, 8, 234, 189, 671, 307, 547, 61, 280, 208, 165, 1376, 354, 398, 493, 538, 238, 1192, 862, 290, 161, 1, 41, 1052, 222, 503, 39, 222, 1, 493, 467, 862, 280, 89, 398, 101, 97, 233, 1406, 262, 161, 1, 54, 161, 1, 398, 33, 450, 398, 44, 63, 360, 360, 4, 37, 493, 44, 1149, 57, 257, 316, 113, 1, 842, 181, 19, 112, 1218, 39, 10, 307, 67, 1, 886, 172, 280, 89, 89, 89, 1240, 623, 76, 326, 262, 1267, 280, 1439, 84, 262, 23, 265], [45, 1, 358, 173, 301, 91, 172, 852, 209, 89, 156, 47, 459, 316, 8, 209, 89, 156, 238, 55, 8, 493, 33, 89, 650, 5, 185, 13, 619, 67, 17, 249, 157, 208, 745, 91, 1084, 146, 372, 358, 234, 172, 215, 122, 56, 13, 8, 177], [166, 267, 6, 8, 3, 6, 7], [152, 264, 11, 957, 1175, 9, 1456, 1, 852, 194, 235, 119, 36, 444, 360, 135, 41, 765, 175, 274, 10, 60, 5, 127, 489, 151, 425, 32, 1057, 53, 210, 593, 453, 30, 190, 11, 1, 116, 20, 189, 13, 494], [306], [306], [5, 125, 1, 24, 40, 112, 444, 112], [528, 730, 778, 1, 229, 18, 29, 200, 43, 26, 2, 18, 18, 118, 94, 20, 9, 311, 154, 290, 29, 251, 145, 534, 1, 53, 115, 154, 312, 164, 70, 728, 795, 300, 9, 22, 862, 558, 629, 51, 1115, 350, 507, 788, 6, 101, 386, 558, 197, 250, 1, 827, 172, 61, 229, 18, 72, 78, 27], [99, 321, 182, 66, 734, 558, 295, 21, 19, 169, 3, 15], [1, 351, 714, 23, 1, 158, 301, 244], [1, 2, 102, 16, 332, 46, 182, 69, 194, 625, 18, 370, 437, 646, 257], [5, 1, 85, 4, 91, 28, 156, 601, 35, 759], [1, 70, 13, 379, 18, 17, 67, 823, 98, 1, 2, 42, 174, 104, 775, 65, 675, 154, 246, 525], [5, 1, 940, 49, 5, 317, 382, 341, 10, 60, 499, 985, 9, 41, 594, 375, 30, 917, 49, 26, 134, 18, 33, 44, 309, 1369, 16, 77, 84, 415, 458, 83, 280, 89, 1, 13, 189], [133, 327, 3, 15, 384, 239, 15, 133, 772, 4, 1, 565, 205], [453, 35], [11, 1, 187, 574, 149, 5, 994, 37, 308, 1, 33, 397, 151, 4], [25, 1, 207, 14, 491], [504, 347, 1], [148, 25, 1, 2, 5, 56, 47, 397, 107, 529, 12, 333, 105, 13, 159, 32, 111, 283, 391, 111, 10, 58, 453, 30, 615, 206, 802, 269, 157, 18, 239, 798, 406, 104, 14, 1], [1, 194, 1327, 351, 938, 9, 267], [5], [11, 1, 74, 51, 339, 151, 99, 226, 511, 3, 60, 11, 22, 1, 1, 99, 175, 528, 298, 13, 494, 867, 280, 89, 11, 4, 987, 58, 600, 699, 166, 127, 101, 22, 92, 13], [3], [5, 1, 11, 87, 202, 24, 81, 8, 522, 260, 576, 260, 370, 51, 55, 173, 57, 8, 89, 444, 6], [1, 66, 35, 198, 481, 8, 35, 425, 597, 78], [31, 1, 2, 357, 679, 23, 1], [15, 102, 10, 2, 556], [2, 102, 72, 78, 15], [11, 1, 56, 280, 1, 58, 134, 5, 741, 9, 86, 144, 116, 26, 3, 294, 468, 234, 61, 49, 1, 471, 5, 5, 1, 11], [600, 78], [5, 72, 69, 280, 399, 1239, 21, 19, 669, 1, 853, 38, 359, 191, 8, 942, 215, 329, 8, 89, 156, 132, 2, 732, 197, 558, 862, 2, 102, 391], [1, 194, 1327, 351, 938, 9, 267], [49, 179, 78, 15], [31, 15, 18, 1234, 595, 62, 254, 64, 163, 280, 93, 1247, 188, 1381], [1, 122, 152, 124, 32, 521, 8, 1328, 724, 551, 1133, 142, 1, 1261, 1328, 135, 1261, 551, 60, 38, 176, 129, 104, 14, 280, 89, 71, 763, 470, 1328, 871, 1261, 643, 304, 1, 1242, 143, 38, 8, 7, 608, 1328, 655, 17, 1328, 265, 136, 30, 1009, 140, 1371, 66, 161, 198, 1009, 101, 280, 89, 605, 351, 18, 581, 23, 14, 1, 178, 161, 1328, 1, 1457, 351, 134, 10, 261, 351, 36, 1, 138, 781, 1, 1360, 94, 644, 426, 1001, 351, 410, 1144, 491, 647, 41, 621, 253, 53, 22, 2, 104, 14, 71, 33, 767, 217, 597, 333, 69, 277, 600, 53, 1347, 23, 1, 5, 682, 700, 400], [40, 1, 1189, 553, 553, 157, 440, 1167, 208, 250, 895, 280, 164, 89, 6, 112, 382, 112, 187, 149, 216, 112, 382, 112, 187, 149, 40, 1, 112, 382, 112, 187, 149, 22, 7, 182, 288, 65, 1004, 73, 1, 494, 667, 412, 1, 288, 682, 297, 16], [5, 15], [15, 31, 24, 14], [11, 5, 1184, 81, 124], [5, 1], [216, 280, 89, 27, 778, 76, 56, 6, 450, 84, 277, 216, 334, 47, 237, 239, 1, 12, 213, 52, 1, 76, 245], [1329, 229, 5, 9, 26, 1432, 461, 482, 313, 8, 61, 557, 1280, 274, 102, 370, 83, 84], [415, 23, 1, 35, 442, 91, 280, 348, 162, 91, 91, 348, 162, 280, 237, 395, 100, 237, 939], [1, 5, 88, 313, 386, 70, 734, 124], [109, 434, 1267, 242, 166, 32, 327, 1, 141, 256, 234, 242, 87, 13, 26, 93, 3, 517, 195, 258], [850], [47, 4, 1, 923, 6, 1222, 67, 220, 1062, 133, 546, 535, 1440, 484, 866, 493, 39, 284, 292, 66, 34, 103, 67, 245, 99, 151, 240], [257, 83, 280, 89, 285, 47, 4, 1, 1, 376, 332, 527, 56, 253, 677, 1221, 9, 7, 101, 75, 1, 944, 13, 655, 41, 2, 307, 10, 369, 6, 32, 1, 944, 1087, 637, 9, 623, 251, 166, 1192, 353, 162, 280, 157, 68, 1084, 554, 140, 14, 6, 140, 668, 1, 36, 722, 1001, 124, 80, 566, 59, 127, 72, 533, 32, 130, 45, 73, 1, 95, 1393, 257, 105, 110, 1, 1365, 99, 48, 292, 12, 58, 140, 14, 1, 80, 75, 6, 12, 28, 100, 1, 68, 713, 13, 105, 592, 669, 156], [189, 83, 280, 1, 6, 415, 11, 6, 115, 155, 118, 42, 108, 257, 9, 115, 354, 138, 36, 312, 126, 919, 510, 54, 280, 34, 3, 683, 138, 775, 119, 36, 520, 360, 870, 1232, 307, 10, 989, 448, 149, 19, 445, 10, 79, 79, 190, 851, 4, 1, 50, 17, 1047, 186, 308, 86, 286, 133, 81, 59, 1428, 963, 30, 66, 994, 37, 6, 144, 4, 8, 1145, 26, 293, 1216, 1310, 386, 429, 77, 408, 738, 429, 200, 52, 1], [3, 1, 40, 637, 67, 285, 47, 4, 1015], [66, 122, 532, 81, 71, 1093, 2, 280, 89, 742, 172, 253, 10, 60, 89, 503, 426, 204, 872, 10, 60, 89, 106, 39, 324, 135, 280, 755, 10, 458, 6, 426, 581], [1, 102, 327, 49, 81, 276, 231, 266, 280, 344], [524, 1, 523, 21, 19, 319, 128, 280, 138, 2, 152, 69, 378, 1, 4, 143, 8, 4, 1, 45, 35, 249, 849, 234, 602, 289, 78, 173, 27], [5, 1, 512, 26, 10, 152], [], [5, 1, 327, 13], [1, 22, 5, 22, 7, 267, 1, 200, 268, 268, 1394, 63, 8, 21, 19, 2, 63, 573, 98, 174, 91, 21, 19, 1, 12, 19, 138, 21, 19, 98, 1, 91, 1, 83, 279, 254, 21, 19, 2, 102, 167, 467, 63, 174, 51, 8, 2, 93, 67, 705, 123, 40, 103, 230, 130, 188, 78, 157, 162, 76, 268, 146, 73, 95, 90, 8, 468], [3, 1, 10, 3], [2, 18], [25, 187, 172, 351, 357], [5, 23], [5], [34, 239, 1, 40, 13], [5, 1], [239, 475, 279], [541, 5, 66, 1243, 81, 965, 6], [5, 15, 327, 13, 1031, 81, 260, 15, 524], [6, 86, 91, 1, 1101, 45, 15, 231, 754, 18, 338, 78, 27, 173, 200, 52], [3, 1, 31, 327, 337, 23, 82, 56, 13, 25, 65, 1434, 237, 323, 3, 1380, 133, 269, 40, 98, 105, 277, 204, 519, 4, 110, 552, 24, 473, 49, 1423, 39, 23, 381, 9, 622, 164, 123, 164, 173, 84, 259, 14, 1275, 61, 138, 441, 849, 238, 717, 727, 370, 13, 27, 3, 242, 258, 107, 441, 1330, 52], [3, 15, 10, 30, 696], [1, 345, 69, 700, 8, 77, 496, 130, 6, 191, 21, 19, 657, 38, 5], [5, 1, 178, 44, 279, 340, 369, 70, 36, 279, 340, 11, 256, 15, 869, 2, 5], [1, 22, 29, 599, 183, 682, 326], [1, 109, 334, 32, 343, 3, 1237, 187, 327, 115, 24, 386, 133, 1081, 68, 1, 2, 18, 147, 246, 74, 20], [3, 1, 269], [73, 343, 744, 24], [98, 47, 40, 82, 9, 303, 2, 82, 111, 93, 442, 182, 288], [1, 5, 384, 11, 9, 639, 813, 49, 131, 320, 196, 434, 224, 1266, 382, 112, 154, 71, 510, 181, 49, 18, 26, 43, 410, 1348, 59, 13, 566, 251, 760], [331, 279, 84, 78, 189, 3, 43, 279, 33, 57, 10, 60, 229, 639, 698, 29, 448, 2, 272, 11, 315, 329, 49, 30, 1304, 388, 23, 14, 36, 385, 71, 1177, 300, 188, 158, 561, 315, 329, 40, 315, 329, 295, 315, 522, 909], [109, 202, 5, 1, 54, 77], [178, 211, 4, 305, 169, 11, 106, 4, 256, 1, 6, 782, 1290, 49, 639, 813, 186, 9, 29, 26, 341, 1046, 1, 37, 1329, 36, 29, 350, 8, 551, 126, 112, 154, 382, 126, 7, 1199, 531, 444, 28, 311, 9, 706, 618, 35, 9, 813, 312, 477, 39, 1036, 315, 329, 1331, 200, 735, 851, 81, 23, 1112, 556, 30, 385, 34, 4, 374, 82, 94, 361, 23, 385, 143, 315, 385, 23, 522, 256, 34, 246, 556, 39, 56, 825, 585, 81, 55, 101, 39, 30, 83, 82, 65, 97, 1, 8, 34, 527, 37, 372, 474, 127, 8, 527, 745, 58, 279, 340, 36, 1041, 55, 195, 239, 196, 426, 1294, 211, 16, 287, 417, 212, 1, 1205], [134, 82, 984, 46, 22, 437, 5, 43, 1, 110, 785, 148, 90, 715, 126, 212, 662, 469, 328, 5, 854, 135, 486, 964, 1233, 71], [345, 150, 1111, 279, 1, 239, 169, 551, 43, 1070, 188, 1289, 412, 1332, 150, 131, 169, 101, 69, 108, 123, 55, 169, 33, 9, 118, 391, 42, 20, 50, 17, 1150, 1225, 740, 4, 87, 96], [11, 139, 314, 422, 126, 212, 155, 314, 186, 143, 7, 29, 71, 114, 806, 126, 52], [86, 177, 144, 78], [345, 150, 1111, 279, 1, 239, 169, 551, 43, 1070, 188, 1289, 412, 1332, 150, 131, 169, 101, 69, 108, 123, 55, 169, 33, 9, 118, 391, 42, 20, 50, 17, 1150, 1225, 740, 4, 87, 96], [72, 122, 3, 13, 348, 5, 1, 279, 340, 589, 8, 427, 37, 2, 852, 305, 72, 9, 26, 31, 10, 60, 93, 48, 57, 75, 279], [31, 1, 11, 16, 464, 539, 279, 29, 1146, 99, 57, 194, 1, 4, 49, 95, 5], [24, 9], [106, 4, 61, 93, 236, 864, 40, 124, 53, 126, 195, 48, 169, 51, 34, 7, 82, 10, 673, 133, 639, 698, 36, 72, 285, 995, 261, 7, 44, 9, 119, 542, 486, 878, 698, 121, 7, 384, 714, 26, 180, 8, 738, 394, 197, 112, 1266, 112, 154, 365, 4, 118, 108, 4, 1031, 17, 121, 43, 93, 195, 349, 1004, 113, 390, 494, 44, 66, 1004, 418, 213], [31], [147, 70, 161, 81, 385, 321, 1, 93, 108, 148, 243, 36, 210, 85, 86, 23, 1, 5, 40, 465, 14, 168], [5, 1, 5, 16, 25, 6, 270, 4, 164, 47, 184, 312, 949, 38, 559, 531], [5, 1], [5, 876, 591, 1, 120, 787, 17, 43, 3], [148, 26, 580, 499, 978, 61, 352, 447, 349, 229], [11, 139, 314, 422, 126, 212, 155, 314, 186, 143, 7, 29, 71, 114, 806, 126, 52], [279, 259, 108, 4, 6, 155, 586, 14, 279, 301, 40, 449, 349, 10, 1350, 1263, 1066, 112, 4, 6, 155, 39, 653, 885, 813, 2, 34, 18, 1016, 1356, 3, 97, 290, 7, 38, 36, 1025, 47, 12, 98, 51, 1295, 143, 303, 412, 279, 8, 340], [64, 163, 40, 932, 425, 48, 100, 1, 178, 293, 239, 347, 1, 49, 3, 636, 302, 163, 26, 86, 122, 3, 210, 51, 5, 1, 16, 198], [20, 655, 407, 451, 41, 17, 3, 293, 1, 29, 49, 157, 37, 261, 26, 3, 46, 141, 414, 463, 91, 2, 1384], [306, 704], [445, 3, 23, 720, 24, 2, 746, 921, 1002, 265, 1434, 237, 16, 52, 78, 28, 23, 6, 270], [92, 48, 168, 600, 78, 268, 8, 168, 459, 1136], [357, 2, 91, 147, 243, 1, 136, 91, 1217, 386, 77, 8, 827, 95], [7, 2, 605, 136, 217, 2, 18], [803, 274, 49, 421, 5, 149, 72, 1, 72], [11, 48, 194, 1, 983, 821, 89, 382, 223, 14, 308, 61], [168, 109, 783, 1150, 147, 161, 259, 280, 89, 1239, 147, 386, 20, 1093, 104, 14, 6, 12, 27, 161, 147, 168, 520, 104, 14, 12, 40, 285, 168, 2, 46, 101, 835, 79, 346, 32, 724, 740, 512, 9, 10, 673, 436, 190, 1, 13, 102], [244, 780, 91, 908, 859, 1046, 418], [239, 168], [239], [34, 152, 125, 1, 94, 16], [406, 267, 1, 12, 141, 135, 2, 1, 243, 12, 615, 12, 637, 870, 9, 1404, 216, 38, 668, 10, 30, 366, 556, 1249, 12, 106, 243, 316, 8, 14, 1, 258], [152], [306], [1091, 185], [239], [5, 1], [1, 70, 510, 1193, 1076, 6, 509, 276, 398, 2, 99, 73, 443, 833, 268, 8, 525, 1134], [31], [31, 1275, 463, 2, 42, 89, 1384], [850], [1, 22, 339, 571, 4, 492, 176, 114, 1419, 59, 1116, 1419, 148, 630, 475, 715, 229, 92], [1330, 239, 15, 159, 151, 12, 52, 15, 461, 661, 92], [45, 1, 13, 97, 1, 276, 59, 127, 13, 132, 167, 99, 68, 214, 1, 145, 14, 149, 19, 25, 196, 145, 149, 19, 22, 7, 413, 126, 7, 149, 19, 1, 630, 456, 59, 614, 353, 224, 1131, 1, 162, 106, 45, 269, 484, 23, 250], [89, 89, 748, 865, 125, 991, 632, 132, 582, 887, 5, 220, 132, 132, 41, 167, 631, 142, 17, 18, 1, 196, 96, 5, 26, 373], [613, 704, 680, 1106, 685, 392, 167, 269, 1179, 1270, 710, 1027, 1270, 586], [125, 70, 276], [543, 685], [119, 20, 587, 1074, 13, 8, 269], [5, 15, 5, 16], [5, 1, 339, 636, 123, 52, 76, 65, 138, 164, 280, 1048, 557, 330, 21, 600, 78, 330, 21, 106, 99], [11, 108, 9, 49, 5, 38, 625, 40, 32, 46], [25, 1, 1346, 62, 5, 10, 349, 453, 30, 10, 473, 319, 190, 33, 598, 579, 4, 20, 8, 14, 10, 1], [1, 2, 102, 12, 85, 83, 20, 313, 55, 83, 362, 444, 918], [29, 231, 721, 1276, 27, 14, 1, 22, 4, 143, 14, 4, 115, 217, 36, 328], [2, 18, 80, 160, 1438, 741, 389, 503, 112, 382, 444, 112, 1438, 97, 1, 1325, 370, 98, 264, 1322, 10, 611, 307, 241, 30, 1319, 376, 39, 1, 36, 597, 608, 291, 368, 1157, 1120, 495, 233, 201, 815, 689, 17, 39, 83, 735, 1267, 1, 330, 1137, 361, 45, 41, 17, 6, 368, 6, 8, 1042, 17, 156, 17, 304, 886, 164, 12, 62, 136, 1267, 717], [40, 177, 330, 21, 208, 169, 34, 239, 97, 360, 177, 53, 4, 75, 520, 34, 148, 870, 949, 94, 91, 82, 113, 629, 725, 188, 13, 32, 2, 102, 34, 815], [746, 923, 24, 4, 1, 62, 1011, 101, 1370, 135, 128, 1, 62, 93, 120, 207, 10, 60, 8, 510, 242, 237, 32, 110, 20, 30, 97, 157, 68, 285, 269, 702, 24, 343, 617, 775, 68, 1001], [31, 153, 1, 49, 1423, 3, 26, 670, 121], [405, 9, 381, 1402, 7, 351, 582, 9, 9, 255, 138, 71, 184, 542, 18, 899, 180, 7, 1400], [71, 646, 893, 366], [445], [86, 271, 171, 11, 729, 68, 620, 205], [8, 198, 332, 1, 184, 64, 163, 812, 211, 71, 1, 266, 211, 1060, 1047, 251, 162, 560, 451, 2, 1, 1, 45, 301, 336, 4, 217, 509, 261, 119, 178, 27, 161, 643, 928, 12, 8, 185, 97, 148, 1, 66, 98, 10, 29, 10, 79, 127, 13, 73, 1, 8, 389, 51], [72, 3, 342, 7, 108, 22, 447, 7, 163, 211, 937, 896, 330, 821, 421, 97, 120, 18], [115, 119, 107, 2, 362, 107, 266, 224, 158, 28, 611, 177, 1], [3], [46], [109, 413, 411, 835], [1, 3, 234, 24, 159, 13, 95, 8, 640, 24, 474, 300, 1, 101, 8, 369, 172, 282, 907, 1, 924, 83, 282, 1, 335, 95, 127, 38, 59, 59, 13, 51, 94, 93, 1], [38, 1, 105, 277, 427, 1458, 843, 314, 54, 69, 691, 523, 10, 867, 20, 1089, 21, 19, 1129, 145, 439, 146, 118, 576, 21, 811, 777, 566, 52, 594, 130, 319, 128, 679, 8, 80, 19, 12, 54, 154, 97, 998, 115, 819, 184, 42, 1, 187, 172, 70, 1166, 283, 532, 51, 1078, 266, 509, 283, 30, 1, 924, 49, 216, 315, 651, 480, 588, 497, 10, 213, 673, 122, 49, 122, 54, 157, 51, 28, 859, 237, 1427, 10, 10, 171, 7, 922, 1061, 999, 30, 159, 32, 200, 774, 630, 594, 99, 282, 37, 6, 11, 113, 8, 679, 6, 13, 1047, 37, 339, 172, 687, 257, 87, 1198, 37, 266, 1198, 507, 1192, 480, 794, 534, 894, 34, 54, 1, 282, 548, 721, 1459, 171, 1192, 847, 308, 37, 113, 1460, 533, 1, 26, 1281, 221, 27, 1, 148, 448, 37, 480, 26, 421, 41, 784, 33, 383, 233, 63, 26, 110, 971, 566, 56, 59, 339, 251, 94, 2, 1302, 84, 12, 80, 509, 1263, 2, 26, 2, 245, 55, 1429, 113, 36, 213, 154, 26, 305, 4, 37, 234, 171, 106, 305, 1170, 61, 1, 44, 805, 22, 95, 203, 889, 240, 68, 1497, 41, 121, 7, 63, 182, 1434, 718, 69, 1036, 695, 1398, 727, 62, 912, 225, 186, 809, 918, 186, 261, 22, 9, 186, 62, 298, 766, 238, 130, 912, 807, 186, 93, 248, 1, 465, 597, 13, 353, 539, 48, 912, 110, 2, 102, 10, 673, 6, 769, 77, 110, 170, 1152, 161, 1, 7, 22, 13, 439, 146, 366, 352, 22, 170, 2, 12, 213, 715, 4, 902, 228, 69, 13, 857, 4, 1, 228, 213, 2, 53, 847, 1333, 1, 535, 445, 175, 27, 22, 1317, 8, 87, 4], [11, 1295, 1, 130, 56, 193, 47, 539, 193, 127, 335, 1417, 686, 282, 1, 843, 287, 335, 877, 21, 187, 172, 109, 1120, 636, 147, 965, 194, 283, 76, 439, 902, 647, 522, 205, 553, 161, 439, 742, 21, 112, 181, 19, 111, 2, 7, 254, 707, 244, 522, 146, 63, 2, 5, 9, 777, 339, 37, 2, 1295, 1295, 233, 448, 90, 63, 26, 211, 146, 219, 843, 1379, 544, 37, 85, 59, 105, 171, 172, 1212, 322, 39, 211, 188, 461, 598, 579, 17, 322, 99, 144, 66, 742], [3, 314, 225, 43, 55, 114, 882, 12, 411], [728, 1, 16, 519, 2, 46], [5, 16, 737, 325, 589, 505, 53, 4], [16, 1074, 62, 31, 23, 394, 7, 223, 224, 485, 320, 196, 3, 379, 244, 3, 118, 1409, 284, 598, 579, 1055, 567, 637, 464, 432, 43], [750, 134, 72, 7, 264, 1, 764, 520, 1022, 615, 132, 370, 957, 10, 630, 13, 39, 1332, 142, 278, 13, 74, 1, 18, 390, 27, 651, 23, 83, 248, 263], [1, 100, 53, 466, 158, 23, 686, 1, 74, 20], [29, 82, 439, 8, 439, 516, 287], [2, 18, 3, 118, 3, 16], [152, 10, 60, 176], [306], [5, 1, 134, 16, 35, 697, 86, 368, 61, 1, 417, 170, 4, 188, 104, 164, 305, 235, 320, 154, 1, 17, 639, 86, 4, 49], [51, 791, 458, 23, 61, 1, 44, 242, 84, 34, 20, 35, 1, 390, 86, 1, 55, 25, 69, 996, 56, 34, 323, 1, 339, 186, 662, 568, 36, 328, 719, 173, 469, 22, 5, 5, 114, 964, 354, 151, 203, 52, 4, 71, 229, 1, 34, 323, 443, 884, 61, 269, 49, 34, 223, 308, 51, 95, 90, 9, 22, 134, 489, 777, 244, 204, 64, 1, 26, 152, 63, 723, 1422, 693, 305, 72, 200, 43, 96, 197, 29, 10, 229, 55, 57, 79, 32, 365, 425, 930, 32, 4, 1, 513, 79, 292, 44, 3, 1, 16, 384, 52, 34, 78, 130, 29, 1, 353, 566, 227, 8, 4, 570, 205, 110, 198, 574, 100, 404, 310], [152, 1, 175, 506, 89, 227, 72, 108, 124, 12, 106, 17, 115, 394, 495, 16, 116, 101, 57, 210, 242, 258, 358, 26, 547, 66, 226, 882, 785, 390, 317, 542, 144, 20, 299, 112, 172, 28, 112, 382, 222, 67, 512, 481, 93, 384, 287], [5, 15, 298, 264, 43, 29, 16, 49, 179, 290, 339, 92, 87, 65, 113, 38], [5, 16, 563, 53, 410, 1348, 837, 1, 67, 1493], [22, 5, 26, 12, 2, 13, 1, 12, 474, 221, 111, 107, 250, 194, 474, 63, 71, 51, 73, 937, 71, 123, 71, 85, 174, 71, 53, 51, 332, 103, 873, 65, 678, 218, 73, 3, 7, 1255, 378, 382, 59, 311, 1415, 295, 181, 19, 35, 2, 249, 488, 12, 57, 307, 10, 7, 146, 307, 10, 1, 123], [57, 46, 31, 530, 1055, 567, 152, 639, 813, 5, 62, 12, 23, 699, 38, 444, 4, 64, 458], [11, 279, 1, 34, 3, 1, 100, 390, 428, 51, 58, 2, 5, 126, 3, 155, 422, 31, 26, 139, 18, 35, 2, 24, 91, 89, 357, 183, 106, 331, 506, 1, 203, 27, 249, 1, 374, 1068, 25, 6, 502, 1431, 123, 22, 747, 869, 293, 82, 3, 293, 321, 62, 7, 564, 7, 1332, 1456, 402, 9, 259, 27, 1068, 602, 85, 12, 223, 18, 91, 89, 357, 135, 7, 62, 9, 57, 506, 89, 1, 16, 87, 532, 62, 439, 37, 2, 18, 158, 7, 122, 48, 256, 1, 296, 439, 51, 7, 339, 864, 61, 693, 26, 5, 59, 48, 57, 614, 1068, 34, 713, 280, 848, 139, 100, 96, 915, 234, 2, 49, 133, 614, 111, 18, 131, 780, 495, 1317, 41, 121, 350, 328, 155, 10, 60, 105, 93, 3, 655, 2, 18, 8, 952, 297, 32, 110, 30, 49, 30, 8, 30, 207, 17, 43, 31, 253, 235, 320, 848, 268, 67, 95, 41, 17, 235, 69, 1447, 37, 224, 847, 320, 220, 357, 1184, 1, 126, 3, 155, 622, 275, 6, 155, 986, 848, 41, 87, 29, 71, 254, 266, 351, 71, 5, 71, 506, 89, 188, 3, 71, 683, 1068, 39, 644, 9, 381, 314, 178, 42, 448, 29, 126, 506, 89, 9, 653, 885, 813, 133, 269, 313, 813, 39, 111, 9, 5, 291, 4, 976, 813, 848, 111, 1456, 1, 1350, 24, 229, 123, 112, 382, 112, 1159, 317, 222, 1, 8, 527, 740, 219, 603, 38, 129, 145, 1163, 26, 197, 1108, 87, 197, 82, 16, 591, 266, 6, 227, 48, 682, 1461, 195, 259, 279, 595, 518, 35, 7, 1118, 61, 506, 62, 455, 406, 48, 57, 26, 149, 317, 293, 48, 57, 10, 60, 12, 52, 82, 158, 22, 43, 104, 428, 16, 1, 2, 18, 183, 3, 10, 60, 54, 30, 499, 317, 29, 9, 31, 26, 3, 155, 31, 16, 372], [], [152, 1, 16], [31, 42], [494, 30, 1, 67, 107, 1, 123, 267, 1, 442, 14, 12, 789], [3, 31], [152, 1, 70, 5, 88, 833, 1462, 53, 2, 556, 40], [3, 43, 49, 24], [], [1, 446, 46, 313, 55, 8, 83, 260, 1, 241, 595, 94], [1, 2, 140, 36, 297, 525, 148, 43, 125, 1, 106, 27, 250, 76], [113, 30, 10, 626, 945, 1, 437, 228, 180, 863], [109, 13, 342, 20, 80, 1, 117, 1, 85, 113, 1147, 1, 231, 225, 16, 2, 5], [1, 2, 556, 33, 4, 13, 70, 147, 148], [1, 301, 14, 147, 313, 697, 612, 13, 242, 38, 788], [85, 1, 76, 65, 326, 1, 12, 2, 117, 707, 117, 612, 762, 170, 1, 117, 451, 117, 4, 4, 164, 292, 97, 63, 170, 1, 2, 571, 32, 666, 82, 509, 117, 157, 68, 1435, 622, 72, 82, 93, 141, 86, 438, 9, 402, 133, 17, 165, 24, 63, 4, 68, 20, 165, 642, 271, 271, 1127, 54, 562], [703, 7, 464, 22, 2, 3, 753, 328, 572, 1], [968, 1, 33, 41, 17, 276, 1, 1138, 7, 176, 631, 97, 152, 9, 228], [5, 1], [], [306], [671, 1, 27, 2, 32, 148], [25, 342, 17, 214, 1, 273, 9, 1040, 40, 1, 304, 477, 333, 343, 9, 552, 652, 1, 6, 438, 27, 144], [10, 60, 555, 87, 1412], [5, 15], [356, 9, 104, 14, 25, 6, 110, 1, 390, 833, 23, 510, 633, 596, 164, 337, 886, 6, 626, 199, 38, 110, 904, 6, 8, 240, 204, 288, 1, 596, 164, 703, 20], [884, 234, 551, 1174, 596, 1, 41, 7, 739], [296, 56, 24, 179, 1330, 475, 13, 24, 222, 1, 152, 78, 178, 76, 52, 245], [278, 271, 151, 1, 3, 503, 270, 75, 1282, 165, 9, 260, 1, 7, 1282, 286, 244, 286, 3, 55, 75, 118, 9, 616, 733, 9, 3, 10, 60, 1498, 30, 1, 802, 346, 13, 32, 548, 61, 234, 1203, 1, 292, 146, 437, 244, 513, 755, 266, 1224, 110, 8, 1332, 167, 132, 1184, 75, 1, 183, 1138, 24, 1010, 8, 4, 1282, 228, 10, 60, 3, 39, 25, 1064, 842, 81, 1363, 585, 30, 2, 138, 88, 1329, 1334, 10, 1051, 610, 134, 270, 93, 1, 1064, 563, 257, 55, 1, 399, 10, 626, 423, 1004, 114, 1, 519, 38, 4, 40, 1, 123, 8, 691, 12, 106, 114, 60, 270, 134, 169, 314, 5, 189, 20], [5, 26, 644, 470, 436, 105, 33, 124, 3, 71, 328, 644, 338, 1040, 1261, 48, 289], [1, 1074, 276, 2, 556, 12, 715, 23, 267, 15], [8, 1, 4, 32, 38, 81, 867, 484, 30, 81, 484, 1, 855, 138, 150, 1, 2, 3, 81, 484, 2], [161, 14, 1, 56, 51, 253, 1149, 574, 441, 231, 582, 1, 22, 248, 7, 244, 96, 6, 243, 1062, 441, 1062, 178, 170, 1, 273, 215, 775, 10, 1463, 188, 215, 768, 249, 762, 170, 1, 243, 407, 65, 830, 101, 67, 93, 622, 2, 67, 1005, 672, 241, 1, 830, 441, 36, 201], [169, 524, 1, 100, 5, 1127, 774, 177, 881, 1, 858, 408, 28, 1063, 447, 82, 616, 118, 393, 469, 887, 1408, 644, 9, 41, 325, 22, 120, 177, 59, 910, 462, 1, 112, 317, 112, 242, 507, 435, 779, 156, 1110, 112, 275, 352, 317, 339, 1, 544, 1420, 19, 355, 27, 289, 112, 19, 1123, 317, 447, 1, 544, 4, 191, 251, 224, 188, 559, 779, 539, 310, 187, 317, 490, 208, 261, 495, 26, 373, 856, 26, 856, 26, 240, 1297, 782, 31, 229, 33, 10, 1049, 9, 489, 985, 1071, 489, 120, 18, 311, 489, 647, 689, 977, 374, 32, 226, 32, 10, 60, 784, 56, 297, 30, 79, 32, 190, 266, 190, 9, 13, 181, 19, 355, 1123, 317, 1415, 341, 131, 235, 121, 43, 350, 35], [5], [12, 1, 373, 26, 573, 294, 603, 966, 121, 574, 13, 4, 1, 175, 72, 56, 177, 332, 248, 99, 302, 97, 99, 1, 2, 6, 51, 213, 7, 1, 295, 181, 599, 506, 89, 293, 1293, 221, 325, 191, 87, 575, 1, 477, 28, 38, 1, 520, 89, 172, 171, 254, 112, 295, 181, 75, 1, 189, 310, 471, 1, 39, 87, 581, 89, 759, 87, 57, 99, 461, 727, 20, 1, 184, 312, 9, 7, 616, 1, 506, 399, 86, 683], [34, 11, 31, 1, 225, 16, 86, 23], [281, 7, 3], [1, 434, 137, 547, 187, 317, 146, 8, 155, 37, 139, 317, 1033, 427, 37, 181, 19, 175, 325, 288, 6, 1, 1071, 1297, 26, 361, 460, 373, 26, 1177, 1209, 37, 96, 285, 489, 291, 364, 58, 127, 79, 10, 143, 79, 190, 4, 361, 668, 18, 210, 32, 4, 1335, 167, 122, 143, 221, 8, 153, 1, 56, 291, 261, 26, 906, 1, 762, 132, 1, 497, 315, 385, 1379, 234, 2, 334, 1036, 61, 256, 191, 37, 361, 256, 420, 4, 61, 37, 1, 976, 29, 256, 451, 68, 114, 3, 689, 17, 50, 141, 7, 716, 17, 4, 256, 162, 101, 28, 17, 122, 133, 169, 34, 143, 123, 1, 56, 177, 166, 127, 369, 189, 7, 18, 74, 976, 148, 137, 1066, 1, 241, 229, 95, 331, 1, 226, 47, 1, 237, 351, 627, 107, 141, 40, 889, 455, 94, 8, 969, 220, 303, 2, 151, 629, 159, 232, 476, 592, 132, 21, 19, 742, 303, 2, 94, 841, 1], [1382, 69, 1, 3, 16], [2, 93, 53, 199], [506, 89, 80, 84, 344, 955, 67, 16, 299, 229, 40, 89, 855, 42, 102, 6, 40, 105, 277, 33, 648, 955, 67, 621, 165, 344, 592, 121, 5, 11, 89, 104, 14, 1, 195, 48], [3, 1], [74, 5], [616, 46, 3, 10, 40, 884, 827, 95, 494, 194, 14, 2, 35, 65, 1354, 7, 14, 43, 175], [31], [3, 137, 153, 1], [3, 137, 153, 1], [31], [1002, 473, 367, 35, 460, 442, 35, 6, 138, 1089, 21, 19, 377, 441, 35, 460, 737, 892, 35, 460, 391, 91, 631, 92], [1, 152, 23, 28, 194, 982, 118, 226, 139, 1067], [5, 1], [536, 1, 37], [72, 3, 7, 51, 674, 69, 24, 85, 1089, 21, 19, 146, 454, 59, 75, 21, 19, 573, 14, 1, 63, 95, 278, 47], [15, 74, 46, 364, 1, 2, 5, 175, 337, 327], [5, 536, 5, 16, 327, 32, 65, 1075], [3, 1, 16], [16, 53, 3, 1, 295, 181, 355, 1055, 567, 389, 111, 12, 42], [148, 285, 1025, 47, 1, 237, 303, 120, 8, 314, 527, 30, 592, 10, 436, 190, 292, 30, 13, 56, 695, 90, 144, 1188, 1043, 148], [1, 80, 605, 279, 940, 5, 231, 697, 9, 108, 154, 7, 1, 54, 462, 6, 155, 396, 36, 126, 806, 491, 1, 3, 270, 818, 1238, 44, 64, 2, 1, 84, 75, 139, 7, 104, 14], [11, 1], [1, 984, 46, 9, 347, 10, 127, 79, 500, 61, 258, 347, 51, 28, 5, 1, 68, 258, 8, 1, 866, 246, 11], [11], [2, 49, 787, 9, 94, 118, 108, 115, 17, 43, 5, 305, 1], [25, 153, 1, 35, 7, 168, 509, 364, 125, 1, 199, 117, 39, 321, 271, 161, 21, 355, 268, 218, 99], [109, 2, 207], [506, 340, 31, 1100, 210, 1, 53, 709, 922, 1061, 97, 506, 340, 278, 67, 10, 133, 139, 527], [7, 1, 1096, 2], [2, 7, 104, 14, 67, 211, 47, 4, 78, 27], [25, 226, 98, 84, 277, 4, 579, 5, 1, 68], [1, 70, 10, 3, 274, 30, 1, 39, 1155, 74, 375, 624, 1, 1336, 7, 951, 18], [22, 1164, 101, 15, 417, 1164, 251, 228, 143, 40, 182, 288, 173, 182, 288, 471, 148, 528, 1006, 1, 2, 141, 24, 4], [172, 228, 107, 8, 85, 80, 708, 564, 98, 84, 535, 597, 661, 2, 840, 21, 19, 89, 68, 322, 54, 6, 155, 275, 394, 638, 17, 192, 210, 17, 192, 7, 1161, 1232], [1, 2], [168, 70, 110, 81, 146, 4, 6, 105, 146, 30, 515, 30, 709, 81, 184, 540], [28, 252, 128, 50, 69, 166, 69, 127, 8, 287, 335], [6, 1, 694, 4, 26, 363, 508, 336, 933, 1459, 151, 99, 41, 17, 1, 73, 199, 1459, 336, 933, 151, 35, 33, 299, 35, 460, 17, 55, 35, 239, 92], [7, 1, 140, 36, 222, 48, 477, 8, 83, 99, 257], [28, 80, 6, 263, 84, 23, 706], [1, 6, 758, 1275, 264, 150, 758, 12, 135, 669, 90, 4, 1, 299, 180, 472, 754, 142, 1, 247, 222, 87, 1402, 328, 41, 1, 523, 312, 120, 131, 320, 154, 992, 252, 697, 716, 136, 3, 591, 733, 359, 89, 183, 493, 366, 450, 991, 142, 17, 257, 690, 583, 315, 385, 283, 254, 385, 793, 298, 887, 697, 41, 84, 370, 120, 26, 111, 121, 1266, 59, 251, 796, 110, 125, 1, 20, 26, 7, 294, 1178, 1464, 812, 741, 773, 429, 396, 695, 922, 1061, 845, 307, 7, 38, 528, 294, 324, 407, 198, 1, 796, 641, 697, 1445, 693, 84, 75, 784, 448, 369, 333, 105, 277, 142, 1, 2, 138, 673, 1139, 55, 138, 36, 312, 391, 18, 110, 217, 63, 300], [28], [697, 1391, 3, 252, 1, 3, 62, 379, 5, 12, 52, 15, 3, 214], [388, 33, 2, 1, 111, 1, 70, 389, 49, 33, 2, 158, 750, 377, 679, 605, 316, 53, 140], [78], [7, 583, 172, 6, 4], [1, 102, 20, 633, 921, 117, 191, 55, 170], [351, 627], [141], [193, 2, 18, 154, 4, 479, 21, 19, 68, 30, 105, 225, 630, 67, 45, 1455, 50, 206, 679, 145, 90, 12, 52, 20, 1, 17, 50], [728, 1], [5, 1, 5, 68], [133, 530], [212], [31, 15, 52], [180, 161, 36, 328, 491, 161, 110, 59, 12, 7, 1242, 15, 73, 193, 340, 164, 254, 14, 6, 12, 4, 83, 249, 21, 19, 246, 90, 617, 612, 258, 378, 22, 268, 12, 118, 697, 18, 405, 1, 101, 10, 706, 186, 237, 36, 71, 1, 495, 1044, 856, 887, 71, 3, 1155, 8, 36, 1, 126, 7, 1, 119, 126, 69, 212, 212, 69, 212, 7, 212, 161, 717, 375, 81, 344, 955, 24, 1, 41, 771, 7, 427, 603, 181, 295, 19, 7, 523, 1, 573, 1425, 315, 641, 283, 497, 161, 1454, 948, 95, 836, 1076, 830, 1253, 159, 539, 4, 507, 181, 19, 476, 130, 33, 161, 36, 328, 138, 1, 10, 24, 67, 1, 18, 2, 22, 7, 1044, 197, 791, 389, 60, 143, 55, 161, 1043, 365, 367, 1292, 55, 1044, 663, 182, 582, 1361, 285, 1412, 365, 367, 12, 2, 307, 181, 19, 18, 120, 771, 180, 161, 36, 328, 185, 254, 193, 340, 5, 1, 34, 662, 314, 816, 440, 1, 926, 340, 8, 957, 22, 28, 98, 22, 7, 293, 35, 632, 636], [484, 24], [3], [3], [45, 17, 50, 779, 552, 1031], [193, 54, 462, 228, 573, 718], [3], [25, 318, 263, 21, 19, 198, 38, 1, 83, 265, 91, 28, 4, 91, 332, 21, 19, 2, 1, 145, 19, 58, 183, 68, 35, 361, 1134, 21, 19, 36, 1481, 148], [43, 15, 67, 904, 212, 293, 1303, 200, 43, 121, 493, 31, 15, 16, 650], [29], [5, 1, 188, 188, 205, 28, 1, 351, 62, 1396, 28, 4, 255, 541, 246, 544, 709, 1, 193, 345, 551, 196, 242, 716, 389, 228, 3, 118, 196, 244, 26, 102, 740, 133, 251, 595, 194, 67, 301, 965, 90, 116, 453, 30, 1, 32, 277, 455, 284, 1049, 173, 278, 17, 10, 290, 297, 2], [126, 212, 659, 1, 212, 395, 100, 173, 469, 504, 212, 241, 58, 212, 154], [543, 490, 1026, 1271, 660, 281, 543, 710, 634, 660], [92], [11], [331, 193, 557, 278, 47, 928, 127, 73, 649, 4, 437, 62, 1289, 193, 4, 18, 1069, 135, 122, 3, 41, 1129, 718, 437, 66, 36, 137, 159, 13, 926, 510, 919, 557, 312, 335, 234, 401, 63, 1101, 13, 1038, 684, 247, 153, 1, 250, 127, 339, 193, 32, 1, 74, 55, 28, 367, 278, 275, 467, 70, 1160, 1017, 193, 1204, 226, 22, 1077, 532, 1161, 1327, 606, 252, 257, 261, 758, 791, 554, 258, 133, 62, 416, 1204, 557, 667, 13, 20, 36, 1289, 477, 222, 858, 412, 245, 679, 55, 313, 557, 438, 6, 134, 682, 193, 554, 114, 428, 831, 33, 124, 23, 167, 90, 831, 145, 505, 12, 374, 520, 505, 12, 46, 2, 18, 110, 889, 193, 193, 55, 218, 133, 1258, 98, 174, 15, 437, 208, 27, 15, 79, 84, 110, 331, 1, 285, 346, 47, 491, 303, 2, 1, 12, 8, 891, 527, 1, 17, 4, 990, 12, 142, 17, 221, 990, 12, 135, 111, 1, 17, 641, 372, 300, 1, 1464, 955, 679, 25, 538, 3, 665, 224, 283, 585, 567, 221, 203, 7, 372, 904, 32, 376, 193, 173, 567, 55, 223, 223, 567, 2, 18, 41, 1, 17, 625, 193, 193, 1385, 708, 1199, 137, 797, 84, 75, 99, 57, 1222, 3, 47, 277, 111, 66, 36, 130, 823, 74, 63, 63, 63, 113, 63, 438, 510, 928, 130, 18, 129, 56, 13, 38, 36, 557, 625, 23, 1, 713, 171, 7, 713, 6, 150, 65, 114, 285, 23, 1, 515, 318, 615, 18, 196], [], [1270], [4, 232, 58, 48, 93, 2, 3, 62, 20, 48], [127, 32, 1, 1, 50, 206, 18, 1, 193, 903, 36, 568, 193, 716, 3, 551, 43, 3, 10, 60, 9, 54, 145, 3, 362, 424, 1337, 151, 22], [31], [193, 89, 693, 1, 4, 717, 206, 128, 158, 191, 96, 1338, 283, 1268, 665, 224, 28, 1335, 167, 48, 520, 4, 6, 17, 153, 1], [306], [125, 1, 1055, 567, 62, 367, 4, 193, 344, 125, 1, 193, 367, 4, 344, 65, 755, 326, 1055, 567, 62, 367, 4, 344, 1169, 73, 168, 65, 254, 455, 840, 684, 344, 12, 367, 65, 193, 15, 364], [56, 25, 1, 4, 734, 34, 7, 54, 4, 487, 25, 1, 79, 84, 114, 1151, 734, 227, 81, 22, 4, 73], [40, 56, 488, 1032, 1, 310, 404, 498, 64, 1022, 228, 1, 35, 1282, 151, 721, 1, 312, 642, 6, 593, 1, 17, 907, 13, 33, 124, 199, 507, 1465, 1, 180, 271, 9, 744, 702, 761, 20, 8, 1465, 352, 9, 1465, 352, 12, 170, 215, 9, 674, 206, 845, 833, 353, 408, 299, 1132, 246, 478, 1, 1068, 1032, 636, 1, 296, 28, 611, 498, 1, 412, 488, 498, 546, 352, 33, 180, 271, 50, 642, 1, 57, 199, 64, 576, 312, 41, 17, 64, 1068, 200, 43, 841, 498, 334, 47, 277, 25, 35, 193, 329, 1, 65, 302, 1, 567, 72, 57, 1055, 379, 64, 1068, 10, 79, 151, 292, 564, 1, 546, 352, 1214, 57, 264, 383, 498, 744, 54, 116, 3, 165, 9, 43, 489, 196, 1, 615, 199, 199, 17, 43, 31, 220, 54, 49, 1110, 78, 425, 481, 911, 47, 227, 156, 209, 309, 153, 1, 98, 490, 1, 1466, 749, 36, 1077, 345, 405, 1, 28, 1, 763, 312, 155, 85, 65, 1235, 1213, 71, 193, 329, 396, 71, 1121, 42, 113, 1, 568, 721, 17, 113, 1, 6, 291, 656, 138, 39, 193, 1156, 28, 966, 17, 50, 28, 1467, 121, 43, 568, 18, 264, 1014, 121, 454, 259, 1014, 75, 1318, 1329, 246, 193, 1247, 1055, 379, 121, 57, 193, 1304, 125, 1, 404, 66, 334, 47, 59, 310, 1, 8, 69, 64, 893, 1, 1338, 113, 4, 193, 329, 1, 42, 365, 1, 630], [1026, 1277, 193, 329, 586, 1226, 962, 634, 613, 392, 1085, 543, 685, 1085, 392, 234, 705, 586, 1226, 392, 634, 392, 586, 846, 710, 962], [35, 3, 131, 31, 758, 229, 294, 4, 981, 140, 149, 297, 206, 221, 16, 241, 243], [46, 830, 3, 68, 40, 13, 4, 475, 82], [1, 186, 5, 10, 60, 9, 518, 54, 145, 119, 5, 50, 87, 7, 64, 1, 80, 6, 26, 46, 46, 8, 3, 614, 7, 1, 141, 389, 67, 51, 123, 287, 16, 12, 520, 198, 69, 120, 1, 122, 137, 16, 103, 38, 525, 182, 62, 7, 165, 9, 559, 9, 34, 7, 182, 219, 37, 5, 120, 193, 1004, 467, 182, 184, 20, 837, 1], [543, 490, 1026, 704, 660, 543, 685, 543, 1027, 1226, 1180, 543, 306], [619, 1, 47, 1099, 193, 41, 17, 45, 17, 50, 69, 28, 1292, 8, 156, 209, 53, 28, 167, 293, 1, 10, 60, 4, 32, 167, 4, 167, 4, 13, 1, 22, 5, 229, 5, 169, 31, 252, 20, 379, 5, 235, 5, 870, 24, 923, 87, 222, 8, 167, 1217, 77, 720, 140, 45, 96, 483, 50, 8, 167, 569, 55, 222, 273, 1, 124, 35, 45, 167, 1217, 206, 1, 329, 885, 717, 415, 577, 40, 222, 90, 971, 233, 90, 416, 329, 69, 481, 619, 1497, 195, 1210, 2, 140, 45, 96, 1217, 8, 167, 22, 90, 222, 1210, 2, 90, 589, 416, 278, 1127, 222, 1206, 138, 732, 222, 193, 329, 1217, 534, 77, 77, 720, 171, 77, 293, 448, 14, 511, 920, 4, 507, 372, 77, 1339, 1049, 1339, 920, 1339, 540, 77, 156, 1468, 1340, 183, 260, 260, 365, 242, 511, 1468, 678, 768, 1459, 1340, 768, 38, 36, 171, 77, 171, 451, 293, 77, 720, 171, 77, 293, 448, 14, 511, 776, 242, 511, 555, 555, 507, 372, 77, 1339, 1049, 1339, 920, 707, 1340, 678, 1339, 540, 77, 156, 1468, 1340, 183, 260, 260, 365, 242, 511, 1468, 678, 768, 1459, 1340, 768, 38, 36, 171, 77, 171, 451, 293, 11, 193, 1, 209, 376], [141, 102], [31, 82, 1043, 46, 12, 52, 245, 636, 1480, 62, 898, 975, 258], [193, 56, 104, 1, 64, 494, 55, 418, 36, 193, 4, 1, 8, 41, 1, 17, 50, 247, 251, 4, 868, 1461, 324, 407, 1039, 408, 1, 41, 1, 17, 1139, 10, 274, 18, 305, 62, 54, 462, 258, 12, 23, 268, 79], [141, 18, 14, 329, 193, 125, 1, 141, 467, 80, 125, 1, 75, 193, 329, 114, 75, 193, 329, 150, 387, 28, 153, 1, 28, 989, 8, 167, 75, 329, 367, 527, 1024, 220, 8, 167, 1, 27, 1468, 167, 720, 1, 7, 75, 6, 17, 40, 222, 100, 23, 1, 471, 75, 1, 53, 2, 167, 4, 11, 145, 1224, 565, 693, 75, 329, 866, 167, 13, 270, 1, 4, 14, 1, 128, 509, 296, 4, 527, 1024, 220, 247, 197, 121, 51, 1, 48, 471, 1, 590, 54, 4, 120, 12, 52, 1, 325, 28, 1, 28, 153, 1, 224, 191, 149, 19, 567, 2, 3, 154], [4, 1, 38, 53, 424, 8, 598, 579, 24, 1299, 196, 114, 1, 1, 297, 92, 193, 1273], [1, 278, 234, 24, 206, 55, 845, 162, 416, 55, 484, 7], [1026, 1277, 193, 329, 586, 1226, 962, 634, 613, 392, 1085, 543, 685, 1085, 392, 234, 705, 586, 1226, 392, 634, 392, 586, 846, 710, 962], [1, 28, 608, 568, 118, 1, 29, 3, 208, 260, 1, 165, 9, 3, 121, 43, 29, 3, 208, 1048, 197, 1331, 149, 118, 3, 302, 1, 792, 48, 208, 37, 210, 29, 1], [613, 1271, 660, 306, 660, 392, 613, 660, 846, 680, 680, 1272, 1164, 586, 1191], [141], [477, 195, 814, 441, 90, 226, 5, 1, 54, 4, 220, 547, 4, 167, 291, 110, 156, 209, 142, 1, 13, 53, 2, 102, 7, 491, 119, 863, 986, 498, 153, 1, 56, 177, 78, 123, 13, 189, 22, 83, 193, 193, 1, 904, 521, 143, 53, 41], [27, 1, 65, 925, 851, 31, 90, 108, 1, 111, 236, 148, 21, 19, 162, 91, 712, 1, 1, 432, 697, 33, 281, 193, 106, 24, 406, 930, 416, 162, 361, 370, 1127, 63, 41, 17, 43, 363, 379, 48, 648, 75, 432, 363, 83, 171, 622, 201, 552, 1008, 121, 79, 69, 378, 115, 155, 275, 1, 12, 119, 115, 236, 140, 1, 36, 65, 624, 75, 432, 390, 23, 886, 432, 64, 193], [92, 255], [255, 45, 96, 206, 96, 66, 297, 9, 677, 115, 1042, 3, 255, 28, 329, 614, 297, 9], [27, 1, 105, 277, 281, 18, 515, 62, 2, 5], [25, 1, 80, 431, 1388, 810, 399, 29, 1036, 210, 234, 1, 93, 7, 74, 59, 907, 764, 203, 41, 683, 197, 17, 363, 17, 159, 877, 13, 41, 683, 1056, 483, 50, 50, 206, 1046, 683, 407, 779, 39, 388, 764, 367, 250, 1467, 234, 987, 578, 87, 1227, 1266, 151, 784, 211, 208, 140, 45, 50, 779, 1, 283, 290, 215, 215, 1127, 1, 560, 39, 580, 725, 51, 675, 90, 1, 208, 30, 483, 315, 540, 361, 329, 3, 51, 388, 431, 1388], [467, 345, 533, 153, 1, 13, 271, 56, 345, 1, 379, 657, 343, 188, 227, 737, 10, 60, 39, 20, 345, 588, 547, 2, 868, 868, 737, 534, 1039, 258, 18, 264, 162, 17, 655, 377, 58, 193, 399, 31, 657, 10, 60, 134, 32, 345, 30, 509, 9, 300, 9, 18, 264, 153, 1, 687, 266, 44, 39, 7, 48, 1, 546, 293, 681, 980, 20, 445, 228, 115, 694, 854, 662, 1, 917, 6, 1, 561, 312, 1450, 56, 131, 1, 341, 737, 431, 4, 336, 1486, 17, 733, 379, 870, 227, 1, 11, 44, 142, 17, 12, 486, 1, 767, 1245, 3, 379, 266, 534, 894, 694, 583, 39, 31, 310, 219, 407, 1, 4, 341, 101, 740, 176, 95, 588, 399, 508, 39, 868, 588, 2, 18, 1071, 588, 547, 852, 588, 480, 296, 350, 517, 185, 407, 120, 20, 1203, 1392, 95, 66, 6, 193, 34, 20, 448, 62, 1058, 139, 946, 33, 110, 242, 113, 1, 868, 588, 1212, 210, 42, 153, 1, 93, 6, 345, 6, 925, 1341, 619, 155, 366, 31, 551, 43, 120, 437, 1, 132, 18, 239, 193, 93, 1264, 588, 208, 1264, 1228, 439, 227, 3, 873, 467, 42, 1], [331, 193, 177, 278, 84, 106, 189, 1, 74, 20, 498, 1, 424, 810, 260, 48, 383, 4, 690, 744, 471, 22, 557, 759, 1130, 1254, 1022, 192, 656, 214, 25, 399, 232, 41, 17, 445, 765, 816, 264, 27, 6, 732, 32, 101, 997, 1, 56, 304, 744, 115, 260, 428, 311, 757, 218, 348, 193, 264, 744, 787, 436, 232, 50, 411, 337, 39, 66, 35, 4, 21, 19, 110, 24, 278, 398, 563, 241, 8, 240, 436, 963, 399, 40, 240, 445, 9, 468, 134, 43, 930, 1, 18, 405, 590, 737, 22, 36, 328, 116, 1, 405, 79, 550, 367, 153, 1, 358, 407, 534, 26, 197, 294, 433, 408, 408, 33, 124, 26, 294, 1329, 759, 53, 880, 14, 62, 1058, 399, 50, 363, 547, 1, 145, 50, 206, 995, 641, 257, 101, 1322, 193, 31, 424], [15, 3, 269, 407, 244, 115, 534, 562, 272, 6, 645, 3, 873], [415, 202, 874, 554, 326, 124, 439, 16, 13, 27], [11, 23], [5, 1, 11], [40, 1, 342, 4, 960, 74, 42, 77, 479, 209, 832, 649, 46], [23, 1, 6, 1040, 11, 26, 743, 1214, 396, 244, 3, 51, 1, 7, 4, 37, 1, 158, 8, 1, 218, 8, 37, 1342, 256, 223, 4, 37, 173, 188], [4], [177, 724, 49, 269, 358, 9, 42, 1315, 719, 294, 26, 34, 1136, 177, 297, 386, 654, 208, 203, 155, 12, 302, 33, 865, 29, 69, 982, 26, 439, 297, 386, 654, 530, 240, 124], [384, 239, 1, 22, 816, 3, 502, 39, 11, 48, 281, 25, 1], [3], [5, 68, 1158, 135, 423, 179, 383, 1, 134, 2, 1114], [25, 168, 802, 76, 56, 168, 70, 401, 272, 795, 131, 2, 1, 472, 325, 17, 243, 1, 36, 85, 14, 6, 185, 795, 40, 13, 131, 2, 105, 303, 2, 38, 38, 659, 14, 1, 83, 1140], [248, 406], [5], [5, 530, 100], [403, 45, 193, 202, 92], [28, 1, 41, 17, 736, 141, 838, 994, 37, 423, 8, 404, 15, 936, 207, 66, 147, 1252], [31, 15, 23], [5, 15, 3, 530], [487, 1, 672, 318, 194, 119, 1, 356, 436, 105, 570, 73, 282, 309, 1, 18, 1267, 24, 167, 164], [351, 1112, 91, 241, 8, 14, 249, 21, 19, 2], [29, 1, 2, 18, 5, 26, 228, 271, 115, 247, 165, 288, 768], [53, 401, 82, 40, 4, 922, 11, 72, 53, 401, 1333, 603, 82, 7, 603, 655, 82], [1, 5, 287, 23, 128, 270, 1229, 189, 480, 359, 63, 4, 9, 381, 457, 1442, 2, 556, 328, 41, 143, 71, 1200, 338, 350, 270, 605, 56, 6, 356, 63, 307, 36, 768, 161, 356, 1040, 834, 1261, 71, 1200, 338, 39, 82, 25, 416, 14, 135, 161, 147, 452, 1249, 626, 3, 154, 16, 46, 452, 1249, 372, 343, 1115, 82], [106, 344, 10, 259, 286, 856, 26, 109, 52], [152, 536, 54, 23, 24, 536, 306, 268, 23, 459, 7], [34, 35, 1, 22, 7, 199, 1, 35, 460, 874, 53, 1046, 37, 116, 199, 1, 162, 541, 1056, 164, 104, 37, 33, 124, 2, 174, 249, 63, 91, 34, 22, 35, 1, 8, 164, 344, 81, 242, 386, 22, 212, 332, 389, 193, 6], [11, 14, 1, 48, 467, 145, 90, 1390, 528, 699, 210, 193, 745, 40, 3, 90, 148, 151, 334, 105, 4, 6, 51, 90, 173, 691, 539, 297, 118, 177, 12, 93, 7, 12, 561, 499, 1015, 238, 193, 1, 184, 29, 261, 312, 676, 572, 296, 69, 195, 510, 155, 126, 590, 18, 405, 93, 7, 312, 1214, 237, 401, 62, 14, 1, 517, 86, 8, 6, 4, 476, 224, 251, 15, 234, 2, 5, 193, 705, 59, 251, 34, 29, 677, 77, 186, 88, 885, 257, 22, 3, 1467, 9, 33, 1117, 115, 96, 224, 223, 29, 344, 131, 515, 69, 320, 131, 223, 86, 291, 180, 1120, 34, 28, 665, 110, 344, 52, 8, 842, 131, 224, 37, 2, 5, 74, 269, 56, 297, 62, 177, 1253, 358, 1323, 130, 4, 282, 2, 77, 747, 54, 51, 526, 282, 1, 491, 526, 14, 51, 1, 135, 1362, 4, 300, 2, 497, 107, 588, 156, 1260, 82, 15, 384, 442, 4, 177, 576, 4, 399, 508, 451, 1215, 32, 238, 1, 1306, 113, 74, 443, 808, 37, 466, 158, 41, 108, 185, 617, 282, 37, 191, 7, 1307, 37, 1229, 476, 107, 534, 584, 4, 87, 8, 91, 37, 37, 208, 55, 38, 101, 182, 709, 476, 958, 13, 1351, 259, 534, 794, 126, 7, 107, 174, 37, 123, 108, 185, 116, 571, 158, 1253, 37, 1, 2, 5, 37, 322, 477, 22, 116, 844, 773, 1057, 68, 37, 322, 282, 1, 1229, 358, 28, 414, 369, 390, 514, 1140, 1, 12, 200, 52, 27, 757, 179, 1, 917, 133, 246, 248, 15, 202, 35, 1, 1214, 66, 840, 243, 283, 522, 988, 746, 120, 133, 211, 33, 124, 1, 938, 954, 415, 74, 2, 3, 1230, 734, 690, 37, 62, 702, 1101, 111, 772, 1, 1140, 1056, 436, 397, 32, 383, 33], [25, 214, 78, 15, 29, 43, 53, 366, 105, 441, 297, 90], [123, 1, 446, 97, 93, 336, 404, 124, 136, 35, 120, 241, 2, 183, 880], [34, 103, 1, 62, 221, 467, 221, 33, 6, 150], [29, 1], [86, 1, 144, 25, 72, 52, 245, 22, 3, 1, 595, 16], [29, 1, 54, 4, 3, 37, 592, 268, 193, 36, 308], [5, 1, 5, 10, 881], [56, 177, 127, 13, 34, 7, 422, 49, 37, 55, 1456, 1444, 383, 3, 264, 22, 532, 2, 220, 183, 3, 9, 3, 1045, 64, 163, 1058, 53, 196, 145, 102, 885, 1313, 161, 223, 862, 197, 422, 1046, 167, 1333, 894, 2, 18, 289, 80, 69, 180, 133, 720, 95, 162, 99, 180, 448, 14, 1, 215, 162, 394, 514, 213, 52, 1, 594, 28, 17, 140, 916, 4, 1335, 183, 41, 341, 251, 134, 3, 213, 55, 57, 1, 69, 510, 123, 20, 556, 118, 155, 274, 193, 739, 37, 134, 116, 4, 5, 739, 398, 562], [31, 15, 92], [29, 577, 89, 357, 1, 3, 964, 126, 345, 155, 913, 1355, 1077, 9, 1008, 69, 96, 41, 1, 22, 1337, 296, 37, 233, 188, 260, 1, 137, 20, 322, 37, 1, 213, 107], [1, 134, 11, 22, 104, 14, 456, 116, 250, 288, 11, 489, 918, 362], [1, 681, 20, 374, 10, 33, 79, 659, 32, 4, 37, 12, 10, 668, 666, 259, 823, 11], [11, 1, 25, 270, 843, 564, 84, 1, 437, 1228, 54, 4, 1421, 188, 37, 322, 61, 322, 282, 34, 514, 1, 405, 18, 126, 195, 510, 142, 13, 106, 470, 9, 413, 1321], [359, 148], [586, 1191, 1106, 1026, 660, 269], [364, 326, 89, 183, 357, 2, 537, 87, 533, 25, 1, 146, 162, 113, 95, 407, 927, 537, 1211, 2, 921, 89, 183, 63, 95, 146, 77, 337, 89, 2, 420, 293, 1042, 359, 571, 326, 89, 183, 420, 242, 77, 1218, 337, 89, 12, 2, 1006, 241, 4, 565, 395, 100, 245, 222, 544, 610, 391, 11, 1], [5, 1, 486, 282, 230, 61, 5, 26, 5, 9, 5, 16], [9, 646, 13, 13, 208, 1196, 2, 291, 25, 114, 610, 40, 47, 277, 438, 414, 335, 610, 193], [47, 10, 107, 673, 49, 125, 1231, 67], [25, 1151, 11, 327, 31, 92], [31, 1, 533, 158, 38], [843, 911, 680, 5, 1, 296, 719, 14, 843, 57, 372, 778, 27, 747, 843, 35, 1, 403, 231, 104, 82, 1252, 410, 455, 56, 13, 289, 37, 419, 76, 196, 231, 93, 75, 6, 267], [147, 254, 161, 1, 290, 639, 307, 80, 9, 338, 243, 36, 110, 63, 343, 14], [1, 109, 14, 88, 2, 46, 51, 7, 104, 97, 1, 35, 2, 42, 91, 357, 949, 34, 86, 843, 193, 405, 345, 5, 9, 22, 126, 275, 5, 282, 358, 95, 74, 171, 55, 423], [1081, 46, 35, 187, 172, 316, 1377, 867, 1252, 261, 1, 384, 996, 21, 1037, 91, 21, 2, 2, 787, 32, 109, 388, 44], [436, 6, 47, 4, 91, 668, 193, 246, 552, 262, 208, 722, 309, 226, 14, 91, 623, 1009], [25, 1, 91, 384, 239, 168, 104, 14, 754, 259, 1132, 147, 207, 1, 3, 394, 1000, 26, 95, 282, 91, 24, 237, 77, 2, 18, 91, 89, 981, 2, 266, 1217, 97, 343, 221, 296, 24, 45, 916, 241, 140, 916, 91, 89, 141, 89, 183, 386, 418, 91, 89, 183, 13, 140, 916, 471, 225, 16, 46, 114, 150], [1, 804, 5, 6, 51, 34, 841, 420, 140, 50, 206, 99, 24, 1161, 1, 265, 159, 13, 1152, 140, 50, 12, 1056, 36, 58, 140, 50, 206, 764, 50, 12, 290, 835, 34, 99, 835, 361, 74, 375, 1, 34, 29, 287, 16, 99, 240, 835, 175, 218, 99], [29, 1, 3, 16, 49], [1, 370, 104, 14, 22, 7, 76, 106, 1056, 772], [5, 43, 193, 104], [1, 56, 703, 48, 46, 82, 659, 174, 1163, 1, 5, 1337, 139, 422, 166, 59, 86, 26, 614, 70, 339, 608, 368, 1, 454, 5], [11, 80, 693, 1, 12, 274, 30], [29, 1, 5, 182, 174, 980, 34, 7, 491, 112, 187, 149, 154, 191, 250, 28, 34, 7, 193, 739, 130, 146, 219, 739, 20, 4, 110, 4, 167, 103, 51, 1, 617, 37, 130, 5], [850], [3], [1, 1149, 189, 163, 323, 16, 299, 84, 98, 277, 249, 1381, 475, 1307, 64, 37, 448, 250, 32, 32, 60, 1, 70, 500, 256, 1469, 48, 375, 1095, 26, 137, 181, 19, 208, 903, 1, 6, 150, 158, 399, 219, 994, 773, 1, 112, 187, 317, 847, 317, 542, 6, 51, 999, 10, 60, 86, 458, 229, 8, 466, 169, 5, 1, 5, 16], [15, 109, 202, 67, 166, 226, 105, 109, 143, 67], [141], [351, 627, 23], [51, 12, 58, 468, 55, 213, 3, 23], [3, 15], [1418, 25, 6, 56, 40, 211, 18, 287, 338, 958, 394, 736, 870, 13], [753, 1470, 896, 71, 64, 163, 211, 173, 1262], [2, 46], [85, 71, 163, 211, 65, 1075, 33, 1075, 290, 32, 972, 175, 135, 15, 248, 12, 46, 753, 1470, 896, 134, 211, 713, 71, 390, 48, 135, 82, 46, 753, 473, 1043, 415, 524, 423, 338, 82, 1457, 436, 338, 82, 108, 163, 211, 99, 38, 87, 62, 152, 126, 237, 163, 1, 163, 211, 1326, 338, 753, 1470, 896, 15, 28, 58, 478, 13, 528, 250, 116, 1207, 285, 412, 15, 23, 136, 15, 40, 71, 133, 74, 136, 12, 175, 22, 338, 163, 211, 71, 28, 405, 9, 381, 410, 245, 4, 753, 1470, 896, 99, 66, 540, 1211, 4, 350, 507, 266, 1060, 23, 250, 375, 38, 717, 375, 23], [5, 15], [7, 362, 126, 71, 126, 590], [5, 15, 133, 327], [1239, 207], [1080, 15, 808], [54, 4, 5, 530], [248, 46, 92], [11, 753, 1470, 896, 71, 700, 656, 188, 13, 1, 142, 113, 2, 415, 887, 346, 910, 1370, 71, 41, 1, 919, 59, 919, 18, 338, 765, 142, 32], [11, 71, 59, 1, 652, 604], [11, 71], [2, 42, 67, 6, 1024], [671, 1162, 59, 724, 518, 476, 328, 338, 142, 495, 338, 644, 1, 222, 338, 644, 180, 4, 228, 469, 338, 753, 41, 180, 285, 1109, 165, 32, 142, 1162, 495, 122, 3], [314, 202, 8, 898], [29, 71, 309, 29, 1234, 765, 184, 312, 428, 345, 1463, 274, 19, 42, 1171, 19, 184, 1373, 334, 5, 1, 74, 6, 1024, 1092, 29], [184, 1, 44, 465, 790, 45, 115, 360, 1, 1, 621, 184, 71, 63, 161, 19, 1451, 286, 1, 523, 71, 73], [86, 71, 257, 350, 184, 19, 1373, 796, 22, 7, 354, 271, 142, 1], [1013, 18, 173, 195, 466], [314, 11], [314, 222, 1303, 97, 400, 809, 469, 356, 47, 929, 83, 11, 48, 332, 113, 663, 113, 23, 3, 533, 164, 332], [29, 71, 4, 426, 576, 19, 55, 53, 274, 346, 114, 107, 19, 763, 724, 161, 71, 566, 138, 36, 450, 36, 53, 113, 291, 450, 1129, 115, 218, 450, 36, 556, 55, 161, 19, 28, 528, 291], [663, 12, 713, 71, 907, 797, 150, 469, 450, 36, 1092, 317, 1463, 1044, 6, 360, 47, 4, 143, 8, 83, 6, 83, 636, 257, 211, 184, 19, 568, 34, 138, 4, 59, 48, 542, 662, 657, 20, 146, 184, 19, 7, 4, 1, 110, 19, 290, 986, 622, 184, 796, 19, 1373, 655, 390, 356, 258, 24, 1092, 66, 161, 764, 122, 721, 291, 1206, 264, 313, 69, 481, 729, 182, 317, 1463, 350, 507, 1222, 4, 19, 110, 461, 763], [47, 4, 51, 655, 555, 69, 1256, 1, 142, 182, 264, 286, 71, 286, 1, 59, 18, 555, 69, 1460, 1256], [83, 64, 163, 1, 71, 11, 362], [43, 168, 68], [3, 338, 184, 1450], [27, 753, 84, 75, 415, 786, 984, 46, 5, 15], [152, 71, 338, 1], [71, 130, 147, 56, 70, 1437, 36, 1155, 763, 482, 867, 408, 221, 80, 217, 1120, 188, 13, 22, 7, 166, 75, 1121, 14, 620, 83, 1327, 60, 333, 151, 307, 1, 338, 1492, 14, 22, 1, 7, 307, 147, 14, 71, 20, 34, 1409, 1023, 283, 573, 344, 955, 223, 224, 1, 391, 2], [5, 43, 15, 874, 133], [231, 721, 54, 8, 15, 5, 604, 71, 342, 44, 72, 626, 879, 200, 52], [71, 134, 353, 1, 74, 106, 23, 250, 753], [184, 5, 142, 338, 473, 399], [203, 4, 147, 6, 328, 9, 18, 893, 700, 400, 69, 919, 855, 2, 18], [40, 6, 270, 5, 15, 278, 47, 11, 6, 345, 1450, 266], [216, 6, 34, 590], [184, 42, 93, 274, 3], [5, 71, 919, 53, 544, 5, 338], [11], [5, 328, 179, 46, 443], [438, 1, 144, 287, 100, 105, 113, 889, 450, 37], [56, 165, 9, 177, 48, 57, 75, 75, 192, 1, 11, 85, 6, 270], [22, 3, 2, 3], [578, 129, 12, 132, 61, 278, 63, 295, 181, 19, 33, 184, 1321], [25, 98, 1471, 1, 881, 11, 1471, 536, 400], [1, 323, 46, 48, 61, 1, 212, 288, 1, 49, 580, 269, 462, 37, 63, 12, 52, 1, 245, 22, 3, 1, 285], [52, 1, 85, 216, 32, 12, 2, 283], [318, 270, 28, 447, 198, 167, 156, 1, 28, 182, 12, 41, 50, 87, 649, 1, 184, 796, 42, 121, 5, 33, 914, 142, 17, 10, 93, 79, 127, 13, 50, 1471, 93, 270, 11, 58, 94, 118, 510, 919, 52, 143], [24, 1, 55, 132, 167, 483, 731, 249, 28, 35, 1, 507, 167, 50, 408, 1, 120, 102, 313, 55, 167, 130, 73, 1, 36, 76], [7, 2, 3, 78, 86, 51, 2, 3, 92, 3, 2, 78, 18, 66, 23], [1, 128, 50, 1, 396, 13, 219, 250, 1, 137, 290], [1, 141, 26, 388], [31], [449, 1, 657, 89, 1, 921, 359, 136, 24, 21, 19, 12, 334, 190, 1111, 858, 359, 191, 17, 222, 58, 3, 245, 55, 46, 749, 24, 243, 89, 1, 334, 32, 447, 73, 1018, 140, 36, 5, 157, 68], [31], [5, 1], [29, 229, 16], [1, 2, 18, 9, 108, 244, 11, 1, 152], [11, 82, 62, 28, 153, 1, 29, 264, 54, 275, 24, 89, 337, 3, 493, 1, 17, 3, 31, 485, 128, 45, 826, 8, 6, 1122, 27, 216, 6, 270, 200, 52, 15], [303, 81, 47], [7], [3], [3], [270, 11], [58, 8, 198, 1, 69, 47, 224, 225, 244, 103, 43, 176, 142, 470, 6, 84, 262, 273, 262, 208, 839, 34, 544, 6, 84, 262, 875], [3, 15], [98, 67, 1010, 189, 234, 8, 1314, 1141, 40, 206, 58, 1, 545, 8, 284, 712, 811, 990, 1010, 189, 1, 311, 28, 184, 834, 645, 1451, 274, 48, 4, 990, 41, 1, 17, 894, 93, 49, 154], [118, 7, 1205, 227, 462, 122, 3, 170, 1176, 2, 5], [388, 28, 615, 30], [5], [34, 7, 1, 115, 2, 122, 18, 233, 123, 1094, 37, 139, 10, 60, 3, 9, 489, 10], [5, 244, 10, 60, 69], [152, 1, 583, 1, 144, 287, 100], [45, 1, 339, 29, 244, 61, 1228, 74, 22, 20, 35, 488, 1, 537, 680, 97, 63, 4, 12, 2, 178, 334, 91, 1, 528, 5, 268, 33, 124, 28, 412, 21, 19, 1424, 13, 762, 41, 2, 210, 23, 869, 193, 191, 56, 63, 4, 858], [5, 867, 396, 6, 6, 388, 16, 738, 20, 132, 228, 483, 228, 1395, 209, 4, 840, 537], [1, 2, 141, 334, 51, 7, 1109, 165, 9, 5, 247, 165, 278, 13, 187, 149, 154, 149, 310, 1065, 176, 269, 1036, 165, 9, 915, 123, 165, 55, 1164, 444, 125, 4, 61, 420, 603, 427, 187, 149, 181, 19, 139, 149, 133, 46, 189, 358, 13, 494], [1, 34, 212, 1466, 405, 176, 225, 468, 139, 1153, 172, 61, 9, 538, 4, 426, 559, 780, 118, 155, 2, 1, 34, 28, 4, 898, 48, 57, 1, 16, 412, 1, 3, 290, 214, 115], [509, 122, 48, 727, 1141, 91, 295, 340, 153, 294, 433, 528, 298, 3, 153, 294, 433, 139, 298, 33, 165, 230, 294, 417, 491, 108, 104, 135, 139, 297, 61, 358, 731, 751, 153, 294, 433, 417, 817, 69, 757, 200, 666, 63, 581, 6, 139, 751, 571, 883, 4, 94, 6, 1040, 80, 75, 1318, 1089, 4, 898, 98, 69, 294, 433, 139, 298, 4, 48, 34, 486, 165, 9, 7, 1318, 853, 546, 562, 6, 314, 69, 1358, 8, 165, 9, 254, 61, 827, 507, 65, 1075, 224, 219, 483, 220, 433, 1239, 776, 433, 65, 727, 154, 33, 124, 827, 745, 716, 664, 332, 139, 6, 664, 403, 260, 809, 228, 650, 397, 190, 1298, 1279, 313, 53, 284, 228, 155, 53, 771, 182, 185, 576, 386, 427, 254, 219, 224, 805, 1235, 194, 112, 19, 289, 776, 37, 77, 74, 175, 369, 1318, 1089, 461, 214, 502, 800, 547, 480, 507, 1, 149, 483, 805, 315, 385, 54, 224, 427, 18, 30, 20, 1342, 142, 65, 224, 1265, 147, 317, 149, 358, 317, 317, 112, 112, 317, 112, 295, 181, 544, 293, 159, 219, 138, 779, 354, 181, 1, 149, 10, 60, 578, 708, 6, 535, 139, 4, 10, 72, 57, 1115, 1318, 10, 60, 236, 3, 153, 294, 433, 10, 30, 1449, 34, 225, 51, 911, 190, 24, 8, 297, 30, 387, 33, 171, 497, 315, 540, 8, 297, 30, 59, 1203, 190, 1081, 8, 970, 315, 30, 540, 1472, 305, 159, 877, 6, 505, 184, 257, 866, 1, 30, 295, 7, 523, 455, 817, 124, 102, 882, 67, 540, 33, 30, 284, 93, 2, 659, 87, 57, 846, 84, 277, 213, 57, 280, 177, 2, 36, 1327, 422, 138, 964, 1366, 114, 18, 328, 1233, 1087, 624, 1394, 261, 360, 606, 39, 1327, 154, 114, 338, 154, 653, 1053, 1213, 1144, 139, 1260, 78, 14, 69, 505, 294, 776, 433, 39, 333, 114, 909, 68, 17, 367, 205, 99, 1203, 1067, 479, 488, 19, 6, 32, 15, 246, 310, 16, 857, 210, 90, 515, 145, 15, 584, 7, 857, 925, 242, 1490, 171, 46, 233, 1174, 779], [56, 13, 25, 1141, 80, 160, 323, 662, 1141, 165, 9, 1487, 48, 383, 160, 1141, 16, 1478, 11, 264, 362, 1020, 676, 226, 138, 328, 904, 475, 1141, 48], [34, 7, 1, 16, 44, 356, 22, 581, 35, 1, 6, 5, 4, 37, 114, 150, 33, 124, 40, 21, 19, 480, 1366, 8, 1233, 41, 162, 1, 1, 21, 19, 25, 1, 736, 2, 5, 1366, 21, 19, 54, 736, 4, 26, 20, 87, 186, 375, 96, 22, 1020, 13, 77, 288, 13, 1240, 63, 272, 39, 272, 669, 1378, 13, 868, 401, 39, 272, 13, 1240, 669, 1378, 1187, 240, 24, 195, 1364, 761, 1465, 68, 198, 47, 20, 44], [56, 51, 307, 36, 1, 573, 295, 21, 1464, 340, 1464, 6, 98, 21, 355, 573, 112, 295, 181, 19, 19, 355, 1018, 295, 181, 373, 149, 19, 259, 17, 19, 82, 1189, 53, 4, 573, 1064, 10, 523, 36, 328, 291, 4, 1, 30, 10, 266, 848, 848, 1473, 522, 111, 1, 132, 300, 598, 579, 133, 1, 70, 346, 37, 219, 289, 37, 1, 70, 61, 827, 289, 6, 51, 11, 61, 761, 256, 451, 1, 162, 1469, 588, 322, 746, 1, 4, 61, 194, 235, 119, 59, 9, 244, 340, 48, 807, 468, 410, 368, 177, 417, 521, 1013, 656, 129, 197, 677, 122, 3, 296, 824, 1144, 1148, 197, 1064, 10, 194, 330, 821, 421, 609, 244, 347, 10, 60, 366, 10, 1057, 297, 9, 197, 121, 225, 235, 10, 79, 1477, 4, 1, 17, 534, 1039, 145, 224, 37, 46, 10, 79, 48, 292, 673, 10, 4, 266, 1473, 81, 1051, 1, 166, 346, 190, 485, 877, 131, 261, 1, 200, 361, 103, 354, 1008, 953, 235, 1, 115, 645, 4, 233, 28, 131, 1303, 953, 200, 77, 658, 266, 1, 658, 385, 743, 4, 155, 310, 1, 17, 1, 284, 132, 1, 811, 350, 2, 18, 284, 228, 611, 284, 131, 344, 1, 1464, 485, 955, 1, 261, 856, 26, 856, 26, 294, 340, 261, 26, 294, 340, 856, 26, 977, 373, 111, 111, 77, 1216, 26, 617, 77, 26, 654, 266, 1301, 340, 386, 1117, 26, 39, 1310, 340, 197, 1117, 1310, 169, 26, 501, 138, 295, 21, 6, 98, 21, 355, 479, 21, 68, 4, 91, 657, 173, 45, 1, 17, 39, 243, 45, 50, 206, 17, 43, 31, 27, 156, 209, 573, 112, 295, 181, 19, 355, 582, 1, 4, 1, 77, 41, 181, 19, 1046, 441, 1, 112, 187, 317, 149, 451, 275, 352, 37, 455, 87, 322, 149, 289, 1250, 37, 295, 181, 19, 869, 41, 3, 4, 6, 28, 191, 87, 560, 224, 197, 37, 1, 211, 37, 191, 149, 19, 132, 1, 805, 266, 315, 30, 385, 301, 282, 1333, 315, 317, 82, 295, 181, 19, 1, 1049, 142, 603, 805, 1, 4, 37, 116, 1, 302, 61, 1, 122, 225, 302, 410, 368, 1, 521, 591, 17, 309, 1266, 154, 1, 195, 330, 821, 1103, 1041, 1, 301, 1486, 428, 269, 1, 66, 286, 237, 231, 266, 1473, 194, 522, 30, 385, 77, 658, 405, 743, 9, 381, 1235, 71, 114, 3, 964, 1120, 246, 341, 574, 338, 1, 12, 23, 12, 41, 29, 216, 1, 869, 1, 74, 447, 1, 195, 969, 609, 244, 1, 1121, 350, 312, 115, 118, 54, 8, 3, 964, 1, 246, 554, 971, 90, 326, 90, 15, 12, 804, 90], [29, 1, 1303, 379, 3, 103, 137, 1], [3, 1], [5, 125, 24, 9, 178], [51, 135, 2, 7, 576, 153, 1, 296, 22, 7, 44, 176, 130, 189, 607, 51, 49, 269, 51, 180, 401, 61, 575, 66, 607, 137, 219, 363, 508, 37, 310, 39, 377, 219, 228, 37, 51, 228, 34, 115, 4, 219, 41, 271, 48, 378, 41, 260, 1471, 8, 1, 5], [61, 11], [3, 7], [797, 150, 1, 16, 31, 1, 16], [45, 80, 1239, 340, 1, 425, 32, 223, 12, 58, 1, 5, 80, 259, 27, 1, 330, 21, 19, 120, 296, 188, 1, 17, 733, 1055, 567, 337, 12, 58, 445, 1, 302, 163, 1, 417, 13, 348, 234, 135, 82, 365, 4, 169, 239, 80, 1141, 91, 243, 175, 126, 310, 423, 772, 928, 90, 222, 471, 175, 764, 403], [11], [69, 347, 74, 576, 61, 1, 157, 68, 31, 69, 67, 809, 477, 1083, 210, 273, 114, 32, 101, 86, 610, 34, 17, 36, 797, 150, 1], [31], [25, 1, 935, 11], [11, 1, 16, 917, 5, 1057, 224, 4, 91, 908, 407, 408, 537, 218, 113, 1212, 6, 67, 9, 381, 157, 68, 749, 746], [1, 2, 801, 68, 4, 183, 17, 1299, 196, 539, 37, 181, 19, 310, 187, 149, 2, 3, 64, 163, 419, 69, 969, 48, 34, 7, 1, 268, 79, 105], [11, 1], [168, 963, 111, 2, 9, 473, 1444, 255, 106, 8, 36, 10, 436, 32, 1, 30, 438, 168, 144, 23, 65, 484, 1196], [1, 2, 5, 133, 5, 16, 68, 126, 1, 58, 374, 171, 71, 1337, 196, 71, 66, 102, 120, 10, 79, 3, 127, 13, 398, 1049, 1, 126, 3, 155, 186, 126, 638, 188, 772, 1141, 265, 1, 173, 12, 213, 23, 1, 530, 516, 5, 68, 475, 1, 246], [11], [25, 1, 1104, 783, 194, 119, 646, 24, 212, 1402, 381, 266, 231, 203, 587, 194, 119, 32, 65, 73, 282, 1087, 1, 194, 457, 283, 1035], [23, 438, 1, 144, 113, 8, 605, 33, 276, 240, 483, 262, 395, 100], [1, 32, 743, 178, 1, 30, 348, 30, 115, 950, 326, 333, 32, 73, 15, 73, 566, 1029, 383, 8, 1, 169, 12, 52, 15, 188, 950, 150], [45, 98, 906, 624, 6, 1207, 284, 13, 97, 1207, 6, 2, 656, 188, 13, 324, 132, 174, 1, 399, 508, 157, 76, 162, 205, 1007, 78, 27, 211, 719, 76, 243, 205, 14, 1207, 906, 624, 2, 42, 76, 1496, 425, 13, 399, 508, 1134, 1246, 80, 276, 1207, 906, 624, 157, 68, 817, 114, 15, 150, 1357, 98, 906, 624, 2, 18, 51, 477, 52, 27, 662, 1233, 1341, 41, 1022, 195, 649, 5, 15], [5, 1, 418, 44, 6, 7, 9, 228, 444, 7, 878, 271, 1159, 166, 13, 8, 36, 878, 271, 1159, 693, 347, 1], [878, 1, 42, 11, 293, 878, 744, 126, 122, 345, 305, 1430, 234, 204, 12, 663, 759, 1, 69, 735, 1095, 53, 123, 134, 1], [204, 449, 1, 1101, 40, 6, 1158, 530, 6, 561, 252, 401, 627, 52, 15, 12, 114, 150, 667, 313, 55, 73], [1, 241, 201, 250, 549, 45, 17, 570], [11], [3], [708, 3, 69, 1, 16, 94], [135, 753, 104, 231, 22, 7, 96, 356, 428, 133, 365, 898, 4, 12, 27, 8, 389, 753, 80], [2, 42, 163], [163, 71, 1343, 108], [2, 42, 163], [85, 1, 962, 281, 109, 1003, 1, 456, 2, 674, 138, 962, 21, 19, 423, 23, 1, 3, 85, 478, 6, 75, 1003, 1, 92], [1, 596, 164, 1, 158, 4, 596, 172, 42, 26, 431, 164, 792, 941, 661, 756, 104, 14, 136, 12], [51, 303, 2, 937, 30, 107, 30], [31, 1, 74, 14, 452, 750], [27, 98, 4, 393, 138, 366, 1, 292, 2], [1, 442, 75, 10, 30, 128, 69, 195, 190, 20, 30, 321, 149, 19, 162, 76, 80, 39, 321, 315, 385, 78, 76, 23], [178, 1, 61, 417, 252, 1, 343, 204, 41, 1, 17, 16, 8, 57, 1, 29], [11, 64, 1, 3, 165, 9, 54, 4, 12, 309, 48, 23, 14, 6, 1499, 309, 595, 1, 79, 127], [11, 1, 221, 41, 23, 1140, 219, 96, 1, 552, 1, 263, 440, 561, 362, 6, 918, 918, 122, 362, 535, 23, 260, 1, 127, 101, 28, 4, 497, 12, 561, 410], [29, 1, 2, 117, 602, 299, 209, 1, 5, 604, 4, 3, 1], [2, 5], [11, 1, 216, 6, 56, 6, 1040, 499, 54, 4, 9, 311, 154, 129, 197], [29, 118, 61, 417, 5, 26, 152, 62, 11, 52, 214], [1, 40, 3, 88, 150], [11, 81, 2, 5], [1, 12, 1156, 472, 324, 74, 41, 143, 77, 235, 111], [80, 1, 259, 6, 40, 1173, 7, 6, 48, 56, 6, 6, 1430, 131, 247, 66, 107, 17, 333, 56, 6, 39, 335, 17, 132, 1022, 131, 165, 9, 53, 401, 66, 56, 291], [847, 310, 779, 153, 1, 173, 1, 153, 75, 172, 44, 97, 1297, 34, 443, 154, 208, 354, 64, 97, 610, 234, 805, 310, 219, 234, 805, 282, 1, 282, 1, 282, 1, 563, 326, 588, 1153, 282, 1, 59, 127, 219, 529, 219, 529, 864, 210, 8, 37, 41, 32, 593], [95, 1, 203, 30, 283, 947, 221, 712, 706, 23, 44, 127, 13, 44, 242, 947, 221, 1038, 34, 282, 1, 1228, 29, 716, 486, 230, 1138, 1, 5, 22, 29, 49, 1123, 149, 26, 59, 341, 96, 10, 60, 236, 3, 37, 635, 446, 716, 236, 174, 1138, 230, 286, 1058, 4, 302, 884, 172, 230, 1138, 4, 282, 1, 636, 716, 174, 9, 123, 1111, 825, 37, 3, 1016, 1228, 58, 37, 635, 503, 124, 11, 37, 390, 1, 20, 1, 407, 1047, 1, 2, 18, 739, 2, 18, 205, 18, 256, 739, 53, 3, 302, 230, 14, 739, 37, 41, 143, 8, 1, 95, 358, 94, 411, 139, 48, 57, 18, 287, 1237], [8, 1, 105, 277, 83, 76, 65, 66, 259, 147, 81, 658, 575, 111, 70, 172, 282, 1, 1016, 172, 456, 95, 249, 1, 620, 38, 620, 10, 141, 414, 911, 1045, 9, 2, 1384, 1196, 1], [86, 1, 144, 22, 43, 229, 337, 26, 62, 1, 11, 189], [85, 64, 45, 193, 843], [306], [52, 76, 15, 70, 46, 35, 89], [94, 554], [11], [51, 107, 210, 422, 25, 1, 90, 772, 638, 450, 116, 12, 599, 91, 255, 1, 122, 8, 89, 357, 91, 2, 102, 17, 37, 167, 622, 8, 38, 133, 253, 140, 45, 1455, 96, 50, 206, 4, 567, 224, 37, 457, 513, 657, 178, 205, 249, 13, 98, 32, 272, 77, 240, 67, 33, 162, 76, 73, 335, 76, 269, 238, 94, 77, 24, 130, 1, 8, 1048, 337, 357, 391, 74, 207, 9, 196, 489, 686, 551, 43, 10, 60, 31, 390, 8, 98, 32, 4, 1051, 76, 205, 73, 28, 113, 114, 76, 200, 938, 157, 68, 1276, 49, 18, 269, 205, 38, 8, 187, 1, 205, 249, 8, 620, 571, 13, 8, 2, 556, 183, 526, 1105, 1, 477, 287, 335], [306], [28, 35, 537, 1, 363, 50, 6, 102, 16, 215, 37, 12, 712, 1, 377, 113, 966, 10, 60, 837, 5, 185], [24, 101, 1, 265, 515, 1, 22, 479, 68, 304, 755, 136, 599, 496, 577], [25, 1, 688, 935, 143, 11, 72, 63, 96, 152, 62, 59, 96, 13, 261, 36, 26, 115, 118, 42, 136, 636, 186, 3, 154, 61, 115, 9], [49, 3, 317, 1337, 826, 72, 28, 311, 1, 6, 487, 74, 28, 163, 419, 33, 184, 312, 24, 1382, 244, 269], [2, 42], [40, 1, 342, 1088, 146, 523, 21, 19, 4, 32, 53, 151, 146, 95, 234, 61, 664, 619, 61, 1280, 822, 1, 41, 78, 99, 11, 1, 9, 94, 118, 10, 60, 5, 37, 30, 266, 1035, 1473, 522, 8, 527, 33, 4, 69, 1220, 7, 461, 58, 90, 95, 101, 24, 1080, 72], [10, 3, 297, 30, 1428, 10, 30, 140, 231, 36, 65, 483, 1185, 1346], [29, 1, 2, 465, 1048, 68], [3, 623, 100, 30, 1, 10, 109, 30, 79, 190, 618, 1, 342, 30, 211, 1, 2, 6, 882, 387], [5, 379, 121, 43, 345, 275, 352, 1307, 779, 322, 29, 9, 54, 145, 275], [5, 16, 8, 34, 176, 46, 458, 139, 69, 757, 141, 28, 128, 50, 33, 1039, 1313, 197, 224, 580, 247], [397, 84, 107, 10, 194], [58, 35, 198, 460, 78], [1136, 231, 1, 70, 22, 161, 58, 717, 12, 1136, 1237, 113, 516, 958, 879, 97, 133, 327, 455, 1136, 124, 1293, 136, 555, 1092, 11, 14, 1, 10, 60, 166, 726, 772, 16, 1403, 148, 10, 170, 48, 57, 79, 87, 292, 213, 44, 126, 213, 8, 71, 662, 202, 126, 1259, 122, 78, 15, 11, 339, 468, 26], [31], [1286, 1, 5, 179, 383, 304, 524, 528, 258], [1, 303, 2, 32, 63, 4, 1426, 41, 2, 395, 1237], [5], [152, 1], [7, 9, 118, 468, 26, 330, 21, 74, 1229, 52, 7, 6], [29, 91, 89, 187, 149, 227, 448, 285, 49, 13, 3], [1, 70, 26, 120, 556, 39, 640, 24, 26, 4, 1301, 12, 2, 414, 39, 25, 318, 270, 99, 120, 2, 73, 1, 64, 722, 388, 64, 242, 123, 13, 22, 1], [49, 327, 1, 46, 305], [438, 1, 331, 130, 75, 192, 1, 917, 176, 492, 618, 20, 529, 1405, 120, 556, 39, 146, 219, 14, 275, 352], [141, 6, 99, 3], [31, 90, 148, 120, 1, 45, 63, 761, 407, 451, 166, 1116, 182, 236, 94], [3, 15, 1033, 186, 321, 17, 206, 16, 8, 198], [27, 1, 4, 801, 903, 1, 80, 669, 192, 1, 54, 77, 67, 443, 7, 311, 118, 148, 547, 143, 22, 65, 21, 19, 544, 316, 27, 309, 574, 801, 423, 66, 231, 353, 13, 100], [3, 1, 16, 23, 83], [318, 992, 305, 257, 6, 12, 23], [34, 29, 270, 7, 7, 130, 35, 627, 365, 8, 1], [45, 15, 30], [42], [260, 1467, 1, 292, 2, 47, 64, 1439, 262, 27, 707, 291, 65, 76, 707, 291, 420, 73, 1, 165, 9, 950, 769, 725, 37, 642, 215, 438], [42, 40, 344, 81, 335, 32, 45], [236, 488, 1132, 89, 357, 757, 169, 1, 2, 102, 330, 21, 19, 355, 108, 227, 131, 213, 434, 235], [43, 163], [11, 64, 394, 96, 43, 13, 14, 84, 1125, 166, 278, 96, 502, 64, 464, 1151, 44, 1028, 96, 43, 2, 5, 252, 91, 21], [31], [72, 3, 5, 16, 40, 6, 1336, 342, 853, 123, 1390, 64, 163, 16, 12, 6, 464, 72, 34, 29, 1], [5, 1, 3, 16, 24, 77, 4], [306], [5, 1, 49, 3, 220, 379, 733, 4, 955, 17, 214, 775, 295, 181, 355, 410, 21, 1123, 1255, 139, 1255, 37, 163, 540, 520, 133, 483, 256, 451, 117, 496, 2, 1, 21, 89, 21, 89, 359, 742, 406, 2, 742, 90, 58, 363, 50, 63, 4, 319, 128, 4, 359, 490, 89, 721, 1198, 483, 1, 657, 48, 89, 471, 1, 45, 58, 266, 170, 232, 1230, 249, 4, 840, 4, 1, 1433, 24, 139, 89, 555, 21, 161, 537, 1433, 24, 6], [25, 80, 979, 75, 1, 123, 1, 107, 368, 64, 163, 130, 48, 1072, 6, 174, 51, 41, 152, 252, 107, 51, 1435, 98, 355, 138, 21, 19, 6, 21, 19, 1420, 19, 1420, 19, 135, 355, 94, 410, 21, 19, 355, 979, 384, 1052, 1, 296, 53, 526, 14, 120, 226, 8, 6, 28, 448, 796, 1, 36, 55, 767, 310, 1, 27, 1308], [3], [64, 1, 98, 47, 384, 580, 1231, 155, 38, 396, 56, 70, 77, 5, 526, 418, 1230, 734, 214, 369, 40, 304, 370, 4, 376, 65, 554, 525, 203, 64, 1, 123, 926, 417, 526, 324, 396, 9, 640, 67, 1069, 24, 71, 384, 1221, 1, 1080, 2, 298, 1231, 1, 2, 12, 59, 30, 151, 604, 1161, 52, 101, 83, 1, 384, 153, 1, 708, 537, 25, 14, 1, 68, 830, 1132, 191, 4, 946, 1471, 77, 4, 6, 163, 1075, 389, 875], [3], [4, 319, 128, 2, 152], [45, 1, 529, 13], [31, 15], [790, 25, 1, 684, 1, 703, 712, 149, 19, 39, 10, 303, 30, 1, 970, 1440], [1, 20, 1023, 2, 553, 21], [1, 45, 207, 14, 450, 147, 2, 42], [31], [3, 1, 62, 94, 421, 49, 915, 54, 8, 2, 246, 6, 1, 17, 34, 7], [169, 239, 1, 2, 18, 645, 74, 28, 1, 142, 132, 247, 336, 1, 106, 414], [3, 72, 11], [78], [5, 212, 1], [29, 1, 13, 1276], [31, 1, 207], [3, 1, 366, 1125, 3], [29, 202], [64, 1, 544, 31, 16, 229], [27, 533, 858, 2, 102, 110, 24, 39, 4, 479, 68, 325, 1422, 205, 47, 208, 89, 233, 126, 108, 174, 89, 471, 3, 36, 533, 858, 565, 553, 3, 299], [11], [3, 153, 1, 16, 318, 325, 11], [3, 43, 1, 16], [1, 2, 1134, 379, 493, 504, 1094, 1, 17, 66, 441, 28, 566, 168, 59, 127, 13, 260, 1109, 176, 635, 288, 768, 271, 34, 103, 1], [5, 440, 330, 21, 62, 1, 41, 17, 420, 37, 120, 102, 771, 25, 1, 136, 330, 21, 148, 101, 274, 6, 21, 19, 355, 1042, 939], [1, 111, 30, 98, 47, 740, 4, 65, 442, 276, 1, 1086, 80], [306], [], [1382, 125, 1, 49, 1349, 2, 18, 847, 4, 37, 7, 711, 1, 17, 1, 480, 1314, 45, 493, 20, 4, 1, 743, 711, 131, 58, 6, 711, 319, 582, 352, 196, 719, 4, 94, 37, 4, 163, 17, 711, 145, 1, 67, 20, 111, 235, 453, 711, 17, 6, 6, 711, 339, 410, 330, 21, 59, 112, 295, 181, 19, 1, 38, 5, 9, 294, 26, 415, 524, 1, 5, 16, 241, 348, 447, 164, 544, 6], [5, 1], [342, 11, 1, 26, 152], [5, 1, 16, 59, 3, 614, 54, 466, 61, 11, 559, 118, 1], [2], [5, 1, 3, 16], [65, 86, 1, 18, 45, 12, 7, 58, 145, 174, 756, 34, 577, 12, 7, 348, 1434, 1, 34, 3, 1, 3, 96, 3, 121, 3, 261, 856, 2, 49, 3, 231, 65], [11, 1], [31, 1, 4, 713, 318, 455, 54, 29, 462], [16, 1, 3, 490, 59, 1116, 30, 495, 13, 2], [2, 18], [5, 34, 49, 26, 134, 11], [3, 82], [650, 127, 13, 22, 1, 983, 729, 330, 21, 443, 61, 330, 21, 499, 1232, 1017, 8, 1, 223, 1279, 51, 107, 30, 77, 51, 598, 579, 399, 508, 408, 178, 539, 21, 19, 586, 6, 21, 355, 233, 63, 85, 101, 215, 17, 41, 143, 418], [27, 318, 178, 18, 2, 5], [46, 105, 91, 493, 887, 5, 16], [3], [276, 1, 58, 267, 207, 799, 168, 1, 147, 136, 4, 108, 174], [125, 84, 23, 79, 6, 84], [9, 172, 64, 163, 85, 318, 171, 34, 7, 731, 64, 172, 135, 902, 164, 174, 9, 118, 39, 85, 71, 133, 526, 118, 174, 85, 1, 487, 171, 73, 8, 172, 97, 113, 34, 426, 616, 9, 491, 155, 69, 616, 1284, 616, 118, 135, 57, 184, 164, 39, 902, 21, 19, 355, 4, 998, 246, 110, 194, 418, 21, 19, 143, 188, 158, 101, 4, 97, 406, 233, 71, 4, 4, 1, 68, 58, 24, 1321, 386, 883, 1050, 1, 85, 8, 91, 156, 454, 1452, 1050, 77, 669, 1, 89, 523, 94, 1, 83, 286, 565, 242, 1097, 24, 82, 334, 47, 34, 78, 27], [281, 445], [1, 47, 5, 88, 4, 488, 21, 19], [140, 565, 2, 18, 72], [11, 1, 97, 783, 1346, 937, 182, 333, 9, 1178, 178, 64, 12, 240, 32, 262, 343, 942, 416, 231, 799], [25, 318, 140, 840, 171, 175], [40, 318, 325, 2, 42, 53], [1, 347, 88, 81, 231, 1326, 1, 7, 75, 44, 1, 30, 353, 67, 12, 150, 27], [1, 109, 554, 33, 124, 416, 267, 217, 74, 93, 120, 465, 72, 55, 4, 809, 195, 518, 633, 77, 213, 185], [415, 3], [56, 514, 211, 44, 44, 242, 84, 1264, 242, 84, 39, 1170, 900, 879, 1169, 958, 230, 1323, 151, 321, 44, 53, 218, 38, 257, 151, 459, 1474, 199, 128, 971, 607, 258, 7, 41, 6, 51, 196, 1474, 199, 619, 67, 1341, 23, 211, 537, 298, 87, 20, 4, 174, 21, 19, 480, 162, 174, 76, 65, 41, 143, 1, 601, 35, 210, 23, 1455, 1093, 1, 1474, 199, 63, 205, 21, 19, 21, 19, 2, 102, 203, 486, 23, 76, 65, 15, 544, 65, 67, 6, 65, 1, 17, 411, 1010, 24, 65, 374, 157, 68, 1, 66, 1474, 199, 800, 64, 684, 610, 162, 76, 23, 1, 44, 321, 18, 501, 752, 958, 230, 1323, 1323, 454, 134, 1306, 976, 1264, 1170, 44, 1383, 881, 54, 566, 408, 34, 107, 8, 607, 434, 39, 44, 115, 9, 394, 56, 867, 211, 138, 44, 478, 211, 137, 44, 87, 145, 1, 378, 9, 174, 123, 6, 155, 275, 18, 428, 108, 155, 999, 48, 53, 50, 641, 218, 495, 64, 168, 77, 17, 6, 155, 275, 171, 115, 155, 209, 4, 6, 155, 891, 321, 44, 1342, 601, 1136, 1342, 4, 64, 64, 1342, 123, 520, 234, 610, 64, 151, 1169, 517, 836, 4, 1281, 221, 321, 44, 224, 1342, 1054, 4, 142, 427, 224, 211, 7, 182, 224, 251, 824, 607, 224, 716, 7, 86, 533, 6, 144, 59, 411, 210, 607, 5, 66, 321, 44, 9, 426, 211, 9, 454, 87, 145, 126, 766, 10, 211, 10, 426, 57, 378, 10, 821, 1, 9, 434, 61, 372, 151, 41, 1, 20, 1325, 218, 58, 140, 251, 4, 927, 607, 20, 927, 61, 480, 403, 607, 1325, 251, 480, 508, 151, 230, 28, 4, 28, 1323, 38, 670, 66, 211, 188, 90, 328, 1341, 1, 422, 339, 9, 26, 3, 296, 44, 26, 383, 1060, 4, 4, 48, 123, 29, 62, 390, 20, 1424, 153, 967, 408, 29, 1, 105, 53, 257, 316, 237, 218, 38, 44], [25, 47, 36, 15, 45, 93, 492, 236, 1211, 67, 165, 724, 67, 1, 152], [850], [5, 1, 453, 239], [5, 1, 2, 42, 49], [648, 1, 144, 25, 470, 121, 8, 493, 2, 52, 245], [1, 303, 2, 12, 7, 140, 36, 240, 114, 387], [141, 40, 505, 7, 32, 277, 268, 8, 3, 1, 56, 445, 22, 7, 14, 601, 117, 1, 440, 117, 234, 289, 37, 2, 5, 30, 1, 7, 13, 32, 4, 226, 13, 123, 325, 4, 1, 151, 79, 7, 190, 58, 1, 49, 64, 211, 234, 1060, 5, 41, 211, 9, 1453, 1449, 221, 40, 218, 335, 13, 348, 38, 904, 78], [1, 109, 10, 73], [268, 1, 70, 259, 147, 71, 446, 231, 874, 13, 18, 721, 70, 1, 237, 338, 1035, 81, 295, 315, 35, 207, 2, 18, 931, 68, 246, 253, 217, 9, 1077, 1, 132, 67, 253, 169, 175, 12, 85, 661], [11], [1, 31, 97, 81, 438, 687, 930, 60, 20, 259, 315, 385], [141], [152], [86, 1, 144, 331, 11], [3], [1, 98, 47, 11, 164, 74, 11, 237, 30, 113, 30, 81, 8, 30, 369, 453, 30, 10, 79, 1399, 1427, 4, 12, 11, 749, 67, 72, 24, 63, 162, 76], [347], [475, 1], [89], [109, 42, 88, 11, 14, 1, 41, 533, 60, 48, 649], [46], [11, 64, 211, 473, 717], [303, 2], [318, 270, 1088, 270, 7, 51, 7, 842, 181, 19, 355, 78, 229], [25, 263, 475, 14, 1, 213, 23, 83, 6, 100], [3], [1, 2, 42, 109, 13, 600, 453, 239, 683, 1, 76], [86, 108, 177], [748, 1, 144, 331, 504, 54, 77, 931, 38, 191, 487, 14, 21, 945, 130, 75, 6, 108, 40, 74, 2, 436, 232, 204, 519, 1, 5], [11, 1, 92], [318, 11], [86], [141, 3], [5, 43, 1, 31, 157, 68, 606, 541], [20, 82, 80, 311, 568, 824, 9, 129, 197, 741, 1337, 44, 18, 609, 9, 1, 203, 325, 766, 38, 158, 222, 1073, 118, 63, 4, 1060, 63, 884, 61, 37, 490, 667, 1, 184, 568, 312, 9, 36, 866, 350, 10, 60, 446, 110, 156, 4, 1, 32], [1, 176, 41, 875, 255, 185, 176, 1, 973, 929, 674, 9, 118, 29, 22, 1, 8, 288, 491, 176, 973, 182, 999, 206, 186, 1, 255, 8, 206, 228, 50, 973, 39, 129, 773, 396, 774, 1, 438, 144, 687, 396, 186, 1139, 781, 8, 96, 22, 578, 10, 1177, 139, 621, 361, 111, 74, 489, 167, 111, 111, 74, 388, 1491, 79, 190, 1324, 7, 9, 118, 34], [306, 1271, 543], [166, 127, 13, 8, 369, 40, 323, 226, 14, 88, 53, 8, 99, 72, 7, 57, 461, 25, 54, 4, 188, 4, 171, 293, 157, 151, 7, 1437, 36, 6, 150, 166, 127, 8], [11, 1, 53, 63, 526, 760, 30, 1405, 4, 286, 1, 8, 122, 1220, 4, 788, 39, 101, 649, 75, 6, 378, 57], [1, 69, 47, 75, 970, 24, 30, 274, 30, 63, 174, 81, 322, 178, 30, 30, 8, 620, 555, 533, 858, 12, 46, 1, 262, 32, 182, 137, 30, 274, 30], [103, 13, 158, 17, 45, 814, 956, 17, 24, 681, 1, 3], [1, 290, 32, 54, 4, 77, 151, 347, 112, 211, 682, 384, 322, 1232, 37, 408, 112, 194, 119, 288, 291, 12, 57, 291, 410, 444, 360, 235, 654, 119, 10, 673, 133, 394, 132, 981, 391, 5, 82], [454, 11, 211, 11, 1449, 42, 1060, 41, 23, 1283, 734], [288, 168], [377, 58, 504, 78, 27, 1, 1336, 287, 159, 804, 11, 37, 66, 293, 114, 916, 408, 26, 5, 59, 741, 43, 96, 197, 1, 1211, 261, 495, 26, 5, 18, 197, 196, 1, 2, 42, 319, 128, 183, 25, 21, 19, 319, 128, 516, 1147, 146, 170, 1, 888, 51, 170, 1, 319, 128, 755, 17, 50, 2, 97, 8, 156, 183, 377, 95, 1050, 77, 319, 128, 691, 54, 162, 319, 128, 7, 59, 298, 232, 384, 517, 475, 1, 453, 531, 12, 17, 972, 946, 450, 1186, 13, 5, 1, 1286, 62, 394, 7, 1060, 34, 475, 4, 864], [5, 1, 67, 72], [72, 3, 327, 49, 1132, 327, 218, 1132, 99, 255, 28, 327, 169, 1, 645, 1205, 3, 394, 16, 394, 255, 87, 100, 6, 4, 18, 626, 781, 180, 512, 211, 37, 5, 171, 115, 155, 8, 4, 118, 3, 24, 101, 789, 1064, 10, 184, 1205, 547, 200, 715, 378, 10, 7, 963, 169, 3, 6, 155, 312, 184], [1, 69, 449, 101, 3, 338, 71, 265, 140, 1060, 10, 139, 49, 4, 167, 243, 1035, 81, 144, 687], [528, 15], [42, 7, 28, 23, 6, 25, 211, 647, 22, 339, 452, 64], [962, 163, 660, 543, 685, 680, 1191, 1387, 586, 710, 463], [519, 34, 57, 1, 40, 254, 33, 90, 862, 188], [5, 11, 37, 337, 1, 82, 3, 171, 7, 569], [746, 67, 1, 33, 124, 339, 111, 10, 714, 268, 80, 240, 67], [76, 243, 1208, 243, 862, 197, 129, 40, 563, 558, 734, 194, 70, 6, 187, 6, 553, 42, 38, 214, 83, 565, 28, 205, 12, 2, 69, 1135], [1, 84, 176, 313, 12, 353, 100], [786, 46, 109, 13, 2, 18, 91, 68, 7, 362, 264, 7, 330, 21, 19, 62, 19, 840, 170, 45, 50, 206, 19], [247, 145, 90, 83, 158, 484, 8, 15, 557, 389, 577, 680, 125, 5, 49, 614, 1106, 373, 43, 98, 21, 2, 265, 638, 17, 74, 5, 125], [441, 9, 1, 164, 10, 79, 127, 154], [1, 660, 176, 1379, 4, 330, 21, 429, 167, 39, 504, 176], [11, 14, 125, 1, 188, 37, 26, 3, 18, 188, 62], [347], [306], [42], [3], [29, 1, 11, 98, 21, 19, 186, 236, 252, 4, 92, 87, 39, 1230, 29, 68], [31], [1183], [437, 76, 3, 15, 52], [31, 15, 786, 46, 49, 179], [306], [31], [1, 22, 29, 631, 55, 6, 901, 110, 17, 142, 438, 1, 144, 27, 98, 73], [704, 710, 1027], [152], [], [34, 475, 64, 163, 812, 89, 550, 641, 32, 105, 300, 424, 665, 414, 414, 188, 167, 567, 89, 110, 188, 641, 108, 422, 1099, 132, 167, 567, 39, 665, 86, 422, 224, 585, 151, 2, 66, 36, 300, 39, 87, 310, 37, 219, 49, 167, 132, 1, 38, 89, 707, 132], [2, 18], [2], [31, 53, 130], [11, 1, 11, 118, 123, 195, 581, 11, 237, 35], [31, 125, 70, 732, 27], [85, 1, 6, 11, 48, 61, 172, 1, 174, 8, 95, 817, 41, 499, 174, 229, 10, 60, 780, 98, 1, 114], [774, 568, 253, 1369, 928, 94, 300, 1431, 163, 812, 502, 254, 66, 99, 46, 705, 550, 702, 112, 382, 1309, 856, 26, 977, 373, 531, 197, 1453, 98, 1309, 261, 495, 26, 314, 1045, 227, 244, 63, 577, 257, 82, 163, 812, 1252, 53, 448, 980, 114, 171, 213, 374, 1069, 64, 163, 812, 357, 286, 943, 478, 183, 132, 62, 513, 222, 1, 865, 1160, 750, 7, 430, 913, 510, 14, 177, 922, 986, 280, 89, 1340, 797, 84, 277], [3, 82, 16, 74, 20], [92], [2, 3], [3], [3, 403, 141], [102], [], [306], [31], [470, 9, 1104, 105, 331, 1, 236, 2, 1011, 146, 59, 724, 240, 144, 130, 67, 42, 1, 7, 108, 919, 1, 41, 3, 22, 64, 163], [826, 1097, 1, 757, 442, 611, 259, 1452, 301, 711, 548, 349, 88, 2, 186, 276, 1], [15, 70, 670, 123, 412, 140, 15, 349, 88, 140, 90, 15, 1212, 64, 463, 1033, 187, 19, 66, 470, 369, 52, 76, 759, 437], [1, 3, 599, 311, 633, 421, 337, 23], [34, 7, 1, 8, 303, 188, 13, 167, 2, 406, 35, 167, 2, 399, 89, 1048, 167, 388, 1095, 167, 493, 1291, 1308, 28, 247, 484, 45, 206, 1, 792, 167, 529, 13], [1, 22, 5, 22, 24, 599, 496, 25, 123, 772, 638, 76, 326], [31, 15], [56, 1039, 61, 1, 70, 1260, 1, 22, 182, 595, 16, 591, 28, 115, 1, 34, 440, 662, 1488, 46, 241, 93, 555, 817, 130, 40, 56, 61, 1, 227, 25, 221, 16, 71, 338, 1, 18], [3], [11], [134, 1], [22, 153, 1, 189, 425, 108, 751, 1417, 35, 1, 1273, 128, 7, 5, 16, 24, 1204, 359, 479, 68, 39, 414, 205, 2, 102, 49, 179, 241, 78, 1], [7, 14, 125, 1, 374, 6, 51, 243, 8, 96], [306], [920, 28, 1, 45, 73], [124, 584, 187, 1, 553, 208, 33, 66, 81, 132, 205, 1363, 352, 2, 190, 319, 128, 111, 208, 246, 64, 544, 1, 215, 208, 73, 1, 164, 442, 1312, 28, 8, 6, 553, 208, 65, 348, 174, 38, 164, 215, 147, 10, 109], [5, 35, 1, 4, 319, 128, 8, 5, 68, 266, 908, 548, 30], [1, 2, 141, 313, 326, 103, 217, 9], [15, 442, 202, 305, 15, 2, 347, 207, 12, 213, 533], [27, 168, 14, 45, 267, 1, 33, 259, 64, 10, 33, 203, 66, 231, 94, 1, 30, 122, 476, 10, 93, 3, 148, 126, 7, 1, 309, 299, 267, 1, 513, 526, 27], [1159, 85, 56, 180, 85, 1074, 13, 63, 85, 1, 13, 40, 369, 65, 12, 58, 500, 33, 168, 500, 33, 247, 247, 1140, 12, 272, 876, 635, 18, 1210, 291, 85, 1, 109, 675, 135, 48, 383, 1150, 12, 29, 215, 266, 253, 1276, 225, 938, 23, 258, 1140, 8, 200, 938, 675, 179, 1, 2, 122, 48, 6, 46, 164, 5, 1, 334, 124, 275, 386, 1341, 386, 368, 467, 111, 334, 1326, 172, 61, 289, 195, 308, 101, 1279, 293, 83, 67, 104, 1, 435, 87, 37, 389, 67, 164, 264, 643, 364, 1290, 183, 501, 4, 4, 1133, 4, 183, 483, 289, 37, 558, 266], [2, 21, 19, 55, 41, 17, 623, 100, 21, 19, 27, 140, 36, 1], [45, 10, 12, 30, 324, 921, 125, 1, 528, 80, 435, 82, 156, 50, 633, 1290, 20, 162, 995, 20, 1, 12, 73, 435, 920, 246, 73], [7, 3, 1, 70, 413, 81], [40, 1, 152, 545, 2, 5, 479, 132, 2, 134, 302, 214, 279, 1, 53, 57, 200, 52], [415, 11, 1, 59, 5, 96, 2, 5, 319, 128, 24], [3, 15], [3, 705, 486, 211, 674, 20, 367, 1, 1029, 79, 211, 421, 33, 304, 236, 864], [2, 5], [174, 362, 207, 56, 795, 77, 1182, 1, 2, 218, 116, 127, 79], [40, 14, 64, 14, 10, 1094, 30, 802, 32, 7, 134, 62], [5, 3, 43, 15, 11, 85, 661], [1, 46], [85, 14, 1, 444, 40, 267, 1, 637, 678, 37, 254, 289, 23, 76, 384], [123, 91, 3, 52, 188, 214, 78, 1073], [1, 8, 527, 283, 194, 712, 283, 497, 1, 8, 150], [5, 15, 20, 898, 170, 86, 26, 687, 72, 177, 31, 200, 52, 78], [31], [1, 152, 39, 44, 6, 564, 84, 138, 1054, 1028, 566, 337, 39, 9, 43, 124, 378, 44, 390, 118, 1, 12, 144, 6, 760, 1, 337, 9, 1052, 429, 576, 429, 391, 1, 984, 46, 72], [3, 46, 3, 185], [3], [75, 1, 356, 20, 14, 1, 28, 425, 499, 574, 100, 27, 1, 7, 1, 87, 596, 1, 69, 176, 11, 61, 275, 352, 124, 4, 358, 270, 628, 736, 425, 87, 13, 528, 185, 86, 15, 502, 514, 425, 180, 100, 8, 410, 1348, 15, 73, 476, 1416, 90, 759, 461, 27, 14, 15, 63, 15, 23, 1007, 65, 1111, 825, 203, 41, 143, 555, 670, 90, 15, 222, 461, 635, 168, 27, 18, 502, 366, 15, 453, 1161, 345, 759, 441, 90, 441, 90, 113, 643, 145, 39, 22, 15, 28, 759, 38, 90, 222, 175, 114, 403, 90, 92], [45, 658], [25, 330, 21, 130, 41, 576, 1422, 1243, 20, 322, 214, 502, 110, 642, 205, 215, 1381, 2, 221, 18, 97, 346, 791, 24, 113, 1177, 407, 77, 860, 407, 451, 106, 720, 217, 907, 451, 20, 1, 146, 4, 860, 474, 800, 221, 566, 139, 398, 37, 585, 562, 4, 1, 562, 860, 492, 367, 10, 926, 8, 2, 474, 51, 333, 256, 562, 37, 234, 67, 232, 139, 562, 37, 1, 8, 527, 55, 36], [558, 965, 81, 21, 19, 184, 19, 355, 391, 104, 14, 140, 36], [28, 2, 5, 188, 62, 11, 394, 64, 208, 24, 64, 569, 59, 654, 82, 1441], [3, 43, 46], [29, 1, 86, 7, 48], [10, 64, 193, 66, 110, 344, 148, 12, 52, 246, 3, 68], [141, 25, 1196, 76], [109, 46, 5, 15, 16], [181, 149, 2, 352, 2, 959], [165, 9, 24, 247, 176], [25, 1, 123, 35, 198, 375, 35, 27], [2, 3, 419, 2, 247], [608, 119, 36, 119, 6, 455, 303, 2, 436, 47, 626, 348, 21, 19, 307, 529, 618, 32, 4], [31], [], [72, 78, 1], [42, 874, 13, 273, 231, 14, 217, 291, 2, 102, 283, 21, 19, 134, 578, 336, 1, 2, 313, 64, 63, 1], [2, 42, 57, 397, 11, 14, 1], [34, 239, 85, 74, 1107, 92, 48], [11, 1], [5, 1, 270, 11, 4, 374, 234, 626, 640, 12, 402, 352, 970, 64, 134, 424, 525, 49, 1364, 53, 23, 755, 521], [5, 15], [42, 14, 88, 2, 31], [703, 79, 127], [1, 24, 30], [8, 640, 133, 226, 372, 1221, 155, 8, 766, 103, 43, 16, 106, 23], [26, 1, 53, 276, 64, 569, 208, 1201, 395, 100, 24], [1, 3, 681, 137, 20, 97, 967, 386, 188, 657, 140, 45, 50, 206, 17, 461, 709, 1], [10, 276, 12, 30, 440, 15], [42, 14, 88, 2, 31], [1, 8, 150, 2, 102, 47, 226, 32, 110, 831, 303, 145, 21, 19, 359, 157, 1361, 1, 631, 162, 76, 73, 1, 722, 80, 45, 1, 36, 1185, 76, 80, 90, 76, 1, 178, 921, 359, 191, 841, 1104, 1312, 1, 21, 19, 93, 18, 74, 93, 2, 190, 459, 281, 17, 201, 111, 55, 201, 92, 50, 2, 188, 17, 50, 529, 223, 298, 1, 943, 201, 861, 743, 2, 276, 36, 841, 359, 191, 75, 1, 92, 3, 6, 17, 76, 243, 73, 1018, 351, 714, 1, 38, 36, 23, 1, 7, 41, 196, 90, 1, 76, 555, 1090, 76, 67, 749, 151, 51, 38, 233], [314, 11, 213, 287, 100, 12, 52, 214], [34, 239, 85, 74, 1107, 92, 48], [1, 12, 889, 420, 210, 17, 12, 142, 17, 45, 17], [40, 125, 2, 98, 47, 60, 226, 103, 15, 62, 482, 505, 668, 56, 232, 278, 358, 229, 835, 519, 76, 273, 1283, 32, 73, 897], [29, 267, 1, 24, 761, 857, 541], [31, 11], [1, 3, 6, 305, 235, 225], [1, 79, 47, 529, 618, 237, 668, 30, 111], [784, 70, 621, 217, 804, 34, 29, 88, 852, 24, 21, 19, 40, 401, 246, 30, 385, 22, 104, 14, 2, 367, 858, 309, 548, 925, 16, 169, 428, 239, 157, 68, 555, 48, 1412], [1, 70, 2], [586, 543, 685], [145, 90, 168, 195, 394, 6, 90, 326, 8, 94, 164, 1, 58, 45, 465, 15, 346, 1140, 11, 133, 68, 152, 1, 11, 49, 1335, 981], [11, 1, 97, 442, 14, 723, 376, 1371, 612, 135, 267, 1, 98, 84, 75, 376, 372, 12, 1274, 996, 941, 1, 14, 747, 267, 1, 25, 14, 376, 98, 84, 4], [31], [42, 88, 53, 4, 47, 459, 137, 104, 14], [151, 291, 235, 119, 94, 1425, 1214, 473, 964, 1, 365, 1133, 111, 235, 151, 478, 51, 99, 45, 17, 1168, 111, 34, 1003, 264, 305, 26, 430, 6, 39, 101, 163, 54, 4, 363, 260, 75, 1, 29, 62, 124, 72, 54, 507, 844, 696, 819, 162, 51, 7, 328, 30, 1024, 102, 389, 836, 203, 192, 69, 328, 236, 622, 8, 315, 210, 368, 4, 481, 81, 651], [6, 418, 249, 117, 58, 259, 81, 1, 814, 8, 1095, 1430, 7], [11, 1, 2, 152, 54, 948, 319, 128, 558, 713, 8, 128, 117, 21, 19, 12, 23, 1], [189, 163, 583, 583, 596, 1, 8, 176, 210, 48, 57, 1, 6, 39, 176, 33, 124, 104, 14, 492, 13, 800, 221, 151, 8, 529, 307, 10, 284, 39, 103, 132, 284, 131, 224, 819, 87, 953, 63, 174, 131, 1163, 106, 24, 95, 1025, 47, 1, 517, 580, 13, 37, 492, 580, 26, 2, 1308, 63, 161, 8, 26, 646, 831, 800, 24, 1, 256, 240, 67, 63, 74, 715, 1080, 2, 240, 26, 38, 1407, 34, 388, 26, 2, 438, 1, 144, 331], [31], [3], [11, 306], [92], [], [31, 49, 179], [13, 5], [11, 306], [31, 67, 8, 133, 30, 522], [31], [543, 1027, 704], [3], [31, 1], [2, 18], [5, 1, 415, 11, 229, 2, 102, 249], [86, 1, 144], [4, 1279, 21, 945, 298, 693, 266, 553, 213, 35, 2, 93, 747, 49, 982, 649, 561, 576, 26, 822, 168, 101, 101, 1319, 10, 53, 257, 101, 81, 71, 114, 150], [25, 1, 281, 11, 254, 2, 5], [66, 330, 21], [850], [306], [74, 141, 13], [16, 917, 786, 46], [134, 118, 163, 211, 499, 248, 234, 1060, 809, 134], [5, 604, 3, 43], [1106], [5, 1, 179, 443, 92, 11], [3], [3, 1, 109, 46], [31, 15], [109, 46, 78, 92], [92], [1, 188, 24], [3], [202], [7, 48], [25, 1, 263, 11, 486, 44], [48, 383, 583, 9, 48, 559, 222, 824, 398, 37, 641, 62, 709, 583, 914, 62, 631, 743, 608, 410, 158, 360, 621, 201, 366, 1330, 17, 555, 206, 4, 914, 365, 429, 221, 418, 914, 111, 714], [306], [36, 328, 161, 45, 1, 349, 22, 7, 14, 1, 10, 60, 349, 7, 190], [11, 1, 6], [528, 14, 64, 177, 1347, 16, 233, 28, 458, 6, 70, 14, 147, 51, 8, 181, 19, 316, 1, 343, 434, 293, 189, 249, 200, 16, 66, 81, 651, 1034, 522, 77, 658], [30, 328, 356, 436, 105, 220, 493, 142, 618, 169, 341, 1], [600, 78, 40, 49, 1, 7, 96, 867, 96, 64, 1062, 36, 328, 360, 1, 40, 1062, 484, 7, 48, 268, 65, 465, 15, 96], [306], [242, 386, 179, 168, 1, 434, 137, 168, 131, 235], [86, 144], [108, 1388, 9, 61, 1228, 1149, 589, 44, 78, 1, 159, 1381, 26, 57, 3, 1178, 215, 37, 134, 61, 234, 422], [31, 1, 141], [86, 1, 144, 337, 917, 251, 42, 34, 29], [398, 276, 63, 162, 1140, 45, 638], [82, 437, 113, 467, 183, 236, 476, 188, 13, 32, 146, 41, 17, 333, 17, 819, 735, 12, 143, 52, 245], [1, 1042], [10, 79, 127, 1, 113, 492, 148], [5, 11, 159, 232], [31, 88], [248, 20], [4, 1, 105, 130, 189, 44, 329, 1043, 699, 418, 61, 1332, 607, 213, 486, 61, 26, 1, 1241], [874, 229, 207], [11, 14, 64], [92], [331, 1, 285, 47, 316, 2, 706, 106, 142, 165, 482, 17, 64, 208, 136, 942, 215, 711, 146, 68, 1389, 262, 68, 178, 64, 1084, 86, 23, 40, 638, 33, 304, 63, 240, 1142, 27, 1, 829, 276, 64, 68, 669], [99, 333, 8, 103, 82, 1, 438, 144, 331, 492, 618, 1215, 32, 247, 32, 13, 571, 177, 2, 487, 1, 215, 17, 178, 319, 1465, 12, 106, 533, 158, 831, 158], [2, 46], [31, 1, 296, 316, 23, 606, 118], [11, 74, 1], [29], [31, 15, 2, 42, 357, 183, 463, 91, 357, 183, 553, 49, 803], [11, 11, 11, 1, 1, 384, 152], [3, 1, 126, 806, 155, 244, 26, 86, 33, 302, 44, 686, 417, 344, 713, 233, 1290, 594, 505, 184, 94, 861, 1284, 121, 43, 623, 51, 102, 114, 10, 60, 190, 89, 114, 59, 169, 305], [1414, 82, 454, 1241, 25, 196, 71, 290, 980, 264, 275, 352, 95, 884, 172, 664, 114, 606, 37, 120, 101, 606, 87, 649, 133, 63, 8, 844, 37, 158, 606, 5, 67, 606, 264, 180, 1053, 1260, 9, 738, 439, 481, 115, 155, 55, 667, 221, 82, 188, 171, 293, 408, 2, 18, 931, 183, 220, 17, 995, 7, 133, 165, 639, 698, 1053, 75, 9, 468, 96, 253, 82, 39, 95, 293, 593, 1443, 429, 290, 4, 1192, 606, 190, 264, 8, 3, 10, 60, 82, 39, 1427, 242, 39, 4, 256, 363, 467, 260, 87, 82, 336, 163, 82, 49, 30, 283, 513, 1034, 300, 8, 297, 30, 190, 58, 49, 30, 283, 599, 1034, 81, 81, 70, 82, 49, 81, 49, 30, 585, 321, 181, 19, 284, 844, 96, 82, 151, 427, 603, 20, 220, 13, 391, 730, 16, 148, 11, 1358], [10, 473, 668, 49, 456, 4, 1], [40, 1, 72, 57, 304, 12, 11, 151, 2, 22], [536, 368, 26], [27, 15, 209, 537, 1433, 84, 346, 336, 64, 163, 1, 31, 1, 346, 47, 4, 1, 107, 950, 618, 418, 1263, 9, 429, 1396, 98, 271, 723, 271, 36, 271, 120, 232, 571, 1361, 1, 631, 12, 333, 33, 1, 4, 1157, 83, 571, 24, 1, 77, 565, 33, 795, 77, 1182, 734, 64, 37, 53, 244, 37, 7, 64, 198, 113, 348, 289, 21, 19, 565, 56, 51, 890, 14, 565, 38, 921, 1, 191, 27, 21, 19, 1, 209, 1, 851, 631, 858, 58, 13, 120, 365, 1108, 31, 96, 1, 442, 262, 116, 213, 264, 79, 1, 39, 27, 64, 1391, 1021, 153, 129, 376, 346, 47, 27, 347, 442, 262, 43, 168, 316, 106, 27, 83, 64, 15, 162, 76, 15, 273, 47, 162, 64, 162, 64, 372, 273, 59, 1, 64, 1202, 208, 1001, 1001, 411, 273, 64, 1202, 208, 1001, 130, 27, 15, 570, 965, 55, 222, 454, 27, 14, 6, 64, 395, 13, 1082, 213, 308, 106, 27, 83, 15, 64], [259, 67, 187, 172, 40, 4, 222, 794, 24, 1291, 24, 116, 262, 608, 368, 5, 125, 5, 185, 5, 76, 1496, 2, 157], [2], [14, 147], [25, 281, 11], [150], [11, 1], [3, 76, 74, 319], [3, 43, 51, 908, 2], [31], [5], [150], [865, 368, 606, 394, 489, 1172, 9, 264, 22, 532, 34, 1322, 29, 1], [125, 1097, 932, 563, 326, 130, 25, 55, 106, 4], [25, 6, 136, 187, 172, 452, 35, 85, 4, 553, 377, 138, 553, 21, 19, 4, 232, 35, 187, 4, 39, 81, 553, 1034, 4, 187, 172, 452, 35], [25, 127, 13, 277], [15, 754, 750, 328, 582, 259, 227, 484, 99, 15, 262], [3], [78, 15, 76], [], [5], [1, 152, 441, 90, 94, 70, 32, 136, 38, 855, 203, 3, 217, 1256, 639, 51, 55, 519, 344, 70, 1014, 130, 95, 97, 2, 102, 1, 108, 185, 22, 1, 297, 16, 86, 667, 185], [29, 125, 1, 49, 327], [31], [31, 204, 519], [3, 15], [5, 15], [11], [152, 1, 115, 1148, 1230, 1034, 522, 70, 1, 627, 715, 23, 1230, 81, 988, 563], [29, 22, 1, 22, 151, 57, 44, 227, 2, 5, 46, 64, 15], [11, 653, 1023, 35, 721, 62, 59, 3, 96, 711, 985], [415, 347, 78], [684, 25, 288, 6, 406, 1230, 35, 965, 1, 72, 446, 5, 46, 446, 268, 503, 50, 96, 140, 2, 140, 96, 952, 50, 8, 140, 96, 952, 50], [3, 82], [5, 1, 668, 1401, 9, 240, 2, 102], [3], [3], [347, 1, 330, 21, 40, 561, 1, 312, 22, 126, 134, 214, 561, 330, 21, 1, 68, 246, 39, 323, 116, 1, 322, 417, 178, 272, 21, 130, 4, 616, 21, 365, 6], [318, 11], [984, 46, 92], [40, 1, 93, 7, 1, 330, 21, 40, 76, 42, 1158, 1, 35, 2, 205, 4, 252, 91, 21, 19, 222, 245, 20, 21, 1089, 21, 295, 255, 20, 945, 440, 1048, 819, 286, 3, 38, 327, 3, 70, 136, 231, 879, 557, 76, 29, 154, 266, 1473, 194, 1078, 194, 651, 1, 53, 187, 194, 651, 66, 939, 1078, 95, 250, 375, 66, 643], [1, 259, 64, 163, 186, 1466, 173, 121, 236, 1, 131, 1, 180, 201, 171, 93, 235, 2, 556, 1, 52, 1, 87, 100, 865, 690, 212, 22], [30, 283, 2, 255, 658, 39, 2], [318, 688, 11, 1, 22, 339, 9, 118, 108, 7, 1205, 521, 59, 134, 96, 41, 152, 318], [11, 11, 11, 339], [5, 1, 231, 301, 21, 19, 819, 94, 118, 146, 4, 1, 94, 411], [5, 1, 2, 339, 49, 1029], [31, 15, 68], [70, 237, 4, 76], [73, 172, 1182, 795, 293], [31], [70, 3, 14, 5, 27, 1249], [42, 1370, 319, 128, 67, 949, 3, 10], [5, 1, 289, 252, 859, 70, 212, 205, 522, 1211, 205, 154, 656, 26], [31], [349, 43, 9, 350, 470], [55, 94, 81, 600, 174, 23, 14, 81], [231, 333, 20], [74, 141, 374, 194, 283, 184], [47, 384, 11, 816, 126, 34, 806, 351, 1268, 20, 3, 71, 126, 64, 1, 84, 4, 622, 1066, 204, 323, 51, 4, 48, 124, 606, 9, 124, 593, 1443, 34, 2, 18, 93, 893, 1496, 366, 253, 53, 4, 716, 9, 71, 336, 1, 53, 428, 14, 337, 5, 10, 60, 152, 1429, 555, 300, 110, 81, 930, 32, 510, 4, 1231, 169, 3, 27, 12, 23, 592, 1406, 209, 83, 189, 478, 84, 834, 127], [95, 90, 849, 85, 172, 2, 618, 132, 142, 835, 300, 183, 80, 21, 802, 24, 53, 132, 690, 488, 183, 132, 84, 274, 132, 354, 4, 84, 18, 410, 368, 183, 82, 92, 53, 12, 1254, 76, 140, 849, 172, 20, 1474], [5, 1, 74, 22, 29, 92, 366, 218, 1445, 99, 473, 72, 152, 58, 1, 524, 163, 1, 130, 89, 904, 6, 666, 6, 72, 1, 144, 403, 503, 1058, 36, 328, 12, 5, 899, 7, 44, 470, 701, 131, 203, 1447, 332, 625, 10, 86, 51, 144, 92, 64, 5], [1, 415, 134, 55, 38, 1480, 26, 32, 10, 60, 134, 9, 4, 203, 244, 390, 445, 51, 1, 124, 123, 44, 227, 123, 735, 24, 1, 7, 735, 24, 360, 1, 205, 28, 378, 9, 550, 361, 62, 57, 824, 258, 44, 597, 891, 274, 155, 9, 210, 499, 542, 360, 448, 278, 1148, 1413, 1, 1, 1105, 244, 22, 134, 951, 114, 1, 982, 9, 8, 136, 51, 7, 64, 53, 20, 41, 234, 1311, 285, 1351, 311, 10, 234, 548, 234, 247, 204, 103, 51, 69, 1184, 176, 247, 39, 52, 23, 71, 1, 250, 375, 417, 2, 28, 171, 52, 662, 184, 163, 606, 71, 611, 1121, 1120, 31, 964, 64, 163, 606, 396, 71, 662, 226, 126, 7, 41, 1, 649, 964, 114, 351, 643, 32], [31, 15, 3, 43, 52], [345, 1, 12, 692, 23, 187, 164, 216, 13], [5, 330, 21, 1, 49, 179], [388], [1, 34, 49, 2, 5, 847, 149, 181, 355, 637, 289, 87, 37, 241, 539, 37, 181, 19, 986, 64, 163, 330, 21, 1, 163, 515, 98, 21, 216, 21, 12, 59, 291, 181, 355, 671, 4, 181, 355, 216, 21, 354, 974, 907, 150, 387, 398, 2, 34, 18, 284, 2, 18, 220, 2, 18, 24, 61, 1, 66, 965, 636, 283, 315, 385, 69, 1023, 21, 1037, 658, 1021, 63, 948, 1, 205, 64, 755, 64, 712, 215, 942, 215, 99, 330, 21, 1, 553, 1259, 1, 719, 416, 58, 262, 93, 389, 2, 5, 406, 482, 803, 366], [2, 5], [1, 29, 2, 326, 136, 73, 54], [3, 82, 21, 19, 712], [304, 23, 14, 1, 267, 305, 434, 259, 147, 530, 434, 10, 179, 430, 71, 189, 647, 279, 147, 1, 310, 276, 196, 267, 45, 91, 172, 800, 6, 45, 76, 1207, 285, 1489, 784, 625, 1, 134, 151, 11, 279, 368, 537, 1433, 4, 21, 882, 1237, 1, 2, 787, 523, 220, 908, 778, 4, 62, 195, 129, 829, 1435, 21, 423, 187, 35, 460, 117, 1, 745, 187, 82, 147, 266, 417, 597, 210, 84, 262, 10, 60, 285, 190, 9, 4, 95, 415], [267, 168, 1383, 259, 682, 2, 64, 213, 125, 1, 15, 57, 44], [346, 1, 56, 98, 356, 428, 839, 116, 87, 158, 519, 1, 2, 492, 484, 99, 757, 1, 34, 37, 308, 773, 149, 1410, 82, 896, 34, 3, 665, 224, 1298, 1131, 223, 56, 1146, 4, 167, 8, 64, 645, 28, 37, 51, 145, 560, 7, 135, 560], [5, 1, 106, 4, 153, 1, 53, 192, 1, 356, 28, 250, 1307, 922, 1061, 20, 815, 17, 740, 50, 424, 59, 341, 251, 204, 1485, 116, 59, 251, 97, 209, 140, 96, 245, 33, 124, 1, 420, 1208, 251, 50, 33, 124, 58, 50, 243, 171, 106, 45, 50, 718, 96, 22, 75, 1022, 1, 5, 164], [3, 1, 49, 1029, 154, 780, 242, 24, 118, 228, 260], [45, 1, 74, 93, 102, 253, 1194, 608, 94, 147, 183, 246, 965, 1, 2, 255, 947, 221, 33, 35, 73, 505, 85, 83, 6, 38, 85, 707, 93, 6, 333], [26, 373, 1, 874, 13], [73, 55, 33, 111], [1, 79, 47, 178, 4, 6, 946, 668, 351, 968, 627], [253, 682, 501, 173, 1041, 290, 348, 188, 13, 139, 182, 252, 256, 739, 204, 139, 1008, 492, 216, 33, 114, 293, 1292, 450, 335, 16, 103, 332, 25, 853, 329, 414, 28, 61, 1, 55, 2, 205, 412, 494, 123, 26, 34, 103, 420, 59, 3, 96, 38, 537], [74, 2, 151, 46, 16, 86, 1, 144], [406, 573, 21, 19, 669, 68, 132, 746, 74, 2, 220, 398, 26, 408, 56, 258, 61, 475], [1, 442, 364, 2, 584, 227, 425, 190, 63, 170, 8, 222, 65, 1354, 185, 1084, 145, 364, 1, 326, 28, 73, 222, 538, 157, 68, 174, 158, 584, 227, 63, 222, 1, 135, 243, 199, 29, 584, 227, 1084, 273, 324, 1, 116, 187, 174, 36, 1, 121, 195, 94, 136, 135, 602, 299, 117, 1, 65, 34, 218, 203, 761, 65, 1075, 148], [40, 1, 4, 103, 64, 1, 97, 225, 43, 1, 745, 268, 6, 103, 17, 379, 578, 1308, 17, 325, 106, 466, 58, 26, 43, 578, 96, 22, 504, 76, 326, 1, 261, 495, 26, 237, 39, 373, 83, 870, 1, 66, 181, 19, 425, 100, 34, 735, 1, 3, 268, 76, 146, 41, 1, 109, 32, 32, 1122, 304, 38, 109], [1, 11, 62, 20, 602, 299, 451, 15, 179, 675, 449, 8, 77, 451], [248, 46, 104, 14, 147, 6, 7, 336, 7, 1022, 1032, 271], [29], [90, 387, 65, 316, 27, 2, 5, 7, 108, 9, 350, 441, 407, 50, 206, 2, 7, 805, 361, 758, 4, 255, 840, 27, 83, 1, 840, 4, 5, 15, 3, 16], [2, 102, 349, 10, 60, 216, 155, 6], [52, 24, 74, 13], [115, 1, 568, 155, 583, 5, 9, 112, 382, 115, 47, 4, 1, 107, 176, 10, 60, 3, 8, 190, 365, 4, 361, 972, 33, 30], [141], [31, 15, 681, 690, 52], [187, 35, 519, 257, 268, 144], [304, 3, 1, 221, 76, 47, 105, 4, 1, 9, 178, 668, 142, 763, 162, 76, 273, 1, 262, 34, 501, 204, 59, 871, 825, 722, 528, 798, 273, 309, 1, 53, 103, 604, 13, 611, 64, 68, 1001, 12, 222, 30, 9, 688, 1159, 210, 126, 578, 76, 15, 106, 52, 76, 313, 162, 64, 480, 218, 99, 69, 51, 903, 103, 511, 265], [414, 110, 70, 202], [29, 1], [5, 1, 49, 327], [31, 15, 109, 94, 13], [403, 1, 532, 7, 1, 737, 211], [15, 202, 31, 76, 12, 27, 76], [281, 11, 394, 7, 165, 9, 988, 192, 744, 130, 672, 72, 3, 449, 588, 162, 401, 6, 257], [393, 1, 270, 20, 558, 158, 214, 401], [263, 11, 192, 1, 53, 146, 45, 140, 96, 296, 115, 393, 67, 501, 271, 196, 62, 2, 18], [243, 36, 238, 1, 7], [42, 1, 628], [18, 405, 1, 323, 880, 35, 550, 104, 46, 20, 859, 863, 128, 119, 54, 587, 719, 457, 4], [599, 319, 1193, 175, 53, 456, 401, 77, 167, 319, 128, 124, 1], [176, 167, 484, 466, 809, 66, 670, 15, 1458, 1091, 314, 115, 824, 167, 484, 23, 1398, 617, 784, 23, 4, 377, 4, 167, 507, 377, 260, 125, 1, 484, 737, 52, 665, 214, 3, 1, 495, 125, 1, 17, 1380, 204, 375], [25, 64, 35, 243, 199, 1, 1194, 736, 414, 205, 456, 4, 1194, 1, 814, 199, 456, 865], [9, 29, 518, 489, 165, 9, 547, 34, 3, 346, 1467, 39, 5, 804, 226, 180, 101, 221, 4, 159, 32, 113, 121, 1458, 6, 113, 1047, 83, 220, 2, 5, 86, 286, 1, 34, 434, 1032, 165, 228, 205, 34, 737, 434, 37], [1, 22, 532, 126, 34, 3, 155, 54, 4, 666, 164, 364, 58, 66, 135, 66, 189, 147, 39, 396, 647, 469, 328, 1, 29, 323, 96, 196, 34, 29, 2, 34, 18, 61, 352, 420, 37, 28, 8, 753, 328, 1, 301, 41, 6, 625, 18, 1, 5, 12, 200, 52], [85, 45, 1, 436, 105, 70, 297, 231, 74, 658, 315, 385, 149, 19, 242, 386, 122, 239], [586, 1191, 710, 463, 490, 52, 2, 463], [29, 1, 3, 730, 7, 191, 34, 721, 191, 584, 29, 954, 49, 179], [2, 46, 70, 155, 13, 70], [25, 125, 1360, 256, 37, 423, 95, 860, 542, 3, 1, 20, 545, 539, 37, 295, 181, 130, 34, 103, 258, 1195, 242, 545, 332, 57, 194, 1, 324, 407, 1047, 3, 1457, 155, 1, 545, 95, 1073], [613, 680, 1190, 710, 634, 392, 634, 392, 1027, 543, 1106, 44, 634, 392, 340, 1401, 1408, 644, 381, 392, 421, 1065, 392, 1065, 392, 382, 1190, 680, 1278, 1026, 660, 613, 549, 710, 1226, 613, 1272, 488, 613, 89, 710, 490, 613, 613, 163, 490, 680, 634, 172, 392, 392, 835, 490, 598, 579, 490, 613, 398, 392, 634, 295, 634, 828, 1226, 1026, 1387, 710, 634, 918, 634, 710, 634, 392, 634, 660, 613, 373, 490, 586, 543, 490, 634], [1, 326, 31, 88, 106, 4, 159, 13, 450, 1, 180, 165, 98, 119, 12, 111, 307, 10, 146, 111, 36, 23, 250, 76, 457, 28, 182, 397, 2], [34, 3, 7, 48], [27, 14, 1, 45, 267, 356, 1, 2, 9, 237, 396, 395, 13, 100], [40, 1, 4, 2, 18, 209, 40, 125, 68], [3, 168, 49, 179, 92], [83, 337, 3, 26, 3, 16], [3], [2, 5, 110, 24, 7, 1389, 262, 79, 346, 160, 1, 4, 79, 1025, 47, 160, 32, 262], [149, 542, 1], [314, 176, 194, 725, 232, 538], [3], [480, 222], [428, 46], [3], [173, 22, 389, 252, 588, 1, 453, 275, 232, 504, 445, 179, 46, 66, 672, 257, 109, 672, 13, 318, 1134, 92], [3, 137, 129, 435, 62, 61, 129, 42, 11, 472, 8, 689, 206, 54, 4], [1, 29, 218, 132, 21, 19, 484, 99, 85, 1, 136, 35, 187, 4, 220, 2, 102], [31, 15, 53, 2, 42, 327, 675], [130, 432, 1, 46, 48, 1, 351, 1112], [5, 1, 87, 317, 281, 219, 308, 224, 24, 11], [1, 69, 443, 341, 547, 103, 16, 210, 73, 459, 8, 1019, 1102], [27, 1, 858, 840, 1, 35, 146, 8, 1243, 21, 39, 2, 205, 52, 4, 205, 3, 99], [31], [133, 252, 92, 48, 3, 440, 246, 157, 514, 205, 114, 205, 168, 85, 3, 88], [616, 22, 21, 19, 25, 263, 44, 21, 19, 46, 332, 4, 36], [31, 1, 3, 27, 179, 52], [25, 168, 17, 157, 68, 65, 423, 35, 33, 124, 204, 1188, 1093, 332, 22, 1, 25, 1, 38, 36, 565, 684, 199, 1, 2, 92, 65, 1494, 100, 423, 957], [3, 1], [2, 5, 311, 635, 37, 8, 98, 32, 4, 30, 313, 9, 741], [281, 11, 1, 49, 154, 462, 308, 898, 1066, 9, 196, 269, 482, 25, 71, 338, 200, 52, 2, 5, 319, 128, 21, 19, 27, 65], [1231, 24, 130, 56, 32, 841, 1], [3, 1], [1246, 594, 58, 1, 640, 24, 724, 640, 67, 1251, 4, 1, 512, 575, 279, 512, 25, 7, 22], [320, 1472, 428, 876, 1094, 72, 86, 34, 287, 100], [6, 86, 541, 876, 591, 144, 14, 6, 159, 94, 118, 2, 49, 29, 3, 43, 3, 10, 63, 482, 365, 60, 142, 39, 3, 285, 516, 31, 47, 459, 53, 31, 445, 3, 1, 225, 16, 198, 48, 230, 64, 280], [5], [25, 1, 80, 44, 135, 486, 43, 1, 213, 8, 57, 379, 44, 618, 632, 91, 248, 657, 7, 414, 56, 123, 26, 3, 77, 288, 54, 240, 126, 345, 80, 1, 35, 230, 6, 39, 35, 146, 412, 44, 33, 41, 361, 41, 37, 4, 976, 739, 256, 151, 57, 37, 641, 480, 7, 38, 378, 378, 1, 6, 79, 227, 29, 116, 773, 141, 378, 1151, 1, 214, 99], [1, 102, 26, 18, 539, 225, 186, 1315, 785, 648, 279, 697, 506, 82, 500, 61, 249, 121, 5, 124, 9, 69, 180, 8, 4, 4, 559, 1, 146, 568, 4, 1, 6, 155, 34, 122, 29, 808, 302, 432, 1, 130, 56, 6, 331, 127, 500, 61, 166, 8, 4, 289, 256, 228, 222, 87, 1416, 1053, 845, 718, 236, 87, 106, 28, 38, 36, 98, 119, 29, 3, 424, 107, 26, 110, 124, 236, 133, 46, 53, 216, 646, 253, 53, 101, 15, 584, 187, 172, 361, 639, 698, 2, 34, 18, 599, 567, 729, 625, 107, 728, 41, 8, 107, 675, 8, 76, 39, 29, 154, 266, 537, 522, 130, 110, 146, 30, 1, 255, 203, 692, 23, 15, 65, 871, 825, 830, 757, 191, 553, 3, 1058, 748, 364, 233, 53, 27, 1, 513, 571, 194, 1, 55, 25, 902, 81, 13, 370, 179, 133, 608, 368, 341, 1, 5, 26, 115, 207, 57, 648, 2, 639, 698, 5, 808, 728, 23, 902, 81, 27, 65, 480], [361, 42, 1, 34, 86, 8, 115, 61, 1, 226, 1, 1189, 41, 115, 1, 609, 107, 4, 61, 506, 340, 42, 609, 1, 968, 26, 671, 697, 316, 378, 57, 459, 164, 728, 731, 122, 48, 326, 209, 41, 115, 1, 491, 1199, 297, 41, 731, 1, 33, 378, 506, 340, 107, 176, 142, 1115, 189, 14, 506, 89, 103, 1028, 9, 609, 1413, 173, 180, 462, 6, 155, 501, 1294, 339, 1045, 9, 506, 340, 26, 977, 186, 714, 142, 506, 89, 40, 340, 982, 619, 29, 51, 1, 9, 48, 200, 531, 2, 118, 22, 48, 57, 506, 89, 468, 609, 313, 1045, 29, 1020, 396, 149, 928, 72, 382, 576, 317, 112, 154, 158, 39, 1123, 112, 295, 181, 26, 86, 26, 58, 48, 713, 336, 1, 158, 12, 390, 130, 106, 48, 514, 120, 96, 22, 337, 126, 1079, 87, 336, 1, 34, 323, 1247, 421, 800, 807, 468, 114, 383, 337, 58, 531, 12, 119, 403, 135, 7, 121, 119, 291, 4, 1, 455, 155, 33, 124, 94, 155, 119, 235, 135, 12, 94, 155, 242, 957, 995, 1117, 119, 26, 957, 261, 495, 131, 32, 394, 1, 118, 200, 43, 485, 10, 60, 210, 32, 122, 3, 708, 171, 37, 4, 5, 51, 264, 55, 4, 285, 264, 290, 639, 240, 1213, 1105, 697, 64, 264, 462, 503, 336, 432, 1, 1105, 360, 55, 517, 57, 16, 103, 432, 138, 470, 807, 16, 852, 516, 51, 434, 639, 813, 135, 1049, 1243, 172, 301, 290, 285, 632, 379, 501, 336, 90, 132, 93, 2, 102, 12, 52, 594, 1063, 23, 187, 172, 893, 915, 262, 893, 862, 197, 135, 122, 482, 803, 432, 7, 28, 328, 941, 58, 432, 48, 1148, 1097, 968, 157, 68, 1, 6, 61, 417, 681, 41, 341, 1, 54, 462, 6, 155, 597, 500, 61, 126, 135, 36, 723, 271, 465, 360, 22, 64, 211, 53, 972, 95], [25, 1, 6, 47, 277, 1088, 318, 1126, 1, 2, 33, 6, 13, 1, 111], [5, 1, 16, 51, 10, 115, 2, 18], [7, 3, 26, 24, 8, 465, 9, 381], [1, 5, 11, 67, 124, 247, 220, 132, 33, 124, 598, 579, 702, 610, 529, 1, 55, 1135, 1, 67, 1, 67, 223, 63, 8, 6, 1, 39, 269, 69, 176, 247, 63, 111, 9, 204, 870, 34, 103, 79, 4, 26, 297, 1483, 26, 5, 11, 24, 126, 43, 96, 1070, 96, 59, 576, 26, 37, 67, 1, 12, 29, 149, 112, 3, 154, 1, 59, 397, 120, 23, 149, 19, 1123, 5, 169, 53, 122, 78, 1, 103, 15, 458, 16, 8, 245, 772, 638, 162, 78, 222], [134, 11], [1286], [11, 1, 72, 86], [248, 46], [208, 357], [25, 104, 14, 165, 9, 1248], [1, 432, 1000, 229, 49], [3], [45, 371, 848, 444, 371, 58, 1, 42, 46, 6, 28, 1499, 136, 525, 299, 40, 371, 848, 67, 7, 908, 2, 132, 117, 95, 664, 296, 432, 822, 47, 277, 371, 896, 132, 805, 117, 132, 169, 313, 85, 53, 103], [134], [], [432, 306], [11, 14, 432, 371, 44, 242, 130, 56, 6, 70, 996, 418, 61, 358, 432, 517, 5, 424, 113, 51, 747, 454, 1197, 1403, 302, 214, 279, 139, 500, 61, 432, 72, 411, 500, 61, 120, 74, 851, 500, 352, 439, 165, 18, 976, 66, 785, 611, 242, 258, 59, 187, 149, 350, 3, 118, 295, 181, 19, 74, 1263, 1066, 54, 139, 422, 242, 716, 518, 22, 1414, 175, 18, 22, 994, 51, 518, 22, 716, 182, 253, 174, 64, 182, 253, 726, 223, 298, 214, 163, 316, 14, 177, 27, 236, 1414, 175, 823, 491, 11, 975, 64, 6, 4, 244, 569, 1213, 29, 22, 432, 53, 48, 57, 264, 1414, 83, 227, 5, 677, 26, 415, 524, 26, 55, 180, 4, 1071, 429, 233, 86, 124, 103, 55, 57, 386, 429, 26, 44, 143, 808, 1, 26, 1254, 432, 138, 86, 698, 1, 41, 226, 698, 44, 177, 265, 432, 41, 524, 26, 1044, 1310, 39, 1298, 677, 698, 4, 26, 4, 1302, 975, 750, 115, 69, 177, 26, 2, 347, 640, 67, 1357, 640, 67, 103, 41, 93, 34, 290, 24, 4, 429, 1114, 26, 37, 671, 1114, 5, 429, 236, 864, 4, 169, 124, 640, 7, 1, 66, 127, 1, 17, 139, 510, 37, 308, 1410, 1285, 1129, 51, 12, 674, 44, 8, 122, 527, 34, 67, 332, 8, 195, 1, 34, 432, 370, 331, 491, 8, 527, 63, 920, 67, 33, 24, 432, 430, 280, 334, 686, 164, 1054, 157, 1231, 23, 1, 1142, 64, 39, 1236, 640, 67, 22, 64, 640, 256, 67, 8, 64, 412, 188, 1, 256, 290, 103, 575, 56, 7, 290, 723, 103, 90, 457, 467, 430, 39, 640, 24, 432, 640, 67, 4, 26, 37, 1114, 429, 429, 74, 375, 2, 5, 11, 114, 432, 738, 22, 63, 61, 28, 23, 14, 61, 550, 430, 64, 280], [134], [347, 1, 48, 58, 1, 152, 5, 26, 43, 3, 186, 225, 186, 899, 40, 188, 1400, 11, 1], [3, 177, 189, 61, 1280, 24, 1010, 4, 26], [31, 1, 64, 163, 387, 432, 517, 134, 424, 410, 43], [64, 163, 466, 158, 7, 108, 1, 97, 486, 70, 107, 22, 182, 375, 238, 432, 371, 982, 1, 259, 28, 371, 371, 1219, 94, 23, 371, 982, 70, 322, 205, 483, 365, 1132, 146, 8, 262, 483, 173, 47, 53, 11], [1, 2, 18, 72, 148, 1130, 1100, 336, 1], [947, 221, 126, 371, 57, 1, 371, 38, 371, 371, 233, 426, 148], [670, 74, 82, 432, 507, 256, 432, 183, 68], [5, 71], [65, 678, 15, 853, 577, 1, 27, 281, 487, 371, 583, 130, 67, 14, 1, 27, 466, 61, 594, 7, 1, 589, 371, 139, 383, 274, 187, 426, 559, 9, 110, 1130, 1, 10, 186, 503, 51, 708, 4, 1, 640, 236, 133, 223, 308, 701, 670, 3, 345, 1, 428, 574, 157, 293], [1, 2, 42, 74, 22, 177, 39, 109, 248, 13, 231, 31, 11], [1, 7, 29, 96, 51, 7, 330, 21, 1137, 444, 170, 361, 17, 6, 21, 53, 45, 83, 17, 83], [3], [3], [40, 371, 806, 564, 974, 72, 415, 11, 1, 48, 619, 866, 877, 21, 187, 172, 1415, 383, 219, 34, 445, 121, 43, 351, 4, 75, 1138, 294, 433, 4, 212, 409, 758, 931, 68, 59, 931, 191, 8, 583, 21, 819, 1089, 118, 310, 399, 399, 15, 794, 420, 948, 17, 111, 505, 259, 77, 417, 222, 8, 77, 1389, 262, 730, 1098, 362, 339, 1054, 328, 765, 184, 71, 71, 135, 29, 124, 34, 413, 51, 730, 371, 806, 851, 224, 462, 51, 377, 123, 238, 80, 470, 9, 145, 90, 1357, 639, 813, 24, 2, 56, 194, 1, 264, 235, 119, 775, 195, 8, 4, 93, 195, 176, 588, 1004, 63, 4, 383, 540, 39, 992, 158, 519, 434, 677, 505, 2, 18, 6, 532, 51, 238, 35, 1, 146, 4, 315, 284, 220, 908, 38, 90, 258, 95, 459, 95, 1, 402, 474, 802, 13, 261, 312, 1231, 178, 338, 123, 36, 347, 48, 449, 61, 1, 474, 371, 806, 56, 6, 229, 123, 7, 53, 38, 2, 312, 51, 124, 74, 375, 42, 72], [99, 442, 110, 262, 187, 954, 304, 12, 79, 292, 346, 47, 25, 281, 672, 702, 254, 1221, 9], [125, 1, 196, 692, 123, 173, 94, 6, 204, 58], [10, 388], [12, 52, 1, 325, 1174, 4, 91, 1228, 173, 875, 123, 35, 1488, 55, 138, 209, 171, 117, 191, 333, 3, 214, 798, 1174, 73, 954, 168], [196, 777, 244, 184, 29, 155, 590, 36, 763, 366], [44, 86, 61, 224, 531, 244, 980, 49, 30, 62, 705, 324, 682, 18, 405, 61, 686, 488, 187], [799, 1, 87, 1122, 46, 1492, 88, 6, 877, 217, 39, 1235, 328, 9, 381, 78, 730, 778, 1], [87, 142, 17, 496, 58, 182, 838, 582, 1, 1, 80, 7, 430, 1], [25, 1, 979, 7, 472, 320, 154, 54, 462, 98, 1425], [2, 3], [1, 22, 7, 4, 84, 406, 104, 14, 243, 36, 1, 53, 269, 47, 114], [25, 1, 137, 1016, 771, 85, 366, 37, 122, 29, 1, 39, 61, 1099], [978, 127, 189, 646], [129, 55, 4, 570, 255, 491, 25, 212, 479, 295, 21, 19, 2, 102, 84, 75, 11, 129, 420, 903, 91, 1, 129, 1038, 3, 80, 363, 675, 55, 111, 127, 587, 608, 94, 119, 129, 140, 916, 77, 215, 281, 55, 17, 263, 587, 6, 119, 97, 215, 20, 629, 129, 111, 30, 129, 159, 593, 190, 550, 55, 79, 659, 32, 140, 916, 10, 225, 601, 239, 229, 52, 245, 22, 398, 129, 736], [3, 7, 872, 3], [2, 42], [31, 23], [108, 176, 1], [11, 1], [], [395, 100, 27, 1, 672, 318, 233, 2, 47, 397, 296, 1, 22, 5, 504, 229], [3], [114, 1, 98, 150, 13, 59, 1116, 219, 41, 17, 103, 158, 201, 58, 33, 124, 598, 579, 176, 1, 176, 735, 13, 1154, 286, 20, 1, 94, 148, 78, 458, 23, 1, 12, 395, 100], [1, 27, 318, 45, 3, 88, 97, 1, 106, 2], [178, 103, 13, 73], [74, 1, 8, 424, 517, 17, 2, 121, 43, 3, 134, 50, 2, 37, 2, 5, 10, 60, 122, 345, 28, 1, 38, 1219, 404, 454, 241, 464, 16, 35, 177, 760, 1, 56, 225, 187, 149, 241, 289, 188, 187, 37, 216, 1087, 61, 457, 545, 189, 545, 403, 545, 61, 214, 545, 41, 143, 99, 1, 164, 440, 145, 74, 107, 440, 732, 558, 110, 130, 390, 38, 61, 340, 340, 189, 592, 989, 17, 189, 240, 288, 836, 545, 189, 5, 503, 630, 1, 53, 1087, 225, 187, 149], [403, 7, 255, 140, 918, 6, 532, 667, 4, 533], [31, 15, 68, 246, 52], [72, 93, 7, 3, 1, 7], [5, 137, 1, 41, 17, 50, 127, 10, 60, 29, 816, 636, 20, 156, 231, 227], [2, 3, 247, 492, 476], [314, 148, 21, 19, 355, 427, 162, 1, 535, 30, 33, 30, 419, 40, 140, 36], [5], [1, 47, 819, 121, 7, 68, 353, 100], [85, 1, 80, 6, 1115, 281, 605, 34, 7, 393, 264, 1, 76, 266, 81, 1, 351, 627, 81, 243, 563, 22, 212, 537, 81, 173, 1, 283, 427, 30, 10, 425, 83, 751, 81, 12, 2, 1, 2, 5, 643, 85, 1, 265, 324, 41, 143, 81, 266, 1, 135, 2], [1, 2, 88, 172, 762, 170, 1, 215, 53, 170, 83, 451, 265, 136, 55, 240, 24, 612, 336, 933, 304, 442, 1], [1, 538, 9, 115, 1320, 119, 360, 236, 476, 17, 12, 769, 131, 119, 594, 201, 17], [25, 263, 47, 277, 90, 400, 265, 106, 544, 205, 262, 376, 63, 74, 541, 348, 262, 1069, 12, 28, 27, 292, 262, 395, 52, 1, 265, 541], [1, 13, 1040, 11, 264, 228, 97, 131, 646, 1, 41, 667, 128, 1, 4, 131, 166, 3, 440, 1, 137, 303, 2, 94, 105, 13, 1229, 182, 375], [1, 207, 10, 20, 80], [1, 290, 814, 299, 98, 32, 179, 1, 45, 215, 33, 425, 346, 190, 1, 117, 569, 208, 1, 170, 78, 310], [1, 109, 13, 231, 18, 24, 72, 5, 38, 117, 191, 8, 1, 597, 92], [74, 50, 17, 70, 81, 286, 691, 384, 287, 100], [11], [204, 449, 1, 276, 360, 161, 113, 59, 10, 2, 397, 13, 472, 140, 17, 78], [672, 318, 11, 72, 99, 24], [56, 12, 7, 58, 1, 5, 1, 367, 198, 156, 231, 11, 228, 54, 50, 59, 96, 54, 59, 5, 96, 5, 137, 17, 50, 1, 25, 1, 25, 6, 818, 11, 263, 11, 818, 263, 1, 2, 5, 70, 14, 7, 326, 179, 49, 1, 97, 66, 14, 179, 5, 1, 2, 42, 56, 107, 838, 47, 459, 1, 84, 106, 838, 99, 1, 968, 1, 243, 1, 30, 30, 26, 197, 2, 13, 944, 159, 13, 161, 17, 50, 25, 14, 6, 268, 14, 6, 12, 2, 7, 818, 263, 170, 257, 25, 14, 14, 838, 22, 7, 84, 75, 138, 1377, 4, 38, 299, 968, 4, 1, 1, 5, 8, 14, 135, 14], [56, 1, 45, 2, 291, 27, 675, 80, 40, 216, 1, 78, 291, 27, 1, 406, 104, 14, 1, 267, 166, 117, 439, 451, 557, 136, 1, 676, 6, 136, 377, 267, 104, 14, 1, 2, 236, 23, 83, 1, 11, 1, 2, 41, 143, 324, 557, 267, 1], [7, 271, 1159, 7, 342, 33, 85, 6, 487, 1], [1, 243, 65, 32, 814, 8, 288, 138, 119, 456, 642, 465, 695, 90, 65, 423, 50, 206, 814, 593, 307, 90, 554, 525, 100, 140, 14, 1, 793, 8, 307, 90, 440, 204, 90, 106, 528, 65, 162, 745, 1212], [3, 683, 252, 128, 50, 1454, 819, 153, 1, 255, 484, 20, 24, 1391, 956, 159, 10, 60, 93, 69, 696, 585, 81, 1391, 212], [5, 533], [287], [1, 2], [1, 141, 361, 137, 1, 1466, 173, 12, 833, 867, 85, 622, 50, 165, 9, 912, 54, 170, 117, 20, 156, 209, 326], [80, 1, 6, 342, 130, 4, 6, 226, 84, 679, 46, 2], [5, 16, 51, 20, 252, 28, 128, 50, 4, 868, 2, 5], [109, 13, 18, 231, 5, 88, 53, 452, 338, 469, 9, 175, 185, 12, 213, 52, 214], [27, 104, 14, 1, 1185, 303, 2, 1, 2, 47], [1, 55, 170, 215, 1152, 954, 171, 117, 191, 136, 75], [56, 387, 506, 204, 375, 303, 519, 349, 179, 337, 103, 157, 68, 40, 185, 4, 1, 1456, 158, 8, 198, 90, 299, 4, 506, 185, 1, 765, 53, 84, 2, 42, 203, 3, 1, 1003, 732, 90, 857, 34, 99, 48, 1076, 387, 179, 13, 1, 90, 185, 1, 387, 150, 113, 643, 75, 1076, 82, 34, 123, 12, 2, 7, 14], [1, 109, 18, 231, 170, 1, 2, 42, 1, 5, 88, 22, 7, 14], [5, 1, 6, 25, 63, 461, 113, 652, 20, 80], [27, 4, 549, 1114, 975, 1455, 597, 14, 168, 207, 921, 117, 883, 1, 93, 2, 207, 22, 1, 715, 162, 246], [171, 25, 11, 6, 4, 28, 14, 164, 92, 65, 775, 164], [3, 530, 20], [12, 2, 163], [25, 1, 71, 6, 376, 347, 1, 25, 83, 115, 982, 1, 292], [6, 57, 137, 1, 120, 5, 97, 137, 1, 3, 726, 66, 276, 238, 278, 1, 564, 47, 137, 1, 8, 3, 726, 2, 42, 370, 973, 6, 238, 252, 54, 4, 133, 1454, 498, 137, 1, 276], [63, 8, 886, 1, 75, 6, 7, 5, 278, 84, 332, 6, 2, 140, 14, 6, 51], [125, 1, 248, 28, 202, 915, 22, 226, 104, 14, 504, 175, 1, 12, 52, 76, 33, 109, 1005, 327, 443, 481, 78], [26, 118, 873, 536, 48], [20, 189, 61, 172], [403, 78], [141], [532, 1, 3, 884, 37], [1, 46, 309, 352, 176, 515, 100, 353], [1, 334, 105, 114, 150, 313, 1, 861, 131, 1447, 17, 621, 201, 158, 111, 1447, 1281, 305, 124, 1, 113, 142, 220, 300, 2, 24, 82, 1245, 615, 220, 571, 162, 208, 368, 67, 269, 36, 257, 337, 3, 512], [31, 15, 200, 52], [11, 63, 129, 197, 362, 197, 107, 272], [1, 325, 99, 204, 177, 349, 43, 37, 191, 3, 33, 736, 84, 75, 1126, 12, 1067, 51], [134, 1], [48, 448, 5, 90, 58, 11, 1, 229, 7, 410, 1, 72, 221, 16, 67, 1, 454, 2, 2, 18], [5, 1, 47, 67, 5, 60, 26, 577, 686, 1], [51, 1, 5, 1, 139, 18, 253, 176, 10, 152, 8, 32, 10, 630, 4, 550, 210, 32, 6, 98, 67, 56, 1, 40, 276, 26, 63, 59, 251, 45, 1, 944, 396, 1, 474, 1383, 1, 278, 13, 240, 36, 67, 705, 747, 1011, 40, 80, 49, 701, 24, 14, 6, 562, 119, 247, 3, 216, 587, 300, 119, 2, 13, 1263, 1066, 36, 748, 59, 278, 587, 2, 735, 894, 268, 234, 67, 705, 3, 1, 12, 58, 229, 18, 731, 686, 440, 93, 7, 978, 276, 2], [5, 1, 1, 47, 254, 53, 11, 1, 121, 43, 121, 43, 5, 223, 197, 224, 59, 17, 97, 101, 287, 501, 264, 41, 301, 124, 131, 1413, 1, 131, 743, 1413, 1442, 264, 823, 53, 5, 121, 43, 106, 67, 283, 658, 67, 1321, 354, 26, 43, 5, 26, 43, 294, 36, 26, 59, 122, 134, 251, 166, 917, 200, 43, 251, 325, 423, 166, 251, 304, 166, 1302, 26, 197, 43, 3, 97, 923, 6, 1, 1357, 197, 221, 1, 711, 121, 216, 197, 216, 197, 121, 1151, 1, 1, 24, 101, 108, 185, 120, 238, 49, 269, 13, 923, 1, 829, 969, 441, 322, 317, 1291, 188, 13, 142, 110, 71, 53, 2, 49, 154, 20, 264, 347, 264, 816, 54, 766, 40, 1098, 172, 29, 126, 126, 345, 155, 12, 52, 15], [134, 1, 22, 42, 35, 1, 537, 42, 421, 41, 82, 139, 422, 49, 1029, 6, 67, 974, 72, 1098, 362, 12, 213, 52], [415, 11, 1, 1, 152, 121, 302, 153, 1, 59, 96, 197, 889, 96, 1108, 90, 782, 490, 122, 915, 186, 1098, 362, 22, 29, 4, 319, 128, 209, 53, 8, 4, 143, 51, 987, 205, 880, 195, 100, 103, 16, 169, 682, 12, 29, 116, 419, 478, 1, 264, 118, 103, 108, 5, 251, 59, 29, 614, 1335, 981, 129, 290, 408, 126, 18, 405, 10, 79, 18, 32, 767, 527, 7, 90, 145, 72, 78, 1, 12], [790, 45, 14, 1, 549, 127, 13, 64, 157, 28, 63, 182, 174, 22, 816, 549, 1, 334, 105, 72, 445, 56, 231, 66, 386, 8, 167, 1031, 549, 885, 216, 24, 549, 113, 652, 121, 17, 549, 201, 171, 210, 201, 478, 8, 399, 508, 743, 538, 33, 131, 478, 549, 113, 8, 253, 58, 132, 167, 10, 60, 696, 59, 278, 190, 30, 79, 419, 346, 32, 143, 1, 135, 14, 65, 326, 143, 549, 101, 34, 14, 549, 399, 508, 409, 67, 32, 277, 1056, 257, 38, 114, 83, 105, 116, 549, 749, 24, 73, 624, 64], [237, 11, 1309, 26, 166, 366, 738, 45, 1, 844, 62, 9, 1052, 489, 429, 429, 5, 251, 59, 34, 41, 96, 971, 1385, 776, 584, 7, 1208, 251, 1108, 1, 426, 96, 310, 790, 4, 26, 197, 494, 347, 66, 985, 518], [714, 50, 303, 2, 47], [56, 61, 1, 144, 331, 1238, 1, 343, 1100, 189, 84, 277, 120, 102, 1, 969, 1125, 13, 1, 110, 71, 59, 6, 1079, 464, 142, 1200, 1044, 36, 781, 701, 1256, 298, 606, 9, 413, 25, 1, 79, 84, 366, 157, 373, 157, 828, 864, 48, 581, 16, 71, 182, 178, 288, 1460, 1015], [1, 1091, 538, 10, 225, 542, 139, 176], [29, 1, 288, 249, 140, 36, 24], [152], [29, 1, 58, 960, 557, 25, 557, 63, 138, 232, 981, 332, 412, 960], [680, 1273, 1277, 1386, 1387, 1386, 490, 1183, 945, 392, 1183, 536, 938, 35, 199], [22, 1317, 1, 8, 46, 321, 286, 73, 841, 555, 90, 7, 1, 477, 3, 55, 111], [1, 3, 1, 3, 68, 717, 94, 118, 146, 116, 9], [714, 50, 303, 2, 47], [56, 61, 1, 144, 331, 1238, 1, 343, 1100, 189, 84, 277, 120, 102, 1, 969, 1125, 13, 1, 110, 71, 59, 6, 1079, 464, 142, 1200, 1044, 36, 781, 701, 1256, 298, 606, 9, 413, 25, 1, 79, 84, 366, 157, 373, 157, 828, 864, 48, 581, 16, 71, 182, 178, 288, 1460, 1015], [1, 1091, 538, 10, 225, 542, 139, 176], [29, 1, 288, 249, 140, 36, 24], [152], [29, 1, 58, 960, 557, 25, 557, 63, 138, 232, 981, 332, 412, 960], [680, 1273, 1277, 1386, 1387, 1386, 490, 1183, 945, 392, 1183, 536, 938, 35, 199], [1, 3, 1, 3, 68, 717, 94, 118, 146, 116, 9], [1, 80, 802, 199, 1038, 631, 705, 93, 94, 409, 1201, 781, 15, 29, 22, 126, 232, 107, 38, 883, 684, 234, 370, 734, 883, 1188, 325, 154, 795, 389, 148, 80, 1, 376, 696, 105, 170], [339, 609, 9, 214, 242, 716, 3, 120, 35, 1, 200, 16, 7, 52, 214], [25, 1, 238, 31, 15, 122, 568, 765, 410, 251, 188, 10, 826, 154, 1275, 338, 173, 9, 663, 286, 151, 240, 605, 9, 23, 14, 6, 418, 83, 104, 208, 286, 789], [409, 371, 583, 89, 35, 609, 61, 409], [103, 91, 4, 60, 26, 43, 3, 689, 7, 927, 1047, 408, 799, 161, 37], [3, 1, 229, 62, 7, 795], [3], [27, 84, 75, 281, 841, 626, 105, 40, 83, 1], [282, 1, 899, 176, 146, 8, 37], [29, 1, 51, 8, 87, 308, 76, 997, 39, 8, 1014, 1, 8, 990, 522, 2, 5, 70, 104, 14], [479, 1, 439, 669, 368, 342, 1, 356, 85, 80, 190, 1, 117, 162, 409, 409, 164, 215, 409, 15, 136, 15, 23, 265, 457, 4, 479, 1, 20, 882, 157, 68], [117, 58, 2, 106, 250, 136, 364], [3, 185], [2, 3, 137, 1], [3, 15, 202, 109, 13], [1, 479, 416, 4, 47, 4, 971, 299, 451, 227, 109, 110, 259, 147, 558, 470, 9, 943, 140, 36], [217, 694], [1, 341, 25, 80, 1, 356, 178, 170, 273, 117, 1, 602, 299, 1, 168, 364, 58, 204, 602, 299, 1], [1, 102, 1, 448, 669, 209, 25, 1, 117, 136, 198, 911, 47, 1, 243, 36], [6, 85, 807, 210, 611, 153, 1, 41, 17, 50, 959, 578, 26, 578, 149, 1123, 212, 8, 248, 299], [17, 117, 170, 1, 273, 479, 1, 20, 4, 479, 19, 370, 47], [25, 63, 418, 1, 117, 157, 68, 1084, 448, 273, 205, 479, 1], [5, 137, 1, 274, 3, 30, 156, 231, 367, 472, 1030, 86, 397, 13, 95, 1, 744, 303, 2, 32, 8, 174, 6, 268, 6, 79, 47, 397], [1, 31, 88, 175, 27, 415, 204, 288, 1, 226, 104, 14], [762, 4, 895, 146, 45, 17, 631, 395, 100], [40, 68, 218, 132, 41, 1, 1288], [1452, 638, 246, 752, 23, 1, 265, 208, 496, 303, 1006, 496, 292, 208, 166, 105, 17, 407, 496, 101, 218, 348, 20, 208, 2, 25, 871, 825, 71, 496, 292, 208, 1, 1125, 241, 77, 170, 403, 106, 8, 77, 483, 788], [51, 137, 8, 2, 398, 775, 176, 86, 377, 77, 37, 602, 633, 1, 215, 17, 50, 1, 45, 50, 215, 416, 602, 289, 269, 555, 122, 617, 7, 140, 50, 206, 206, 145, 689, 815, 926, 59, 232, 759, 151, 127, 736, 275, 498, 177, 57, 863, 119, 261, 360, 654, 967, 36, 119, 69, 401, 146, 642, 6, 6, 350, 62, 101, 28, 307, 1, 1133, 642, 13, 863, 141, 119, 49, 496, 209, 47, 266, 232, 50, 719, 156, 123, 122, 3, 185, 198, 1380, 90, 65, 157, 99, 416, 511, 65, 9, 511, 93, 159, 13, 116, 998, 90, 237, 288, 207, 15, 7, 1188, 76], [34, 5, 15, 2, 230, 82, 6], [136, 12], [994, 619, 563, 143, 699, 4, 197, 773, 502, 37, 131, 741, 2, 5, 811, 1334, 284, 131, 570, 131, 552, 1094, 42, 129, 308, 773, 1020, 1172, 609, 9, 5, 96], [820, 6, 86, 505, 820], [11, 24, 1493, 732, 15, 303, 773, 294, 531, 1301, 247, 2, 820, 247, 2, 247, 110, 221, 1404, 1245, 2, 110, 67, 12, 601, 134, 11, 115, 118, 146, 121, 43, 245, 1206, 240, 67, 175, 218, 99], [5, 820, 51, 141, 6, 24, 1440, 13, 159, 232, 13, 51, 3], [406, 66], [7, 153, 820, 7, 372, 8, 253, 820, 1404, 159, 8, 8, 69, 247, 38, 532, 1220, 34, 978, 104, 14, 820, 39, 1301, 93, 1248, 706, 56, 13, 4, 386, 769, 227, 271, 55, 667, 767, 276, 6, 1134, 6, 14, 6], [200, 268, 11, 11, 503, 173, 71, 242, 716, 820, 96, 870, 1294, 937, 409, 61, 820, 5, 96, 43, 42, 22, 1334, 820, 3, 96, 43, 38, 6, 23, 56, 409, 2, 5, 309, 285, 73, 486, 4, 596, 164, 96, 43, 503, 12, 213, 27, 11, 14, 264, 503, 313, 96, 196, 56, 6], [134, 820, 11, 48, 92, 2, 49, 327], [403, 150, 607, 37, 1441, 654, 607, 456, 114, 15, 150, 230, 450, 234, 55, 23, 256, 283, 219, 37, 195, 838, 25, 188, 1334, 820, 103, 73, 32, 509, 67, 434, 96, 489, 131, 1099, 320, 5, 1334, 820, 239, 96, 489, 777, 121, 31, 118, 33, 1099, 139, 1142, 481, 165, 9, 61, 358, 41, 563, 1379, 2, 7, 1372, 61, 82, 1325, 603, 252, 403, 295, 181, 355, 21, 1037, 260, 355, 735, 4, 315, 295, 181, 522, 370, 6, 563, 29, 304, 439, 5, 563, 52, 95, 53, 78], [2, 5, 313, 57, 151, 161, 295, 181, 355], [29], [3], [90, 288, 168, 45, 536, 2, 141], [446, 28, 1, 274, 37, 95, 37, 343, 434, 542, 25, 14, 280, 1, 136, 123, 24, 1, 666, 89, 1, 89, 1093, 491], [1, 538, 176, 247, 33, 111, 617, 542, 219, 37, 599, 117, 38, 359, 919, 416, 473, 819, 25, 174, 6], [484, 154, 149], [234, 492], [3], [2, 18], [1324, 72, 3, 445, 92], [3, 15], [685, 645, 1271, 392], [306], [1180, 1190], [29], [40, 1, 814, 743, 254, 605, 41, 17, 201, 201], [34, 7, 1, 53, 195, 234, 180, 460, 247, 1216, 215], [29, 62, 1, 5, 16], [34, 7, 1, 74, 5, 139, 49, 86, 409, 1, 144, 105, 4, 6, 98, 131, 2, 34, 148, 1, 4, 5, 121, 538, 313, 55, 162, 140, 14], [40, 87, 341, 62], [348, 1, 35, 460, 576, 35, 1, 74, 1, 77, 162, 416, 113, 22, 920, 560, 631, 162, 416, 250, 375, 74, 375, 354, 77, 297, 207, 33, 348, 35, 460, 2, 4, 249, 21, 19, 332, 101, 47, 13, 448, 13, 389, 836, 58, 7, 409, 144, 85, 83, 1, 85, 35, 480, 409], [225, 16, 424], [1, 66, 199, 272, 15], [72, 3, 1, 59, 5, 96], [85, 35, 1, 166, 565, 238, 1, 199], [1, 423, 35, 271, 222, 272, 1090], [42], [3], [1, 2, 5, 92], [1, 25, 4, 187, 101, 159, 32, 5, 379, 314, 49, 113, 44, 44, 227, 242, 763, 94, 66, 118, 52, 168, 159, 6, 66, 1260, 27, 494, 92], [166, 127, 13, 15, 28, 268, 76, 86, 478, 13, 34, 239, 536, 55, 52], [33, 17, 1113, 204, 7, 9, 616, 6, 51, 20, 240, 259, 861, 351, 235, 4, 914, 241, 201, 715, 274, 23, 259, 1113, 1, 212, 1113, 511, 817], [349, 379, 243, 36, 159, 51, 375, 93, 5], [314, 49, 832, 149, 1, 113, 606, 227, 270, 11], [31], [56, 69, 1, 4, 35, 45, 1, 383, 443, 406, 109, 1, 190, 4, 204, 178, 1176, 67, 170, 1005, 1, 91, 1, 441, 90, 1, 213, 52, 76, 12, 213, 85], [34, 1136, 1, 3, 88], [5, 82, 765, 311, 9, 127, 10, 60, 61, 62, 12, 46, 122, 716, 309, 48, 807, 731, 311, 9, 1, 417, 91, 21, 289], [106, 40, 2], [27, 1, 91, 1, 17, 91, 178, 191, 1, 170, 91, 110, 35, 460, 1176, 12, 246, 273, 38, 678, 30, 936, 207, 237, 793], [29, 1, 86, 23, 100], [31], [12, 52, 5, 1, 92], [79, 32, 1, 529, 817, 138, 1157, 116, 474, 648, 4, 860, 111, 466, 333, 285, 47, 4, 148, 82], [602, 435, 37, 21, 35, 460, 147], [685], [87, 174, 259, 11], [236, 2, 105], [248, 20, 318, 325, 840, 2, 18, 305, 699, 70, 752, 406, 424, 679, 23, 204, 872], [5, 751, 122, 3, 337, 341, 574, 149, 4, 430, 627, 26, 323, 3], [31, 16, 4, 91, 198, 38, 11, 378, 9, 66, 359, 602, 289, 785, 1169, 484, 99, 143, 241, 307, 1041, 337, 126, 383, 44, 29, 568, 1039, 167, 91, 1469, 38, 123, 521, 690, 458, 1127, 774, 302, 164, 97, 4, 984, 46, 745, 808, 158, 59, 87, 13, 1180, 440, 302, 62, 1, 16, 1, 322, 417, 27, 895, 1187, 20], [141, 1, 4, 881, 29, 62, 9, 468, 5, 141, 121, 43, 55, 57, 39, 176, 1487, 9, 1053, 9, 165, 436, 779], [5, 1, 16, 62, 20, 110, 62, 20, 28, 198, 211, 5, 1, 108, 16, 1, 3, 211, 16, 837, 3, 200, 52, 28, 87, 1, 6, 509, 51, 367, 1, 3, 127, 60, 307, 80, 10, 181, 19, 355, 1, 7, 211, 1, 1, 10, 473, 103, 1054, 205, 12, 1086, 23, 1, 419, 12, 236, 41], [1, 70, 972, 7, 97, 301, 20, 35, 460, 12, 93, 58, 601, 35, 1, 1, 218, 8, 564, 35, 9, 899, 388, 55, 77, 4, 220, 8, 749, 85, 63, 8, 2, 223, 801, 95, 51, 95, 78, 58, 65, 76, 39, 78, 425, 1009, 146, 8, 35, 460, 2, 540, 77, 75, 1, 14, 483, 256, 598, 579, 86, 12, 801, 286, 2, 63, 257, 8, 324, 325, 76, 425, 100, 1, 207, 35], [85, 1, 80, 6, 2, 291, 17, 180, 158, 34, 201, 210, 128, 320, 227, 132, 676, 1316, 250, 693, 34, 388], [5, 1, 52], [11, 1, 70, 972], [109, 5, 88, 18, 231, 27, 80, 1, 270, 175, 5, 68, 43, 595, 16], [3, 1, 49, 109, 204, 103, 58, 78, 72], [5, 1205, 11], [49, 1, 10, 60, 57, 1, 331, 98, 32, 10, 630, 5, 1, 16], [5], [11, 1, 16, 2, 5], [29], [1, 370, 47, 58, 5, 1, 40, 983, 821, 34, 687, 512, 26, 213, 515, 1, 139, 664, 253, 1, 764, 247, 333, 2, 220], [1324, 1, 5, 278, 17, 153, 1, 155, 6, 179, 49, 326, 35, 523, 252, 91, 21, 19, 1358, 99, 25, 1, 108, 9, 48, 785, 121, 5, 151, 79, 153, 1, 64, 163, 377, 58, 6, 3, 57, 4], [72, 3, 5, 1, 109, 38, 1, 231, 319, 128, 903, 1, 231, 289, 21, 19, 17, 319, 128, 436, 963, 1, 427, 75, 1, 156, 231, 427, 18, 204, 319, 128, 74, 152, 1], [270, 11, 14, 409, 1218, 1], [306, 1], [133, 68, 202, 5, 75, 766, 7, 505], [5, 1, 5, 68], [103, 10, 132], [145, 1, 90, 466, 783, 1, 27, 564, 47, 28, 198, 200, 210, 1, 63, 278, 409, 86, 61, 72, 9, 29, 5, 1324, 1, 69, 616, 559, 653, 260, 1006, 233, 174, 58, 145, 90, 409, 1113, 564, 25, 6, 121, 985, 54, 201, 33, 641, 952, 359, 38, 1, 35, 91, 269, 13, 981, 986, 79, 98, 1, 313, 378, 9, 122, 78, 615, 95, 389, 693, 258, 478, 105, 10, 60, 372, 301, 3, 95, 5, 1, 6, 701, 305, 116, 1, 90, 10, 60, 3, 121, 3, 305, 545, 1, 260, 545, 234, 101, 2, 87, 714, 1, 440, 30, 90, 150, 925, 135, 630], [1, 2, 428, 18, 974, 72, 97, 1024, 582, 9, 244, 127, 332, 22, 7, 1221, 1011, 1, 53, 275, 735], [259, 869, 409, 153, 1, 1312, 2, 5, 28, 8, 378, 1, 317, 1415, 1, 2, 5, 145, 90, 10, 79, 127, 13, 780, 4, 390, 32, 96, 43, 22, 389, 29, 129, 1224, 1343, 197, 121, 43, 3, 41, 143, 59, 196, 469, 582, 36, 328, 608, 20, 66, 594, 7, 1, 87, 106, 992, 409, 1, 839, 28, 8, 5, 1, 2, 67, 8, 6, 426, 695, 1, 108, 184, 312, 54, 616, 1, 25, 125, 1, 71, 184, 1450, 1336, 20, 113, 1, 13, 240, 24], [384, 793, 650, 1, 406, 35, 199, 12, 198, 1397, 911, 1, 35, 574, 178, 91, 249, 25, 917, 1, 936, 207, 58], [1, 42, 92, 48], [31, 541], [31, 68, 15], [371, 487, 505, 24, 1, 492, 176, 435, 176, 486, 142, 17, 348, 6, 1077, 23, 1], [936, 207, 1, 66, 35, 1033], [29, 865, 12, 151, 485, 119, 12, 495, 4], [28, 441, 133, 90, 66, 64, 163, 973, 512, 48, 748, 1373, 397, 430, 10, 476, 618, 113, 283, 659, 771, 125, 1, 58, 409, 371, 1218, 411, 120, 787, 1311, 108, 511, 104, 64, 144, 10, 79, 32, 454, 138, 134, 1, 809, 305, 515, 112, 295, 181, 19, 34, 611, 67, 471, 58, 154, 595, 1, 47, 18, 405, 120, 787, 9, 1000, 10, 60, 5], [1, 66, 35, 138, 21, 19, 1, 12, 712, 198, 8, 35], [5, 1, 5, 76, 76, 511, 1, 3, 22, 531, 9, 5, 10, 60, 122, 54, 274, 343, 604, 294, 26, 122, 3, 677, 1453, 373, 22, 3, 384, 694, 261, 495, 26, 323, 343, 3, 43, 96, 166, 3, 186, 88, 234, 66, 87, 785, 671, 112, 694, 542, 358, 61, 664, 272, 409, 272, 120, 575, 851, 1213, 135, 2, 18, 719, 83, 905, 55, 1010, 24, 131, 121, 122, 320, 643, 1432, 250, 122, 3, 235, 774, 122, 3, 43, 34, 8, 176, 112, 382, 1437, 87, 203, 7, 112, 310, 1457, 298, 335, 4, 231, 113, 1, 34, 879, 127, 76, 161, 231, 691, 1, 66, 217, 575, 7, 169, 1, 122, 3, 185, 458, 314, 152, 16, 269], [35, 1, 113, 124], [2, 87, 775], [11, 1, 1285, 777, 196, 1307, 149, 509, 221, 28, 10, 62, 524, 39, 30, 1, 159, 32, 359, 157, 1, 35, 359, 38, 1, 67, 401, 174, 249, 120, 989, 154, 41, 11, 1], [29, 1, 29, 614, 3, 16, 49, 327, 247, 50, 838, 1400, 1, 47], [148, 7, 96], [49, 179, 248, 202, 104, 14, 469, 38, 1, 5, 424, 78, 116, 4, 931, 286, 138, 1306, 834, 209, 292, 38, 1, 247, 38, 1, 24, 249, 178, 422, 213, 4, 76, 263, 180, 125, 1, 84, 605], [25, 1, 278, 105, 277, 940, 207, 1486, 374, 118, 5, 80, 64, 163, 645, 35, 515, 21, 19, 25, 121, 43, 31, 344, 405, 131, 244, 985, 129, 197, 449, 10, 60, 31, 41, 45, 1, 17, 129, 197, 145, 399, 560, 32, 550, 30, 455, 13, 283, 36, 593], [29, 1, 100, 5, 530], [25, 505, 316, 23, 342, 98, 105, 524, 15], [45, 1, 7, 1, 12, 52, 1, 461, 16, 360, 7, 363, 128, 461, 39, 247, 158, 210, 58, 121, 138, 131, 1, 38, 411, 128, 87, 131, 1, 1482, 58], [2, 83, 565, 151, 92], [40, 1, 36, 80, 336, 1, 40, 139, 1, 5, 24, 145, 21, 19, 1, 226, 631, 419, 40, 103, 6, 346, 150], [25, 80, 6, 142, 53, 844, 1, 6, 195], [86, 1, 144, 27, 29, 311, 9, 1287, 37, 618, 95, 113, 1, 292, 275, 27, 22, 1317, 14, 409, 371, 1218, 560, 150], [5, 1, 152, 26, 57, 1, 759, 48, 48, 581], [29, 616, 304, 5, 35, 4, 38, 1407], [1, 199, 162, 91, 35, 85, 4], [1, 70, 972, 7, 97, 301, 20, 35, 460, 12, 93, 58, 601, 35, 1, 1, 218, 8, 564, 35, 9, 899, 388, 55, 77, 4, 220, 8, 749, 85, 63, 8, 2, 223, 801, 95, 51, 95, 78, 58, 65, 76, 39, 78, 425, 1009, 146, 8, 35, 460, 2, 540, 77, 75, 1, 14, 483, 256, 598, 579, 86, 12, 801, 286, 2, 63, 257, 8, 324, 325, 76, 425, 100, 1, 207, 35], [102], [58, 35, 97, 63, 170, 136, 199, 175, 1274], [194, 651, 132, 1094, 241, 95, 564, 61, 664, 625, 18, 212, 216, 155, 27, 139, 585], [987, 445, 43, 337, 61, 177, 4, 801, 451, 427, 75, 125, 1, 1, 2, 18, 72, 3, 62, 3, 379, 61, 286, 347, 14, 1280, 275, 352, 62, 37, 219, 289, 556, 256, 65, 37, 191, 2, 3, 447, 645, 14, 1113, 462, 33, 311, 1285, 1410, 37, 889, 24, 11, 311, 9, 152, 244, 39, 221, 186, 854, 118, 184, 102, 312, 550, 445, 350, 14, 975, 82, 6, 143, 560, 309, 1369, 302, 82, 309, 105, 175, 72, 268, 127, 437, 60, 1085, 1085], [5, 1, 100, 3], [125, 31, 43, 3, 1202, 2, 42, 463], [1, 35, 1, 131, 121, 1, 235, 578, 55, 201, 1, 472, 13, 326, 330, 21, 19, 291, 235, 360, 194, 119, 69, 121, 1, 268, 503, 937, 371, 1218, 6, 87, 438], [5, 1, 100, 239], [86, 1, 144], [908, 2, 409], [29, 869, 1, 15, 364, 501, 38, 1, 573, 21, 19, 75, 1, 2, 5, 58, 148, 68, 63, 23, 1, 412, 38, 531, 110, 479, 209, 28, 869, 1, 80, 75, 1, 38, 650, 1250, 516, 1, 175, 14, 1], [34, 7, 1, 66, 35, 460, 4, 246, 61, 275, 352], [239, 168, 1, 35, 59, 35, 299, 516, 798, 1101], [5, 1, 69, 616, 4, 979, 11], [141, 25, 1, 265, 794, 32, 1017, 109, 996, 359, 479, 38, 1, 361, 466, 364, 1, 35, 66, 35, 460, 4, 1011, 209, 599, 5, 1, 34, 304, 146, 865, 79, 1, 44, 329, 80, 1, 325, 589, 44, 1460, 1, 34, 11, 74, 108, 200, 569, 238, 695, 257, 625, 374, 43, 26, 73, 47, 95], [3, 488, 1], [29, 1, 87, 62], [212, 16, 47, 45, 30, 286, 30, 941, 67, 40, 1056, 1, 262, 6, 47, 80, 262], [25, 199, 359, 241, 4, 395, 100], [79, 32, 1, 529, 817, 138, 1157, 116, 474, 648, 4, 860, 111, 466, 333, 285, 47, 4, 148, 82], [1, 35, 460, 859, 77, 341, 1, 16], [11, 1], [255, 136, 1, 35, 199, 532], [57, 46], [11, 54, 4, 311, 9, 649, 116], [409, 1113, 867, 1113, 70, 32, 1364, 319, 128, 21, 19, 166, 44, 2, 49, 108, 9, 96, 339, 68, 183, 106, 383, 53, 666, 40, 1, 751, 692, 1], [51, 134, 194, 16, 28, 223, 308, 24, 512, 269, 1124, 1245, 229], [786, 46, 374, 491, 55, 219, 37, 7, 337], [341, 1, 86, 1, 98, 47, 580, 159, 232, 736, 41, 1, 17, 50, 250, 351, 714, 56, 102, 388, 4, 414, 1411, 250, 7, 1, 580, 13, 135, 580, 13, 190, 335, 8, 1145, 52, 15, 245, 23, 351, 1112], [3, 1], [5, 1, 5, 76, 76, 511, 1, 3, 22, 531, 9, 5, 10, 60, 122, 54, 274, 343, 604, 294, 26, 122, 3, 677, 1453, 373, 22, 3, 384, 694, 261, 495, 26, 323, 343, 3, 43, 96, 166, 3, 186, 88, 234, 66, 87, 785, 671, 112, 694, 542, 358, 61, 664, 272, 409, 272, 120, 575, 851, 1213, 135, 2, 18, 719, 83, 905, 55, 1010, 24, 131, 121, 122, 320, 643, 1432, 250, 122, 3, 235, 774, 122, 3, 43, 34, 8, 176, 112, 382, 1437, 87, 203, 7, 112, 310, 1457, 298, 335, 4, 231, 113, 1, 34, 879, 127, 76, 161, 231, 691, 1, 66, 217, 575, 7, 169, 1, 122, 3, 185, 458, 314, 152, 16, 269], [2, 87, 775], [29, 1, 29, 614, 3, 16, 49, 327, 247, 50, 838, 1400, 1, 47], [49, 179, 248, 202, 104, 14, 469, 38, 1, 5, 424, 78, 116, 4, 931, 286, 138, 1306, 834, 209, 292, 38, 1, 247, 38, 1, 24, 249, 178, 422, 213, 4, 76, 263, 180, 125, 1, 84, 605], [1, 423, 35, 271, 222, 272, 1090], [602, 435, 37, 21, 35, 460, 147], [685], [87, 174, 259, 11], [31, 16, 4, 91, 198, 38, 11, 378, 9, 66, 359, 602, 289, 785, 1169, 484, 99, 143, 241, 307, 1041, 337, 126, 383, 44, 29, 568, 1039, 167, 91, 1469, 38, 123, 521, 690, 458, 1127, 774, 302, 164, 97, 4, 984, 46, 745, 808, 158, 59, 87, 13, 1180, 440, 302, 62, 1, 16, 1, 322, 417, 27, 895, 1187, 20], [5, 1, 16, 62, 20, 110, 62, 20, 28, 198, 211, 5, 1, 108, 16, 1, 3, 211, 16, 837, 3, 200, 52, 28, 87, 1, 6, 509, 51, 367, 1, 3, 127, 60, 307, 80, 10, 181, 19, 355, 1, 7, 211, 1, 1, 10, 473, 103, 1054, 205, 12, 1086, 23, 1, 419, 12, 236, 41], [1, 578, 47, 4, 106, 142], [2, 32], [3, 54, 1, 594], [20, 80, 75, 192, 1, 184, 796, 215, 427, 21, 19, 139, 121, 43, 3, 2, 5, 558, 6, 7, 24], [5, 168], [449, 418, 91, 451, 1, 494, 418, 21, 19, 91, 451, 2, 180, 13, 101, 1096, 192, 1, 91, 114, 797, 150, 90, 15, 45, 99, 127, 79], [62, 304], [1, 109, 13, 1, 35, 97, 55, 523, 21, 19, 4, 746, 367, 17, 229, 883, 1, 25, 818, 336, 192, 1, 84, 99, 21, 19, 180, 201, 1, 320, 154, 235, 472, 1030, 128, 201, 42, 102, 9, 118, 336, 64, 50, 1320, 616, 151, 1052, 50], [3, 31, 15], [3], [57], [10, 79, 127], [3, 69, 1, 236, 323, 118, 97, 34, 3, 1], [115, 180, 4, 3, 596, 158, 22, 48, 57, 96, 171], [20, 41, 1, 50, 23, 27, 290, 142], [5, 137, 1, 523, 21, 19, 111, 1, 1080, 145, 480], [5, 192, 1, 27, 278, 6, 688, 473, 1, 7, 872, 137, 2, 5], [93, 3, 1, 92], [296, 35, 2, 553, 2], [351, 714, 1, 199, 23], [5, 69, 1, 16, 270, 11, 54, 77, 29, 196, 121], [3, 1, 9, 885, 122, 115, 53, 239, 92], [70, 133, 40, 114, 1, 55, 63, 138, 21, 19, 78, 101, 1, 254, 35, 691, 70, 359, 38, 1, 147, 3], [35], [325, 2, 473, 167, 497, 1170, 300, 325, 1047, 408, 403, 669, 325, 4, 300, 1, 851, 69, 192, 1, 42, 4, 909, 71, 1445, 466], [403], [29, 1, 20, 439, 91, 21, 19, 107, 4], [2, 446, 857, 541], [35, 7, 58], [618, 953, 171, 17, 201, 250, 7, 325, 1432, 743], [114], [3, 75, 158], [5, 69, 192, 1], [3, 54, 4], [2, 46], [5, 1, 16, 24, 573, 21, 19, 3, 38], [25, 1, 628, 28, 1, 201, 472, 78], [3, 137, 1, 283, 21, 19, 857, 541, 2, 746, 24, 263, 4, 909, 1, 20, 250, 41, 45, 17, 22, 16, 1, 55, 101, 184], [101, 111, 1, 1, 2, 3, 92, 65], [5, 16], [1, 137, 192, 1, 204, 1485, 8, 790, 8, 424, 517, 53, 28, 488, 1, 110, 153, 1, 922, 1061, 59, 21, 19, 183, 488, 183, 35, 1, 126, 212, 212, 405, 127, 221, 46, 222, 454, 86, 438, 212, 192, 1], [611, 177, 242, 134, 135, 4], [35, 2, 102, 25], [31, 1, 1128, 22, 252, 1, 41, 45, 17, 110, 425, 48, 1289, 85, 98, 397, 10, 30, 147, 291, 21, 2, 18, 20, 35, 818, 11, 54, 4, 9, 570, 116, 1436, 1376, 26, 43, 86, 370, 544, 989, 59, 614, 909, 1315, 399, 89, 585, 284, 2, 3, 811, 133, 1131, 320, 196, 582, 9, 43, 54, 766, 8, 6, 628, 7, 39], [389, 29, 52], [356, 436, 105], [25, 93, 7, 136, 115, 201, 1168, 145, 62, 401, 12, 42, 596, 171, 93, 475, 48, 304, 12], [305, 546, 120, 266, 17, 1352, 1181, 394, 815, 538, 264, 815, 33, 77, 970, 32, 859, 159, 13, 473, 361, 6, 32, 659, 946, 40, 1242, 1169, 53, 593, 13, 1165, 625, 1365, 471, 566, 655, 17, 1352, 845, 17, 924, 1435, 1426, 119, 587, 33, 526, 180, 1426, 1129, 242, 214, 136, 305, 85, 1, 171, 356, 895, 34, 400, 1, 12, 46, 192, 1, 604, 43, 705, 5, 16, 428, 341, 1461, 192, 1, 84, 124, 236, 400, 1333, 87, 252, 1, 293, 780, 1, 84, 538, 258, 177, 418, 581, 209, 707, 367, 23, 1, 40, 1165, 177, 953, 13, 28, 17, 1, 63, 1171, 19, 1, 252, 6, 1, 6, 7, 192, 1, 50, 841, 50, 33, 253, 62, 38, 298, 59, 488, 21, 19, 4, 68, 72, 113, 232, 50, 156, 902, 859, 50, 601, 17, 178, 5, 84, 8, 17, 1, 2, 86, 72, 119, 378, 550, 18, 264], [3, 186, 365, 118], [2, 5, 11, 192, 1], [2, 18, 72, 41, 17, 312, 865, 423, 98, 84, 13, 116, 22, 7, 833, 366], [25, 1, 80, 363, 43, 102, 742, 183], [1139, 1, 137, 242, 50, 407, 26, 248, 1, 20, 72, 57, 16, 249, 55, 544, 21, 19, 53, 3, 166, 14, 21, 19, 523, 94, 184, 42, 620, 38, 52, 1, 137, 242], [257, 138, 21, 19, 1, 521, 494, 23, 83, 10, 929, 858, 20, 4, 59, 147, 684, 10, 621, 274, 30, 403, 290, 30, 283, 593, 110, 21, 19, 582, 4, 10, 53, 673, 7, 872, 190, 4, 36, 69, 1, 750, 87, 62, 143, 4, 1181, 1166, 1134, 1078, 815, 1443, 407, 408], [38, 2, 18, 818, 4, 153, 1, 20, 182, 252, 20, 337, 642], [1, 135, 109, 752, 46, 138, 21, 19, 53, 2, 102], [15, 34, 3, 16, 2, 21, 19, 4, 1048, 364, 136, 12, 40, 1, 268, 131, 320, 135, 201, 171, 17, 148, 1322, 1, 477, 10, 376, 436, 32, 1137, 148, 130, 75, 79, 32, 210, 1137, 130, 171, 1177, 30, 1, 34, 514, 97, 16, 1322, 466, 22, 192, 1, 127, 10, 6], [628, 11], [349], [3, 69, 1, 72], [109, 675, 231, 18, 159, 51, 46, 3, 15, 242, 214], [27, 72, 438, 1, 144, 1, 866, 226, 717, 621, 45, 17, 8, 52, 15], [192, 1, 3, 137, 120, 10, 341, 30, 159, 32, 632, 186, 242, 419, 50, 32, 17, 77, 14, 249, 21, 19, 69, 548, 507, 372, 77, 39, 77, 1458, 132, 293, 1314, 1458, 206, 77, 91, 534, 2, 959, 435, 286, 1313, 114, 149, 835, 63, 845, 1411, 1265, 41, 542, 58, 1265, 199, 99, 35, 1411, 603, 63, 132, 1, 483, 315, 4, 805, 633, 7, 1411, 1131, 603, 290, 99, 845, 603, 85, 507, 167, 1, 83, 51, 293, 55, 101, 77, 970, 50, 966, 50, 966, 535, 324, 50, 206, 1215, 32, 67, 103, 286, 20, 970, 50, 966, 12, 29, 740, 38, 534, 114, 1, 225, 387], [1, 137, 104, 192, 1, 221, 225, 387, 289, 21, 19, 1, 285, 105, 459, 451, 8, 56, 13, 27, 35, 192, 1, 628, 486, 1, 1, 356, 502, 209, 104, 14, 44, 289, 209, 719, 343, 21, 19, 27, 721, 27, 192, 1, 249, 12, 699, 299, 192, 1, 444, 299, 99, 574, 13, 1108, 240, 451, 190, 650, 1], [35, 2, 91], [1, 2, 216, 1152, 27, 1, 56, 6, 80, 671, 1396, 2], [5, 2, 91, 22, 212, 1, 17, 509, 6], [115, 982], [2, 5, 54, 4], [5, 69, 192, 1, 25, 98, 59, 96, 54, 4, 138, 21, 19, 75, 1, 6, 113, 38, 28, 20, 575, 153, 1, 42], [72, 86, 1, 16, 591, 204, 33, 66, 450], [73, 66, 21, 19], [708, 881, 1], [2, 5, 76, 5, 208], [1, 69, 378, 215, 69, 559, 12, 42, 25, 263, 28, 192, 1, 7, 125, 1, 158, 4], [975, 28, 252, 1, 55, 41, 17, 45, 17, 1, 786, 20, 252, 390, 466, 41, 17, 45, 6, 78], [25, 818, 2, 94, 411, 166, 75, 162, 91, 67, 21, 19, 24, 1, 66, 38, 1, 231, 2, 5, 91, 183, 888, 284, 547, 26, 75, 1, 135, 17, 2, 4, 284, 521, 106, 146, 24, 39, 4, 583, 315, 81, 4, 61, 153, 1, 20, 4, 6, 70, 169, 5, 23, 213, 12, 23], [23, 25, 4, 742, 21, 19, 136, 35, 12, 2, 573, 249, 21, 19, 395, 100], [3], [4, 3], [28, 1, 909, 50, 1, 17, 43, 3, 50, 195, 119, 115, 115, 448, 718, 8, 4, 87, 1131, 102, 26, 5, 8, 4, 3, 1181, 868, 4, 476, 400], [180, 464, 16], [5, 424, 16], [1, 3, 131, 3], [477, 121, 75, 204, 7, 331, 115, 1303, 1, 6, 203, 68, 33, 291, 177, 6, 196, 363, 121, 6, 113, 533, 32, 884, 611, 1, 12, 1254, 218, 736, 528, 144, 79, 10, 60, 376, 191, 2, 20, 108, 1334, 81, 350, 192, 161, 244, 13, 443, 570, 360, 764, 9, 186, 252, 174, 26, 302, 44, 163, 18, 213, 951, 771, 1024, 548, 1, 502, 1, 20, 68, 581, 18, 312, 5, 958], [1, 45, 35], [84, 75, 11, 20, 137, 192, 1, 42], [5, 1, 158, 28, 151, 128], [377, 58, 25, 1, 688, 935, 171, 886, 61, 260, 1, 146, 275, 1, 226, 746, 799, 1, 7, 202, 600, 78, 27, 200, 52, 1, 245, 458, 1, 2, 18, 91, 68], [137, 1, 3, 62], [1, 199, 6, 1079, 13, 63, 8, 35, 1, 1186, 1185, 39, 323, 1, 173, 1142, 161, 231, 73, 1], [2, 5], [29], [20, 21, 19, 263, 75, 1, 184, 42, 146, 4, 14, 1, 481, 30], [134, 49, 179, 314, 445, 15, 2, 5, 202, 92], [114, 907, 137, 1, 268, 661, 390, 478, 172, 96, 19, 315, 41, 797, 679, 25, 1], [762, 4, 91, 911, 91, 395, 13, 100, 508, 36, 1481], [18, 517], [2, 5, 7, 14, 252, 427, 21, 19, 7, 46, 92], [5, 1], [5, 1], [81, 10, 70, 161, 147, 1], [87, 128, 93, 590, 18, 173], [1329, 54, 4, 1, 561, 298, 28, 114, 447, 1, 59, 298], [628, 7], [10, 79, 127], [3, 69, 1, 236, 323, 118, 97, 34, 3, 1], [115, 180, 4, 3, 596, 158, 22, 48, 57, 96, 171], [469, 69, 212, 1311, 218, 116, 127, 2, 391, 3], [1, 2, 191, 136, 22, 632, 410, 455, 300, 632, 38, 570, 98, 632, 2, 102, 17, 569, 273, 73, 1, 65, 313, 2, 7, 1, 73, 175, 348, 73, 20], [469, 69, 212, 1311, 218, 116, 127, 2, 391, 3], [1, 2, 191, 136, 22, 632, 410, 455, 300, 632, 38, 570, 98, 632, 2, 102, 17, 569, 273, 73, 1, 65, 313, 2, 7, 1, 73, 175, 348, 73, 20], [27, 1, 278, 221, 5, 27, 56, 20, 14, 294, 433, 1051, 223, 370, 190, 911, 30, 12, 462, 310, 1344, 560, 115, 1343, 433, 5, 79, 237, 783, 433, 236, 334, 105, 487, 39, 20, 479, 1, 12, 420, 50, 888, 880, 479, 209, 153, 1, 203, 370, 33, 106, 4, 156, 645, 20, 447, 153, 1, 35, 371, 8, 3, 294, 433, 1, 173, 50, 54, 6, 168, 561, 444, 98, 548, 1, 284, 146, 1238, 1014, 651, 626, 8, 151, 4, 1, 128, 223, 560, 278, 32, 110, 30, 106, 517, 177, 1, 35, 55, 8, 310, 21, 553, 980, 209, 420, 198, 69, 47, 232, 1216, 448, 1042, 13, 20, 481, 232, 4, 717, 232, 47, 361, 139, 198, 232, 106, 4, 336, 960, 209, 1, 776, 433, 42, 1284, 150, 313, 223, 18, 294, 1331, 560, 130, 322, 1331, 414, 150, 1, 12, 39, 1444, 1209, 439, 560, 213, 526, 566, 266, 589, 377, 27, 573, 149, 19, 219, 234, 1344, 560, 497, 4, 794, 132, 1, 497, 483, 315, 335, 282, 435, 38, 497, 101, 433, 1062, 433, 307, 317, 957, 764, 282, 255, 641, 523, 877, 764, 514, 255, 641, 335, 334, 232, 59, 13, 435, 143, 2, 56, 13, 63, 335, 127, 154, 56, 603, 546, 523, 1, 216, 292, 546, 301, 146, 4, 1344, 427, 293, 497, 8, 603, 1, 589, 282, 497, 51, 7, 868, 485, 1461, 1378, 228, 101, 54, 4, 809, 271, 419, 2, 271, 1446, 215, 115, 130, 1, 215, 17, 191, 956, 890, 1, 215], [99, 198, 38, 1, 136, 138, 21, 19, 38, 401, 75, 162, 416, 32, 4, 334, 62, 1, 53, 1333], [816, 264, 126, 7, 431, 244, 777, 62, 611, 153, 1, 464, 16, 43, 387, 16, 643, 857, 69, 194, 1137, 79, 127, 1025, 32, 110, 30, 1, 49, 57, 1, 26, 4, 120, 48, 471, 1420, 355, 38, 311, 317, 57, 224, 251, 63, 677, 120, 513, 191, 251, 59, 1, 435, 311, 118, 251, 181, 19, 1, 154, 194, 244, 311, 118, 28, 4, 82, 561, 251, 166, 1219, 118, 56, 435, 458, 62, 1, 33, 244, 251, 3, 120, 548, 1032, 228, 1124, 120, 153, 49, 260, 547, 3, 127, 50, 405, 734, 1182, 1124, 293, 795, 399, 89, 728, 1124, 293, 244, 728, 50, 18, 151, 95, 1392, 728, 1124, 5], [31, 1, 24, 4, 167, 77, 4, 83, 246, 1095], [25, 318, 214, 4, 99, 2, 992, 305, 332, 102], [4, 91, 209, 2, 347, 10, 60, 503, 4, 56, 105, 663, 515, 50, 96, 1, 140, 18, 241, 353, 96, 45, 50, 354, 26, 373, 169, 175, 1, 62, 4], [91, 534, 77, 180, 460, 1, 824, 758, 77, 151, 272, 1, 4, 128, 50, 95, 1093, 521, 1, 237, 35, 91, 534, 199, 457, 249, 333, 8, 156, 1, 1222, 24, 1, 35, 871, 825, 389, 151, 8, 297, 120, 452, 35, 1, 391, 526], [55, 4, 1, 143, 243, 36, 58, 29, 1, 8, 2, 249], [31, 1, 5, 62, 2, 18, 54, 562], [28, 1, 4, 857, 541, 68, 2, 18, 272, 68, 246], [57, 46, 28, 252, 363, 50, 1, 66, 439, 62, 233, 233, 4, 5, 1, 100], [1153, 89, 1, 93, 2, 122, 18, 1305, 105, 137, 4, 2, 3, 115, 431, 260, 271, 59, 232, 4, 2, 102, 810, 93, 173, 428, 18, 43, 1], [225, 16, 35, 1, 5, 52, 20, 137, 1, 3, 62], [7, 14, 1, 85, 50, 296, 4, 156, 167, 62], [419, 46, 225, 78, 1, 20, 156, 209, 6, 42, 59, 3, 614, 197, 353, 112, 295, 181, 164, 301, 75, 645, 712, 101, 701, 67, 271, 236, 115, 124, 54, 260, 288], [25, 1, 318, 214, 113, 819, 66, 36, 17, 66, 916, 50, 66], [11, 35, 488, 1, 52, 502, 214, 2], [1, 113, 819, 113, 30, 38, 23, 14, 125, 1], [3, 185, 16, 18, 1275, 175, 715, 76, 544, 71, 12, 778, 164], [54, 4, 464, 153, 1, 156, 309, 5, 10, 60, 177, 54, 17, 45, 50, 708], [5, 137, 1, 325, 727, 922, 1061, 156, 388, 1, 69, 176, 526, 127, 277, 176, 1248, 49, 507, 174, 120], [216, 1, 56, 1, 64, 1143, 812, 65, 678, 64, 1143, 498, 284, 976, 853, 1021, 853, 707, 64, 498, 1, 974, 72, 34, 7, 1, 87, 782, 810, 854, 22, 431, 816, 1072, 264, 1009, 122, 3, 115, 744, 311, 1187, 206, 59, 1116, 241, 353, 849, 286, 901, 7, 1143, 151, 157, 275, 352, 59, 69, 8, 4, 213, 115, 51, 978, 1, 1181, 37, 42, 422, 241, 654, 1156, 472, 1, 97, 1, 513, 589, 1143, 812, 226, 397, 731, 16, 812, 12, 200, 52, 1, 325, 22, 1, 137, 17, 50, 20], [1, 16, 3, 69, 176, 18, 52, 822, 23, 4, 463, 951, 42, 1166, 214, 28, 1118, 447, 1, 52], [20, 1227, 779, 575, 28, 3, 91, 1, 6, 1287, 796, 29], [125, 1, 233, 727, 22, 3, 35, 1, 228, 2, 5], [25, 281, 318, 80, 75, 153, 1, 7, 57, 54, 655, 136, 7, 72, 24, 54, 562, 52, 1, 461], [3, 1, 113, 643, 488, 183, 1, 143, 730, 1, 183, 86, 657, 4, 1421, 1, 28, 4, 1475, 271, 455, 94, 507, 206, 1265, 146, 1475, 271, 7, 186, 854, 765, 126, 1, 100, 123, 173, 3, 23], [54, 4, 598, 579, 20, 137, 1, 140, 45, 96, 102, 3, 379], [5, 1, 100, 11, 228, 50], [16], [331, 907, 98, 84, 316, 189, 1119, 119, 107, 411, 56, 84, 1, 426, 539, 174, 6, 22, 596, 636, 1, 462, 142, 334, 13, 3, 293], [92], [1294, 1, 98, 47, 277, 238, 321, 434, 374, 10, 60, 246, 324, 1, 50, 48, 449, 324, 1385, 776, 389, 133, 97, 6, 51, 55, 414, 110, 901, 636, 206, 1, 336, 1477, 243, 147, 13, 622, 901, 998, 133, 238, 449, 1107, 238, 226, 159, 62, 1, 669, 434, 206, 62, 621, 286, 79, 13, 298, 749, 106, 38, 324, 278, 1250, 164, 238, 1, 10, 60, 5, 206, 18, 54, 133, 29, 297, 228, 228, 126, 236, 29, 394, 458, 16, 4, 193, 431, 297, 228, 177, 760, 421, 358, 740, 492, 512, 278, 718, 50, 50, 128, 1, 485, 426, 159, 13, 769, 119, 67, 120, 1, 551, 43, 16, 299, 222, 113, 844, 1208, 188, 84, 66], [22, 29, 973, 12, 59, 19, 10, 107, 40, 1165, 138, 40, 75, 6], [1292, 73, 1, 107, 120, 105, 731, 45, 73, 1171, 548, 173, 1330, 324, 73, 930, 84, 1021, 1258], [454, 20, 50, 1, 110, 188, 177, 120, 156, 209, 367, 1032, 228, 29, 701, 305, 98, 589, 35, 566, 367, 119, 587, 410, 608, 54, 6, 155, 93, 393, 18, 173, 186, 765], [3, 1, 271, 115, 84, 75, 653], [701, 174, 1, 931, 409, 4], [5, 185], [25, 1, 267, 56, 1, 1174, 909, 615, 162, 411, 300, 316, 1249, 401, 12, 7, 14, 88, 397, 16, 14, 538, 798, 592, 413, 778, 592, 51, 866, 797, 516, 47, 209, 1118, 128, 2, 102, 1, 909, 1, 663, 1198, 684, 667, 8, 107, 1466, 12, 517, 84, 98, 277, 1, 22, 14, 2, 5, 137, 128, 50, 10, 60, 3, 30, 105, 296, 1, 851, 1137, 7, 914, 156, 209, 1, 132, 220, 989, 4, 62, 909, 1, 67], [141, 27], [168, 3, 31], [31, 15, 13, 327], [102], [1, 285, 84, 369, 487, 535, 890, 159, 13, 63, 50, 56, 13, 55, 111, 1, 12, 629, 871, 13, 114, 50, 32, 6, 50, 20, 146, 50, 424, 369, 487, 25, 177], [10, 79, 334, 32, 33, 4, 17, 50], [31], [233, 79, 431, 636, 1, 11, 297, 228, 264], [11, 1], [306, 704], [31], [3], [169, 29, 1, 762, 4, 62, 7, 407, 137, 534, 1039, 183, 462, 1, 17, 50, 102, 135, 486, 462, 269, 177, 434, 498, 41, 195, 1135, 4, 82, 35, 620, 38, 183, 573, 21, 19, 2, 56, 63], [29, 1, 720, 407, 326], [145, 768, 374, 513, 186, 349, 654, 1, 336, 781], [359, 77, 1, 307, 384, 35, 24, 10, 60, 284, 111, 257, 8, 534, 2, 246, 868, 1088, 1225, 293], [7], [1, 102, 72, 544, 12, 106, 218, 99, 363, 508, 12, 725, 402, 63, 41, 17, 140, 206, 73, 56, 6, 123, 216, 6, 25, 51, 210, 73, 6], [3], [3, 137, 1, 318, 18, 7, 12, 23, 1], [35, 187, 4], [3], [31], [3, 349, 379, 87, 142, 17, 623, 50], [2, 132, 167, 416, 58, 35, 1, 58, 73], [40, 527, 30, 243, 36], [31], [11, 1], [5], [1, 792, 220, 1204, 921, 156, 246, 153, 1, 62, 800, 199], [29], [11, 52, 594], [345, 983, 729, 488, 1, 42, 187, 4], [543, 685], [141], [180, 101, 89, 62, 1, 498, 486, 611, 498, 1197, 457, 8, 44, 61, 1, 498, 72, 1247, 130, 198, 447, 156, 209, 40, 409, 371, 51, 58, 120, 2, 374, 723, 119, 126, 110, 22, 350, 79, 1, 1133, 312, 642, 593, 632, 221, 150, 617, 157, 546, 12, 7, 448, 513, 157, 546, 218, 224, 121, 43, 454, 349, 169, 222, 53, 121, 5, 284, 485, 1091, 75, 1, 55, 132, 585, 1409, 1476, 665, 224, 1476, 485, 43, 1, 103, 41, 567, 301, 57, 666, 343, 349, 1188, 234, 1476, 485, 1057, 2, 139, 368, 1409, 444, 1057, 301, 120, 151, 12, 132, 658, 1, 218, 1052, 235, 633, 1476, 1057, 1476, 406, 2, 151, 1174, 4, 284, 665, 224, 1, 78, 28, 665, 224, 8, 174, 1], [850], [35, 646], [229, 137, 1066, 20, 1, 552, 791, 552, 3, 548, 181, 149], [446, 218, 107, 58, 81, 6, 66, 147, 221, 555, 1090, 56, 1, 40, 1, 688, 32, 277, 28, 182, 7, 192, 1, 7, 165, 9, 85, 1, 5, 428, 49, 3, 17, 43, 54, 4, 1, 286, 81, 81, 33, 107, 56, 216, 30, 403, 1104, 30, 1, 303, 2, 56, 304, 1034, 272, 1034, 1262, 304, 1079, 600, 1004, 59, 724, 101, 6, 582, 71, 81, 855, 578, 12, 78, 24, 81, 84, 1104, 30, 66, 83, 51, 81, 6, 412, 81, 7, 148, 3, 15, 1242, 103, 789], [56, 218, 58, 171, 4, 1360, 359, 156, 209, 28, 153, 1, 182, 178, 288, 359, 280, 53, 404, 359, 70, 101, 35, 80, 56, 25, 531, 1314, 148, 1, 188, 51, 116, 90, 1219, 304, 388, 55, 8, 83, 359, 1011, 540, 838, 1038, 622, 30, 346, 105, 25, 146, 73, 25, 1, 80, 188, 3, 51, 1, 560, 57, 1, 331, 1058, 1133, 321, 587, 56, 1178, 17, 769, 478, 1178, 926, 416, 215, 1178, 1, 12, 145, 162, 182, 7, 215, 1, 54, 811, 588, 62, 2, 5, 815, 120, 48, 57, 461, 12, 420, 77, 513, 13, 815, 1405, 2, 1021, 783, 8, 791, 617, 1, 157, 350, 39, 138, 815, 144, 992, 186, 186, 572, 953, 1268, 201, 1023, 142, 2, 5, 1, 320, 154, 320, 953, 1042, 861, 6, 350, 1475, 2, 18, 206, 54, 58, 6, 760, 119, 115, 656, 130, 115, 559, 171, 233, 449, 271, 440, 922, 1061, 153, 1, 28, 3, 1, 122, 3, 62, 54, 4, 69, 100, 6, 11, 359, 544, 83, 1, 310, 94, 12], [66, 1096, 1, 409, 371, 180, 464, 296, 547, 153, 1, 120, 4, 137, 1, 31, 363, 50, 758, 325, 1454, 50, 998, 550, 371, 1032, 228, 41, 50, 54, 49, 16, 41, 94, 1, 184, 796, 8, 424, 517, 25, 35, 164, 537, 187, 420, 4, 488, 21, 19, 205, 1166, 125, 68, 246, 561, 6, 1, 346, 21, 444, 346, 1, 5, 309, 542, 353, 52, 371, 245, 22, 3, 137, 1, 12, 23, 83, 505, 623, 413], [27, 1, 278, 221, 5, 27, 56, 20, 14, 294, 433, 1051, 223, 370, 190, 911, 30, 12, 462, 310, 1344, 560, 115, 1343, 433, 5, 79, 237, 783, 433, 236, 334, 105, 487, 39, 20, 479, 1, 12, 420, 50, 888, 880, 479, 209, 153, 1, 203, 370, 33, 106, 4, 156, 645, 20, 447, 153, 1, 35, 371, 8, 3, 294, 433, 1, 173, 50, 54, 6, 168, 561, 444, 98, 548, 1, 284, 146, 1238, 1014, 651, 626, 8, 151, 4, 1, 128, 223, 560, 278, 32, 110, 30, 106, 517, 177, 1, 35, 55, 8, 310, 21, 553, 980, 209, 420, 198, 69, 47, 232, 1216, 448, 1042, 13, 20, 481, 232, 4, 717, 232, 47, 361, 139, 198, 232, 106, 4, 336, 960, 209, 1, 776, 433, 42, 1284, 150, 313, 223, 18, 294, 1331, 560, 130, 322, 1331, 414, 150, 1, 12, 39, 1444, 1209, 439, 560, 213, 526, 566, 266, 589, 377, 27, 573, 149, 19, 219, 234, 1344, 560, 497, 4, 794, 132, 1, 497, 483, 315, 335, 282, 435, 38, 497, 101, 433, 1062, 433, 307, 317, 957, 764, 282, 255, 641, 523, 877, 764, 514, 255, 641, 335, 334, 232, 59, 13, 435, 143, 2, 56, 13, 63, 335, 127, 154, 56, 603, 546, 523, 1, 216, 292, 546, 301, 146, 4, 1344, 427, 293, 497, 8, 603, 1, 589, 282, 497, 51, 7, 868, 485, 1461, 1378, 228, 101, 54, 4, 809, 271, 419, 2, 271, 1446, 215, 115, 130, 1, 215, 17, 191, 956, 890, 1, 215], [216, 1, 56, 1, 64, 1143, 812, 65, 678, 64, 1143, 498, 284, 976, 853, 1021, 853, 707, 64, 498, 1, 974, 72, 34, 7, 1, 87, 782, 810, 854, 22, 431, 816, 1072, 264, 1009, 122, 3, 115, 744, 311, 1187, 206, 59, 1116, 241, 353, 849, 286, 901, 7, 1143, 151, 157, 275, 352, 59, 69, 8, 4, 213, 115, 51, 978, 1, 1181, 37, 42, 422, 241, 654, 1156, 472, 1, 97, 1, 513, 589, 1143, 812, 226, 397, 731, 16, 812, 12, 200, 52, 1, 325, 22, 1, 137, 17, 50, 20], [1, 16, 3, 69, 176, 18, 52, 822, 23, 4, 463, 951, 42, 1166, 214, 28, 1118, 447, 1, 52], [20, 1227, 779, 575, 28, 3, 91, 1, 6, 1287, 796, 29], [125, 1, 233, 727, 22, 3, 35, 1, 228, 2, 5], [25, 281, 318, 80, 75, 153, 1, 7, 57, 54, 655, 136, 7, 72, 24, 54, 562, 52, 1, 461], [3, 1, 113, 643, 488, 183, 1, 143, 730, 1, 183, 86, 657, 4, 1421, 1, 28, 4, 1475, 271, 455, 94, 507, 206, 1265, 146, 1475, 271, 7, 186, 854, 765, 126, 1, 100, 123, 173, 3, 23], [54, 4, 598, 579, 20, 137, 1, 140, 45, 96, 102, 3, 379], [1, 1330, 475], [2, 5, 283, 21, 38, 819, 21, 583, 295, 54, 169, 78, 1], [5], [536, 93, 3, 387, 103, 936, 207, 1313, 136, 1103, 421, 389, 421, 1103, 15, 324, 480, 409, 1313, 371, 164, 1103, 421, 39, 136, 187, 149, 112, 317, 135, 112, 122, 272, 936, 207, 205, 157, 303, 23], [1, 460], [1, 109, 13, 202], [3, 1], [389, 186, 87, 77], [5, 52], [109, 1150, 175], [141], [628, 11], [66, 21, 19, 552, 969, 56, 6, 255, 929], [29], [199, 91, 1, 99], [3], [25, 132, 645, 1312, 848, 509, 290, 862, 197, 378, 9, 2, 283], [1359, 82, 383, 409, 322, 55, 4, 187, 317, 562, 54, 121, 3, 599, 201], [1, 442, 14, 1, 1250, 162, 1, 215, 348, 14, 114], [3], [1, 364, 58, 409, 371, 35, 1, 45, 199, 391, 137, 61, 1, 27, 370, 447, 61, 1], [1, 2], [6, 180, 464, 1, 49, 1, 268, 16, 591, 317, 617, 5, 187, 1, 1407, 565], [31], [116, 16, 1199, 105, 277, 22, 404, 91, 409, 1, 453, 35, 2, 68, 4, 91, 183, 91, 480, 1, 601, 35, 694, 488, 21, 68, 974, 384, 1, 225, 210, 61, 177, 108, 589, 752, 1096, 536, 208, 89, 57, 53, 220, 62, 218, 4, 1469, 894, 65, 862, 256, 61, 37, 191, 110, 4, 91, 183, 232, 1308, 220, 132, 783, 9, 115, 405, 149, 26, 204, 8, 790, 42, 694, 188, 1315, 1054, 6, 1472, 101, 1, 65, 404, 35], [29, 1, 195, 108, 9, 308, 22, 7, 373, 1285, 1, 1176, 166, 1, 36, 525, 287, 1063], [1, 105, 34, 78, 7, 118, 54, 206, 733, 26, 31, 10, 60, 39, 3, 48, 57, 44, 35, 172, 20, 195, 8, 1176, 352, 78], [11, 3, 604, 28, 596, 1, 156, 42, 184], [5, 1, 4, 584, 227, 541, 232, 518, 2, 5, 127, 10, 60], [390, 1, 4, 180, 107, 2, 32, 24, 4, 105, 254, 13, 8, 83, 1], [351, 217, 518, 53, 612, 79, 171, 442, 205], [416, 267, 301, 14, 31, 88, 229, 46], [1, 54, 4, 7, 362, 39, 7, 9, 54, 4], [85, 80, 688, 413, 1, 895, 2, 3, 799, 3, 88, 12, 27], [255, 48, 57, 379, 75, 280, 1, 900, 57, 10, 60, 23, 98, 502, 209, 179, 49, 883, 117, 24, 404, 403], [393, 1, 5, 10, 60, 24, 585, 81, 243, 2, 585, 997], [267, 1, 934, 2, 102, 246, 248, 20, 125, 1], [1017, 85, 168, 1142, 4, 934, 413, 202, 76, 1017, 799, 1, 1038, 625, 1142, 4, 1336, 393, 1, 454, 192, 1, 450, 402, 142, 218, 817, 609, 454, 402, 1, 192, 1, 66, 377, 10, 354, 652, 182, 674, 194, 900, 652, 10, 194, 608, 368, 8, 198, 577, 46, 8, 202, 76, 8, 793, 351, 627, 39, 577, 15], [1, 179, 1012, 33, 124, 4, 46, 4, 1], [1363, 1, 393, 154, 462, 910, 2, 59, 464, 113], [7, 192, 1, 350, 4, 260, 1, 75, 4, 25, 83, 6, 136, 1, 14, 97, 47, 107, 4, 10, 107, 38, 377, 30, 159, 877, 32, 513, 258, 1, 56, 6, 6, 117, 513, 287, 299], [64, 380, 48, 752, 1, 109, 236, 133, 117, 77, 1021, 24, 481, 30], [56, 1, 2, 17, 5, 159, 51, 41, 78, 240, 24, 12, 24, 85, 661, 78, 265], [5, 1, 171, 20, 41, 17, 59, 251, 20, 832, 939, 37], [27, 1, 1017, 45, 1, 3, 88, 570, 161, 1, 744, 103, 119, 1, 12, 348, 4, 236, 195, 39, 107, 258, 24, 1, 402, 725, 166, 10, 328, 36, 1, 253, 10, 750, 66, 1, 652, 154, 41, 465, 132, 138, 115, 351, 10, 132, 55, 173, 240, 24, 3, 88, 4, 1, 84, 107, 24, 121, 1, 278, 158, 348, 55, 201, 457, 1, 459, 711, 363, 808, 1, 121, 363, 684, 442, 627, 1, 572, 76, 793, 971, 65, 678, 1, 3, 88, 1, 411, 25, 83, 125, 1, 246, 12, 52, 23, 1, 76, 684, 4, 1, 79, 98, 47, 663], [1, 341, 70, 46, 97, 6, 81, 703, 2, 32, 6, 173, 180, 4, 1, 455, 69, 148, 756], [7, 1, 559, 119, 50, 2, 18, 1451, 1135, 42, 2, 1], [11], [168, 416, 14, 63, 170, 1, 55, 170, 343, 199, 138, 336, 933], [3, 393, 1, 127, 79, 20, 9, 378, 19, 223, 167, 20, 1, 17, 740, 50, 251, 700, 2, 10, 79, 32], [1, 3], [4, 180], [83, 5, 185, 5, 16], [141], [833, 159, 142, 366, 834], [73, 681, 20, 93, 3, 635, 461], [760, 800, 117, 292, 4, 848, 224], [679, 1, 12, 4, 6, 786, 46, 487, 150, 387, 4, 1], [201, 18, 54, 4, 375, 58, 733, 121, 514], [1, 107, 2, 339, 79, 105, 296, 50, 1031, 434, 8, 556, 2, 1, 93, 122, 345, 26, 103, 468, 77, 3, 26, 169, 3, 485, 345, 405, 143, 950, 1477, 79, 593, 107, 1201, 872, 1, 402, 113, 170, 363, 1419, 120, 290, 743, 1119, 1033, 665, 363, 675, 953, 247, 107, 725, 17, 158, 925, 419, 123, 201, 39, 123, 38, 1137, 429, 900, 395, 10, 194, 22, 1279, 77, 93, 151, 402, 120, 216, 723, 107, 926, 1436, 1376, 322, 966, 206, 261, 159, 50, 206, 8, 33, 124, 116, 171, 511, 1208, 206, 63, 161, 63, 769, 141, 966, 523, 94, 36, 145, 50, 33, 75, 50, 63, 111, 59, 10, 33, 63, 452, 629, 120, 53, 24, 39, 253, 629, 38, 77, 137, 1131, 223, 33, 136, 55, 201, 204, 201, 642, 1030, 17, 158, 1244, 268, 1222, 67, 1, 12, 3, 107], [15, 74, 46, 12, 52, 1, 380, 245, 175, 1, 92, 48, 92], [7, 387, 175, 1, 72, 20, 8, 181, 19, 116, 2, 446, 11, 320, 472, 1030, 10, 60, 1, 487, 14, 6, 342, 935, 626, 6, 486, 92], [6, 1, 254, 11, 40, 6, 281, 72, 86, 16, 1, 167], [1, 400, 184, 1343, 71, 453, 161, 307, 20, 4, 1, 504, 54, 170], [1, 84, 6, 369, 356, 142, 161, 94, 397, 40, 83, 6, 84, 3, 1], [25, 1, 342, 332, 4, 1072, 177, 238, 6, 1135, 951, 771, 51, 7, 1442, 115, 456, 8, 250], [1, 2, 3, 10, 3, 441, 265, 243, 10, 63, 41, 3, 185], [48, 57, 46, 1, 74, 6, 20, 3, 379, 224, 127, 10, 30, 167, 26, 197, 408, 418, 36, 153, 1, 55, 940, 274, 112, 295, 181, 19, 224, 350, 427, 282, 776, 433], [1, 2, 94, 56, 39, 718, 1293, 575, 278, 32, 459, 107, 2, 446, 55, 116, 145, 261, 642, 226, 243, 36, 316, 116, 626, 2, 446, 53, 93, 2, 557], [15, 413, 1300, 82, 2, 33, 146, 4, 15], [248, 22, 1, 400, 341, 88, 2, 5, 7, 7, 14, 1], [1, 79, 47, 292, 472, 4, 46, 79, 127, 53, 41, 17], [5, 1, 152, 10, 60, 400, 482, 39, 40, 1, 756, 29, 16], [25, 1, 80, 6, 40, 404, 1, 34, 2, 446, 374, 9, 369, 376, 6, 426, 174, 186, 174, 81, 132, 1077, 184, 42, 51, 2, 298, 4, 1, 18, 121, 196, 9, 777, 53, 4, 75, 71, 275, 126], [423, 252, 54, 4, 1, 12, 213, 27, 20], [85, 1, 393, 252, 1, 4, 681, 367, 45, 1, 107, 761, 117, 68, 273, 14, 1, 254, 68, 209, 233, 27, 14, 1446, 918, 73, 1, 525, 566, 178, 350, 53, 467, 125, 1], [216, 380, 85, 502, 1431, 238, 3, 137, 1, 215, 186, 119, 94, 118, 1083, 653, 263, 312, 1338, 589, 1345, 822, 1338, 1204, 597, 1345, 606, 69, 99, 589, 1345, 482, 1494, 1472, 133, 926, 1, 312, 1462, 1, 767, 1173, 53, 2, 5, 258, 1462, 6], [692, 85, 265, 40, 85, 285, 346, 32, 1, 5, 57, 268, 92], [25, 274, 291, 83, 125, 209, 209, 46, 1, 323, 6, 1492, 88], [5, 1, 69, 1, 5, 379, 274, 18], [1, 47, 20, 30, 257, 78, 64], [142, 1, 13, 28, 86, 1, 144, 7, 1, 64, 41, 3, 15], [1201, 9, 178, 2, 814, 73], [20, 1096, 192, 1, 42], [64, 106, 646, 114, 46, 229, 242, 214, 62], [22, 1106, 217, 94, 360, 251], [57, 46, 109, 406, 5, 16], [1, 2, 5, 31, 16, 133, 327], [49, 179, 1, 524], [152], [11, 1, 40, 347, 345, 854, 126, 155, 121, 43, 31, 109, 1122], [3, 1227, 2, 1], [59, 13, 8, 4], [1, 109, 46], [1, 2, 73, 168, 106, 40, 100, 36], [70, 31, 88, 175, 27], [3], [216, 6, 113, 1319, 36, 106, 4, 6, 141, 861, 1304, 283, 792, 2], [64, 125, 1, 2, 18, 110, 24, 986, 336, 125, 1, 419, 1056, 188], [216, 64, 590, 54, 4, 524, 590, 142, 334, 13, 24], [20, 1, 41, 45, 17, 75, 117, 404, 48, 57, 8, 95, 761, 14, 404, 1083, 117, 471, 1199, 278, 174, 1, 84, 238, 380, 255, 708, 10, 60, 1000], [45, 563, 7, 4, 41, 182, 288, 8, 38, 107, 4, 47, 27, 73, 24, 1, 40, 648, 648, 351, 714, 830, 366, 168, 412], [25, 56, 380, 278, 84, 277, 951, 298, 106, 1108, 970, 413, 142, 349, 51, 87, 13, 369, 356, 397, 238, 248, 164, 4, 59, 726, 23, 4, 1076, 7, 56, 80, 164, 45, 12, 8, 527, 1221, 10, 190, 73, 76, 133, 243, 2, 563, 39, 28, 58, 236, 239, 541, 12, 23, 419, 8, 83, 380, 84, 6, 663], [1, 248, 20, 859, 20, 182, 708, 507, 215, 350, 169, 1, 54, 4], [213, 12, 52, 15, 2, 18, 394, 7, 472, 1030, 635, 1, 3, 635, 6, 730, 322], [5, 15, 24, 85, 83, 688, 92, 48], [263, 34, 7, 1, 203, 58, 18, 2, 58, 38, 8, 83, 6, 7], [15, 70, 3, 88, 2, 18, 12, 52, 1, 6, 22, 212, 137, 1, 400, 3, 10, 60], [27, 1, 628, 596, 486, 192, 1, 54, 4, 121, 43, 347, 146, 4, 94, 147, 69, 24, 200, 52], [25, 380, 1291, 300, 807, 16, 117, 30, 13, 276, 76, 297, 1171, 227, 138, 508, 521, 22, 380, 520, 259, 380, 6], [1, 700, 29, 320, 472, 227, 700, 59, 464, 11], [25, 4, 22, 104, 14, 121, 196, 491, 111, 235, 34, 3, 23], [752, 164, 106, 2, 94, 53, 262, 40, 14, 1, 117], [11, 1, 25, 98, 180, 1, 1, 400, 120, 6, 20, 131, 1, 29, 320, 818, 11], [64, 380, 1, 810, 265, 6, 1, 623, 316, 23, 380, 255, 497, 85, 80, 623, 1, 497, 140, 1, 75, 349, 88, 70, 110, 10, 81, 63, 30, 30, 55, 1051, 170, 4, 12, 7, 73, 1, 52, 497, 245, 661, 27], [247, 402, 78, 1, 458, 189, 380], [3, 1, 5, 88, 46, 12, 52, 214, 3, 23], [281, 53, 2, 5], [92], [1, 400, 59, 832, 910, 462, 86, 51, 7, 38, 32, 30], [424, 3, 68], [3, 40, 84, 277, 443], [2, 5], [1, 79, 270, 84], [5, 15, 874, 13], [117, 55, 138, 68, 1153], [1, 22, 5, 97, 25, 267, 117, 136, 254, 948, 83, 242, 39, 55, 23, 602, 299, 209, 343, 587, 128, 62, 367, 404, 602, 299, 1397, 47, 1397, 404, 7, 810, 126, 1, 48, 140, 36, 267, 23, 14], [3, 1], [532, 3], [270, 11], [29, 54, 4], [2, 5], [904, 189, 620, 684, 1209, 263, 844, 62, 274, 30, 127], [11], [1, 22, 14, 2, 42, 24], [11, 1, 28, 189, 28, 8, 4, 6, 11, 136, 7, 25, 14], [25, 1, 3, 88, 7, 326, 364, 1, 86, 311, 217, 9, 311, 26, 271, 831, 39], [259, 27, 628, 153, 1, 7, 27, 192, 1, 11], [538, 1, 113, 111, 304, 688, 99, 4, 25, 14, 81, 53, 2, 94, 395, 100], [29, 1, 518, 75, 731, 117, 975, 8, 404, 4], [1], [248, 46], [874, 248, 554, 133], [213, 7, 1, 97, 12, 715, 8, 886, 380, 520, 380, 329, 373, 26, 1487, 959, 1419, 5, 1, 124], [1, 2, 5, 533], [681, 46, 580, 436, 105, 38, 162, 265, 101, 8, 525, 6, 84, 51, 178, 288, 131, 69, 180, 201, 814, 316, 8, 83, 1, 41, 164, 6, 2, 18, 6, 943], [141], [5, 1, 24, 653, 155, 1, 420, 758, 48, 649, 1], [5, 88, 2, 18], [1, 263, 51, 253, 75, 1, 373, 6], [871, 778, 164, 1, 7, 75, 636, 192, 1, 879, 721, 312, 24, 81, 2, 556, 75, 81, 108, 185, 143, 76, 12, 80, 81, 24, 1, 594, 2, 5], [252, 1, 400], [73, 510, 1193, 154, 1172, 38, 3, 604, 124, 92], [861, 1304, 31, 125, 1, 88, 428], [252, 54, 4, 127, 10, 60, 237, 437], [5, 2, 7, 14, 24], [1, 2, 5, 374, 50, 96, 199, 369, 402, 70, 36, 275, 465, 1108, 726, 161, 706, 50, 251], [], [1, 46, 929, 263, 7, 461], [638, 17, 171, 201], [1, 109, 13, 3, 604, 17, 117, 68, 14, 1, 72, 1, 202, 116, 333, 142, 865, 202, 393], [22], [3], [255, 2, 5], [3, 74, 42], [109, 554, 3, 88, 263, 11, 2, 102], [31, 1, 14, 88, 18], [22, 393, 40, 74, 20, 313, 117, 1, 191, 699, 238, 1, 263], [2, 5, 86, 1, 263, 127, 555, 312, 1139, 7, 79, 6], [1, 233, 596, 263, 7, 252, 54, 3, 131, 108, 119, 54, 4], [7, 46, 113, 30, 32, 26, 446, 86, 23, 100, 57, 144, 46, 133, 379], [85, 1, 263, 1361, 631, 343, 11, 1, 25, 4, 751, 14, 88, 8, 16, 323, 25, 35, 584, 227, 47, 1147, 128, 50, 1065, 156, 539, 209, 232, 47, 50, 50, 4, 156, 1, 42, 156, 242, 255, 78, 1, 18, 173, 200, 43, 121], [80, 380, 380, 263, 28, 83, 1, 1, 393, 3, 121, 43, 3, 10, 60], [263, 11, 14, 201, 472, 54, 161, 169, 42, 4, 1121, 155], [1341, 619, 299, 252, 153, 633, 1, 31, 485, 127, 10, 60, 345, 590, 22, 3, 126, 3, 4, 2, 42], [804, 58, 841, 55, 41, 17, 1, 12, 402, 13, 45, 17, 203, 402, 218, 192, 286, 615, 161, 12, 57, 873, 615, 203, 107, 216, 105, 1210, 178, 1374, 238, 57, 1], [682, 501, 55, 934, 4, 1080, 238, 6, 85, 30, 166, 117, 1212, 173, 418, 192, 1, 180, 587, 101, 57, 6, 327, 675, 1, 62, 345, 1223, 284, 787, 380, 1069, 642, 271, 199, 2, 18, 77, 28, 87, 922, 1061, 5, 400, 69, 1], [1430, 132, 690, 295, 315, 39, 6, 412, 1, 267, 17, 610, 198, 73, 1, 276, 12, 781, 38, 1, 295, 315, 132, 56, 471], [24, 11, 1, 2, 5, 75, 2, 5, 245], [979, 1227, 177, 50, 4, 1, 1335, 981, 1, 113, 2, 1133, 142, 4, 75, 192, 1, 84, 369, 107, 67, 87, 619, 1, 928, 12, 86, 1, 69, 692, 56, 130, 267, 343, 90, 401, 287, 738, 227, 212, 154, 2, 84, 8, 83, 212, 109, 22, 69, 4, 69, 572, 48, 141, 394, 108, 353, 14, 6, 370, 16, 58, 2, 5, 58, 1168, 29, 320, 411, 284, 839, 334, 47, 1305, 423, 13, 204, 1036, 51, 58, 67, 257], [5, 1, 3, 185, 1, 34, 7, 400], [786, 696, 1028, 20, 80, 1, 356, 1130, 302, 521, 765, 368, 1, 20, 47], [248, 46, 54, 170, 669, 209, 27, 84, 75, 281, 655, 1, 45, 72, 3, 6], [88, 1, 3, 356, 1012, 22, 45, 1, 1035, 81, 81, 174, 1, 1005, 23, 83, 81, 78], [125, 1, 141, 142, 17, 13, 676, 1316, 132, 457, 307, 10, 1, 676, 1316], [1, 4, 328, 30, 955, 217, 408, 316, 7, 14, 106, 331, 14, 1], [28, 137, 1, 180, 101, 6, 590, 226, 74, 28, 62, 1, 159, 232, 218, 99, 321, 17, 50, 75, 1, 29, 203, 450, 1], [309, 125, 1, 7, 14, 97, 125, 1, 81, 2, 706, 10, 376, 762, 30, 1, 166, 117, 191, 30, 12, 114, 150, 387, 81, 55, 80, 12, 41, 78, 504, 239], [1, 5, 405, 87, 393, 1, 417, 521, 404, 117, 55, 767, 14, 172, 380, 28, 761, 14, 404, 867, 6, 298, 42, 88, 1044, 305, 12, 4, 295, 315, 7, 1, 4, 32, 108, 185, 25, 651, 65, 3, 38, 78, 169, 229, 1], [5, 1, 158, 7, 192, 1, 20, 393, 1, 143, 754, 69, 57, 180, 41, 893, 428, 803], [27, 214, 305, 92, 146, 27, 65, 391, 38, 309, 236, 195, 100, 80, 6, 40, 209, 130, 142, 259, 6, 482], [31, 23, 3, 4, 125, 1, 170, 584, 227, 541, 2, 42, 12, 52, 709, 27, 245, 28, 1, 584, 227, 541], [400, 54, 4, 125, 1, 393, 810, 41, 1, 4, 2, 1172, 740, 142, 663, 82, 1299, 196, 121], [137, 1, 242, 1, 2, 5, 10, 79, 30, 78, 27, 12, 52, 1], [216, 380, 1, 56, 650, 346, 84, 4, 142, 13, 1129, 482, 1162, 455, 570, 6, 178, 10, 40, 527, 745, 487, 653, 97, 3, 25, 83, 4, 6, 65, 16, 137, 1, 167, 547, 114, 1082, 142, 5, 733, 483, 117, 236, 454, 2, 20, 440, 129, 197, 967, 947, 967, 41, 32, 135, 41, 1101, 20, 137, 1, 393, 34, 893, 482, 803, 869, 683, 608, 368, 592, 6, 101, 83, 75, 380, 80, 1079, 641, 84, 75, 20, 393, 1013, 8, 153, 1, 458, 20, 325, 28, 412, 615, 132], [1, 416, 4, 145, 364, 136, 233, 217, 45, 1, 7, 104, 14, 380, 255, 5, 1, 107, 1227, 1, 50, 296, 513, 26, 29, 59, 389, 3, 96, 393, 41, 45, 17, 1, 493, 69, 910, 125, 1, 233, 28, 324, 6, 255, 101, 185, 7, 64, 380, 255, 1, 117, 707, 183, 404, 393, 39, 501, 54, 10, 99, 278, 158, 58, 51, 505, 114, 255, 847, 128, 13, 911, 10, 30], [248, 1, 20, 12, 52, 1, 245, 4, 707, 1, 260, 601, 239, 27], [2, 3, 53, 38, 737], [2, 5, 20, 71], [46], [58, 437, 53, 4, 481, 338, 823, 207, 700, 250, 561], [20, 1, 1398, 3], [1, 276, 73], [5, 1, 54, 4], [1, 2, 556], [1, 30, 540, 276], [278, 1, 84, 437, 590], [1, 109, 32, 1, 301, 88, 22, 7, 106, 4, 254, 453, 30, 620, 38, 929, 117, 162, 612, 427, 232, 110, 24, 504, 78, 27, 76, 213, 1425], [41, 143, 620, 1, 56, 13, 111, 33, 59, 191, 732, 56, 13, 59, 191, 30, 111, 1], [40, 1, 263, 28, 137, 1, 50, 617, 59, 6, 96, 47, 80, 248, 1, 38, 103, 84, 679, 46, 70, 42, 88, 296, 267, 1, 692, 85, 83, 267, 1, 258, 6], [1, 25, 65, 2, 210, 38, 23, 1, 693, 59, 84, 404, 855, 28, 18], [572, 98, 201, 1, 2, 5, 54, 4, 205, 22], [4, 1, 7, 104, 14, 122, 29, 194, 178, 94, 249, 948, 1, 17, 497, 13, 408], [25, 1, 281, 75, 6, 356, 254, 1, 449, 947, 5, 379, 5, 235, 5, 10, 60, 5, 400, 254, 58, 5], [1, 1151, 8, 424, 517, 72, 348, 792, 58, 250, 457, 182, 288, 130, 992, 391, 1224, 3, 1224], [270, 1, 356, 40, 164, 1369, 33, 412, 4, 1, 1374, 2, 5, 5, 16, 54, 240, 23, 14, 1, 367, 83, 404, 28, 1, 447, 92, 102, 15, 33, 304, 136, 4, 348], [1, 3, 121, 1246, 336, 90, 97, 93, 829, 413, 520, 350, 33, 745, 312, 572], [11, 1, 25, 83, 881, 28, 144, 652, 15, 25, 6, 1128, 979, 146, 116, 4], [943, 572, 82, 99, 4, 943, 761, 572, 376, 210, 105, 699, 198, 48], [2, 3], [98, 281, 18, 173, 590, 3, 10, 60, 200, 52], [6, 700, 1, 191, 941, 8, 1445, 20, 153, 1, 111, 65, 238, 64, 3, 16, 12, 52, 86, 214], [1, 81, 604, 34, 3, 185, 78, 1, 81, 43], [25, 1, 318, 263, 7, 1, 2, 46, 12, 52, 1, 245, 28, 393, 137, 1], [263, 1, 93, 78, 1418, 78, 140, 45, 96, 206], [34, 7, 1, 69, 510, 12, 42, 245, 20, 393, 1], [25, 80, 6, 142, 703, 20, 651, 327, 133, 750, 18, 699, 27], [25, 1, 80, 263, 20, 17, 50, 175], [28, 252, 1, 184, 796], [1155, 212, 80, 518, 2, 5], [7, 1, 41, 17, 55, 75, 1, 119, 378, 41, 649, 642, 6, 105, 30, 41, 189], [31], [674, 2, 28, 99, 140, 36, 8, 100, 36, 1, 55, 170, 1, 117, 136, 75, 175, 404, 407, 218, 99, 8, 100, 36, 407, 678], [27, 4, 117, 64, 255, 3, 958, 117, 170, 602, 299, 117, 183, 242, 170, 1, 24, 1, 2, 1, 424, 229, 313, 291, 153, 1, 2, 465, 413, 264, 128, 50, 156, 20], [5, 1, 5, 16, 3, 179], [681, 20, 3, 132, 1290, 393, 1172], [5, 23, 5, 88, 175], [55, 4, 117, 12, 515, 73, 487, 297, 525], [141], [2, 94], [1, 9, 535, 402, 529, 8, 365, 9, 333, 535, 377, 187, 696, 182], [5, 15, 5, 208], [2, 141], [5, 16, 5, 1], [31, 426, 4, 1], [], [248, 28], [1, 2, 102, 94, 97, 1, 533, 449, 113, 2, 659, 84, 404, 117, 354, 121, 67, 9, 473], [281, 475, 192, 1, 2, 5, 246, 31, 68, 33, 208, 657, 377, 700, 180, 2, 1], [25, 1, 4, 1128, 171, 876, 11, 54, 4, 79, 593, 233, 1, 4, 402, 10, 597, 297, 194, 300, 9, 301, 868, 120, 290, 241, 41, 1, 17, 241, 45, 1, 17, 108, 836, 145, 90, 450, 93, 380, 172, 380, 380, 93, 633, 234, 24, 1154, 20, 252, 192, 1, 1128, 171], [1, 2, 18, 1, 85, 1, 45, 697, 39, 1012, 109], [852, 45, 1, 45, 81, 162, 265, 348, 364, 326, 1, 406, 66, 81, 335, 81, 66, 41, 143, 1, 2, 94, 324, 1, 494, 81, 109], [271, 36, 161, 237, 66, 7, 261, 9, 290, 396, 333, 32, 277], [24, 2, 7, 192, 1, 93, 122, 510, 1193, 810, 158, 561], [3, 481, 1, 92, 49, 133, 68, 12, 52, 245, 7, 115, 192, 1, 92], [42, 1083, 20, 1096, 125, 1, 740, 59, 45, 96, 428, 393], [135, 11, 1, 832, 316, 1175, 162, 952, 371, 467, 402, 903, 162, 371, 872, 218, 967, 162, 952, 371, 354, 1283, 63, 1122, 11, 393, 192, 1, 321, 1138, 195, 982, 12, 7, 162, 76], [5, 16, 2, 406, 10, 60, 31, 676, 1316, 2, 18, 305], [1012, 1, 45, 1136, 445, 316, 38, 1312, 23, 14, 6, 346, 64, 380, 694, 633, 889], [7, 165, 9, 1, 233, 1, 294, 433, 284, 29, 62, 360, 50, 108, 1229, 83, 1], [25, 1, 263, 80, 752, 164, 11, 2, 5, 12, 23], [152, 1, 818, 1, 42, 325, 975, 1, 5, 604, 327, 49], [252, 4, 180, 201, 201, 1, 472, 59, 3, 251, 39, 7, 1, 48, 201, 509, 221, 1, 8, 75, 236, 83, 7], [509, 51, 288, 75, 636, 194, 132, 361, 902, 651], [80, 117, 255, 178, 319, 363, 508, 656, 12, 335, 47, 14, 310, 1, 85, 94, 411, 30, 170, 4, 1, 24, 17, 472, 38, 94, 363, 508], [2, 554, 121, 733, 3, 700, 1, 910, 51, 109, 13, 702, 318], [3, 75, 1137, 62, 1, 29, 22, 54, 275, 131, 3, 320, 41, 54, 201], [248, 28, 175], [40, 299, 4, 321, 558], [3], [5, 1, 405, 7], [2, 5], [1, 42, 84, 75, 20, 151, 128, 205, 724, 3, 137, 1], [11, 192, 1, 28, 6, 80, 6, 722, 77, 6, 166, 285, 963, 107, 4, 11], [1, 79, 84], [1091, 1, 406, 893, 40, 1173, 33, 356, 999, 73, 714, 395, 13, 100], [12, 713, 797, 150, 558, 266, 219, 386, 64, 794], [2, 102, 584, 227, 11, 22, 126, 78, 36, 192, 1, 153, 1, 100], [437, 700, 1, 25, 83, 270, 78], [1, 2, 97, 299, 179, 1, 166, 69, 292, 8, 466, 68, 109, 10, 207, 1210, 8, 10, 227, 1319, 226, 105, 55, 135, 4, 1, 20, 1, 50, 41, 17, 1, 1253, 158, 900, 110, 1, 105, 515, 1315, 394, 198, 574, 179], [345, 1, 2, 18, 3, 88], [15, 152], [561, 192, 1, 2, 2, 1012, 1172, 1, 1, 59, 1067, 345, 1], [9, 2, 26, 2], [20, 3, 437, 1], [5, 185, 393, 137, 192, 1], [45, 1, 276, 10, 30, 85, 80, 10], [93, 2, 18, 818, 180, 13, 4, 203, 348, 182, 2, 556, 23, 4, 123, 73, 218, 4, 75, 1], [5, 1, 5, 158, 185, 13, 374, 73, 772, 185], [3, 298, 1, 590, 127, 13, 914, 320, 54, 462, 393, 12, 52, 245, 12, 7, 137, 1, 3, 10, 60, 3, 244, 378, 653], [92, 263, 11, 2, 5, 78, 14, 1, 5, 16, 92], [526, 690, 1, 63, 101, 145, 677, 570, 131, 149, 19, 622, 1, 5, 6, 28, 20, 156, 209], [25, 263, 910, 1, 72, 3, 74, 2, 42, 33, 348, 4, 1, 179, 504, 49], [79, 84, 164, 16, 94, 263, 20, 14, 1, 192, 1, 895, 72, 3, 345, 69, 1], [24, 5, 400, 192, 1, 261, 9, 53, 505, 177, 663], [195, 449, 363, 508, 121, 774, 56, 93, 2, 5], [27, 1, 263, 20, 182, 55, 188, 142, 1121, 445, 72, 1406, 1, 257, 914, 135, 320, 154, 201, 158, 210, 570, 9, 29, 196, 546, 54, 466, 169, 1, 93, 122, 590, 29, 345, 126, 123, 1, 477, 624, 298, 69, 22, 910, 700, 1, 692, 238], [445, 88, 563, 202, 135, 57, 46, 45, 1, 32, 6, 32, 1005, 1359, 443, 379, 591, 713, 179, 14, 76, 94, 151, 268, 535], [1, 442, 117, 387, 301, 513, 465, 97, 218, 10, 8, 807, 632, 402, 69, 148, 229], [623, 1, 1, 1368, 33, 1, 1368, 12, 1, 501, 353, 47, 1368, 806, 1, 22, 7, 14, 2, 130, 45, 47, 277], [145, 87, 90, 1, 1429, 173, 635, 85, 64, 380, 600, 6, 239, 157, 11, 108, 119, 400, 5, 733, 985, 235, 314, 320, 5, 815, 86, 1, 144, 25, 52, 1], [4, 79, 98, 84, 304, 63, 1, 148, 278, 62, 434, 1, 373, 296, 20, 96, 373, 186, 54, 30, 293, 307, 1402, 283, 283, 30, 385, 546, 824, 321, 17, 367, 278, 622, 4, 366, 257, 123, 1, 482, 803, 925, 138, 781], [1, 5, 88, 16, 43, 566, 162, 1, 275, 465, 97, 175, 169, 27], [34, 7, 1, 888, 4, 9, 311, 154, 145, 215, 271, 311, 154, 108, 653], [2, 479], [326, 78, 15], [2, 5], [5, 1, 347, 88, 74, 202, 577], [403, 1, 560, 173, 94, 124, 1, 111, 10, 38, 668, 166, 10, 12, 196, 111, 1, 17, 45, 17, 50, 64, 380, 1399, 128, 406, 14], [1, 74, 20, 1, 266, 50, 284, 914, 274, 1173, 238, 270, 1, 261, 435, 1139, 1268, 298, 333, 201, 320, 691, 38, 464, 1268, 161, 1092, 238, 1, 312, 1092, 270, 303, 22, 585, 1, 307, 10, 1463, 138, 81, 238, 2, 102, 32, 237, 22, 590, 1, 52, 6, 482, 261, 435, 222], [1, 2, 134, 478, 13, 520, 23, 6, 295, 315, 771], [5, 69, 1, 590, 263, 2, 452, 475], [150, 387, 1], [1, 137, 1227, 922, 1061, 25, 203, 240, 242, 233, 23, 83, 6, 831, 274, 18, 1139], [11, 3, 604, 28, 596, 1, 156, 42, 184], [5, 1, 4, 584, 227, 541, 232, 518, 2, 5, 127, 10, 60], [390, 1, 4, 180, 107, 2, 32, 24, 4, 105, 254, 13, 8, 83, 1], [416, 267, 301, 14, 31, 88, 229, 46], [1, 54, 4, 7, 362, 39, 7, 9, 54, 4], [85, 80, 688, 413, 1, 895, 2, 3, 799, 3, 88, 12, 27], [255, 48, 57, 379, 75, 280, 1, 900, 57, 10, 60, 23, 98, 502, 209, 179, 49, 883, 117, 24, 404, 403], [393, 1, 5, 10, 60, 24, 585, 81, 243, 2, 585, 997], [267, 1, 934, 2, 102, 246, 248, 20, 125, 1], [48, 57, 46, 1, 74, 6, 20, 3, 379, 224, 127, 10, 30, 167, 26, 197, 408, 418, 36, 153, 1, 55, 940, 274, 112, 295, 181, 19, 224, 350, 427, 282, 776, 433], [1, 2, 94, 56, 39, 718, 1293, 575, 278, 32, 459, 107, 2, 446, 55, 116, 145, 261, 642, 226, 243, 36, 316, 116, 626, 2, 446, 53, 93, 2, 557], [15, 413, 1300, 82, 2, 33, 146, 4, 15], [248, 22, 1, 400, 341, 88, 2, 5, 7, 7, 14, 1], [1, 79, 47, 292, 472, 4, 46, 79, 127, 53, 41, 17], [5, 1, 152, 10, 60, 400, 482, 39, 40, 1, 756, 29, 16], [25, 1, 80, 6, 40, 404, 1, 34, 2, 446, 374, 9, 369, 376, 6, 426, 174, 186, 174, 81, 132, 1077, 184, 42, 51, 2, 298, 4, 1, 18, 121, 196, 9, 777, 53, 4, 75, 71, 275, 126], [423, 252, 54, 4, 1, 12, 213, 27, 20], [85, 1, 393, 252, 1, 4, 681, 367, 45, 1, 107, 761, 117, 68, 273, 14, 1, 254, 68, 209, 233, 27, 14, 1446, 918, 73, 1, 525, 566, 178, 350, 53, 467, 125, 1], [216, 380, 85, 502, 1431, 238, 3, 137, 1, 215, 186, 119, 94, 118, 1083, 653, 263, 312, 1338, 589, 1345, 822, 1338, 1204, 597, 1345, 606, 69, 99, 589, 1345, 482, 1494, 1472, 133, 926, 1, 312, 1462, 1, 767, 1173, 53, 2, 5, 258, 1462, 6], [5, 736, 59, 38, 1481], [150, 336, 933, 614, 53, 108, 185, 1, 597, 7, 202, 2, 3], [2, 18, 296, 1, 267, 424, 690, 478, 13, 63, 23, 1219], [5, 1, 10, 79, 32, 99, 192, 1, 10, 79, 127, 13, 174, 1, 363, 196, 216, 1, 11, 203, 1416, 177, 39, 1, 75, 437], [1, 4, 6, 79, 84, 5, 723, 24, 1, 12, 142, 991, 529, 68, 85, 98, 303, 557, 528, 24, 14, 1, 26, 2, 178, 481, 80, 24], [218, 76, 25, 14, 1, 243, 1, 22, 29, 17, 117, 170, 273, 104, 14, 1, 30, 651, 33, 280, 30, 651, 63, 162, 407], [25, 1370, 281, 792, 20, 177, 11, 192, 1, 1199, 370, 203, 142, 51, 590, 405, 79], [54, 139, 510, 1193, 1, 139, 232, 146, 219, 1131, 171, 350], [5, 16, 125, 1, 70, 3, 88, 231, 412, 1, 2, 3, 1], [40, 818, 20, 137, 125, 1, 320, 1168, 6, 92], [679, 1, 12, 4, 6, 786, 46, 487, 150, 387, 4, 1], [201, 18, 54, 4, 375, 58, 733, 121, 514], [15, 74, 46, 12, 52, 1, 380, 245, 175, 1, 92, 48, 92], [7, 387, 175, 1, 72, 20, 8, 181, 19, 116, 2, 446, 11, 320, 472, 1030, 10, 60, 1, 487, 14, 6, 342, 935, 626, 6, 486, 92], [6, 1, 254, 11, 40, 6, 281, 72, 86, 16, 1, 167], [1, 400, 184, 1343, 71, 453, 161, 307, 20, 4, 1, 504, 54, 170], [1, 84, 6, 369, 356, 142, 161, 94, 397, 40, 83, 6, 84, 3, 1], [25, 1, 342, 332, 4, 1072, 177, 238, 6, 1135, 951, 771, 51, 7, 1442, 115, 456, 8, 250], [1, 2, 3, 10, 3, 441, 265, 243, 10, 63, 41, 3, 185], [1017, 85, 168, 1142, 4, 934, 413, 202, 76, 1017, 799, 1, 1038, 625, 1142, 4, 1336, 393, 1, 454, 192, 1, 450, 402, 142, 218, 817, 609, 454, 402, 1, 192, 1, 66, 377, 10, 354, 652, 182, 674, 194, 900, 652, 10, 194, 608, 368, 8, 198, 577, 46, 8, 202, 76, 8, 793, 351, 627, 39, 577, 15], [1, 179, 1012, 33, 124, 4, 46, 4, 1], [1363, 1, 393, 154, 462, 910, 2, 59, 464, 113], [7, 192, 1, 350, 4, 260, 1, 75, 4, 25, 83, 6, 136, 1, 14, 97, 47, 107, 4, 10, 107, 38, 377, 30, 159, 877, 32, 513, 258, 1, 56, 6, 6, 117, 513, 287, 299], [64, 380, 48, 752, 1, 109, 236, 133, 117, 77, 1021, 24, 481, 30], [56, 1, 2, 17, 5, 159, 51, 41, 78, 240, 24, 12, 24, 85, 661, 78, 265], [5, 1, 171, 20, 41, 17, 59, 251, 20, 832, 939, 37], [1, 341, 70, 46, 97, 6, 81, 703, 2, 32, 6, 173, 180, 4, 1, 455, 69, 148, 756], [7, 1, 559, 119, 50, 2, 18, 1451, 1135, 42, 2, 1], [27, 64, 380, 255, 1128, 688, 4, 1, 45, 1, 17, 502, 214, 296, 1320, 311, 154, 145, 511, 215, 428, 350, 688, 93, 7, 64, 380, 255, 175, 7, 730, 150, 387, 444, 150, 1320, 118, 52, 15, 245, 417, 75, 636, 192, 1], [263, 28, 393, 2, 570, 32, 1, 400, 5, 28, 192, 1], [106, 25, 65, 34, 28, 778, 1, 238, 534, 794, 221, 16, 70, 48, 554, 7, 32, 444, 11], [399, 106, 236, 40, 4, 44, 1138, 636, 1, 69, 368, 2, 64, 380, 146, 59, 464, 53, 113, 2, 855, 7, 137, 192, 1], [72, 86, 192, 1, 514, 103, 59, 769, 10, 60, 93, 113, 38, 38, 379, 29, 196, 305, 1, 4, 440, 1296, 1225, 1296, 1225, 1229, 1296, 1296, 32, 1225, 159, 1225, 659, 8, 407, 1, 33, 167, 20, 481, 153, 1, 1, 86], [1, 252, 3, 2, 31, 159, 6, 23, 1, 239], [3, 590, 1, 602, 322, 633, 110, 242, 401, 20], [216, 627, 380, 331, 56, 6, 285, 84, 234, 199, 240, 6, 27, 65, 331, 285, 47, 521, 9, 570, 1, 1139, 22, 73, 897, 58, 32, 104, 14, 1, 839, 552, 897, 55, 466, 32, 73, 897, 4, 1, 27, 332, 526, 106, 23, 83, 14, 1, 65, 62, 29, 3, 62, 1, 187, 663, 47, 756, 993], [125, 1, 246, 68, 367, 60, 28, 1, 68, 50], [25, 1, 263, 11, 28, 701, 217, 204, 34, 12, 85, 175], [136, 1, 365, 572, 793, 1, 237, 217, 182, 777, 9, 7, 182, 180, 116, 96, 9, 287, 100, 148, 419, 287, 797, 516, 237, 793, 1082], [55, 1310, 85, 6, 700, 69, 1, 313, 53, 173, 7], [25, 688, 11, 5, 192, 1], [31, 1, 207, 11, 863, 128, 62], [2, 5, 866, 493, 291, 1], [5, 1, 311, 271, 86, 192, 1, 331], [782, 2, 5, 400, 54, 562, 131, 524, 695, 192, 1], [202, 42, 16], [12, 2], [131, 1, 2, 1, 2, 3], [11], [168, 416, 14, 63, 170, 1, 55, 170, 343, 199, 138, 336, 933], [3, 393, 1, 127, 79, 20, 9, 378, 19, 223, 167, 20, 1, 17, 740, 50, 251, 700, 2, 10, 79, 32], [1, 3], [4, 180], [83, 5, 185, 5, 16], [141], [833, 159, 142, 366, 834], [73, 681, 20, 93, 3, 635, 461], [760, 800, 117, 292, 4, 848, 224]]\n"
     ]
    }
   ],
   "source": [
    "data = tokenizer.texts_to_sequences(Data['Reviews'])\n",
    "print(data)"
   ]
  },
  {
   "cell_type": "code",
   "execution_count": 88,
   "metadata": {},
   "outputs": [
    {
     "name": "stdout",
     "output_type": "stream",
     "text": [
      "[[   0    0    0 ... 1062  321    7]\n",
      " [  97  361  106 ...  254  289   11]\n",
      " [   0    0    0 ...  324    1  528]\n",
      " ...\n",
      " [   0    0    0 ...  142  366  834]\n",
      " [   0    0    0 ...    3  635  461]\n",
      " [   0    0    0 ...    4  848  224]]\n"
     ]
    }
   ],
   "source": [
    "data = pad_sequences(data, maxlen = maxlen)\n",
    "print(data)"
   ]
  },
  {
   "cell_type": "code",
   "execution_count": 95,
   "metadata": {},
   "outputs": [],
   "source": [
    "X_train = data[validation_ratio:]\n",
    "y_train = Data['Rating'][validation_ratio:]\n",
    "X_test = data[:validation_ratio]\n",
    "y_test = Data['Rating'][:validation_ratio]"
   ]
  },
  {
   "cell_type": "code",
   "execution_count": 96,
   "metadata": {},
   "outputs": [
    {
     "name": "stdout",
     "output_type": "stream",
     "text": [
      "(2259, 200)\n",
      "(2259,)\n"
     ]
    }
   ],
   "source": [
    "print(X_train.shape)\n",
    "print(y_train.shape)"
   ]
  },
  {
   "cell_type": "code",
   "execution_count": 97,
   "metadata": {},
   "outputs": [
    {
     "data": {
      "text/plain": [
       "0      0\n",
       "1      1\n",
       "2      0\n",
       "3      1\n",
       "4      0\n",
       "      ..\n",
       "963    1\n",
       "964    0\n",
       "965    0\n",
       "966    1\n",
       "967    1\n",
       "Name: Rating, Length: 968, dtype: object"
      ]
     },
     "execution_count": 97,
     "metadata": {},
     "output_type": "execute_result"
    }
   ],
   "source": [
    "y_test"
   ]
  },
  {
   "cell_type": "code",
   "execution_count": 98,
   "metadata": {},
   "outputs": [
    {
     "name": "stdout",
     "output_type": "stream",
     "text": [
      "(968, 200)\n",
      "(968,)\n"
     ]
    }
   ],
   "source": [
    "print(X_test.shape)\n",
    "print(y_test.shape)"
   ]
  },
  {
   "cell_type": "markdown",
   "metadata": {},
   "source": [
    "### TF-IDF(실행 X)"
   ]
  },
  {
   "cell_type": "markdown",
   "metadata": {},
   "source": [
    "from sklearn.feature_extraction.text import TfidfVectorizer\n",
    "from sklearn.feature_selection import SelectKBest\n",
    "from sklearn.feature_selection import f_classif\n",
    "NGRAM_RANGE = (1,2)\n",
    "TOP_K = 2000\n",
    "TOKEN_MODE = 'word'\n",
    "MIN_DOC_FREQ = 2"
   ]
  },
  {
   "cell_type": "markdown",
   "metadata": {},
   "source": [
    "def ngram_vectorize(texts, labels):\n",
    "    kwargs = {\n",
    "        'ngram_range' : NGRAM_RANGE,\n",
    "        'dtype' : 'int32',\n",
    "        'strip_accents' : 'unicode',\n",
    "        'decode_error' : 'replace',\n",
    "        'analyzer' : TOKEN_MODE,\n",
    "        'min_df' : MIN_DOC_FREQ\n",
    "    }\n",
    "    \n",
    "    tfidf_vectorizer = TfidfVectorizer(**kwargs)\n",
    "    transformed_texts = tfidf_vectorizer.fit_transform(texts)\n",
    "    \n",
    "    selector = SelectKBest(f_classif, k = min(TOP_K, transformed_texts.shape[1]))\n",
    "    selector.fit(transformed_texts, labels)\n",
    "    \n",
    "    transformed_texts = selector.transform(transformed_texts).astype('float32')\n",
    "    return transformed_texts\n",
    "#TF -IDF를 변환하기 위한 각각의 파라미터를 조정하였음 "
   ]
  },
  {
   "cell_type": "markdown",
   "metadata": {
    "scrolled": false
   },
   "source": [
    "vect_train_data = ngram_vectorize(train_docs['Reviews'], train_docs['Rating'])\n",
    "vect_train_data"
   ]
  },
  {
   "cell_type": "markdown",
   "metadata": {
    "scrolled": false
   },
   "source": [
    "vect_test_data = ngram_vectorize(test_docs['Reviews'], test_docs['Rating'])\n",
    "vect_test_data"
   ]
  },
  {
   "cell_type": "markdown",
   "metadata": {},
   "source": [
    "rf_X_train = vect_train_data.toarray()\n",
    "rf_y_train = (np.array(train_docs['Rating']))\n",
    "rf_X_test = vect_test_data.toarray()\n",
    "rf_y_test = (np.array(test_docs['Rating']))"
   ]
  },
  {
   "cell_type": "markdown",
   "metadata": {},
   "source": [
    "### Random Forest"
   ]
  },
  {
   "cell_type": "code",
   "execution_count": 45,
   "metadata": {},
   "outputs": [],
   "source": [
    "from sklearn.ensemble import RandomForestClassifier"
   ]
  },
  {
   "cell_type": "code",
   "execution_count": 46,
   "metadata": {
    "scrolled": true
   },
   "outputs": [
    {
     "data": {
      "text/plain": [
       "RandomForestClassifier(n_jobs=-1, random_state=2020)"
      ]
     },
     "execution_count": 46,
     "metadata": {},
     "output_type": "execute_result"
    }
   ],
   "source": [
    "forest = RandomForestClassifier(\n",
    "    n_estimators = 100, n_jobs = -1, random_state=2020)\n",
    "forest \n",
    "#데이터가 너무 커서 최적의 파라미터들을 찾기보다는 default로 두는 것이 가장 좋은 선택이라는 판단 "
   ]
  },
  {
   "cell_type": "code",
   "execution_count": 47,
   "metadata": {
    "scrolled": true
   },
   "outputs": [],
   "source": [
    "forest = forest.fit(rf_X_train, rf_y_train)"
   ]
  },
  {
   "cell_type": "code",
   "execution_count": 48,
   "metadata": {},
   "outputs": [],
   "source": [
    "result = forest.predict(rf_X_test)"
   ]
  },
  {
   "cell_type": "code",
   "execution_count": 49,
   "metadata": {
    "scrolled": false
   },
   "outputs": [],
   "source": [
    "rf_y_test = rf_y_test.astype('int64')"
   ]
  },
  {
   "cell_type": "code",
   "execution_count": 50,
   "metadata": {},
   "outputs": [],
   "source": [
    "result = result.astype('int64')"
   ]
  },
  {
   "cell_type": "code",
   "execution_count": 51,
   "metadata": {},
   "outputs": [],
   "source": [
    "def get_clf_eval(y_test, preds):\n",
    "    confusion = confusion_matrix(y_test, preds)\n",
    "    accuracy = accuracy_score(y_test, preds)\n",
    "    precision = precision_score(y_test, preds)\n",
    "    recall = recall_score(y_test, preds)\n",
    "    F1 = f1_score(y_test, preds)\n",
    "    AUC = roc_auc_score(y_test, preds)\n",
    "    print('오차행렬:\\n', confusion)\n",
    "    print('\\n정확도: {:.4f}'.format(accuracy))\n",
    "    print('정밀도: {:.4f}'.format(precision))\n",
    "    print('재현율: {:.4f}'.format(recall))\n",
    "    print('F1: {:.4f}'.format(F1))\n",
    "    print('AUC: {:.4f}'.format(AUC))\n",
    "    #Confusion Matrix, Accuracy, precision, recall, F1, AUC등을 한번에 보여주는 함수를 생성 "
   ]
  },
  {
   "cell_type": "code",
   "execution_count": 52,
   "metadata": {},
   "outputs": [
    {
     "ename": "NameError",
     "evalue": "name 'precision_score' is not defined",
     "output_type": "error",
     "traceback": [
      "\u001b[0;31m---------------------------------------------------------------------------\u001b[0m",
      "\u001b[0;31mNameError\u001b[0m                                 Traceback (most recent call last)",
      "\u001b[0;32m<ipython-input-52-5646fd33261d>\u001b[0m in \u001b[0;36m<module>\u001b[0;34m\u001b[0m\n\u001b[0;32m----> 1\u001b[0;31m \u001b[0mget_clf_eval\u001b[0m\u001b[0;34m(\u001b[0m\u001b[0mrf_y_test\u001b[0m\u001b[0;34m,\u001b[0m \u001b[0mresult\u001b[0m\u001b[0;34m)\u001b[0m\u001b[0;34m\u001b[0m\u001b[0;34m\u001b[0m\u001b[0m\n\u001b[0m\u001b[1;32m      2\u001b[0m \u001b[0;31m#랜덤포레스트모델에서는 재현율은 아주 좋은 성능을 보여주며 f1 score는 재현율에 영향을 받기때문에 높은 값으로 나온것롤 보인다\u001b[0m\u001b[0;34m\u001b[0m\u001b[0;34m\u001b[0m\u001b[0;34m\u001b[0m\u001b[0m\n\u001b[1;32m      3\u001b[0m \u001b[0;31m#하지만 다른 성능지표에서는 그렇게 좋지 못한 성능을 보여주고 있다.\u001b[0m\u001b[0;34m\u001b[0m\u001b[0;34m\u001b[0m\u001b[0;34m\u001b[0m\u001b[0m\n",
      "\u001b[0;32m<ipython-input-51-9e236be08848>\u001b[0m in \u001b[0;36mget_clf_eval\u001b[0;34m(y_test, preds)\u001b[0m\n\u001b[1;32m      2\u001b[0m     \u001b[0mconfusion\u001b[0m \u001b[0;34m=\u001b[0m \u001b[0mconfusion_matrix\u001b[0m\u001b[0;34m(\u001b[0m\u001b[0my_test\u001b[0m\u001b[0;34m,\u001b[0m \u001b[0mpreds\u001b[0m\u001b[0;34m)\u001b[0m\u001b[0;34m\u001b[0m\u001b[0;34m\u001b[0m\u001b[0m\n\u001b[1;32m      3\u001b[0m     \u001b[0maccuracy\u001b[0m \u001b[0;34m=\u001b[0m \u001b[0maccuracy_score\u001b[0m\u001b[0;34m(\u001b[0m\u001b[0my_test\u001b[0m\u001b[0;34m,\u001b[0m \u001b[0mpreds\u001b[0m\u001b[0;34m)\u001b[0m\u001b[0;34m\u001b[0m\u001b[0;34m\u001b[0m\u001b[0m\n\u001b[0;32m----> 4\u001b[0;31m     \u001b[0mprecision\u001b[0m \u001b[0;34m=\u001b[0m \u001b[0mprecision_score\u001b[0m\u001b[0;34m(\u001b[0m\u001b[0my_test\u001b[0m\u001b[0;34m,\u001b[0m \u001b[0mpreds\u001b[0m\u001b[0;34m)\u001b[0m\u001b[0;34m\u001b[0m\u001b[0;34m\u001b[0m\u001b[0m\n\u001b[0m\u001b[1;32m      5\u001b[0m     \u001b[0mrecall\u001b[0m \u001b[0;34m=\u001b[0m \u001b[0mrecall_score\u001b[0m\u001b[0;34m(\u001b[0m\u001b[0my_test\u001b[0m\u001b[0;34m,\u001b[0m \u001b[0mpreds\u001b[0m\u001b[0;34m)\u001b[0m\u001b[0;34m\u001b[0m\u001b[0;34m\u001b[0m\u001b[0m\n\u001b[1;32m      6\u001b[0m     \u001b[0mF1\u001b[0m \u001b[0;34m=\u001b[0m \u001b[0mf1_score\u001b[0m\u001b[0;34m(\u001b[0m\u001b[0my_test\u001b[0m\u001b[0;34m,\u001b[0m \u001b[0mpreds\u001b[0m\u001b[0;34m)\u001b[0m\u001b[0;34m\u001b[0m\u001b[0;34m\u001b[0m\u001b[0m\n",
      "\u001b[0;31mNameError\u001b[0m: name 'precision_score' is not defined"
     ]
    }
   ],
   "source": [
    "get_clf_eval(rf_y_test, result)\n",
    "#랜덤포레스트모델에서는 재현율은 아주 좋은 성능을 보여주며 f1 score는 재현율에 영향을 받기때문에 높은 값으로 나온것롤 보인다 \n",
    "#하지만 다른 성능지표에서는 그렇게 좋지 못한 성능을 보여주고 있다."
   ]
  },
  {
   "cell_type": "markdown",
   "metadata": {},
   "source": [
    "### XGBOOST"
   ]
  },
  {
   "cell_type": "code",
   "execution_count": 57,
   "metadata": {},
   "outputs": [],
   "source": [
    "import xgboost as xgb \n",
    "from xgboost import plot_importance \n",
    "from sklearn.metrics import confusion_matrix, accuracy_score, precision_score, recall_score\n",
    "from sklearn.metrics import confusion_matrix, f1_score, roc_auc_score\n",
    "from xgboost import XGBClassifier"
   ]
  },
  {
   "cell_type": "code",
   "execution_count": 58,
   "metadata": {},
   "outputs": [],
   "source": [
    "dtrain = xgb.DMatrix(data = rf_X_train, label = rf_y_train)\n",
    "dtest = xgb.DMatrix(data= rf_X_test, label = rf_y_test)\n",
    "\n",
    "#numpy형태의 학습 데이터셋과 테스트 데이터셋을 DMatirx로 변환\n",
    "#xgboost 모델을 학습시키기위해서는 Dmatrix로 변환을 해야하는것 같음 "
   ]
  },
  {
   "cell_type": "code",
   "execution_count": 59,
   "metadata": {},
   "outputs": [],
   "source": [
    "params = {'max_depth' : 4,\n",
    "          'eta' : 0.1,\n",
    "          'objective' : 'binary:logistic',\n",
    "          'eval_metric' : 'logloss',\n",
    "          'early_stoppings' : 30}\n",
    "\n",
    "num_rounds = 100\n",
    "#eta : 학습률 \n",
    "#손실함수 평가지표 : logloss\n",
    "#파라미터를 "
   ]
  },
  {
   "cell_type": "code",
   "execution_count": 60,
   "metadata": {
    "scrolled": true
   },
   "outputs": [
    {
     "name": "stdout",
     "output_type": "stream",
     "text": [
      "[02:31:07] WARNING: /Users/travis/build/dmlc/xgboost/src/learner.cc:480: \n",
      "Parameters: { early_stoppings } might not be used.\n",
      "\n",
      "  This may not be accurate due to some parameters are only used in language bindings but\n",
      "  passed down to XGBoost core.  Or some parameters are not used but slip through this\n",
      "  verification. Please open an issue if you find above cases.\n",
      "\n",
      "\n",
      "[0]\ttrain-logloss:0.66393\teval-logloss:0.68535\n",
      "[1]\ttrain-logloss:0.64042\teval-logloss:0.67548\n",
      "[2]\ttrain-logloss:0.61965\teval-logloss:0.67075\n",
      "[3]\ttrain-logloss:0.60259\teval-logloss:0.66258\n",
      "[4]\ttrain-logloss:0.58786\teval-logloss:0.65692\n",
      "[5]\ttrain-logloss:0.57514\teval-logloss:0.65330\n",
      "[6]\ttrain-logloss:0.56297\teval-logloss:0.65167\n",
      "[7]\ttrain-logloss:0.55297\teval-logloss:0.64598\n",
      "[8]\ttrain-logloss:0.54235\teval-logloss:0.64634\n",
      "[9]\ttrain-logloss:0.53317\teval-logloss:0.64701\n",
      "[10]\ttrain-logloss:0.52464\teval-logloss:0.64136\n",
      "[11]\ttrain-logloss:0.51717\teval-logloss:0.64225\n",
      "[12]\ttrain-logloss:0.50987\teval-logloss:0.64337\n",
      "[13]\ttrain-logloss:0.50306\teval-logloss:0.63844\n",
      "[14]\ttrain-logloss:0.49730\teval-logloss:0.63561\n",
      "[15]\ttrain-logloss:0.49096\teval-logloss:0.63694\n",
      "[16]\ttrain-logloss:0.48553\teval-logloss:0.63482\n",
      "[17]\ttrain-logloss:0.48032\teval-logloss:0.63300\n",
      "[18]\ttrain-logloss:0.47549\teval-logloss:0.63419\n",
      "[19]\ttrain-logloss:0.47124\teval-logloss:0.63512\n",
      "[20]\ttrain-logloss:0.46726\teval-logloss:0.63374\n",
      "[21]\ttrain-logloss:0.46207\teval-logloss:0.63192\n",
      "[22]\ttrain-logloss:0.45755\teval-logloss:0.62916\n",
      "[23]\ttrain-logloss:0.45360\teval-logloss:0.63019\n",
      "[24]\ttrain-logloss:0.45021\teval-logloss:0.63074\n",
      "[25]\ttrain-logloss:0.44675\teval-logloss:0.63007\n",
      "[26]\ttrain-logloss:0.44315\teval-logloss:0.63033\n",
      "[27]\ttrain-logloss:0.44024\teval-logloss:0.62941\n",
      "[28]\ttrain-logloss:0.43748\teval-logloss:0.62996\n",
      "[29]\ttrain-logloss:0.43465\teval-logloss:0.63030\n",
      "[30]\ttrain-logloss:0.43176\teval-logloss:0.62957\n",
      "[31]\ttrain-logloss:0.42926\teval-logloss:0.63007\n",
      "[32]\ttrain-logloss:0.42632\teval-logloss:0.63066\n",
      "[33]\ttrain-logloss:0.42391\teval-logloss:0.63134\n",
      "[34]\ttrain-logloss:0.42088\teval-logloss:0.63045\n",
      "[35]\ttrain-logloss:0.41764\teval-logloss:0.63062\n",
      "[36]\ttrain-logloss:0.41503\teval-logloss:0.62904\n",
      "[37]\ttrain-logloss:0.41196\teval-logloss:0.62802\n",
      "[38]\ttrain-logloss:0.40977\teval-logloss:0.62912\n",
      "[39]\ttrain-logloss:0.40724\teval-logloss:0.62953\n",
      "[40]\ttrain-logloss:0.40488\teval-logloss:0.62949\n",
      "[41]\ttrain-logloss:0.40251\teval-logloss:0.62980\n",
      "[42]\ttrain-logloss:0.40056\teval-logloss:0.62966\n",
      "[43]\ttrain-logloss:0.39803\teval-logloss:0.63040\n",
      "[44]\ttrain-logloss:0.39591\teval-logloss:0.63144\n",
      "[45]\ttrain-logloss:0.39412\teval-logloss:0.63194\n",
      "[46]\ttrain-logloss:0.39204\teval-logloss:0.63294\n",
      "[47]\ttrain-logloss:0.38964\teval-logloss:0.63287\n",
      "[48]\ttrain-logloss:0.38799\teval-logloss:0.63208\n",
      "[49]\ttrain-logloss:0.38619\teval-logloss:0.63271\n",
      "[50]\ttrain-logloss:0.38433\teval-logloss:0.63228\n",
      "[51]\ttrain-logloss:0.38266\teval-logloss:0.63311\n",
      "[52]\ttrain-logloss:0.38064\teval-logloss:0.63278\n",
      "[53]\ttrain-logloss:0.37910\teval-logloss:0.63256\n",
      "[54]\ttrain-logloss:0.37734\teval-logloss:0.63226\n",
      "[55]\ttrain-logloss:0.37529\teval-logloss:0.63227\n",
      "[56]\ttrain-logloss:0.37373\teval-logloss:0.63305\n",
      "[57]\ttrain-logloss:0.37148\teval-logloss:0.63267\n",
      "[58]\ttrain-logloss:0.36966\teval-logloss:0.63290\n",
      "[59]\ttrain-logloss:0.36803\teval-logloss:0.63363\n",
      "[60]\ttrain-logloss:0.36671\teval-logloss:0.63342\n",
      "[61]\ttrain-logloss:0.36527\teval-logloss:0.63368\n",
      "[62]\ttrain-logloss:0.36362\teval-logloss:0.63319\n",
      "[63]\ttrain-logloss:0.36230\teval-logloss:0.63380\n",
      "[64]\ttrain-logloss:0.36087\teval-logloss:0.63470\n",
      "[65]\ttrain-logloss:0.35948\teval-logloss:0.63535\n",
      "[66]\ttrain-logloss:0.35831\teval-logloss:0.63653\n",
      "[67]\ttrain-logloss:0.35661\teval-logloss:0.63554\n",
      "[68]\ttrain-logloss:0.35541\teval-logloss:0.63611\n",
      "[69]\ttrain-logloss:0.35415\teval-logloss:0.63551\n",
      "[70]\ttrain-logloss:0.35253\teval-logloss:0.63513\n",
      "[71]\ttrain-logloss:0.35134\teval-logloss:0.63516\n",
      "[72]\ttrain-logloss:0.35026\teval-logloss:0.63534\n",
      "[73]\ttrain-logloss:0.34909\teval-logloss:0.63610\n",
      "[74]\ttrain-logloss:0.34758\teval-logloss:0.63694\n",
      "[75]\ttrain-logloss:0.34645\teval-logloss:0.63738\n",
      "[76]\ttrain-logloss:0.34544\teval-logloss:0.63708\n",
      "[77]\ttrain-logloss:0.34426\teval-logloss:0.63652\n",
      "[78]\ttrain-logloss:0.34303\teval-logloss:0.63726\n",
      "[79]\ttrain-logloss:0.34195\teval-logloss:0.63683\n",
      "[80]\ttrain-logloss:0.34097\teval-logloss:0.63731\n",
      "[81]\ttrain-logloss:0.33962\teval-logloss:0.63823\n",
      "[82]\ttrain-logloss:0.33765\teval-logloss:0.63712\n",
      "[83]\ttrain-logloss:0.33642\teval-logloss:0.63670\n",
      "[84]\ttrain-logloss:0.33544\teval-logloss:0.63676\n",
      "[85]\ttrain-logloss:0.33427\teval-logloss:0.63717\n",
      "[86]\ttrain-logloss:0.33294\teval-logloss:0.63737\n",
      "[87]\ttrain-logloss:0.33184\teval-logloss:0.63740\n",
      "[88]\ttrain-logloss:0.33077\teval-logloss:0.63747\n",
      "[89]\ttrain-logloss:0.32990\teval-logloss:0.63788\n",
      "[90]\ttrain-logloss:0.32898\teval-logloss:0.63696\n",
      "[91]\ttrain-logloss:0.32804\teval-logloss:0.63661\n",
      "[92]\ttrain-logloss:0.32708\teval-logloss:0.63741\n",
      "[93]\ttrain-logloss:0.32624\teval-logloss:0.63750\n",
      "[94]\ttrain-logloss:0.32519\teval-logloss:0.63759\n",
      "[95]\ttrain-logloss:0.32433\teval-logloss:0.63753\n",
      "[96]\ttrain-logloss:0.32354\teval-logloss:0.63808\n",
      "[97]\ttrain-logloss:0.32269\teval-logloss:0.63834\n",
      "[98]\ttrain-logloss:0.32163\teval-logloss:0.63877\n",
      "[99]\ttrain-logloss:0.32049\teval-logloss:0.63915\n"
     ]
    }
   ],
   "source": [
    "wlist = [(dtrain, 'train'), (dtest, 'eval')]\n",
    "xgb_model = xgb.train(params = params, \n",
    "                      dtrain = dtrain, \n",
    "                      num_boost_round = num_rounds,\n",
    "                      evals = wlist)"
   ]
  },
  {
   "cell_type": "code",
   "execution_count": 61,
   "metadata": {
    "scrolled": true
   },
   "outputs": [],
   "source": [
    "pred_probs = xgb_model.predict(dtest)\n",
    "#예측값을 확률로 출력 "
   ]
  },
  {
   "cell_type": "code",
   "execution_count": 62,
   "metadata": {},
   "outputs": [],
   "source": [
    "preds = [1 if x > 0.4 else 0 for x in pred_probs]"
   ]
  },
  {
   "cell_type": "code",
   "execution_count": 63,
   "metadata": {},
   "outputs": [],
   "source": [
    "def get_clf_eval(y_test, preds):\n",
    "    confusion = confusion_matrix(y_test, preds)\n",
    "    accuracy = accuracy_score(y_test, preds)\n",
    "    precision = precision_score(y_test, preds)\n",
    "    recall = recall_score(y_test, preds)\n",
    "    F1 = f1_score(y_test, preds)\n",
    "    AUC = roc_auc_score(y_test, preds)\n",
    "    print('오차행렬:\\n', confusion)\n",
    "    print('\\n정확도: {:.4f}'.format(accuracy))\n",
    "    print('정밀도: {:.4f}'.format(precision))\n",
    "    print('재현율: {:.4f}'.format(recall))\n",
    "    print('F1: {:.4f}'.format(F1))\n",
    "    print('AUC: {:.4f}'.format(AUC))\n",
    "#Confusion Matrix, Accuracy, precision, recall, F1, AUC등을 한번에 보여주는 함수를 생성 "
   ]
  },
  {
   "cell_type": "code",
   "execution_count": 64,
   "metadata": {
    "scrolled": true
   },
   "outputs": [
    {
     "name": "stdout",
     "output_type": "stream",
     "text": [
      "오차행렬:\n",
      " [[ 24 282]\n",
      " [ 15 648]]\n",
      "\n",
      "정확도: 0.6935\n",
      "정밀도: 0.6968\n",
      "재현율: 0.9774\n",
      "F1: 0.8136\n",
      "AUC: 0.5279\n"
     ]
    }
   ],
   "source": [
    "get_clf_eval(rf_y_test, preds)\n",
    "#재현율에서는 아주 높은 값을 보여주고 있지만 나머지값들에 대해서는 좋지 못한 결과를 보여준다\n",
    "#또한 AUC가 0.5정도면 좋지 못한 모델이라는 것을 보여준다"
   ]
  },
  {
   "cell_type": "markdown",
   "metadata": {},
   "source": [
    "### LSTM"
   ]
  },
  {
   "cell_type": "code",
   "execution_count": 101,
   "metadata": {},
   "outputs": [],
   "source": [
    "y_train = y_train.astype('int64')\n",
    "y_test = y_test.astype('int64')"
   ]
  },
  {
   "cell_type": "code",
   "execution_count": 52,
   "metadata": {},
   "outputs": [
    {
     "name": "stdout",
     "output_type": "stream",
     "text": [
      "(2258, 2000)\n",
      "(2258,)\n"
     ]
    }
   ],
   "source": [
    "print(X_train.shape)\n",
    "print(y_train.shape)"
   ]
  },
  {
   "cell_type": "code",
   "execution_count": 44,
   "metadata": {
    "scrolled": true
   },
   "outputs": [],
   "source": [
    "from keras.layers import Dense , Input , LSTM , Embedding, Dropout , Activation, GRU, Flatten\n",
    "from keras.layers import Bidirectional, GlobalMaxPool1D\n",
    "from keras.models import Model, Sequential\n",
    "from keras.layers import Convolution1D\n",
    "from keras import initializers, regularizers, constraints, optimizers, layers\n",
    "from tensorflow.keras.callbacks import EarlyStopping, ModelCheckpoint\n",
    "from tensorflow.keras.preprocessing.sequence import pad_sequences"
   ]
  },
  {
   "cell_type": "code",
   "execution_count": 45,
   "metadata": {},
   "outputs": [],
   "source": [
    "from tensorflow.keras import models\n",
    "from tensorflow.keras import layers\n",
    "from keras.layers import Activation, SimpleRNN"
   ]
  },
  {
   "cell_type": "markdown",
   "metadata": {},
   "source": [
    "embed_size = 64\n",
    "max_features = 1500\n",
    "\n",
    "\n",
    "model = Sequential()\n",
    "model.add(Embedding(max_features, embed_size))\n",
    "model.add(Bidirectional(LSTM(32, return_sequences = True)))\n",
    "model.add(GlobalMaxPool1D())\n",
    "model.add(Dense(20, activation=\"relu\"))\n",
    "model.add(Dropout(0.1))\n",
    "model.add(Dense(1, activation=\"sigmoid\"))\n",
    "model.compile(loss='binary_crossentropy', optimizer='adam', metrics=['accuracy'])\n",
    "\n",
    "model.summary()\n",
    "\n",
    "#6개의 layer로 구성되어 있으며 성능을 좋게 내기 위해 학습 모델 코드를 참조하였음\n",
    "#이거는 모델이 잘못된듯 "
   ]
  },
  {
   "cell_type": "code",
   "execution_count": 105,
   "metadata": {
    "scrolled": false
   },
   "outputs": [
    {
     "name": "stdout",
     "output_type": "stream",
     "text": [
      "Model: \"sequential_9\"\n",
      "_________________________________________________________________\n",
      "Layer (type)                 Output Shape              Param #   \n",
      "=================================================================\n",
      "embedding_9 (Embedding)      (None, None, 64)          96000     \n",
      "_________________________________________________________________\n",
      "simple_rnn_4 (SimpleRNN)     (None, 50)                5750      \n",
      "_________________________________________________________________\n",
      "dense_18 (Dense)             (None, 30)                1530      \n",
      "_________________________________________________________________\n",
      "dense_19 (Dense)             (None, 1)                 31        \n",
      "=================================================================\n",
      "Total params: 103,311\n",
      "Trainable params: 103,311\n",
      "Non-trainable params: 0\n",
      "_________________________________________________________________\n"
     ]
    }
   ],
   "source": [
    "embedding_dim = 50\n",
    "max_features = 1500\n",
    "model = models.Sequential()\n",
    "model.add(layers.Embedding(max_features, embed_size))\n",
    "#input node가 만개, output이 50개 각 노드의 길이는 200\n",
    "model.add(layers.SimpleRNN(50))\n",
    "model.add(layers.Dense(30, activation = 'relu'))\n",
    "model.add(layers.Dense(1, activation = 'sigmoid'))\n",
    "model.summary()\n",
    "\n",
    "model.compile(loss = 'binary_crossentropy', optimizer = 'adam', metrics = ['accuracy'])"
   ]
  },
  {
   "cell_type": "code",
   "execution_count": 106,
   "metadata": {
    "scrolled": true
   },
   "outputs": [
    {
     "name": "stdout",
     "output_type": "stream",
     "text": [
      "Epoch 1/5\n",
      "7/7 [==============================] - 1s 125ms/step - loss: 0.6581 - accuracy: 0.6363 - val_loss: 0.5918 - val_accuracy: 0.7271\n",
      "Epoch 2/5\n",
      "7/7 [==============================] - 1s 96ms/step - loss: 0.5954 - accuracy: 0.6863 - val_loss: 0.6237 - val_accuracy: 0.6873\n",
      "Epoch 3/5\n",
      "7/7 [==============================] - 1s 82ms/step - loss: 0.5514 - accuracy: 0.7748 - val_loss: 0.5855 - val_accuracy: 0.7389\n",
      "Epoch 4/5\n",
      "7/7 [==============================] - 1s 84ms/step - loss: 0.4972 - accuracy: 0.8210 - val_loss: 0.5851 - val_accuracy: 0.7257\n",
      "Epoch 5/5\n",
      "7/7 [==============================] - 1s 82ms/step - loss: 0.4307 - accuracy: 0.8703 - val_loss: 0.5680 - val_accuracy: 0.7153\n"
     ]
    },
    {
     "data": {
      "text/plain": [
       "<tensorflow.python.keras.callbacks.History at 0x7fe445232f90>"
      ]
     },
     "execution_count": 106,
     "metadata": {},
     "output_type": "execute_result"
    }
   ],
   "source": [
    "batch_size = 256\n",
    "epochs = 5\n",
    "model.fit(X_train,y_train, batch_size=batch_size, epochs=epochs, validation_split=0.3)\n",
    "#Validation set을 train셋에서 30%를 두고 학습을 진행 "
   ]
  },
  {
   "cell_type": "code",
   "execution_count": 107,
   "metadata": {
    "scrolled": true
   },
   "outputs": [
    {
     "name": "stdout",
     "output_type": "stream",
     "text": [
      "4/4 [==============================] - 0s 40ms/step - loss: 0.4878 - accuracy: 0.7944\n"
     ]
    }
   ],
   "source": [
    "score, acc =model.evaluate(X_test, y_test, batch_size = batch_size)"
   ]
  },
  {
   "cell_type": "code",
   "execution_count": 108,
   "metadata": {},
   "outputs": [
    {
     "name": "stdout",
     "output_type": "stream",
     "text": [
      "Test Score: 0.48776012659072876\n",
      "Test Accuracy: 0.7944214940071106\n"
     ]
    }
   ],
   "source": [
    "print('Test Score:' , score)\n",
    "print('Test Accuracy:' , acc)\n",
    "#69.18%의 정확도를 보여주고 있으며 좋지못한 성능을 보여준다 \n",
    "#추후 성능을 올릴방법을 찾아서 성능을 올릴예정"
   ]
  },
  {
   "cell_type": "code",
   "execution_count": null,
   "metadata": {},
   "outputs": [],
   "source": []
  }
 ],
 "metadata": {
  "kernelspec": {
   "display_name": "Python 3",
   "language": "python",
   "name": "python3"
  },
  "language_info": {
   "codemirror_mode": {
    "name": "ipython",
    "version": 3
   },
   "file_extension": ".py",
   "mimetype": "text/x-python",
   "name": "python",
   "nbconvert_exporter": "python",
   "pygments_lexer": "ipython3",
   "version": "3.7.4"
  }
 },
 "nbformat": 4,
 "nbformat_minor": 2
}
