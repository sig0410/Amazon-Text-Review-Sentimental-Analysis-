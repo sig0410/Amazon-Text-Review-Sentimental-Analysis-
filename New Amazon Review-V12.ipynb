{
 "cells": [
  {
   "cell_type": "code",
   "execution_count": 1,
   "metadata": {},
   "outputs": [
    {
     "name": "stderr",
     "output_type": "stream",
     "text": [
      "Using TensorFlow backend.\n"
     ]
    }
   ],
   "source": [
    "import re\n",
    "import nltk\n",
    "\n",
    "import pandas as pd\n",
    "import numpy as np\n",
    "\n",
    "from bs4 import BeautifulSoup\n",
    "from nltk.corpus import stopwords\n",
    "from nltk.stem.porter import PorterStemmer\n",
    "english_stemmer=nltk.stem.SnowballStemmer('english')\n",
    "\n",
    "from sklearn.feature_selection.univariate_selection import SelectKBest, chi2, f_classif\n",
    "from sklearn.model_selection import train_test_split\n",
    "from sklearn.feature_extraction.text import TfidfVectorizer\n",
    "from sklearn.linear_model import SGDClassifier, SGDRegressor\n",
    "from sklearn.ensemble import RandomForestClassifier, GradientBoostingClassifier\n",
    "from sklearn.naive_bayes import MultinomialNB\n",
    "from sklearn.metrics import accuracy_score, classification_report, confusion_matrix\n",
    "import random\n",
    "import itertools\n",
    "\n",
    "import sys\n",
    "import os\n",
    "import argparse\n",
    "from sklearn.pipeline import Pipeline\n",
    "from scipy.sparse import csr_matrix\n",
    "from sklearn.feature_extraction.text import CountVectorizer\n",
    "import six\n",
    "from abc import ABCMeta\n",
    "from scipy import sparse\n",
    "from scipy.sparse import issparse\n",
    "from sklearn.base import BaseEstimator, ClassifierMixin\n",
    "from sklearn.utils import check_X_y, check_array\n",
    "from sklearn.utils.extmath import safe_sparse_dot\n",
    "from sklearn.preprocessing import normalize, binarize, LabelBinarizer\n",
    "from sklearn.svm import LinearSVC\n",
    "\n",
    "from keras.preprocessing import sequence\n",
    "from keras.utils import np_utils\n",
    "from keras.models import Sequential\n",
    "from keras.layers.core import Dense, Dropout, Activation, Lambda\n",
    "from keras.layers.embeddings import Embedding\n",
    "from keras.layers.recurrent import LSTM, SimpleRNN, GRU\n",
    "from keras.preprocessing.text import Tokenizer\n",
    "from collections import defaultdict\n",
    "from keras.layers.convolutional import Convolution1D\n",
    "from keras import backend as K\n",
    "\n",
    "import seaborn as sns\n",
    "import matplotlib.pyplot as plt\n",
    "from matplotlib import cm\n",
    "%matplotlib inline\n",
    "plt.style.use('ggplot')"
   ]
  },
  {
   "cell_type": "code",
   "execution_count": 2,
   "metadata": {},
   "outputs": [],
   "source": [
    "data_file = './/Amazon_Unlocked_Mobile.csv'\n",
    "n = 413000  \n",
    "s = 20000 \n",
    "skip = sorted(random.sample(range(1,n),n-s))\n",
    "\n",
    "\n",
    "df = pd.read_csv( data_file, delimiter = \",\", skiprows = skip)"
   ]
  },
  {
   "cell_type": "code",
   "execution_count": 3,
   "metadata": {},
   "outputs": [
    {
     "data": {
      "text/html": [
       "<div>\n",
       "<style scoped>\n",
       "    .dataframe tbody tr th:only-of-type {\n",
       "        vertical-align: middle;\n",
       "    }\n",
       "\n",
       "    .dataframe tbody tr th {\n",
       "        vertical-align: top;\n",
       "    }\n",
       "\n",
       "    .dataframe thead th {\n",
       "        text-align: right;\n",
       "    }\n",
       "</style>\n",
       "<table border=\"1\" class=\"dataframe\">\n",
       "  <thead>\n",
       "    <tr style=\"text-align: right;\">\n",
       "      <th></th>\n",
       "      <th>Product Name</th>\n",
       "      <th>Brand Name</th>\n",
       "      <th>Price</th>\n",
       "      <th>Rating</th>\n",
       "      <th>Reviews</th>\n",
       "      <th>Review Votes</th>\n",
       "    </tr>\n",
       "  </thead>\n",
       "  <tbody>\n",
       "    <tr>\n",
       "      <td>0</td>\n",
       "      <td>\"CLEAR CLEAN ESN\" Sprint EPIC 4G Galaxy SPH-D7...</td>\n",
       "      <td>Samsung</td>\n",
       "      <td>199.99</td>\n",
       "      <td>4</td>\n",
       "      <td>It works good but it goes slow sometimes but i...</td>\n",
       "      <td>0.0</td>\n",
       "    </tr>\n",
       "    <tr>\n",
       "      <td>1</td>\n",
       "      <td>\"CLEAR CLEAN ESN\" Sprint EPIC 4G Galaxy SPH-D7...</td>\n",
       "      <td>Samsung</td>\n",
       "      <td>199.99</td>\n",
       "      <td>3</td>\n",
       "      <td>It's battery life is great. It's very responsi...</td>\n",
       "      <td>0.0</td>\n",
       "    </tr>\n",
       "    <tr>\n",
       "      <td>2</td>\n",
       "      <td>\"CLEAR CLEAN ESN\" Sprint EPIC 4G Galaxy SPH-D7...</td>\n",
       "      <td>Samsung</td>\n",
       "      <td>199.99</td>\n",
       "      <td>5</td>\n",
       "      <td>as described, fast ship!</td>\n",
       "      <td>0.0</td>\n",
       "    </tr>\n",
       "    <tr>\n",
       "      <td>3</td>\n",
       "      <td>\"Nokia Asha 302 Unlocked GSM Phone with 3.2MP ...</td>\n",
       "      <td>Nokia</td>\n",
       "      <td>299.00</td>\n",
       "      <td>5</td>\n",
       "      <td>Nokia Asha 302 Unlocked GSM Phone with 3.2MP C...</td>\n",
       "      <td>13.0</td>\n",
       "    </tr>\n",
       "    <tr>\n",
       "      <td>4</td>\n",
       "      <td>\"Nokia Asha 302 Unlocked GSM Phone with 3.2MP ...</td>\n",
       "      <td>Nokia</td>\n",
       "      <td>299.00</td>\n",
       "      <td>1</td>\n",
       "      <td>The battery died in less than 24/hours....</td>\n",
       "      <td>0.0</td>\n",
       "    </tr>\n",
       "    <tr>\n",
       "      <td>...</td>\n",
       "      <td>...</td>\n",
       "      <td>...</td>\n",
       "      <td>...</td>\n",
       "      <td>...</td>\n",
       "      <td>...</td>\n",
       "      <td>...</td>\n",
       "    </tr>\n",
       "    <tr>\n",
       "      <td>20835</td>\n",
       "      <td>Samsung Convoy U640 Phone for Verizon Wireless...</td>\n",
       "      <td>Samsung</td>\n",
       "      <td>79.95</td>\n",
       "      <td>5</td>\n",
       "      <td>another great deal great price</td>\n",
       "      <td>0.0</td>\n",
       "    </tr>\n",
       "    <tr>\n",
       "      <td>20836</td>\n",
       "      <td>Samsung Convoy U640 Phone for Verizon Wireless...</td>\n",
       "      <td>Samsung</td>\n",
       "      <td>79.95</td>\n",
       "      <td>3</td>\n",
       "      <td>Ok</td>\n",
       "      <td>0.0</td>\n",
       "    </tr>\n",
       "    <tr>\n",
       "      <td>20837</td>\n",
       "      <td>Samsung Convoy U640 Phone for Verizon Wireless...</td>\n",
       "      <td>Samsung</td>\n",
       "      <td>79.95</td>\n",
       "      <td>5</td>\n",
       "      <td>Passes every drop test onto porcelain tile!</td>\n",
       "      <td>0.0</td>\n",
       "    </tr>\n",
       "    <tr>\n",
       "      <td>20838</td>\n",
       "      <td>Samsung Convoy U640 Phone for Verizon Wireless...</td>\n",
       "      <td>Samsung</td>\n",
       "      <td>79.95</td>\n",
       "      <td>3</td>\n",
       "      <td>I returned it because it did not meet my needs...</td>\n",
       "      <td>0.0</td>\n",
       "    </tr>\n",
       "    <tr>\n",
       "      <td>20839</td>\n",
       "      <td>Samsung Convoy U640 Phone for Verizon Wireless...</td>\n",
       "      <td>Samsung</td>\n",
       "      <td>79.95</td>\n",
       "      <td>4</td>\n",
       "      <td>Only downside is that apparently Verizon no lo...</td>\n",
       "      <td>0.0</td>\n",
       "    </tr>\n",
       "  </tbody>\n",
       "</table>\n",
       "<p>20840 rows × 6 columns</p>\n",
       "</div>"
      ],
      "text/plain": [
       "                                            Product Name Brand Name   Price  \\\n",
       "0      \"CLEAR CLEAN ESN\" Sprint EPIC 4G Galaxy SPH-D7...    Samsung  199.99   \n",
       "1      \"CLEAR CLEAN ESN\" Sprint EPIC 4G Galaxy SPH-D7...    Samsung  199.99   \n",
       "2      \"CLEAR CLEAN ESN\" Sprint EPIC 4G Galaxy SPH-D7...    Samsung  199.99   \n",
       "3      \"Nokia Asha 302 Unlocked GSM Phone with 3.2MP ...      Nokia  299.00   \n",
       "4      \"Nokia Asha 302 Unlocked GSM Phone with 3.2MP ...      Nokia  299.00   \n",
       "...                                                  ...        ...     ...   \n",
       "20835  Samsung Convoy U640 Phone for Verizon Wireless...    Samsung   79.95   \n",
       "20836  Samsung Convoy U640 Phone for Verizon Wireless...    Samsung   79.95   \n",
       "20837  Samsung Convoy U640 Phone for Verizon Wireless...    Samsung   79.95   \n",
       "20838  Samsung Convoy U640 Phone for Verizon Wireless...    Samsung   79.95   \n",
       "20839  Samsung Convoy U640 Phone for Verizon Wireless...    Samsung   79.95   \n",
       "\n",
       "       Rating                                            Reviews  Review Votes  \n",
       "0           4  It works good but it goes slow sometimes but i...           0.0  \n",
       "1           3  It's battery life is great. It's very responsi...           0.0  \n",
       "2           5                           as described, fast ship!           0.0  \n",
       "3           5  Nokia Asha 302 Unlocked GSM Phone with 3.2MP C...          13.0  \n",
       "4           1         The battery died in less than 24/hours....           0.0  \n",
       "...       ...                                                ...           ...  \n",
       "20835       5                     another great deal great price           0.0  \n",
       "20836       3                                                 Ok           0.0  \n",
       "20837       5        Passes every drop test onto porcelain tile!           0.0  \n",
       "20838       3  I returned it because it did not meet my needs...           0.0  \n",
       "20839       4  Only downside is that apparently Verizon no lo...           0.0  \n",
       "\n",
       "[20840 rows x 6 columns]"
      ]
     },
     "execution_count": 3,
     "metadata": {},
     "output_type": "execute_result"
    }
   ],
   "source": [
    "df"
   ]
  },
  {
   "cell_type": "code",
   "execution_count": 4,
   "metadata": {
    "scrolled": false
   },
   "outputs": [
    {
     "data": {
      "text/plain": [
       "Product Name       0\n",
       "Brand Name      3135\n",
       "Price            301\n",
       "Rating             0\n",
       "Reviews            5\n",
       "Review Votes     576\n",
       "dtype: int64"
      ]
     },
     "execution_count": 4,
     "metadata": {},
     "output_type": "execute_result"
    }
   ],
   "source": [
    "df.isnull().sum()"
   ]
  },
  {
   "cell_type": "code",
   "execution_count": 5,
   "metadata": {},
   "outputs": [
    {
     "data": {
      "text/plain": [
       "0        It works good but it goes slow sometimes but i...\n",
       "1        It's battery life is great. It's very responsi...\n",
       "2                                 as described, fast ship!\n",
       "3        Nokia Asha 302 Unlocked GSM Phone with 3.2MP C...\n",
       "4               The battery died in less than 24/hours....\n",
       "                               ...                        \n",
       "20835                       another great deal great price\n",
       "20836                                                   Ok\n",
       "20837          Passes every drop test onto porcelain tile!\n",
       "20838    I returned it because it did not meet my needs...\n",
       "20839    Only downside is that apparently Verizon no lo...\n",
       "Name: Reviews, Length: 20840, dtype: object"
      ]
     },
     "execution_count": 5,
     "metadata": {},
     "output_type": "execute_result"
    }
   ],
   "source": [
    "df['Reviews']"
   ]
  },
  {
   "cell_type": "code",
   "execution_count": 6,
   "metadata": {},
   "outputs": [],
   "source": [
    "df = df.dropna(subset= ['Reviews'])"
   ]
  },
  {
   "cell_type": "code",
   "execution_count": 7,
   "metadata": {},
   "outputs": [
    {
     "data": {
      "text/html": [
       "<div>\n",
       "<style scoped>\n",
       "    .dataframe tbody tr th:only-of-type {\n",
       "        vertical-align: middle;\n",
       "    }\n",
       "\n",
       "    .dataframe tbody tr th {\n",
       "        vertical-align: top;\n",
       "    }\n",
       "\n",
       "    .dataframe thead th {\n",
       "        text-align: right;\n",
       "    }\n",
       "</style>\n",
       "<table border=\"1\" class=\"dataframe\">\n",
       "  <thead>\n",
       "    <tr style=\"text-align: right;\">\n",
       "      <th></th>\n",
       "      <th>Product Name</th>\n",
       "      <th>Brand Name</th>\n",
       "      <th>Price</th>\n",
       "      <th>Rating</th>\n",
       "      <th>Reviews</th>\n",
       "      <th>Review Votes</th>\n",
       "    </tr>\n",
       "  </thead>\n",
       "  <tbody>\n",
       "    <tr>\n",
       "      <td>0</td>\n",
       "      <td>\"CLEAR CLEAN ESN\" Sprint EPIC 4G Galaxy SPH-D7...</td>\n",
       "      <td>Samsung</td>\n",
       "      <td>199.99</td>\n",
       "      <td>4</td>\n",
       "      <td>It works good but it goes slow sometimes but i...</td>\n",
       "      <td>0.0</td>\n",
       "    </tr>\n",
       "    <tr>\n",
       "      <td>1</td>\n",
       "      <td>\"CLEAR CLEAN ESN\" Sprint EPIC 4G Galaxy SPH-D7...</td>\n",
       "      <td>Samsung</td>\n",
       "      <td>199.99</td>\n",
       "      <td>3</td>\n",
       "      <td>It's battery life is great. It's very responsi...</td>\n",
       "      <td>0.0</td>\n",
       "    </tr>\n",
       "    <tr>\n",
       "      <td>2</td>\n",
       "      <td>\"CLEAR CLEAN ESN\" Sprint EPIC 4G Galaxy SPH-D7...</td>\n",
       "      <td>Samsung</td>\n",
       "      <td>199.99</td>\n",
       "      <td>5</td>\n",
       "      <td>as described, fast ship!</td>\n",
       "      <td>0.0</td>\n",
       "    </tr>\n",
       "    <tr>\n",
       "      <td>3</td>\n",
       "      <td>\"Nokia Asha 302 Unlocked GSM Phone with 3.2MP ...</td>\n",
       "      <td>Nokia</td>\n",
       "      <td>299.00</td>\n",
       "      <td>5</td>\n",
       "      <td>Nokia Asha 302 Unlocked GSM Phone with 3.2MP C...</td>\n",
       "      <td>13.0</td>\n",
       "    </tr>\n",
       "    <tr>\n",
       "      <td>4</td>\n",
       "      <td>\"Nokia Asha 302 Unlocked GSM Phone with 3.2MP ...</td>\n",
       "      <td>Nokia</td>\n",
       "      <td>299.00</td>\n",
       "      <td>1</td>\n",
       "      <td>The battery died in less than 24/hours....</td>\n",
       "      <td>0.0</td>\n",
       "    </tr>\n",
       "    <tr>\n",
       "      <td>...</td>\n",
       "      <td>...</td>\n",
       "      <td>...</td>\n",
       "      <td>...</td>\n",
       "      <td>...</td>\n",
       "      <td>...</td>\n",
       "      <td>...</td>\n",
       "    </tr>\n",
       "    <tr>\n",
       "      <td>20835</td>\n",
       "      <td>Samsung Convoy U640 Phone for Verizon Wireless...</td>\n",
       "      <td>Samsung</td>\n",
       "      <td>79.95</td>\n",
       "      <td>5</td>\n",
       "      <td>another great deal great price</td>\n",
       "      <td>0.0</td>\n",
       "    </tr>\n",
       "    <tr>\n",
       "      <td>20836</td>\n",
       "      <td>Samsung Convoy U640 Phone for Verizon Wireless...</td>\n",
       "      <td>Samsung</td>\n",
       "      <td>79.95</td>\n",
       "      <td>3</td>\n",
       "      <td>Ok</td>\n",
       "      <td>0.0</td>\n",
       "    </tr>\n",
       "    <tr>\n",
       "      <td>20837</td>\n",
       "      <td>Samsung Convoy U640 Phone for Verizon Wireless...</td>\n",
       "      <td>Samsung</td>\n",
       "      <td>79.95</td>\n",
       "      <td>5</td>\n",
       "      <td>Passes every drop test onto porcelain tile!</td>\n",
       "      <td>0.0</td>\n",
       "    </tr>\n",
       "    <tr>\n",
       "      <td>20838</td>\n",
       "      <td>Samsung Convoy U640 Phone for Verizon Wireless...</td>\n",
       "      <td>Samsung</td>\n",
       "      <td>79.95</td>\n",
       "      <td>3</td>\n",
       "      <td>I returned it because it did not meet my needs...</td>\n",
       "      <td>0.0</td>\n",
       "    </tr>\n",
       "    <tr>\n",
       "      <td>20839</td>\n",
       "      <td>Samsung Convoy U640 Phone for Verizon Wireless...</td>\n",
       "      <td>Samsung</td>\n",
       "      <td>79.95</td>\n",
       "      <td>4</td>\n",
       "      <td>Only downside is that apparently Verizon no lo...</td>\n",
       "      <td>0.0</td>\n",
       "    </tr>\n",
       "  </tbody>\n",
       "</table>\n",
       "<p>20835 rows × 6 columns</p>\n",
       "</div>"
      ],
      "text/plain": [
       "                                            Product Name Brand Name   Price  \\\n",
       "0      \"CLEAR CLEAN ESN\" Sprint EPIC 4G Galaxy SPH-D7...    Samsung  199.99   \n",
       "1      \"CLEAR CLEAN ESN\" Sprint EPIC 4G Galaxy SPH-D7...    Samsung  199.99   \n",
       "2      \"CLEAR CLEAN ESN\" Sprint EPIC 4G Galaxy SPH-D7...    Samsung  199.99   \n",
       "3      \"Nokia Asha 302 Unlocked GSM Phone with 3.2MP ...      Nokia  299.00   \n",
       "4      \"Nokia Asha 302 Unlocked GSM Phone with 3.2MP ...      Nokia  299.00   \n",
       "...                                                  ...        ...     ...   \n",
       "20835  Samsung Convoy U640 Phone for Verizon Wireless...    Samsung   79.95   \n",
       "20836  Samsung Convoy U640 Phone for Verizon Wireless...    Samsung   79.95   \n",
       "20837  Samsung Convoy U640 Phone for Verizon Wireless...    Samsung   79.95   \n",
       "20838  Samsung Convoy U640 Phone for Verizon Wireless...    Samsung   79.95   \n",
       "20839  Samsung Convoy U640 Phone for Verizon Wireless...    Samsung   79.95   \n",
       "\n",
       "       Rating                                            Reviews  Review Votes  \n",
       "0           4  It works good but it goes slow sometimes but i...           0.0  \n",
       "1           3  It's battery life is great. It's very responsi...           0.0  \n",
       "2           5                           as described, fast ship!           0.0  \n",
       "3           5  Nokia Asha 302 Unlocked GSM Phone with 3.2MP C...          13.0  \n",
       "4           1         The battery died in less than 24/hours....           0.0  \n",
       "...       ...                                                ...           ...  \n",
       "20835       5                     another great deal great price           0.0  \n",
       "20836       3                                                 Ok           0.0  \n",
       "20837       5        Passes every drop test onto porcelain tile!           0.0  \n",
       "20838       3  I returned it because it did not meet my needs...           0.0  \n",
       "20839       4  Only downside is that apparently Verizon no lo...           0.0  \n",
       "\n",
       "[20835 rows x 6 columns]"
      ]
     },
     "execution_count": 7,
     "metadata": {},
     "output_type": "execute_result"
    }
   ],
   "source": [
    "df"
   ]
  },
  {
   "cell_type": "markdown",
   "metadata": {},
   "source": [
    "### Rating Mapping"
   ]
  },
  {
   "cell_type": "code",
   "execution_count": 8,
   "metadata": {},
   "outputs": [
    {
     "data": {
      "text/plain": [
       "{0: '0', 1: '0', 2: '0', 3: '0', 4: '1', 5: '1'}"
      ]
     },
     "execution_count": 8,
     "metadata": {},
     "output_type": "execute_result"
    }
   ],
   "source": [
    "Review_mapping =  {0: '0',1 : '0', 2 :'0',3 : '0', 4 : '1', 5 : '1'}\n",
    "Review_mapping"
   ]
  },
  {
   "cell_type": "code",
   "execution_count": 9,
   "metadata": {},
   "outputs": [
    {
     "name": "stderr",
     "output_type": "stream",
     "text": [
      "/Users/Moon/opt/anaconda3/lib/python3.7/site-packages/ipykernel_launcher.py:2: SettingWithCopyWarning: \n",
      "A value is trying to be set on a copy of a slice from a DataFrame.\n",
      "Try using .loc[row_indexer,col_indexer] = value instead\n",
      "\n",
      "See the caveats in the documentation: http://pandas.pydata.org/pandas-docs/stable/user_guide/indexing.html#returning-a-view-versus-a-copy\n",
      "  \n"
     ]
    }
   ],
   "source": [
    "Rating = lambda x: Review_mapping.get(x,x)\n",
    "df['Rating']=df.Rating.map(Rating)"
   ]
  },
  {
   "cell_type": "code",
   "execution_count": 10,
   "metadata": {
    "scrolled": true
   },
   "outputs": [
    {
     "data": {
      "text/plain": [
       "array(['1', '0'], dtype=object)"
      ]
     },
     "execution_count": 10,
     "metadata": {},
     "output_type": "execute_result"
    }
   ],
   "source": [
    "df['Rating'].unique()"
   ]
  },
  {
   "cell_type": "markdown",
   "metadata": {},
   "source": [
    "### Text Analysis"
   ]
  },
  {
   "cell_type": "code",
   "execution_count": 11,
   "metadata": {
    "scrolled": true
   },
   "outputs": [
    {
     "data": {
      "text/plain": [
       "Index(['Product Name', 'Brand Name', 'Price', 'Rating', 'Reviews',\n",
       "       'Review Votes'],\n",
       "      dtype='object')"
      ]
     },
     "execution_count": 11,
     "metadata": {},
     "output_type": "execute_result"
    }
   ],
   "source": [
    "df.columns"
   ]
  },
  {
   "cell_type": "code",
   "execution_count": 12,
   "metadata": {},
   "outputs": [
    {
     "name": "stdout",
     "output_type": "stream",
     "text": [
      "0        1\n",
      "1        0\n",
      "2        1\n",
      "3        1\n",
      "4        0\n",
      "        ..\n",
      "20835    1\n",
      "20836    0\n",
      "20837    1\n",
      "20838    0\n",
      "20839    1\n",
      "Name: Rating, Length: 20835, dtype: object\n"
     ]
    }
   ],
   "source": [
    "a = df.iloc[:,3]\n",
    "print(a)"
   ]
  },
  {
   "cell_type": "code",
   "execution_count": 13,
   "metadata": {},
   "outputs": [],
   "source": [
    "b = df.iloc[:,4]"
   ]
  },
  {
   "cell_type": "code",
   "execution_count": 14,
   "metadata": {},
   "outputs": [],
   "source": [
    "doc = pd.concat([a,b], axis = 1)"
   ]
  },
  {
   "cell_type": "code",
   "execution_count": 15,
   "metadata": {},
   "outputs": [],
   "source": [
    "train_docs, test_docs = train_test_split(doc, test_size = 0.3)"
   ]
  },
  {
   "cell_type": "code",
   "execution_count": 16,
   "metadata": {},
   "outputs": [],
   "source": [
    "def review_to_wordlist(review, remove_stopwords = True):\n",
    "\n",
    "    \n",
    "    review_text = re.sub('[^a-zA-Z]',\" \", review)\n",
    "    #review_text에 영어만 넣기 \n",
    "    \n",
    "    words = review_text.lower().split()\n",
    "    #소문자로 바꿔주고 그것들을 분리해준다 \n",
    "    \n",
    "    if remove_stopwords:\n",
    "        stops = set(stopwords.words('english'))\n",
    "        words = [w for w in words if not w in stops]\n",
    "        #stops에 영어의 불용어를 넣어줌 \n",
    "        #words는 소문자로 변환되고 띄어져있는 것이며 \n",
    "        #stops에 있는 불용어를 제외하고 넣어줌 \n",
    "        \n",
    "    b = []\n",
    "    stemmer = english_stemmer\n",
    "    for word in words:\n",
    "        b.append(stemmer.stem(word))\n",
    "        #words에 전처리된것들의 어간들만 추출 \n",
    "        \n",
    "    return(b)\n"
   ]
  },
  {
   "cell_type": "code",
   "execution_count": 17,
   "metadata": {},
   "outputs": [],
   "source": [
    "clean_reviews = []\n",
    "for review in doc['Reviews']:\n",
    "    clean_reviews.append( \" \".join(review_to_wordlist(review)))"
   ]
  },
  {
   "cell_type": "code",
   "execution_count": 18,
   "metadata": {},
   "outputs": [
    {
     "data": {
      "text/plain": [
       "list"
      ]
     },
     "execution_count": 18,
     "metadata": {},
     "output_type": "execute_result"
    }
   ],
   "source": [
    "c = clean_reviews\n",
    "type(c)"
   ]
  },
  {
   "cell_type": "code",
   "execution_count": 19,
   "metadata": {},
   "outputs": [],
   "source": [
    "c = pd.DataFrame(clean_reviews)\n",
    "c.columns = ['Reviews']"
   ]
  },
  {
   "cell_type": "code",
   "execution_count": 20,
   "metadata": {},
   "outputs": [],
   "source": [
    "df = pd.concat([c,doc['Rating']], axis = 1)"
   ]
  },
  {
   "cell_type": "code",
   "execution_count": 21,
   "metadata": {},
   "outputs": [],
   "source": [
    "df = df.dropna()"
   ]
  },
  {
   "cell_type": "code",
   "execution_count": 22,
   "metadata": {},
   "outputs": [
    {
     "data": {
      "text/plain": [
       "Reviews    0\n",
       "Rating     0\n",
       "dtype: int64"
      ]
     },
     "execution_count": 22,
     "metadata": {},
     "output_type": "execute_result"
    }
   ],
   "source": [
    "df.isnull().sum()"
   ]
  },
  {
   "cell_type": "markdown",
   "metadata": {},
   "source": [
    "# ================ 5/1"
   ]
  },
  {
   "cell_type": "markdown",
   "metadata": {},
   "source": [
    "### Tf-Idf"
   ]
  },
  {
   "cell_type": "markdown",
   "metadata": {},
   "source": [
    "from sklearn.feature_extraction.text import TfidfTransformer\n",
    "from sklearn.feature_extraction.text import CountVectorizer\n",
    "from sklearn.pipeline import Pipeline\n",
    "from nltk.corpus import words"
   ]
  },
  {
   "cell_type": "markdown",
   "metadata": {},
   "source": [
    "vectorizer = CountVectorizer(analyzer = 'word', \n",
    "                             lowercase = True,\n",
    "                             tokenizer = None,\n",
    "                             preprocessor = None,\n",
    "                             stop_words = 'english',\n",
    "                             min_df = 2, # 토큰이 나타날 최소 문서 개수로 오타나 자주 나오지 않는 특수한 전문용어 제거에 좋다. \n",
    "                             ngram_range=(1, 3),\n",
    "                             vocabulary = set(words.words()), # nltk의 words를 사용하거나 문서 자체의 사전을 만들거나 선택한다. \n",
    "                             max_features = 20000\n",
    "                            )"
   ]
  },
  {
   "cell_type": "markdown",
   "metadata": {},
   "source": [
    "pipeline = Pipeline([\n",
    "    ('vect', vectorizer),\n",
    "    ('tfidf', TfidfTransformer(smooth_idf = False))\n",
    "])"
   ]
  },
  {
   "cell_type": "markdown",
   "metadata": {},
   "source": [
    "X_train_tf_idf_vector = pipeline.fit_transform(X_train)"
   ]
  },
  {
   "cell_type": "markdown",
   "metadata": {},
   "source": [
    "X_test_tf_idf_vector = pipeline.fit_transform(X_test)"
   ]
  },
  {
   "cell_type": "markdown",
   "metadata": {},
   "source": [
    "### ====================== 사용 x"
   ]
  },
  {
   "cell_type": "code",
   "execution_count": 23,
   "metadata": {},
   "outputs": [],
   "source": [
    "from sklearn.feature_extraction.text import TfidfVectorizer\n",
    "from sklearn.feature_selection import SelectKBest\n",
    "from sklearn.feature_selection import f_classif\n",
    "NGRAM_RANGE = (1,2)\n",
    "TOP_K = 20000\n",
    "TOKEN_MODE = 'word'\n",
    "MIN_DOC_FREQ = 2"
   ]
  },
  {
   "cell_type": "code",
   "execution_count": 24,
   "metadata": {},
   "outputs": [],
   "source": [
    "def ngram_vectorize(texts, labels):\n",
    "    kwargs = {\n",
    "        'ngram_range' : NGRAM_RANGE,\n",
    "        'dtype' : 'int32',\n",
    "        'strip_accents' : 'unicode',\n",
    "        'decode_error' : 'replace',\n",
    "        'analyzer' : TOKEN_MODE,\n",
    "        'min_df' : MIN_DOC_FREQ\n",
    "    }\n",
    "    \n",
    "    tfidf_vectorizer = TfidfVectorizer(**kwargs)\n",
    "    transformed_texts = tfidf_vectorizer.fit_transform(texts)\n",
    "    \n",
    "    selector = SelectKBest(f_classif, k = min(TOP_K, transformed_texts.shape[1]))\n",
    "    selector.fit(transformed_texts, labels)\n",
    "    \n",
    "    transformed_texts = selector.transform(transformed_texts).astype('float32')\n",
    "    return transformed_texts"
   ]
  },
  {
   "cell_type": "code",
   "execution_count": 25,
   "metadata": {
    "scrolled": false
   },
   "outputs": [
    {
     "name": "stderr",
     "output_type": "stream",
     "text": [
      "/Users/Moon/opt/anaconda3/lib/python3.7/site-packages/sklearn/feature_extraction/text.py:1616: UserWarning: Only (<class 'numpy.float64'>, <class 'numpy.float32'>, <class 'numpy.float16'>) 'dtype' should be used. int32 'dtype' will be converted to np.float64.\n",
      "  UserWarning)\n"
     ]
    },
    {
     "data": {
      "text/plain": [
       "<20830x20000 sparse matrix of type '<class 'numpy.float32'>'\n",
       "\twith 260662 stored elements in Compressed Sparse Row format>"
      ]
     },
     "execution_count": 25,
     "metadata": {},
     "output_type": "execute_result"
    }
   ],
   "source": [
    "vect_data = ngram_vectorize(df['Reviews'], df['Rating'])\n",
    "vect_data"
   ]
  },
  {
   "cell_type": "code",
   "execution_count": 26,
   "metadata": {},
   "outputs": [],
   "source": [
    "X = vect_data.toarray()\n",
    "y = (np.array(df['Rating']))\n",
    "\n",
    "X_train, X_test, y_train, y_test = train_test_split(X, y, \n",
    "                                                    test_size=0.2, \n",
    "                                                    random_state=13)"
   ]
  },
  {
   "cell_type": "markdown",
   "metadata": {},
   "source": [
    "### Random Forest"
   ]
  },
  {
   "cell_type": "code",
   "execution_count": 27,
   "metadata": {},
   "outputs": [],
   "source": [
    "from sklearn.ensemble import RandomForestClassifier"
   ]
  },
  {
   "cell_type": "code",
   "execution_count": 28,
   "metadata": {
    "scrolled": true
   },
   "outputs": [
    {
     "data": {
      "text/plain": [
       "RandomForestClassifier(bootstrap=True, class_weight=None, criterion='gini',\n",
       "                       max_depth=None, max_features='auto', max_leaf_nodes=None,\n",
       "                       min_impurity_decrease=0.0, min_impurity_split=None,\n",
       "                       min_samples_leaf=1, min_samples_split=2,\n",
       "                       min_weight_fraction_leaf=0.0, n_estimators=100,\n",
       "                       n_jobs=-1, oob_score=False, random_state=2018, verbose=0,\n",
       "                       warm_start=False)"
      ]
     },
     "execution_count": 28,
     "metadata": {},
     "output_type": "execute_result"
    }
   ],
   "source": [
    "forest = RandomForestClassifier(\n",
    "    n_estimators = 100, n_jobs = -1, random_state=2018)\n",
    "forest"
   ]
  },
  {
   "cell_type": "code",
   "execution_count": 29,
   "metadata": {},
   "outputs": [
    {
     "name": "stdout",
     "output_type": "stream",
     "text": [
      "CPU times: user 26min 44s, sys: 4.65 s, total: 26min 48s\n",
      "Wall time: 7min 31s\n"
     ]
    }
   ],
   "source": [
    "%time forest = forest.fit(X_train, y_train)"
   ]
  },
  {
   "cell_type": "code",
   "execution_count": 30,
   "metadata": {},
   "outputs": [],
   "source": [
    "from sklearn.model_selection import KFold\n",
    "from sklearn.model_selection import cross_val_score"
   ]
  },
  {
   "cell_type": "code",
   "execution_count": 31,
   "metadata": {},
   "outputs": [],
   "source": [
    "k_fold = KFold(n_splits = 5, shuffle = True, random_state = 2018)\n",
    "\n",
    "score = np.mean(cross_val_score(\\\n",
    "                               forest, X_train, \\\n",
    "                               y_train, cv = k_fold, scoring = 'roc_auc', n_jobs = -1))"
   ]
  },
  {
   "cell_type": "code",
   "execution_count": 32,
   "metadata": {
    "scrolled": false
   },
   "outputs": [
    {
     "data": {
      "text/plain": [
       "'0.5613361289299188'"
      ]
     },
     "execution_count": 32,
     "metadata": {},
     "output_type": "execute_result"
    }
   ],
   "source": [
    "format(score)"
   ]
  },
  {
   "cell_type": "code",
   "execution_count": 33,
   "metadata": {},
   "outputs": [],
   "source": [
    "result = forest.predict(X_test)"
   ]
  },
  {
   "cell_type": "code",
   "execution_count": 34,
   "metadata": {},
   "outputs": [
    {
     "data": {
      "text/plain": [
       "array(['0', '0', '1', ..., '1', '0', '1'], dtype=object)"
      ]
     },
     "execution_count": 34,
     "metadata": {},
     "output_type": "execute_result"
    }
   ],
   "source": [
    "y_test"
   ]
  },
  {
   "cell_type": "code",
   "execution_count": 35,
   "metadata": {
    "scrolled": true
   },
   "outputs": [
    {
     "name": "stdout",
     "output_type": "stream",
     "text": [
      "테스트 셋 정확도 : 0.6670667306769084\n"
     ]
    }
   ],
   "source": [
    "a = sum(y_test == result)\n",
    "print(\"테스트 셋 정확도 :\",a / len(y_test))"
   ]
  },
  {
   "cell_type": "markdown",
   "metadata": {},
   "source": [
    "### XGBOOST"
   ]
  },
  {
   "cell_type": "code",
   "execution_count": 36,
   "metadata": {},
   "outputs": [],
   "source": [
    "import xgboost as xgb \n",
    "from xgboost import plot_importance \n",
    "from sklearn.metrics import confusion_matrix, accuracy_score, precision_score, recall_score\n",
    "from sklearn.metrics import confusion_matrix, f1_score, roc_auc_score\n",
    "from xgboost import XGBClassifier"
   ]
  },
  {
   "cell_type": "code",
   "execution_count": 37,
   "metadata": {},
   "outputs": [],
   "source": [
    "dtrain = xgb.DMatrix(data = X_train, label = y_train)\n",
    "dtest = xgb.DMatrix(data= X_test, label = y_test)\n",
    "\n",
    "#numpy형태의 학습 데이터셋과 테스트 데이터셋을 DMatirx로 변환"
   ]
  },
  {
   "cell_type": "code",
   "execution_count": 38,
   "metadata": {},
   "outputs": [],
   "source": [
    "params = {'max_depth' : 3,\n",
    "          'eta' : 0.1,\n",
    "          'objective' : 'binary:logistic',\n",
    "          'eval_metric' : 'logloss',\n",
    "          'early_stoppings' : 100}\n",
    "\n",
    "num_rounds = 400\n",
    "#eta : 학습률 \n",
    "#손실함수 평가지표 : logloss"
   ]
  },
  {
   "cell_type": "code",
   "execution_count": 39,
   "metadata": {
    "scrolled": true
   },
   "outputs": [
    {
     "name": "stdout",
     "output_type": "stream",
     "text": [
      "[17:22:31] WARNING: /Users/travis/build/dmlc/xgboost/src/learner.cc:480: \n",
      "Parameters: { early_stoppings } might not be used.\n",
      "\n",
      "  This may not be accurate due to some parameters are only used in language bindings but\n",
      "  passed down to XGBoost core.  Or some parameters are not used but slip through this\n",
      "  verification. Please open an issue if you find above cases.\n",
      "\n",
      "\n",
      "[0]\ttrain-logloss:0.67880\teval-logloss:0.67895\n",
      "[1]\ttrain-logloss:0.66713\teval-logloss:0.66722\n",
      "[2]\ttrain-logloss:0.65761\teval-logloss:0.65786\n",
      "[3]\ttrain-logloss:0.64980\teval-logloss:0.65019\n",
      "[4]\ttrain-logloss:0.64333\teval-logloss:0.64372\n",
      "[5]\ttrain-logloss:0.63798\teval-logloss:0.63861\n",
      "[6]\ttrain-logloss:0.63353\teval-logloss:0.63449\n",
      "[7]\ttrain-logloss:0.62983\teval-logloss:0.63089\n",
      "[8]\ttrain-logloss:0.62679\teval-logloss:0.62805\n",
      "[9]\ttrain-logloss:0.62422\teval-logloss:0.62550\n",
      "[10]\ttrain-logloss:0.62211\teval-logloss:0.62363\n",
      "[11]\ttrain-logloss:0.62031\teval-logloss:0.62213\n",
      "[12]\ttrain-logloss:0.61880\teval-logloss:0.62091\n",
      "[13]\ttrain-logloss:0.61745\teval-logloss:0.61974\n",
      "[14]\ttrain-logloss:0.61634\teval-logloss:0.61877\n",
      "[15]\ttrain-logloss:0.61542\teval-logloss:0.61795\n",
      "[16]\ttrain-logloss:0.61458\teval-logloss:0.61749\n",
      "[17]\ttrain-logloss:0.61385\teval-logloss:0.61707\n",
      "[18]\ttrain-logloss:0.61321\teval-logloss:0.61667\n",
      "[19]\ttrain-logloss:0.61268\teval-logloss:0.61629\n",
      "[20]\ttrain-logloss:0.61224\teval-logloss:0.61592\n",
      "[21]\ttrain-logloss:0.61176\teval-logloss:0.61569\n",
      "[22]\ttrain-logloss:0.61133\teval-logloss:0.61539\n",
      "[23]\ttrain-logloss:0.61096\teval-logloss:0.61520\n",
      "[24]\ttrain-logloss:0.61057\teval-logloss:0.61507\n",
      "[25]\ttrain-logloss:0.61018\teval-logloss:0.61491\n",
      "[26]\ttrain-logloss:0.60987\teval-logloss:0.61486\n",
      "[27]\ttrain-logloss:0.60952\teval-logloss:0.61496\n",
      "[28]\ttrain-logloss:0.60924\teval-logloss:0.61487\n",
      "[29]\ttrain-logloss:0.60901\teval-logloss:0.61482\n",
      "[30]\ttrain-logloss:0.60879\teval-logloss:0.61484\n",
      "[31]\ttrain-logloss:0.60858\teval-logloss:0.61478\n",
      "[32]\ttrain-logloss:0.60834\teval-logloss:0.61478\n",
      "[33]\ttrain-logloss:0.60811\teval-logloss:0.61479\n",
      "[34]\ttrain-logloss:0.60784\teval-logloss:0.61463\n",
      "[35]\ttrain-logloss:0.60757\teval-logloss:0.61446\n",
      "[36]\ttrain-logloss:0.60734\teval-logloss:0.61447\n",
      "[37]\ttrain-logloss:0.60715\teval-logloss:0.61455\n",
      "[38]\ttrain-logloss:0.60686\teval-logloss:0.61442\n",
      "[39]\ttrain-logloss:0.60660\teval-logloss:0.61441\n",
      "[40]\ttrain-logloss:0.60642\teval-logloss:0.61435\n",
      "[41]\ttrain-logloss:0.60620\teval-logloss:0.61428\n",
      "[42]\ttrain-logloss:0.60604\teval-logloss:0.61429\n",
      "[43]\ttrain-logloss:0.60583\teval-logloss:0.61421\n",
      "[44]\ttrain-logloss:0.60563\teval-logloss:0.61421\n",
      "[45]\ttrain-logloss:0.60543\teval-logloss:0.61421\n",
      "[46]\ttrain-logloss:0.60528\teval-logloss:0.61414\n",
      "[47]\ttrain-logloss:0.60509\teval-logloss:0.61416\n",
      "[48]\ttrain-logloss:0.60489\teval-logloss:0.61415\n",
      "[49]\ttrain-logloss:0.60475\teval-logloss:0.61416\n",
      "[50]\ttrain-logloss:0.60456\teval-logloss:0.61414\n",
      "[51]\ttrain-logloss:0.60440\teval-logloss:0.61415\n",
      "[52]\ttrain-logloss:0.60421\teval-logloss:0.61411\n",
      "[53]\ttrain-logloss:0.60402\teval-logloss:0.61411\n",
      "[54]\ttrain-logloss:0.60381\teval-logloss:0.61423\n",
      "[55]\ttrain-logloss:0.60362\teval-logloss:0.61418\n",
      "[56]\ttrain-logloss:0.60348\teval-logloss:0.61428\n",
      "[57]\ttrain-logloss:0.60332\teval-logloss:0.61432\n",
      "[58]\ttrain-logloss:0.60320\teval-logloss:0.61437\n",
      "[59]\ttrain-logloss:0.60305\teval-logloss:0.61439\n",
      "[60]\ttrain-logloss:0.60282\teval-logloss:0.61441\n",
      "[61]\ttrain-logloss:0.60266\teval-logloss:0.61446\n",
      "[62]\ttrain-logloss:0.60240\teval-logloss:0.61451\n",
      "[63]\ttrain-logloss:0.60225\teval-logloss:0.61438\n",
      "[64]\ttrain-logloss:0.60207\teval-logloss:0.61449\n",
      "[65]\ttrain-logloss:0.60189\teval-logloss:0.61465\n",
      "[66]\ttrain-logloss:0.60176\teval-logloss:0.61467\n",
      "[67]\ttrain-logloss:0.60158\teval-logloss:0.61474\n",
      "[68]\ttrain-logloss:0.60137\teval-logloss:0.61471\n",
      "[69]\ttrain-logloss:0.60121\teval-logloss:0.61471\n",
      "[70]\ttrain-logloss:0.60108\teval-logloss:0.61465\n",
      "[71]\ttrain-logloss:0.60085\teval-logloss:0.61460\n",
      "[72]\ttrain-logloss:0.60070\teval-logloss:0.61455\n",
      "[73]\ttrain-logloss:0.60055\teval-logloss:0.61465\n",
      "[74]\ttrain-logloss:0.60041\teval-logloss:0.61473\n",
      "[75]\ttrain-logloss:0.60024\teval-logloss:0.61472\n",
      "[76]\ttrain-logloss:0.60011\teval-logloss:0.61474\n",
      "[77]\ttrain-logloss:0.59998\teval-logloss:0.61476\n",
      "[78]\ttrain-logloss:0.59979\teval-logloss:0.61480\n",
      "[79]\ttrain-logloss:0.59968\teval-logloss:0.61475\n",
      "[80]\ttrain-logloss:0.59945\teval-logloss:0.61470\n",
      "[81]\ttrain-logloss:0.59934\teval-logloss:0.61468\n",
      "[82]\ttrain-logloss:0.59918\teval-logloss:0.61475\n",
      "[83]\ttrain-logloss:0.59899\teval-logloss:0.61485\n",
      "[84]\ttrain-logloss:0.59886\teval-logloss:0.61480\n",
      "[85]\ttrain-logloss:0.59873\teval-logloss:0.61481\n",
      "[86]\ttrain-logloss:0.59859\teval-logloss:0.61482\n",
      "[87]\ttrain-logloss:0.59844\teval-logloss:0.61485\n",
      "[88]\ttrain-logloss:0.59833\teval-logloss:0.61489\n",
      "[89]\ttrain-logloss:0.59822\teval-logloss:0.61489\n",
      "[90]\ttrain-logloss:0.59808\teval-logloss:0.61491\n",
      "[91]\ttrain-logloss:0.59789\teval-logloss:0.61481\n",
      "[92]\ttrain-logloss:0.59776\teval-logloss:0.61476\n",
      "[93]\ttrain-logloss:0.59763\teval-logloss:0.61469\n",
      "[94]\ttrain-logloss:0.59752\teval-logloss:0.61470\n",
      "[95]\ttrain-logloss:0.59740\teval-logloss:0.61475\n",
      "[96]\ttrain-logloss:0.59729\teval-logloss:0.61475\n",
      "[97]\ttrain-logloss:0.59716\teval-logloss:0.61469\n",
      "[98]\ttrain-logloss:0.59703\teval-logloss:0.61459\n",
      "[99]\ttrain-logloss:0.59684\teval-logloss:0.61472\n",
      "[100]\ttrain-logloss:0.59665\teval-logloss:0.61473\n",
      "[101]\ttrain-logloss:0.59655\teval-logloss:0.61476\n",
      "[102]\ttrain-logloss:0.59642\teval-logloss:0.61486\n",
      "[103]\ttrain-logloss:0.59630\teval-logloss:0.61484\n",
      "[104]\ttrain-logloss:0.59616\teval-logloss:0.61486\n",
      "[105]\ttrain-logloss:0.59602\teval-logloss:0.61482\n",
      "[106]\ttrain-logloss:0.59588\teval-logloss:0.61479\n",
      "[107]\ttrain-logloss:0.59572\teval-logloss:0.61476\n",
      "[108]\ttrain-logloss:0.59557\teval-logloss:0.61477\n",
      "[109]\ttrain-logloss:0.59545\teval-logloss:0.61482\n",
      "[110]\ttrain-logloss:0.59533\teval-logloss:0.61485\n",
      "[111]\ttrain-logloss:0.59523\teval-logloss:0.61489\n",
      "[112]\ttrain-logloss:0.59510\teval-logloss:0.61489\n",
      "[113]\ttrain-logloss:0.59497\teval-logloss:0.61490\n",
      "[114]\ttrain-logloss:0.59486\teval-logloss:0.61491\n",
      "[115]\ttrain-logloss:0.59475\teval-logloss:0.61496\n",
      "[116]\ttrain-logloss:0.59463\teval-logloss:0.61493\n",
      "[117]\ttrain-logloss:0.59453\teval-logloss:0.61499\n",
      "[118]\ttrain-logloss:0.59441\teval-logloss:0.61500\n",
      "[119]\ttrain-logloss:0.59424\teval-logloss:0.61496\n",
      "[120]\ttrain-logloss:0.59415\teval-logloss:0.61497\n",
      "[121]\ttrain-logloss:0.59399\teval-logloss:0.61503\n",
      "[122]\ttrain-logloss:0.59387\teval-logloss:0.61508\n",
      "[123]\ttrain-logloss:0.59369\teval-logloss:0.61505\n",
      "[124]\ttrain-logloss:0.59355\teval-logloss:0.61506\n",
      "[125]\ttrain-logloss:0.59343\teval-logloss:0.61509\n",
      "[126]\ttrain-logloss:0.59330\teval-logloss:0.61503\n",
      "[127]\ttrain-logloss:0.59319\teval-logloss:0.61506\n",
      "[128]\ttrain-logloss:0.59303\teval-logloss:0.61503\n",
      "[129]\ttrain-logloss:0.59293\teval-logloss:0.61502\n",
      "[130]\ttrain-logloss:0.59282\teval-logloss:0.61501\n",
      "[131]\ttrain-logloss:0.59274\teval-logloss:0.61506\n",
      "[132]\ttrain-logloss:0.59261\teval-logloss:0.61513\n",
      "[133]\ttrain-logloss:0.59248\teval-logloss:0.61514\n",
      "[134]\ttrain-logloss:0.59237\teval-logloss:0.61510\n",
      "[135]\ttrain-logloss:0.59223\teval-logloss:0.61510\n",
      "[136]\ttrain-logloss:0.59209\teval-logloss:0.61518\n",
      "[137]\ttrain-logloss:0.59197\teval-logloss:0.61524\n",
      "[138]\ttrain-logloss:0.59186\teval-logloss:0.61523\n",
      "[139]\ttrain-logloss:0.59172\teval-logloss:0.61524\n",
      "[140]\ttrain-logloss:0.59159\teval-logloss:0.61527\n",
      "[141]\ttrain-logloss:0.59146\teval-logloss:0.61521\n",
      "[142]\ttrain-logloss:0.59134\teval-logloss:0.61521\n",
      "[143]\ttrain-logloss:0.59125\teval-logloss:0.61521\n",
      "[144]\ttrain-logloss:0.59114\teval-logloss:0.61520\n",
      "[145]\ttrain-logloss:0.59105\teval-logloss:0.61520\n",
      "[146]\ttrain-logloss:0.59093\teval-logloss:0.61523\n",
      "[147]\ttrain-logloss:0.59082\teval-logloss:0.61520\n",
      "[148]\ttrain-logloss:0.59070\teval-logloss:0.61522\n",
      "[149]\ttrain-logloss:0.59060\teval-logloss:0.61526\n",
      "[150]\ttrain-logloss:0.59050\teval-logloss:0.61517\n",
      "[151]\ttrain-logloss:0.59040\teval-logloss:0.61515\n",
      "[152]\ttrain-logloss:0.59029\teval-logloss:0.61521\n",
      "[153]\ttrain-logloss:0.59017\teval-logloss:0.61521\n",
      "[154]\ttrain-logloss:0.58998\teval-logloss:0.61533\n",
      "[155]\ttrain-logloss:0.58989\teval-logloss:0.61534\n",
      "[156]\ttrain-logloss:0.58980\teval-logloss:0.61533\n",
      "[157]\ttrain-logloss:0.58969\teval-logloss:0.61534\n",
      "[158]\ttrain-logloss:0.58958\teval-logloss:0.61530\n",
      "[159]\ttrain-logloss:0.58947\teval-logloss:0.61528\n",
      "[160]\ttrain-logloss:0.58934\teval-logloss:0.61532\n",
      "[161]\ttrain-logloss:0.58922\teval-logloss:0.61539\n"
     ]
    },
    {
     "name": "stdout",
     "output_type": "stream",
     "text": [
      "[162]\ttrain-logloss:0.58912\teval-logloss:0.61540\n",
      "[163]\ttrain-logloss:0.58900\teval-logloss:0.61540\n",
      "[164]\ttrain-logloss:0.58888\teval-logloss:0.61534\n",
      "[165]\ttrain-logloss:0.58879\teval-logloss:0.61534\n",
      "[166]\ttrain-logloss:0.58866\teval-logloss:0.61536\n",
      "[167]\ttrain-logloss:0.58857\teval-logloss:0.61535\n",
      "[168]\ttrain-logloss:0.58848\teval-logloss:0.61538\n",
      "[169]\ttrain-logloss:0.58835\teval-logloss:0.61534\n",
      "[170]\ttrain-logloss:0.58827\teval-logloss:0.61528\n",
      "[171]\ttrain-logloss:0.58815\teval-logloss:0.61522\n",
      "[172]\ttrain-logloss:0.58803\teval-logloss:0.61519\n",
      "[173]\ttrain-logloss:0.58794\teval-logloss:0.61517\n",
      "[174]\ttrain-logloss:0.58784\teval-logloss:0.61516\n",
      "[175]\ttrain-logloss:0.58775\teval-logloss:0.61524\n",
      "[176]\ttrain-logloss:0.58759\teval-logloss:0.61518\n",
      "[177]\ttrain-logloss:0.58748\teval-logloss:0.61520\n",
      "[178]\ttrain-logloss:0.58734\teval-logloss:0.61526\n",
      "[179]\ttrain-logloss:0.58725\teval-logloss:0.61523\n",
      "[180]\ttrain-logloss:0.58710\teval-logloss:0.61535\n",
      "[181]\ttrain-logloss:0.58697\teval-logloss:0.61541\n",
      "[182]\ttrain-logloss:0.58686\teval-logloss:0.61544\n",
      "[183]\ttrain-logloss:0.58674\teval-logloss:0.61538\n",
      "[184]\ttrain-logloss:0.58664\teval-logloss:0.61538\n",
      "[185]\ttrain-logloss:0.58654\teval-logloss:0.61540\n",
      "[186]\ttrain-logloss:0.58643\teval-logloss:0.61538\n",
      "[187]\ttrain-logloss:0.58634\teval-logloss:0.61537\n",
      "[188]\ttrain-logloss:0.58624\teval-logloss:0.61536\n",
      "[189]\ttrain-logloss:0.58612\teval-logloss:0.61541\n",
      "[190]\ttrain-logloss:0.58598\teval-logloss:0.61535\n",
      "[191]\ttrain-logloss:0.58589\teval-logloss:0.61538\n",
      "[192]\ttrain-logloss:0.58581\teval-logloss:0.61538\n",
      "[193]\ttrain-logloss:0.58569\teval-logloss:0.61536\n",
      "[194]\ttrain-logloss:0.58560\teval-logloss:0.61537\n",
      "[195]\ttrain-logloss:0.58546\teval-logloss:0.61536\n",
      "[196]\ttrain-logloss:0.58536\teval-logloss:0.61542\n",
      "[197]\ttrain-logloss:0.58521\teval-logloss:0.61546\n",
      "[198]\ttrain-logloss:0.58508\teval-logloss:0.61545\n",
      "[199]\ttrain-logloss:0.58498\teval-logloss:0.61547\n",
      "[200]\ttrain-logloss:0.58489\teval-logloss:0.61541\n",
      "[201]\ttrain-logloss:0.58475\teval-logloss:0.61543\n",
      "[202]\ttrain-logloss:0.58466\teval-logloss:0.61547\n",
      "[203]\ttrain-logloss:0.58455\teval-logloss:0.61546\n",
      "[204]\ttrain-logloss:0.58447\teval-logloss:0.61549\n",
      "[205]\ttrain-logloss:0.58437\teval-logloss:0.61552\n",
      "[206]\ttrain-logloss:0.58429\teval-logloss:0.61553\n",
      "[207]\ttrain-logloss:0.58421\teval-logloss:0.61550\n",
      "[208]\ttrain-logloss:0.58412\teval-logloss:0.61550\n",
      "[209]\ttrain-logloss:0.58404\teval-logloss:0.61551\n",
      "[210]\ttrain-logloss:0.58393\teval-logloss:0.61551\n",
      "[211]\ttrain-logloss:0.58379\teval-logloss:0.61562\n",
      "[212]\ttrain-logloss:0.58362\teval-logloss:0.61563\n",
      "[213]\ttrain-logloss:0.58350\teval-logloss:0.61567\n",
      "[214]\ttrain-logloss:0.58342\teval-logloss:0.61568\n",
      "[215]\ttrain-logloss:0.58334\teval-logloss:0.61569\n",
      "[216]\ttrain-logloss:0.58321\teval-logloss:0.61573\n",
      "[217]\ttrain-logloss:0.58309\teval-logloss:0.61584\n",
      "[218]\ttrain-logloss:0.58294\teval-logloss:0.61576\n",
      "[219]\ttrain-logloss:0.58287\teval-logloss:0.61575\n",
      "[220]\ttrain-logloss:0.58275\teval-logloss:0.61574\n",
      "[221]\ttrain-logloss:0.58264\teval-logloss:0.61564\n",
      "[222]\ttrain-logloss:0.58256\teval-logloss:0.61562\n",
      "[223]\ttrain-logloss:0.58248\teval-logloss:0.61563\n",
      "[224]\ttrain-logloss:0.58239\teval-logloss:0.61569\n",
      "[225]\ttrain-logloss:0.58230\teval-logloss:0.61566\n",
      "[226]\ttrain-logloss:0.58220\teval-logloss:0.61567\n",
      "[227]\ttrain-logloss:0.58213\teval-logloss:0.61564\n",
      "[228]\ttrain-logloss:0.58193\teval-logloss:0.61560\n",
      "[229]\ttrain-logloss:0.58183\teval-logloss:0.61565\n",
      "[230]\ttrain-logloss:0.58174\teval-logloss:0.61560\n",
      "[231]\ttrain-logloss:0.58165\teval-logloss:0.61567\n",
      "[232]\ttrain-logloss:0.58152\teval-logloss:0.61565\n",
      "[233]\ttrain-logloss:0.58144\teval-logloss:0.61568\n",
      "[234]\ttrain-logloss:0.58133\teval-logloss:0.61569\n",
      "[235]\ttrain-logloss:0.58127\teval-logloss:0.61570\n",
      "[236]\ttrain-logloss:0.58115\teval-logloss:0.61578\n",
      "[237]\ttrain-logloss:0.58106\teval-logloss:0.61581\n",
      "[238]\ttrain-logloss:0.58093\teval-logloss:0.61574\n",
      "[239]\ttrain-logloss:0.58085\teval-logloss:0.61574\n",
      "[240]\ttrain-logloss:0.58072\teval-logloss:0.61576\n",
      "[241]\ttrain-logloss:0.58064\teval-logloss:0.61574\n",
      "[242]\ttrain-logloss:0.58055\teval-logloss:0.61571\n",
      "[243]\ttrain-logloss:0.58042\teval-logloss:0.61586\n",
      "[244]\ttrain-logloss:0.58031\teval-logloss:0.61587\n",
      "[245]\ttrain-logloss:0.58017\teval-logloss:0.61597\n",
      "[246]\ttrain-logloss:0.58005\teval-logloss:0.61596\n",
      "[247]\ttrain-logloss:0.57994\teval-logloss:0.61599\n",
      "[248]\ttrain-logloss:0.57983\teval-logloss:0.61606\n",
      "[249]\ttrain-logloss:0.57974\teval-logloss:0.61615\n",
      "[250]\ttrain-logloss:0.57962\teval-logloss:0.61620\n",
      "[251]\ttrain-logloss:0.57953\teval-logloss:0.61616\n",
      "[252]\ttrain-logloss:0.57946\teval-logloss:0.61617\n",
      "[253]\ttrain-logloss:0.57935\teval-logloss:0.61609\n",
      "[254]\ttrain-logloss:0.57924\teval-logloss:0.61614\n",
      "[255]\ttrain-logloss:0.57914\teval-logloss:0.61613\n",
      "[256]\ttrain-logloss:0.57905\teval-logloss:0.61614\n",
      "[257]\ttrain-logloss:0.57896\teval-logloss:0.61612\n",
      "[258]\ttrain-logloss:0.57888\teval-logloss:0.61617\n",
      "[259]\ttrain-logloss:0.57877\teval-logloss:0.61617\n",
      "[260]\ttrain-logloss:0.57866\teval-logloss:0.61616\n",
      "[261]\ttrain-logloss:0.57856\teval-logloss:0.61615\n",
      "[262]\ttrain-logloss:0.57840\teval-logloss:0.61625\n",
      "[263]\ttrain-logloss:0.57832\teval-logloss:0.61630\n",
      "[264]\ttrain-logloss:0.57825\teval-logloss:0.61629\n",
      "[265]\ttrain-logloss:0.57814\teval-logloss:0.61639\n",
      "[266]\ttrain-logloss:0.57803\teval-logloss:0.61631\n",
      "[267]\ttrain-logloss:0.57790\teval-logloss:0.61634\n",
      "[268]\ttrain-logloss:0.57780\teval-logloss:0.61629\n",
      "[269]\ttrain-logloss:0.57768\teval-logloss:0.61625\n",
      "[270]\ttrain-logloss:0.57761\teval-logloss:0.61626\n",
      "[271]\ttrain-logloss:0.57752\teval-logloss:0.61628\n",
      "[272]\ttrain-logloss:0.57740\teval-logloss:0.61629\n",
      "[273]\ttrain-logloss:0.57732\teval-logloss:0.61629\n",
      "[274]\ttrain-logloss:0.57724\teval-logloss:0.61624\n",
      "[275]\ttrain-logloss:0.57716\teval-logloss:0.61628\n",
      "[276]\ttrain-logloss:0.57703\teval-logloss:0.61625\n",
      "[277]\ttrain-logloss:0.57695\teval-logloss:0.61630\n",
      "[278]\ttrain-logloss:0.57682\teval-logloss:0.61641\n",
      "[279]\ttrain-logloss:0.57675\teval-logloss:0.61643\n",
      "[280]\ttrain-logloss:0.57665\teval-logloss:0.61641\n",
      "[281]\ttrain-logloss:0.57658\teval-logloss:0.61642\n",
      "[282]\ttrain-logloss:0.57651\teval-logloss:0.61647\n",
      "[283]\ttrain-logloss:0.57642\teval-logloss:0.61651\n",
      "[284]\ttrain-logloss:0.57630\teval-logloss:0.61654\n",
      "[285]\ttrain-logloss:0.57621\teval-logloss:0.61651\n",
      "[286]\ttrain-logloss:0.57613\teval-logloss:0.61655\n",
      "[287]\ttrain-logloss:0.57603\teval-logloss:0.61647\n",
      "[288]\ttrain-logloss:0.57586\teval-logloss:0.61646\n",
      "[289]\ttrain-logloss:0.57578\teval-logloss:0.61648\n",
      "[290]\ttrain-logloss:0.57569\teval-logloss:0.61654\n",
      "[291]\ttrain-logloss:0.57562\teval-logloss:0.61657\n",
      "[292]\ttrain-logloss:0.57550\teval-logloss:0.61655\n",
      "[293]\ttrain-logloss:0.57542\teval-logloss:0.61662\n",
      "[294]\ttrain-logloss:0.57514\teval-logloss:0.61657\n",
      "[295]\ttrain-logloss:0.57503\teval-logloss:0.61652\n",
      "[296]\ttrain-logloss:0.57496\teval-logloss:0.61658\n",
      "[297]\ttrain-logloss:0.57489\teval-logloss:0.61656\n",
      "[298]\ttrain-logloss:0.57482\teval-logloss:0.61658\n",
      "[299]\ttrain-logloss:0.57474\teval-logloss:0.61659\n",
      "[300]\ttrain-logloss:0.57466\teval-logloss:0.61665\n",
      "[301]\ttrain-logloss:0.57458\teval-logloss:0.61665\n",
      "[302]\ttrain-logloss:0.57449\teval-logloss:0.61675\n",
      "[303]\ttrain-logloss:0.57438\teval-logloss:0.61681\n",
      "[304]\ttrain-logloss:0.57429\teval-logloss:0.61681\n",
      "[305]\ttrain-logloss:0.57422\teval-logloss:0.61679\n",
      "[306]\ttrain-logloss:0.57415\teval-logloss:0.61678\n",
      "[307]\ttrain-logloss:0.57407\teval-logloss:0.61683\n",
      "[308]\ttrain-logloss:0.57396\teval-logloss:0.61677\n",
      "[309]\ttrain-logloss:0.57385\teval-logloss:0.61672\n",
      "[310]\ttrain-logloss:0.57376\teval-logloss:0.61672\n",
      "[311]\ttrain-logloss:0.57369\teval-logloss:0.61675\n",
      "[312]\ttrain-logloss:0.57359\teval-logloss:0.61668\n",
      "[313]\ttrain-logloss:0.57347\teval-logloss:0.61673\n",
      "[314]\ttrain-logloss:0.57336\teval-logloss:0.61665\n",
      "[315]\ttrain-logloss:0.57330\teval-logloss:0.61668\n",
      "[316]\ttrain-logloss:0.57321\teval-logloss:0.61672\n",
      "[317]\ttrain-logloss:0.57314\teval-logloss:0.61677\n",
      "[318]\ttrain-logloss:0.57301\teval-logloss:0.61674\n",
      "[319]\ttrain-logloss:0.57291\teval-logloss:0.61674\n",
      "[320]\ttrain-logloss:0.57281\teval-logloss:0.61675\n",
      "[321]\ttrain-logloss:0.57273\teval-logloss:0.61676\n",
      "[322]\ttrain-logloss:0.57266\teval-logloss:0.61682\n",
      "[323]\ttrain-logloss:0.57257\teval-logloss:0.61685\n",
      "[324]\ttrain-logloss:0.57249\teval-logloss:0.61686\n",
      "[325]\ttrain-logloss:0.57242\teval-logloss:0.61689\n",
      "[326]\ttrain-logloss:0.57235\teval-logloss:0.61687\n",
      "[327]\ttrain-logloss:0.57228\teval-logloss:0.61691\n",
      "[328]\ttrain-logloss:0.57221\teval-logloss:0.61696\n",
      "[329]\ttrain-logloss:0.57211\teval-logloss:0.61697\n"
     ]
    },
    {
     "name": "stdout",
     "output_type": "stream",
     "text": [
      "[330]\ttrain-logloss:0.57200\teval-logloss:0.61693\n",
      "[331]\ttrain-logloss:0.57190\teval-logloss:0.61693\n",
      "[332]\ttrain-logloss:0.57184\teval-logloss:0.61691\n",
      "[333]\ttrain-logloss:0.57177\teval-logloss:0.61690\n",
      "[334]\ttrain-logloss:0.57169\teval-logloss:0.61694\n",
      "[335]\ttrain-logloss:0.57162\teval-logloss:0.61693\n",
      "[336]\ttrain-logloss:0.57154\teval-logloss:0.61699\n",
      "[337]\ttrain-logloss:0.57144\teval-logloss:0.61697\n",
      "[338]\ttrain-logloss:0.57137\teval-logloss:0.61689\n",
      "[339]\ttrain-logloss:0.57130\teval-logloss:0.61691\n",
      "[340]\ttrain-logloss:0.57123\teval-logloss:0.61694\n",
      "[341]\ttrain-logloss:0.57116\teval-logloss:0.61695\n",
      "[342]\ttrain-logloss:0.57110\teval-logloss:0.61699\n",
      "[343]\ttrain-logloss:0.57102\teval-logloss:0.61698\n",
      "[344]\ttrain-logloss:0.57093\teval-logloss:0.61703\n",
      "[345]\ttrain-logloss:0.57085\teval-logloss:0.61703\n",
      "[346]\ttrain-logloss:0.57073\teval-logloss:0.61702\n",
      "[347]\ttrain-logloss:0.57066\teval-logloss:0.61706\n",
      "[348]\ttrain-logloss:0.57060\teval-logloss:0.61702\n",
      "[349]\ttrain-logloss:0.57043\teval-logloss:0.61694\n",
      "[350]\ttrain-logloss:0.57034\teval-logloss:0.61691\n",
      "[351]\ttrain-logloss:0.57025\teval-logloss:0.61689\n",
      "[352]\ttrain-logloss:0.57014\teval-logloss:0.61690\n",
      "[353]\ttrain-logloss:0.57005\teval-logloss:0.61691\n",
      "[354]\ttrain-logloss:0.56998\teval-logloss:0.61692\n",
      "[355]\ttrain-logloss:0.56988\teval-logloss:0.61684\n",
      "[356]\ttrain-logloss:0.56981\teval-logloss:0.61687\n",
      "[357]\ttrain-logloss:0.56974\teval-logloss:0.61682\n",
      "[358]\ttrain-logloss:0.56967\teval-logloss:0.61680\n",
      "[359]\ttrain-logloss:0.56961\teval-logloss:0.61683\n",
      "[360]\ttrain-logloss:0.56955\teval-logloss:0.61684\n",
      "[361]\ttrain-logloss:0.56946\teval-logloss:0.61681\n",
      "[362]\ttrain-logloss:0.56939\teval-logloss:0.61682\n",
      "[363]\ttrain-logloss:0.56930\teval-logloss:0.61681\n",
      "[364]\ttrain-logloss:0.56922\teval-logloss:0.61683\n",
      "[365]\ttrain-logloss:0.56912\teval-logloss:0.61688\n",
      "[366]\ttrain-logloss:0.56901\teval-logloss:0.61690\n",
      "[367]\ttrain-logloss:0.56893\teval-logloss:0.61689\n",
      "[368]\ttrain-logloss:0.56887\teval-logloss:0.61687\n",
      "[369]\ttrain-logloss:0.56881\teval-logloss:0.61689\n",
      "[370]\ttrain-logloss:0.56871\teval-logloss:0.61691\n",
      "[371]\ttrain-logloss:0.56859\teval-logloss:0.61683\n",
      "[372]\ttrain-logloss:0.56849\teval-logloss:0.61692\n",
      "[373]\ttrain-logloss:0.56843\teval-logloss:0.61696\n",
      "[374]\ttrain-logloss:0.56836\teval-logloss:0.61695\n",
      "[375]\ttrain-logloss:0.56829\teval-logloss:0.61694\n",
      "[376]\ttrain-logloss:0.56821\teval-logloss:0.61696\n",
      "[377]\ttrain-logloss:0.56812\teval-logloss:0.61692\n",
      "[378]\ttrain-logloss:0.56802\teval-logloss:0.61694\n",
      "[379]\ttrain-logloss:0.56795\teval-logloss:0.61696\n",
      "[380]\ttrain-logloss:0.56789\teval-logloss:0.61698\n",
      "[381]\ttrain-logloss:0.56781\teval-logloss:0.61700\n",
      "[382]\ttrain-logloss:0.56770\teval-logloss:0.61697\n",
      "[383]\ttrain-logloss:0.56762\teval-logloss:0.61697\n",
      "[384]\ttrain-logloss:0.56755\teval-logloss:0.61694\n",
      "[385]\ttrain-logloss:0.56749\teval-logloss:0.61692\n",
      "[386]\ttrain-logloss:0.56741\teval-logloss:0.61697\n",
      "[387]\ttrain-logloss:0.56733\teval-logloss:0.61695\n",
      "[388]\ttrain-logloss:0.56723\teval-logloss:0.61696\n",
      "[389]\ttrain-logloss:0.56715\teval-logloss:0.61691\n",
      "[390]\ttrain-logloss:0.56707\teval-logloss:0.61688\n",
      "[391]\ttrain-logloss:0.56698\teval-logloss:0.61687\n",
      "[392]\ttrain-logloss:0.56691\teval-logloss:0.61686\n",
      "[393]\ttrain-logloss:0.56684\teval-logloss:0.61683\n",
      "[394]\ttrain-logloss:0.56677\teval-logloss:0.61689\n",
      "[395]\ttrain-logloss:0.56668\teval-logloss:0.61697\n",
      "[396]\ttrain-logloss:0.56662\teval-logloss:0.61704\n",
      "[397]\ttrain-logloss:0.56656\teval-logloss:0.61703\n",
      "[398]\ttrain-logloss:0.56649\teval-logloss:0.61707\n",
      "[399]\ttrain-logloss:0.56640\teval-logloss:0.61703\n"
     ]
    }
   ],
   "source": [
    "wlist = [(dtrain, 'train'), (dtest, 'eval')]\n",
    "%time xgb_model = xgb.train(params = params, \n",
    "                      dtrain = dtrain, \n",
    "                      num_boost_round = num_rounds,\n",
    "                      evals = wlist)\n",
    "#돌아가는것을 확인 "
   ]
  },
  {
   "cell_type": "code",
   "execution_count": 40,
   "metadata": {},
   "outputs": [
    {
     "name": "stdout",
     "output_type": "stream",
     "text": [
      "predict() 수행 결과값을 10개만 표시, 예측 확률 값으로 표시됨\n",
      "[0.686 0.692 0.699 0.699 0.717 0.699 0.697 0.679 0.73  0.679]\n"
     ]
    }
   ],
   "source": [
    "pred_probs = xgb_model.predict(dtest)\n",
    "#예측값을 확률로 출력 \n",
    "print('predict() 수행 결과값을 10개만 표시, 예측 확률 값으로 표시됨')\n",
    "print(np.round(pred_probs[:10], 3))"
   ]
  },
  {
   "cell_type": "code",
   "execution_count": 41,
   "metadata": {},
   "outputs": [],
   "source": [
    "preds = [1 if x > 0.8 else 0 for x in pred_probs]"
   ]
  },
  {
   "cell_type": "code",
   "execution_count": 49,
   "metadata": {},
   "outputs": [],
   "source": [
    "#Confusion Matrix, Accuracy, precision, recall, F1, AUC\n",
    "\n",
    "def get_clf_eval(y_test, y_pred):\n",
    "    confusion = confusion_matrix(y_test, preds)\n",
    "    accuracy = accuracy_score(y_test, preds)\n",
    "    precision = precision_score(y_test, preds)\n",
    "    recall = recall_score(y_test, preds)\n",
    "    F1 = f1_score(y_test, preds)\n",
    "    AUC = roc_auc_score(y_test, preds)\n",
    "    print('오차행렬:\\n', confusion)\n",
    "    print('\\n정확도: {:.4f}'.format(accuracy))\n",
    "    print('정밀도: {:.4f}'.format(precision))\n",
    "    print('재현율: {:.4f}'.format(recall))\n",
    "    print('F1: {:.4f}'.format(F1))\n",
    "    print('AUC: {:.4f}'.format(AUC))"
   ]
  },
  {
   "cell_type": "code",
   "execution_count": 50,
   "metadata": {},
   "outputs": [
    {
     "ename": "TypeError",
     "evalue": "'<' not supported between instances of 'int' and 'str'",
     "output_type": "error",
     "traceback": [
      "\u001b[0;31m---------------------------------------------------------------------------\u001b[0m",
      "\u001b[0;31mTypeError\u001b[0m                                 Traceback (most recent call last)",
      "\u001b[0;32m<ipython-input-50-01c7db0aa904>\u001b[0m in \u001b[0;36m<module>\u001b[0;34m\u001b[0m\n\u001b[0;32m----> 1\u001b[0;31m \u001b[0mget_clf_eval\u001b[0m\u001b[0;34m(\u001b[0m\u001b[0my_test\u001b[0m\u001b[0;34m,\u001b[0m \u001b[0mpreds\u001b[0m\u001b[0;34m)\u001b[0m\u001b[0;34m\u001b[0m\u001b[0;34m\u001b[0m\u001b[0m\n\u001b[0m",
      "\u001b[0;32m<ipython-input-49-458756f9b143>\u001b[0m in \u001b[0;36mget_clf_eval\u001b[0;34m(y_test, y_pred)\u001b[0m\n\u001b[1;32m      2\u001b[0m \u001b[0;34m\u001b[0m\u001b[0m\n\u001b[1;32m      3\u001b[0m \u001b[0;32mdef\u001b[0m \u001b[0mget_clf_eval\u001b[0m\u001b[0;34m(\u001b[0m\u001b[0my_test\u001b[0m\u001b[0;34m,\u001b[0m \u001b[0my_pred\u001b[0m\u001b[0;34m)\u001b[0m\u001b[0;34m:\u001b[0m\u001b[0;34m\u001b[0m\u001b[0;34m\u001b[0m\u001b[0m\n\u001b[0;32m----> 4\u001b[0;31m     \u001b[0mconfusion\u001b[0m \u001b[0;34m=\u001b[0m \u001b[0mconfusion_matrix\u001b[0m\u001b[0;34m(\u001b[0m\u001b[0my_test\u001b[0m\u001b[0;34m,\u001b[0m \u001b[0mpreds\u001b[0m\u001b[0;34m)\u001b[0m\u001b[0;34m\u001b[0m\u001b[0;34m\u001b[0m\u001b[0m\n\u001b[0m\u001b[1;32m      5\u001b[0m     \u001b[0maccuracy\u001b[0m \u001b[0;34m=\u001b[0m \u001b[0maccuracy_score\u001b[0m\u001b[0;34m(\u001b[0m\u001b[0my_test\u001b[0m\u001b[0;34m,\u001b[0m \u001b[0mpreds\u001b[0m\u001b[0;34m)\u001b[0m\u001b[0;34m\u001b[0m\u001b[0;34m\u001b[0m\u001b[0m\n\u001b[1;32m      6\u001b[0m     \u001b[0mprecision\u001b[0m \u001b[0;34m=\u001b[0m \u001b[0mprecision_score\u001b[0m\u001b[0;34m(\u001b[0m\u001b[0my_test\u001b[0m\u001b[0;34m,\u001b[0m \u001b[0mpreds\u001b[0m\u001b[0;34m)\u001b[0m\u001b[0;34m\u001b[0m\u001b[0;34m\u001b[0m\u001b[0m\n",
      "\u001b[0;32m~/opt/anaconda3/lib/python3.7/site-packages/sklearn/metrics/classification.py\u001b[0m in \u001b[0;36mconfusion_matrix\u001b[0;34m(y_true, y_pred, labels, sample_weight)\u001b[0m\n\u001b[1;32m    251\u001b[0m \u001b[0;34m\u001b[0m\u001b[0m\n\u001b[1;32m    252\u001b[0m     \"\"\"\n\u001b[0;32m--> 253\u001b[0;31m     \u001b[0my_type\u001b[0m\u001b[0;34m,\u001b[0m \u001b[0my_true\u001b[0m\u001b[0;34m,\u001b[0m \u001b[0my_pred\u001b[0m \u001b[0;34m=\u001b[0m \u001b[0m_check_targets\u001b[0m\u001b[0;34m(\u001b[0m\u001b[0my_true\u001b[0m\u001b[0;34m,\u001b[0m \u001b[0my_pred\u001b[0m\u001b[0;34m)\u001b[0m\u001b[0;34m\u001b[0m\u001b[0;34m\u001b[0m\u001b[0m\n\u001b[0m\u001b[1;32m    254\u001b[0m     \u001b[0;32mif\u001b[0m \u001b[0my_type\u001b[0m \u001b[0;32mnot\u001b[0m \u001b[0;32min\u001b[0m \u001b[0;34m(\u001b[0m\u001b[0;34m\"binary\"\u001b[0m\u001b[0;34m,\u001b[0m \u001b[0;34m\"multiclass\"\u001b[0m\u001b[0;34m)\u001b[0m\u001b[0;34m:\u001b[0m\u001b[0;34m\u001b[0m\u001b[0;34m\u001b[0m\u001b[0m\n\u001b[1;32m    255\u001b[0m         \u001b[0;32mraise\u001b[0m \u001b[0mValueError\u001b[0m\u001b[0;34m(\u001b[0m\u001b[0;34m\"%s is not supported\"\u001b[0m \u001b[0;34m%\u001b[0m \u001b[0my_type\u001b[0m\u001b[0;34m)\u001b[0m\u001b[0;34m\u001b[0m\u001b[0;34m\u001b[0m\u001b[0m\n",
      "\u001b[0;32m~/opt/anaconda3/lib/python3.7/site-packages/sklearn/metrics/classification.py\u001b[0m in \u001b[0;36m_check_targets\u001b[0;34m(y_true, y_pred)\u001b[0m\n\u001b[1;32m     92\u001b[0m         \u001b[0my_pred\u001b[0m \u001b[0;34m=\u001b[0m \u001b[0mcolumn_or_1d\u001b[0m\u001b[0;34m(\u001b[0m\u001b[0my_pred\u001b[0m\u001b[0;34m)\u001b[0m\u001b[0;34m\u001b[0m\u001b[0;34m\u001b[0m\u001b[0m\n\u001b[1;32m     93\u001b[0m         \u001b[0;32mif\u001b[0m \u001b[0my_type\u001b[0m \u001b[0;34m==\u001b[0m \u001b[0;34m\"binary\"\u001b[0m\u001b[0;34m:\u001b[0m\u001b[0;34m\u001b[0m\u001b[0;34m\u001b[0m\u001b[0m\n\u001b[0;32m---> 94\u001b[0;31m             \u001b[0munique_values\u001b[0m \u001b[0;34m=\u001b[0m \u001b[0mnp\u001b[0m\u001b[0;34m.\u001b[0m\u001b[0munion1d\u001b[0m\u001b[0;34m(\u001b[0m\u001b[0my_true\u001b[0m\u001b[0;34m,\u001b[0m \u001b[0my_pred\u001b[0m\u001b[0;34m)\u001b[0m\u001b[0;34m\u001b[0m\u001b[0;34m\u001b[0m\u001b[0m\n\u001b[0m\u001b[1;32m     95\u001b[0m             \u001b[0;32mif\u001b[0m \u001b[0mlen\u001b[0m\u001b[0;34m(\u001b[0m\u001b[0munique_values\u001b[0m\u001b[0;34m)\u001b[0m \u001b[0;34m>\u001b[0m \u001b[0;36m2\u001b[0m\u001b[0;34m:\u001b[0m\u001b[0;34m\u001b[0m\u001b[0;34m\u001b[0m\u001b[0m\n\u001b[1;32m     96\u001b[0m                 \u001b[0my_type\u001b[0m \u001b[0;34m=\u001b[0m \u001b[0;34m\"multiclass\"\u001b[0m\u001b[0;34m\u001b[0m\u001b[0;34m\u001b[0m\u001b[0m\n",
      "\u001b[0;32m<__array_function__ internals>\u001b[0m in \u001b[0;36munion1d\u001b[0;34m(*args, **kwargs)\u001b[0m\n",
      "\u001b[0;32m~/opt/anaconda3/lib/python3.7/site-packages/numpy/lib/arraysetops.py\u001b[0m in \u001b[0;36munion1d\u001b[0;34m(ar1, ar2)\u001b[0m\n\u001b[1;32m    735\u001b[0m     \u001b[0marray\u001b[0m\u001b[0;34m(\u001b[0m\u001b[0;34m[\u001b[0m\u001b[0;36m1\u001b[0m\u001b[0;34m,\u001b[0m \u001b[0;36m2\u001b[0m\u001b[0;34m,\u001b[0m \u001b[0;36m3\u001b[0m\u001b[0;34m,\u001b[0m \u001b[0;36m4\u001b[0m\u001b[0;34m,\u001b[0m \u001b[0;36m6\u001b[0m\u001b[0;34m]\u001b[0m\u001b[0;34m)\u001b[0m\u001b[0;34m\u001b[0m\u001b[0;34m\u001b[0m\u001b[0m\n\u001b[1;32m    736\u001b[0m     \"\"\"\n\u001b[0;32m--> 737\u001b[0;31m     \u001b[0;32mreturn\u001b[0m \u001b[0munique\u001b[0m\u001b[0;34m(\u001b[0m\u001b[0mnp\u001b[0m\u001b[0;34m.\u001b[0m\u001b[0mconcatenate\u001b[0m\u001b[0;34m(\u001b[0m\u001b[0;34m(\u001b[0m\u001b[0mar1\u001b[0m\u001b[0;34m,\u001b[0m \u001b[0mar2\u001b[0m\u001b[0;34m)\u001b[0m\u001b[0;34m,\u001b[0m \u001b[0maxis\u001b[0m\u001b[0;34m=\u001b[0m\u001b[0;32mNone\u001b[0m\u001b[0;34m)\u001b[0m\u001b[0;34m)\u001b[0m\u001b[0;34m\u001b[0m\u001b[0;34m\u001b[0m\u001b[0m\n\u001b[0m\u001b[1;32m    738\u001b[0m \u001b[0;34m\u001b[0m\u001b[0m\n\u001b[1;32m    739\u001b[0m \u001b[0;34m\u001b[0m\u001b[0m\n",
      "\u001b[0;32m<__array_function__ internals>\u001b[0m in \u001b[0;36munique\u001b[0;34m(*args, **kwargs)\u001b[0m\n",
      "\u001b[0;32m~/opt/anaconda3/lib/python3.7/site-packages/numpy/lib/arraysetops.py\u001b[0m in \u001b[0;36munique\u001b[0;34m(ar, return_index, return_inverse, return_counts, axis)\u001b[0m\n\u001b[1;32m    260\u001b[0m     \u001b[0mar\u001b[0m \u001b[0;34m=\u001b[0m \u001b[0mnp\u001b[0m\u001b[0;34m.\u001b[0m\u001b[0masanyarray\u001b[0m\u001b[0;34m(\u001b[0m\u001b[0mar\u001b[0m\u001b[0;34m)\u001b[0m\u001b[0;34m\u001b[0m\u001b[0;34m\u001b[0m\u001b[0m\n\u001b[1;32m    261\u001b[0m     \u001b[0;32mif\u001b[0m \u001b[0maxis\u001b[0m \u001b[0;32mis\u001b[0m \u001b[0;32mNone\u001b[0m\u001b[0;34m:\u001b[0m\u001b[0;34m\u001b[0m\u001b[0;34m\u001b[0m\u001b[0m\n\u001b[0;32m--> 262\u001b[0;31m         \u001b[0mret\u001b[0m \u001b[0;34m=\u001b[0m \u001b[0m_unique1d\u001b[0m\u001b[0;34m(\u001b[0m\u001b[0mar\u001b[0m\u001b[0;34m,\u001b[0m \u001b[0mreturn_index\u001b[0m\u001b[0;34m,\u001b[0m \u001b[0mreturn_inverse\u001b[0m\u001b[0;34m,\u001b[0m \u001b[0mreturn_counts\u001b[0m\u001b[0;34m)\u001b[0m\u001b[0;34m\u001b[0m\u001b[0;34m\u001b[0m\u001b[0m\n\u001b[0m\u001b[1;32m    263\u001b[0m         \u001b[0;32mreturn\u001b[0m \u001b[0m_unpack_tuple\u001b[0m\u001b[0;34m(\u001b[0m\u001b[0mret\u001b[0m\u001b[0;34m)\u001b[0m\u001b[0;34m\u001b[0m\u001b[0;34m\u001b[0m\u001b[0m\n\u001b[1;32m    264\u001b[0m \u001b[0;34m\u001b[0m\u001b[0m\n",
      "\u001b[0;32m~/opt/anaconda3/lib/python3.7/site-packages/numpy/lib/arraysetops.py\u001b[0m in \u001b[0;36m_unique1d\u001b[0;34m(ar, return_index, return_inverse, return_counts)\u001b[0m\n\u001b[1;32m    308\u001b[0m         \u001b[0maux\u001b[0m \u001b[0;34m=\u001b[0m \u001b[0mar\u001b[0m\u001b[0;34m[\u001b[0m\u001b[0mperm\u001b[0m\u001b[0;34m]\u001b[0m\u001b[0;34m\u001b[0m\u001b[0;34m\u001b[0m\u001b[0m\n\u001b[1;32m    309\u001b[0m     \u001b[0;32melse\u001b[0m\u001b[0;34m:\u001b[0m\u001b[0;34m\u001b[0m\u001b[0;34m\u001b[0m\u001b[0m\n\u001b[0;32m--> 310\u001b[0;31m         \u001b[0mar\u001b[0m\u001b[0;34m.\u001b[0m\u001b[0msort\u001b[0m\u001b[0;34m(\u001b[0m\u001b[0;34m)\u001b[0m\u001b[0;34m\u001b[0m\u001b[0;34m\u001b[0m\u001b[0m\n\u001b[0m\u001b[1;32m    311\u001b[0m         \u001b[0maux\u001b[0m \u001b[0;34m=\u001b[0m \u001b[0mar\u001b[0m\u001b[0;34m\u001b[0m\u001b[0;34m\u001b[0m\u001b[0m\n\u001b[1;32m    312\u001b[0m     \u001b[0mmask\u001b[0m \u001b[0;34m=\u001b[0m \u001b[0mnp\u001b[0m\u001b[0;34m.\u001b[0m\u001b[0mempty\u001b[0m\u001b[0;34m(\u001b[0m\u001b[0maux\u001b[0m\u001b[0;34m.\u001b[0m\u001b[0mshape\u001b[0m\u001b[0;34m,\u001b[0m \u001b[0mdtype\u001b[0m\u001b[0;34m=\u001b[0m\u001b[0mnp\u001b[0m\u001b[0;34m.\u001b[0m\u001b[0mbool_\u001b[0m\u001b[0;34m)\u001b[0m\u001b[0;34m\u001b[0m\u001b[0;34m\u001b[0m\u001b[0m\n",
      "\u001b[0;31mTypeError\u001b[0m: '<' not supported between instances of 'int' and 'str'"
     ]
    }
   ],
   "source": [
    "get_clf_eval(y_test, preds)"
   ]
  },
  {
   "cell_type": "markdown",
   "metadata": {},
   "source": [
    "### LSTM"
   ]
  },
  {
   "cell_type": "code",
   "execution_count": 1,
   "metadata": {},
   "outputs": [
    {
     "name": "stderr",
     "output_type": "stream",
     "text": [
      "Using TensorFlow backend.\n"
     ]
    }
   ],
   "source": [
    "from keras.layers import Dense , Input , LSTM , Embedding, Dropout , Activation, GRU, Flatten\n",
    "from keras.layers import Bidirectional, GlobalMaxPool1D\n",
    "from keras.models import Model, Sequential\n",
    "from keras.layers import Convolution1D\n",
    "from keras import initializers, regularizers, constraints, optimizers, layers"
   ]
  },
  {
   "cell_type": "code",
   "execution_count": 3,
   "metadata": {
    "scrolled": true
   },
   "outputs": [
    {
     "name": "stdout",
     "output_type": "stream",
     "text": [
      "Model: \"sequential_2\"\n",
      "_________________________________________________________________\n",
      "Layer (type)                 Output Shape              Param #   \n",
      "=================================================================\n",
      "embedding_2 (Embedding)      (None, None, 128)         768000    \n",
      "_________________________________________________________________\n",
      "bidirectional_2 (Bidirection (None, None, 64)          41216     \n",
      "_________________________________________________________________\n",
      "global_max_pooling1d_2 (Glob (None, 64)                0         \n",
      "_________________________________________________________________\n",
      "dense_3 (Dense)              (None, 20)                1300      \n",
      "_________________________________________________________________\n",
      "dropout_2 (Dropout)          (None, 20)                0         \n",
      "_________________________________________________________________\n",
      "dense_4 (Dense)              (None, 1)                 21        \n",
      "=================================================================\n",
      "Total params: 810,537\n",
      "Trainable params: 810,537\n",
      "Non-trainable params: 0\n",
      "_________________________________________________________________\n"
     ]
    }
   ],
   "source": [
    "embed_size = 128\n",
    "max_features = 6000\n",
    "\n",
    "\n",
    "model = Sequential()\n",
    "model.add(Embedding(max_features, embed_size))\n",
    "model.add(Bidirectional(LSTM(32, return_sequences = True)))\n",
    "model.add(GlobalMaxPool1D())\n",
    "model.add(Dense(20, activation=\"relu\"))\n",
    "model.add(Dropout(0.05))\n",
    "model.add(Dense(1, activation=\"sigmoid\"))\n",
    "model.compile(loss='binary_crossentropy', optimizer='adam', metrics=['accuracy'])\n",
    "\n",
    "model.summary()\n",
    "\n"
   ]
  },
  {
   "cell_type": "code",
   "execution_count": 46,
   "metadata": {
    "scrolled": true
   },
   "outputs": [
    {
     "name": "stdout",
     "output_type": "stream",
     "text": [
      "WARNING:tensorflow:From /Users/Moon/opt/anaconda3/lib/python3.7/site-packages/keras/backend/tensorflow_backend.py:422: The name tf.global_variables is deprecated. Please use tf.compat.v1.global_variables instead.\n",
      "\n",
      "Train on 13331 samples, validate on 3333 samples\n",
      "Epoch 1/3\n"
     ]
    },
    {
     "ename": "KeyboardInterrupt",
     "evalue": "",
     "output_type": "error",
     "traceback": [
      "\u001b[0;31m---------------------------------------------------------------------------\u001b[0m",
      "\u001b[0;31mKeyboardInterrupt\u001b[0m                         Traceback (most recent call last)",
      "\u001b[0;32m<ipython-input-46-0c6cc8c53ae0>\u001b[0m in \u001b[0;36m<module>\u001b[0;34m\u001b[0m\n\u001b[1;32m      1\u001b[0m \u001b[0mbatch_size\u001b[0m \u001b[0;34m=\u001b[0m \u001b[0;36m100\u001b[0m\u001b[0;34m\u001b[0m\u001b[0;34m\u001b[0m\u001b[0m\n\u001b[1;32m      2\u001b[0m \u001b[0mepochs\u001b[0m \u001b[0;34m=\u001b[0m \u001b[0;36m3\u001b[0m\u001b[0;34m\u001b[0m\u001b[0;34m\u001b[0m\u001b[0m\n\u001b[0;32m----> 3\u001b[0;31m \u001b[0mmodel\u001b[0m\u001b[0;34m.\u001b[0m\u001b[0mfit\u001b[0m\u001b[0;34m(\u001b[0m\u001b[0mX_train\u001b[0m\u001b[0;34m,\u001b[0m\u001b[0my_train\u001b[0m\u001b[0;34m,\u001b[0m \u001b[0mbatch_size\u001b[0m\u001b[0;34m=\u001b[0m\u001b[0mbatch_size\u001b[0m\u001b[0;34m,\u001b[0m \u001b[0mepochs\u001b[0m\u001b[0;34m=\u001b[0m\u001b[0mepochs\u001b[0m\u001b[0;34m,\u001b[0m \u001b[0mvalidation_split\u001b[0m\u001b[0;34m=\u001b[0m\u001b[0;36m0.2\u001b[0m\u001b[0;34m)\u001b[0m\u001b[0;34m\u001b[0m\u001b[0;34m\u001b[0m\u001b[0m\n\u001b[0m",
      "\u001b[0;32m~/opt/anaconda3/lib/python3.7/site-packages/keras/engine/training.py\u001b[0m in \u001b[0;36mfit\u001b[0;34m(self, x, y, batch_size, epochs, verbose, callbacks, validation_split, validation_data, shuffle, class_weight, sample_weight, initial_epoch, steps_per_epoch, validation_steps, validation_freq, max_queue_size, workers, use_multiprocessing, **kwargs)\u001b[0m\n\u001b[1;32m   1237\u001b[0m                                         \u001b[0msteps_per_epoch\u001b[0m\u001b[0;34m=\u001b[0m\u001b[0msteps_per_epoch\u001b[0m\u001b[0;34m,\u001b[0m\u001b[0;34m\u001b[0m\u001b[0;34m\u001b[0m\u001b[0m\n\u001b[1;32m   1238\u001b[0m                                         \u001b[0mvalidation_steps\u001b[0m\u001b[0;34m=\u001b[0m\u001b[0mvalidation_steps\u001b[0m\u001b[0;34m,\u001b[0m\u001b[0;34m\u001b[0m\u001b[0;34m\u001b[0m\u001b[0m\n\u001b[0;32m-> 1239\u001b[0;31m                                         validation_freq=validation_freq)\n\u001b[0m\u001b[1;32m   1240\u001b[0m \u001b[0;34m\u001b[0m\u001b[0m\n\u001b[1;32m   1241\u001b[0m     def evaluate(self,\n",
      "\u001b[0;32m~/opt/anaconda3/lib/python3.7/site-packages/keras/engine/training_arrays.py\u001b[0m in \u001b[0;36mfit_loop\u001b[0;34m(model, fit_function, fit_inputs, out_labels, batch_size, epochs, verbose, callbacks, val_function, val_inputs, shuffle, initial_epoch, steps_per_epoch, validation_steps, validation_freq)\u001b[0m\n\u001b[1;32m    194\u001b[0m                     \u001b[0mins_batch\u001b[0m\u001b[0;34m[\u001b[0m\u001b[0mi\u001b[0m\u001b[0;34m]\u001b[0m \u001b[0;34m=\u001b[0m \u001b[0mins_batch\u001b[0m\u001b[0;34m[\u001b[0m\u001b[0mi\u001b[0m\u001b[0;34m]\u001b[0m\u001b[0;34m.\u001b[0m\u001b[0mtoarray\u001b[0m\u001b[0;34m(\u001b[0m\u001b[0;34m)\u001b[0m\u001b[0;34m\u001b[0m\u001b[0;34m\u001b[0m\u001b[0m\n\u001b[1;32m    195\u001b[0m \u001b[0;34m\u001b[0m\u001b[0m\n\u001b[0;32m--> 196\u001b[0;31m                 \u001b[0mouts\u001b[0m \u001b[0;34m=\u001b[0m \u001b[0mfit_function\u001b[0m\u001b[0;34m(\u001b[0m\u001b[0mins_batch\u001b[0m\u001b[0;34m)\u001b[0m\u001b[0;34m\u001b[0m\u001b[0;34m\u001b[0m\u001b[0m\n\u001b[0m\u001b[1;32m    197\u001b[0m                 \u001b[0mouts\u001b[0m \u001b[0;34m=\u001b[0m \u001b[0mto_list\u001b[0m\u001b[0;34m(\u001b[0m\u001b[0mouts\u001b[0m\u001b[0;34m)\u001b[0m\u001b[0;34m\u001b[0m\u001b[0;34m\u001b[0m\u001b[0m\n\u001b[1;32m    198\u001b[0m                 \u001b[0;32mfor\u001b[0m \u001b[0ml\u001b[0m\u001b[0;34m,\u001b[0m \u001b[0mo\u001b[0m \u001b[0;32min\u001b[0m \u001b[0mzip\u001b[0m\u001b[0;34m(\u001b[0m\u001b[0mout_labels\u001b[0m\u001b[0;34m,\u001b[0m \u001b[0mouts\u001b[0m\u001b[0;34m)\u001b[0m\u001b[0;34m:\u001b[0m\u001b[0;34m\u001b[0m\u001b[0;34m\u001b[0m\u001b[0m\n",
      "\u001b[0;32m~/opt/anaconda3/lib/python3.7/site-packages/tensorflow_core/python/keras/backend.py\u001b[0m in \u001b[0;36m__call__\u001b[0;34m(self, inputs)\u001b[0m\n\u001b[1;32m   3474\u001b[0m \u001b[0;34m\u001b[0m\u001b[0m\n\u001b[1;32m   3475\u001b[0m     fetched = self._callable_fn(*array_vals,\n\u001b[0;32m-> 3476\u001b[0;31m                                 run_metadata=self.run_metadata)\n\u001b[0m\u001b[1;32m   3477\u001b[0m     \u001b[0mself\u001b[0m\u001b[0;34m.\u001b[0m\u001b[0m_call_fetch_callbacks\u001b[0m\u001b[0;34m(\u001b[0m\u001b[0mfetched\u001b[0m\u001b[0;34m[\u001b[0m\u001b[0;34m-\u001b[0m\u001b[0mlen\u001b[0m\u001b[0;34m(\u001b[0m\u001b[0mself\u001b[0m\u001b[0;34m.\u001b[0m\u001b[0m_fetches\u001b[0m\u001b[0;34m)\u001b[0m\u001b[0;34m:\u001b[0m\u001b[0;34m]\u001b[0m\u001b[0;34m)\u001b[0m\u001b[0;34m\u001b[0m\u001b[0;34m\u001b[0m\u001b[0m\n\u001b[1;32m   3478\u001b[0m     output_structure = nest.pack_sequence_as(\n",
      "\u001b[0;32m~/opt/anaconda3/lib/python3.7/site-packages/tensorflow_core/python/client/session.py\u001b[0m in \u001b[0;36m__call__\u001b[0;34m(self, *args, **kwargs)\u001b[0m\n\u001b[1;32m   1470\u001b[0m         ret = tf_session.TF_SessionRunCallable(self._session._session,\n\u001b[1;32m   1471\u001b[0m                                                \u001b[0mself\u001b[0m\u001b[0;34m.\u001b[0m\u001b[0m_handle\u001b[0m\u001b[0;34m,\u001b[0m \u001b[0margs\u001b[0m\u001b[0;34m,\u001b[0m\u001b[0;34m\u001b[0m\u001b[0;34m\u001b[0m\u001b[0m\n\u001b[0;32m-> 1472\u001b[0;31m                                                run_metadata_ptr)\n\u001b[0m\u001b[1;32m   1473\u001b[0m         \u001b[0;32mif\u001b[0m \u001b[0mrun_metadata\u001b[0m\u001b[0;34m:\u001b[0m\u001b[0;34m\u001b[0m\u001b[0;34m\u001b[0m\u001b[0m\n\u001b[1;32m   1474\u001b[0m           \u001b[0mproto_data\u001b[0m \u001b[0;34m=\u001b[0m \u001b[0mtf_session\u001b[0m\u001b[0;34m.\u001b[0m\u001b[0mTF_GetBuffer\u001b[0m\u001b[0;34m(\u001b[0m\u001b[0mrun_metadata_ptr\u001b[0m\u001b[0;34m)\u001b[0m\u001b[0;34m\u001b[0m\u001b[0;34m\u001b[0m\u001b[0m\n",
      "\u001b[0;31mKeyboardInterrupt\u001b[0m: "
     ]
    }
   ],
   "source": [
    "batch_size = 100\n",
    "epochs = 3\n",
    "model.fit(X_train,y_train, batch_size=batch_size, epochs=epochs, validation_split=0.2)"
   ]
  },
  {
   "cell_type": "code",
   "execution_count": null,
   "metadata": {},
   "outputs": [],
   "source": [
    "prediction = model.predict(X_test)\n",
    "y_pred = (prediction > 0.5)\n",
    "\n",
    "a = sum(y_test == prediction)\n",
    "print(\"테스트 셋 정확도 :\",a / len(y_test))"
   ]
  },
  {
   "cell_type": "code",
   "execution_count": null,
   "metadata": {},
   "outputs": [],
   "source": []
  }
 ],
 "metadata": {
  "kernelspec": {
   "display_name": "Python 3",
   "language": "python",
   "name": "python3"
  },
  "language_info": {
   "codemirror_mode": {
    "name": "ipython",
    "version": 3
   },
   "file_extension": ".py",
   "mimetype": "text/x-python",
   "name": "python",
   "nbconvert_exporter": "python",
   "pygments_lexer": "ipython3",
   "version": "3.7.4"
  }
 },
 "nbformat": 4,
 "nbformat_minor": 2
}
